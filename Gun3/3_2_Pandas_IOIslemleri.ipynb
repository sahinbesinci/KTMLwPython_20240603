{
 "cells": [
  {
   "cell_type": "markdown",
   "metadata": {},
   "source": [
    "## Pandas ile Veri Kaynaklarına Bağlanm\n",
    "* `read_` ile başlayan fonksiyonlarla okuma yapılır.\n",
    "* `to_` ile başlayan fnonkiyonlarda yazma yapılır.\n",
    "\n",
    "![alt text](Pandas_read_to.png)"
   ]
  },
  {
   "cell_type": "code",
   "execution_count": 52,
   "metadata": {},
   "outputs": [],
   "source": [
    "# Yas kolonundan önce boşluk var.\n",
    "# Veli öncesi bir satır boş geçilmiz.\n",
    "# Tarih kolonu var.\n",
    "# ondlaık ayracı , olan bir değer var\n",
    "# boş geçilmiş alanlar var\n",
    "# boş geçilmiş alanar için Yok ifadesi kullanışmış.\n",
    "\n",
    "metin = '''\n",
    "Ad|Soyad| Yas|Tarih|Kilo\n",
    "Abdullah|Kise|80|2021-09-24|70,2\n",
    "Ali|Uçan|55|2021-09-23|\n",
    "\n",
    "Veli|Kaçan|30|Yok|Yok\n",
    "'''"
   ]
  },
  {
   "cell_type": "code",
   "execution_count": 53,
   "metadata": {},
   "outputs": [
    {
     "data": {
      "text/plain": [
       "'\\nAd|Soyad| Yas|Tarih|Kilo\\nAbdullah|Kise|80|2021-09-24|70,2\\nAli|Uçan|55|2021-09-23|\\n\\nVeli|Kaçan|30|Yok|Yok\\n'"
      ]
     },
     "execution_count": 53,
     "metadata": {},
     "output_type": "execute_result"
    }
   ],
   "source": [
    "import io\n",
    "\n",
    "metinBuffer = io.StringIO(metin) #buffer (memory stream nesnesi) haline getirir. Yani sanki bir dosya gibi okunabilir\n",
    "metinBuffer.read() #buffer içeriğini okur. Ancak buffer okunduktan sonra tekrar okunamaz. Tek seferlik okunabilir."
   ]
  },
  {
   "cell_type": "markdown",
   "metadata": {},
   "source": [
    "### Pandas ile CSV Okuma"
   ]
  },
  {
   "cell_type": "code",
   "execution_count": 54,
   "metadata": {},
   "outputs": [],
   "source": [
    "import numpy as np\n",
    "import pandas as pd"
   ]
  },
  {
   "cell_type": "markdown",
   "metadata": {},
   "source": [
    "#### read_csv"
   ]
  },
  {
   "cell_type": "code",
   "execution_count": 55,
   "metadata": {},
   "outputs": [
    {
     "data": {
      "text/html": [
       "<div>\n",
       "<style scoped>\n",
       "    .dataframe tbody tr th:only-of-type {\n",
       "        vertical-align: middle;\n",
       "    }\n",
       "\n",
       "    .dataframe tbody tr th {\n",
       "        vertical-align: top;\n",
       "    }\n",
       "\n",
       "    .dataframe thead th {\n",
       "        text-align: right;\n",
       "    }\n",
       "</style>\n",
       "<table border=\"1\" class=\"dataframe\">\n",
       "  <thead>\n",
       "    <tr style=\"text-align: right;\">\n",
       "      <th></th>\n",
       "      <th>Ad</th>\n",
       "      <th>Soyad</th>\n",
       "      <th>Yas</th>\n",
       "      <th>Tarih</th>\n",
       "      <th>Kilo</th>\n",
       "    </tr>\n",
       "  </thead>\n",
       "  <tbody>\n",
       "    <tr>\n",
       "      <th>0</th>\n",
       "      <td>Abdullah</td>\n",
       "      <td>Kise</td>\n",
       "      <td>80</td>\n",
       "      <td>2021-09-24</td>\n",
       "      <td>70,2</td>\n",
       "    </tr>\n",
       "    <tr>\n",
       "      <th>1</th>\n",
       "      <td>Ali</td>\n",
       "      <td>Uçan</td>\n",
       "      <td>55</td>\n",
       "      <td>2021-09-23</td>\n",
       "      <td>NaN</td>\n",
       "    </tr>\n",
       "    <tr>\n",
       "      <th>2</th>\n",
       "      <td>Veli</td>\n",
       "      <td>Kaçan</td>\n",
       "      <td>30</td>\n",
       "      <td>Yok</td>\n",
       "      <td>Yok</td>\n",
       "    </tr>\n",
       "  </tbody>\n",
       "</table>\n",
       "</div>"
      ],
      "text/plain": [
       "         Ad  Soyad   Yas       Tarih  Kilo\n",
       "0  Abdullah   Kise    80  2021-09-24  70,2\n",
       "1       Ali   Uçan    55  2021-09-23   NaN\n",
       "2      Veli  Kaçan    30         Yok   Yok"
      ]
     },
     "execution_count": 55,
     "metadata": {},
     "output_type": "execute_result"
    }
   ],
   "source": [
    "pd.read_csv(io.StringIO(metin),\n",
    "            #delimiter='|',\n",
    "            sep='|'\n",
    "            )"
   ]
  },
  {
   "cell_type": "code",
   "execution_count": 56,
   "metadata": {},
   "outputs": [
    {
     "name": "stdout",
     "output_type": "stream",
     "text": [
      "<class 'pandas.core.frame.DataFrame'>\n",
      "RangeIndex: 3 entries, 0 to 2\n",
      "Data columns (total 5 columns):\n",
      " #   Column  Non-Null Count  Dtype         \n",
      "---  ------  --------------  -----         \n",
      " 0   Ad      3 non-null      object        \n",
      " 1   Soyad   3 non-null      object        \n",
      " 2    Yas    3 non-null      int8          \n",
      " 3   Tarih   2 non-null      datetime64[ns]\n",
      " 4   Kilo    1 non-null      float32       \n",
      "dtypes: datetime64[ns](1), float32(1), int8(1), object(2)\n",
      "memory usage: 219.0+ bytes\n"
     ]
    },
    {
     "data": {
      "text/html": [
       "<div>\n",
       "<style scoped>\n",
       "    .dataframe tbody tr th:only-of-type {\n",
       "        vertical-align: middle;\n",
       "    }\n",
       "\n",
       "    .dataframe tbody tr th {\n",
       "        vertical-align: top;\n",
       "    }\n",
       "\n",
       "    .dataframe thead th {\n",
       "        text-align: right;\n",
       "    }\n",
       "</style>\n",
       "<table border=\"1\" class=\"dataframe\">\n",
       "  <thead>\n",
       "    <tr style=\"text-align: right;\">\n",
       "      <th></th>\n",
       "      <th>Ad</th>\n",
       "      <th>Soyad</th>\n",
       "      <th>Yas</th>\n",
       "      <th>Tarih</th>\n",
       "      <th>Kilo</th>\n",
       "    </tr>\n",
       "  </thead>\n",
       "  <tbody>\n",
       "    <tr>\n",
       "      <th>0</th>\n",
       "      <td>Abdullah</td>\n",
       "      <td>Kise</td>\n",
       "      <td>80</td>\n",
       "      <td>2021-09-24</td>\n",
       "      <td>70.199997</td>\n",
       "    </tr>\n",
       "    <tr>\n",
       "      <th>1</th>\n",
       "      <td>Ali</td>\n",
       "      <td>Uçan</td>\n",
       "      <td>55</td>\n",
       "      <td>2021-09-23</td>\n",
       "      <td>NaN</td>\n",
       "    </tr>\n",
       "    <tr>\n",
       "      <th>2</th>\n",
       "      <td>Veli</td>\n",
       "      <td>Kaçan</td>\n",
       "      <td>30</td>\n",
       "      <td>NaT</td>\n",
       "      <td>NaN</td>\n",
       "    </tr>\n",
       "  </tbody>\n",
       "</table>\n",
       "</div>"
      ],
      "text/plain": [
       "         Ad  Soyad   Yas      Tarih       Kilo\n",
       "0  Abdullah   Kise    80 2021-09-24  70.199997\n",
       "1       Ali   Uçan    55 2021-09-23        NaN\n",
       "2      Veli  Kaçan    30        NaT        NaN"
      ]
     },
     "execution_count": 56,
     "metadata": {},
     "output_type": "execute_result"
    }
   ],
   "source": [
    "df = pd.read_csv(io.StringIO(metin),delimiter='|' #delimiter regex olarak verilebilir. Örneğin \\s+ gibi\n",
    "            #,usecols=['Ad','Soyad',\"Yas\"] #belli kolonları alabiliyoruz\n",
    "            #,skipinitialspace=True #kolon adlarında başta boşluk varsa onu atlar hata vermeden kolonu tanır\n",
    "            #----------\n",
    "\n",
    "            # ,skiprows= 2 #ilk iki satırı atlar\n",
    "            # ,skipfooter=1 #son satırı atlar\n",
    "            # ,engine='python' #python motoru ile çalıştırır. Çünkü bazen hızlı çalışan motorlar hata verebiliyor.\n",
    "\n",
    "            #---------\n",
    "            #,skip_blank_lines=False #varsayılan olarka boş satırları atlar. False yaparsak boş satırları da okur.\n",
    "            \n",
    "            #\n",
    "            ,na_values=['Yok'] #Yok ifadesini NaN yapar\n",
    "            ,decimal=',' #ondalık ayracı , olan bir değer varsa onu . yapar\n",
    "            #,index_col=[\"Tarih\"]\n",
    "            ,parse_dates=[\"Tarih\"] #Tarih kolonunu tarih olarak okur\n",
    "            #---------\n",
    "\n",
    "            ,dtype={\n",
    "                    \"Ad\":str,\n",
    "                    \"Soyad\":str,\n",
    "                    \" Yas\":np.int8,\n",
    "                    \"Kilo\":np.float32,\n",
    "                    }\n",
    "\n",
    "            )\n",
    "df.info()\n",
    "df"
   ]
  },
  {
   "cell_type": "markdown",
   "metadata": {},
   "source": [
    "#### to_csv ile csv dosyası oluşturmak"
   ]
  },
  {
   "cell_type": "code",
   "execution_count": 57,
   "metadata": {},
   "outputs": [],
   "source": [
    "import os\n",
    "os.makedirs(\"databases\",exist_ok=True)"
   ]
  },
  {
   "cell_type": "code",
   "execution_count": 59,
   "metadata": {},
   "outputs": [],
   "source": [
    "df.to_csv(\"./databases/kisiler.csv\", index=False) #delimiter varsayılan , olur."
   ]
  },
  {
   "cell_type": "markdown",
   "metadata": {},
   "source": [
    "#### Converters ile Veri Temizliği\n",
    "* Belirtilen kolonda verilen fonksiyona göre okuma yapar.\n",
    "* Veri temizliği için kullanabiliriz."
   ]
  },
  {
   "cell_type": "code",
   "execution_count": 60,
   "metadata": {},
   "outputs": [
    {
     "data": {
      "text/html": [
       "<div>\n",
       "<style scoped>\n",
       "    .dataframe tbody tr th:only-of-type {\n",
       "        vertical-align: middle;\n",
       "    }\n",
       "\n",
       "    .dataframe tbody tr th {\n",
       "        vertical-align: top;\n",
       "    }\n",
       "\n",
       "    .dataframe thead th {\n",
       "        text-align: right;\n",
       "    }\n",
       "</style>\n",
       "<table border=\"1\" class=\"dataframe\">\n",
       "  <thead>\n",
       "    <tr style=\"text-align: right;\">\n",
       "      <th></th>\n",
       "      <th>Ad</th>\n",
       "      <th>Soyad</th>\n",
       "      <th>Yas</th>\n",
       "      <th>Tarih</th>\n",
       "      <th>Kilo</th>\n",
       "    </tr>\n",
       "  </thead>\n",
       "  <tbody>\n",
       "    <tr>\n",
       "      <th>0</th>\n",
       "      <td>Abdullah</td>\n",
       "      <td>KISE</td>\n",
       "      <td>80</td>\n",
       "      <td>2021-09-24</td>\n",
       "      <td>70.2</td>\n",
       "    </tr>\n",
       "    <tr>\n",
       "      <th>1</th>\n",
       "      <td>Ali</td>\n",
       "      <td>UÇAN</td>\n",
       "      <td>55</td>\n",
       "      <td>2021-09-23</td>\n",
       "      <td>NaN</td>\n",
       "    </tr>\n",
       "    <tr>\n",
       "      <th>2</th>\n",
       "      <td>Veli</td>\n",
       "      <td>KAÇAN</td>\n",
       "      <td>30</td>\n",
       "      <td>NaN</td>\n",
       "      <td>NaN</td>\n",
       "    </tr>\n",
       "  </tbody>\n",
       "</table>\n",
       "</div>"
      ],
      "text/plain": [
       "         Ad  Soyad   Yas       Tarih  Kilo\n",
       "0  Abdullah   KISE    80  2021-09-24  70.2\n",
       "1       Ali   UÇAN    55  2021-09-23   NaN\n",
       "2      Veli  KAÇAN    30         NaN   NaN"
      ]
     },
     "execution_count": 60,
     "metadata": {},
     "output_type": "execute_result"
    }
   ],
   "source": [
    "pd.read_csv(\"./databases/kisiler.csv\",\n",
    "            converters={\"Soyad\":str.upper} #Soyad kolonundaki değerleri büyük harfe çevirir.\n",
    "            )"
   ]
  },
  {
   "cell_type": "code",
   "execution_count": 63,
   "metadata": {},
   "outputs": [
    {
     "data": {
      "text/html": [
       "<div>\n",
       "<style scoped>\n",
       "    .dataframe tbody tr th:only-of-type {\n",
       "        vertical-align: middle;\n",
       "    }\n",
       "\n",
       "    .dataframe tbody tr th {\n",
       "        vertical-align: top;\n",
       "    }\n",
       "\n",
       "    .dataframe thead th {\n",
       "        text-align: right;\n",
       "    }\n",
       "</style>\n",
       "<table border=\"1\" class=\"dataframe\">\n",
       "  <thead>\n",
       "    <tr style=\"text-align: right;\">\n",
       "      <th></th>\n",
       "      <th>Ad</th>\n",
       "      <th>Soyad</th>\n",
       "      <th>Yas</th>\n",
       "      <th>Tarih</th>\n",
       "      <th>Kilo</th>\n",
       "    </tr>\n",
       "  </thead>\n",
       "  <tbody>\n",
       "    <tr>\n",
       "      <th>0</th>\n",
       "      <td>Abdullah</td>\n",
       "      <td>Kise</td>\n",
       "      <td>80</td>\n",
       "      <td>2021-09-24</td>\n",
       "      <td>70.2</td>\n",
       "    </tr>\n",
       "    <tr>\n",
       "      <th>1</th>\n",
       "      <td>Ali</td>\n",
       "      <td>Uçanlar</td>\n",
       "      <td>55</td>\n",
       "      <td>2021-09-23</td>\n",
       "      <td>NaN</td>\n",
       "    </tr>\n",
       "    <tr>\n",
       "      <th>2</th>\n",
       "      <td>Veli</td>\n",
       "      <td>Kaçanlar</td>\n",
       "      <td>30</td>\n",
       "      <td>NaN</td>\n",
       "      <td>NaN</td>\n",
       "    </tr>\n",
       "  </tbody>\n",
       "</table>\n",
       "</div>"
      ],
      "text/plain": [
       "         Ad     Soyad   Yas       Tarih  Kilo\n",
       "0  Abdullah      Kise    80  2021-09-24  70.2\n",
       "1       Ali   Uçanlar    55  2021-09-23   NaN\n",
       "2      Veli  Kaçanlar    30         NaN   NaN"
      ]
     },
     "execution_count": 63,
     "metadata": {},
     "output_type": "execute_result"
    }
   ],
   "source": [
    "dict_veritemizligi = {\"Uçan\":\"Uçanlar\", \"Kaçan\":\"Kaçanlar\"}\n",
    "\n",
    "pd.read_csv(\"./databases/kisiler.csv\",\n",
    "            converters={\"Soyad\":lambda x: dict_veritemizligi.get(x,x)} #keylerin değerlerini alır. Eğer key yoksa kolonun değerini döndürür.\n",
    "            )"
   ]
  },
  {
   "cell_type": "markdown",
   "metadata": {},
   "source": [
    "### Excel Okuma İşlemleri"
   ]
  },
  {
   "cell_type": "code",
   "execution_count": 68,
   "metadata": {},
   "outputs": [
    {
     "data": {
      "text/plain": [
       "dict_keys(['kisiler', 'Boş'])"
      ]
     },
     "execution_count": 68,
     "metadata": {},
     "output_type": "execute_result"
    }
   ],
   "source": [
    "df_dict = pd.read_excel(\"./databases/mykisiler.xlsx\"\n",
    "                        ,sheet_name=None #kisiler #None ile tüm sayfalar okunur. Veya sayfa adı verilir. Veya sayfa indeksi verilir. verilmezse ilk sayfa okunur.\n",
    "                ) #excel dosyasını okur\n",
    "\n",
    "df_dict.keys() #sayfa isimlerini verir #dict olarak döndü."
   ]
  },
  {
   "cell_type": "code",
   "execution_count": 69,
   "metadata": {},
   "outputs": [
    {
     "data": {
      "text/html": [
       "<div>\n",
       "<style scoped>\n",
       "    .dataframe tbody tr th:only-of-type {\n",
       "        vertical-align: middle;\n",
       "    }\n",
       "\n",
       "    .dataframe tbody tr th {\n",
       "        vertical-align: top;\n",
       "    }\n",
       "\n",
       "    .dataframe thead th {\n",
       "        text-align: right;\n",
       "    }\n",
       "</style>\n",
       "<table border=\"1\" class=\"dataframe\">\n",
       "  <thead>\n",
       "    <tr style=\"text-align: right;\">\n",
       "      <th></th>\n",
       "      <th>Id</th>\n",
       "      <th>Ad</th>\n",
       "      <th>Soyad</th>\n",
       "      <th>Yas</th>\n",
       "      <th>Tarih</th>\n",
       "      <th>Kilo</th>\n",
       "    </tr>\n",
       "  </thead>\n",
       "  <tbody>\n",
       "    <tr>\n",
       "      <th>0</th>\n",
       "      <td>1</td>\n",
       "      <td>Abdullah</td>\n",
       "      <td>Kise</td>\n",
       "      <td>15</td>\n",
       "      <td>2020-12-31</td>\n",
       "      <td>70.2</td>\n",
       "    </tr>\n",
       "    <tr>\n",
       "      <th>1</th>\n",
       "      <td>2</td>\n",
       "      <td>Ali</td>\n",
       "      <td>Uçan</td>\n",
       "      <td>22</td>\n",
       "      <td>2020-11-11</td>\n",
       "      <td>NaN</td>\n",
       "    </tr>\n",
       "    <tr>\n",
       "      <th>2</th>\n",
       "      <td>3</td>\n",
       "      <td>Veli</td>\n",
       "      <td>Kaçan</td>\n",
       "      <td>55</td>\n",
       "      <td>NaT</td>\n",
       "      <td>NaN</td>\n",
       "    </tr>\n",
       "  </tbody>\n",
       "</table>\n",
       "</div>"
      ],
      "text/plain": [
       "               Id        Ad  Soyad  Yas      Tarih  Kilo\n",
       "0               1  Abdullah   Kise   15 2020-12-31  70.2\n",
       "1               2       Ali   Uçan   22 2020-11-11   NaN\n",
       "2               3      Veli  Kaçan   55        NaT   NaN"
      ]
     },
     "execution_count": 69,
     "metadata": {},
     "output_type": "execute_result"
    }
   ],
   "source": [
    "df_dict[\"kisiler\"] #sayfa ismi verilerek sayfa içeriği alınır."
   ]
  },
  {
   "cell_type": "markdown",
   "metadata": {},
   "source": [
    "### RDBMS's Bağlanmak ve Yazmak (SQL)\n",
    "* `read_sql_query` DBAPI destekliyor. `pyodbc` vb veya `sqlalchemy` kullanarak bağlanabiliriz. sorgu yazıyoruz\n",
    "* `read_sql` DBAPI destekliyor. `pyodbc` vb veya `sqlalchemy` kullanarak bağlanabiliriz. Tablo adı veya sorgu yazılabilir.\n",
    "* `read_sql_table` sadece  `sqlalchemy` destekliyor. Tablo adı yazılır.\n",
    "\n",
    "NOT:\n",
    "* Yöntemlerin hepsi `sqlalchemy` destekliyor.\n",
    "* `sqlalchemy` bir ORM (Object Relational Mapping) kütüphanesidir.\n",
    "  * ORM kütüphanesi, veritabanı tablolarını nesnelere bağlar.\n",
    "  * Yazılımcılar programlama dilleriyle veritabanı tablolarını yönetebilirler."
   ]
  },
  {
   "cell_type": "markdown",
   "metadata": {},
   "source": [
    "#### DBAPI"
   ]
  },
  {
   "cell_type": "code",
   "execution_count": 73,
   "metadata": {},
   "outputs": [
    {
     "name": "stderr",
     "output_type": "stream",
     "text": [
      "C:\\Users\\Abdullah\\AppData\\Local\\Temp\\ipykernel_20204\\1945373727.py:6: UserWarning: pandas only supports SQLAlchemy connectable (engine/connection) or database string URI or sqlite3 DBAPI2 connection. Other DBAPI2 objects are not tested. Please consider using SQLAlchemy.\n",
      "  pd.read_sql_query(\"SELECT TOP 2 Name, Color, ListPrice FROM Production.Product\",con)\n"
     ]
    },
    {
     "data": {
      "text/html": [
       "<div>\n",
       "<style scoped>\n",
       "    .dataframe tbody tr th:only-of-type {\n",
       "        vertical-align: middle;\n",
       "    }\n",
       "\n",
       "    .dataframe tbody tr th {\n",
       "        vertical-align: top;\n",
       "    }\n",
       "\n",
       "    .dataframe thead th {\n",
       "        text-align: right;\n",
       "    }\n",
       "</style>\n",
       "<table border=\"1\" class=\"dataframe\">\n",
       "  <thead>\n",
       "    <tr style=\"text-align: right;\">\n",
       "      <th></th>\n",
       "      <th>Name</th>\n",
       "      <th>Color</th>\n",
       "      <th>ListPrice</th>\n",
       "    </tr>\n",
       "  </thead>\n",
       "  <tbody>\n",
       "    <tr>\n",
       "      <th>0</th>\n",
       "      <td>Adjustable Race</td>\n",
       "      <td>None</td>\n",
       "      <td>0.0</td>\n",
       "    </tr>\n",
       "    <tr>\n",
       "      <th>1</th>\n",
       "      <td>Bearing Ball</td>\n",
       "      <td>None</td>\n",
       "      <td>0.0</td>\n",
       "    </tr>\n",
       "  </tbody>\n",
       "</table>\n",
       "</div>"
      ],
      "text/plain": [
       "              Name Color  ListPrice\n",
       "0  Adjustable Race  None        0.0\n",
       "1     Bearing Ball  None        0.0"
      ]
     },
     "execution_count": 73,
     "metadata": {},
     "output_type": "execute_result"
    }
   ],
   "source": [
    "import pyodbc\n",
    "\n",
    "#pyodbc.drivers()\n",
    "\n",
    "con = pyodbc.connect(\"Driver={ODBC Driver 17 for SQL Server};Server=localhost;Database=AdventureWorks2012;Trusted_Connection=yes;\")\n",
    "pd.read_sql_query(\"SELECT TOP 2 Name, Color, ListPrice FROM Production.Product\",con)"
   ]
  },
  {
   "cell_type": "markdown",
   "metadata": {},
   "source": [
    "#### sqlAlchemy"
   ]
  },
  {
   "cell_type": "code",
   "execution_count": 74,
   "metadata": {},
   "outputs": [],
   "source": [
    "import sqlalchemy as sqla"
   ]
  },
  {
   "cell_type": "code",
   "execution_count": 86,
   "metadata": {},
   "outputs": [],
   "source": [
    "#engine yani bağlantı tutan bir nesne oluşturulur.\n",
    "engine = sqla.create_engine(\"mssql+pyodbc://localhost/AdventureWorks2012?driver=ODBC+Driver+17+for+SQL+Server\")"
   ]
  },
  {
   "cell_type": "markdown",
   "metadata": {},
   "source": [
    "##### Veritabından Okuma"
   ]
  },
  {
   "cell_type": "code",
   "execution_count": 89,
   "metadata": {},
   "outputs": [
    {
     "data": {
      "text/html": [
       "<div>\n",
       "<style scoped>\n",
       "    .dataframe tbody tr th:only-of-type {\n",
       "        vertical-align: middle;\n",
       "    }\n",
       "\n",
       "    .dataframe tbody tr th {\n",
       "        vertical-align: top;\n",
       "    }\n",
       "\n",
       "    .dataframe thead th {\n",
       "        text-align: right;\n",
       "    }\n",
       "</style>\n",
       "<table border=\"1\" class=\"dataframe\">\n",
       "  <thead>\n",
       "    <tr style=\"text-align: right;\">\n",
       "      <th></th>\n",
       "      <th>Name</th>\n",
       "      <th>Color</th>\n",
       "      <th>ListPrice</th>\n",
       "    </tr>\n",
       "  </thead>\n",
       "  <tbody>\n",
       "    <tr>\n",
       "      <th>0</th>\n",
       "      <td>Adjustable Race</td>\n",
       "      <td>None</td>\n",
       "      <td>0.0</td>\n",
       "    </tr>\n",
       "    <tr>\n",
       "      <th>1</th>\n",
       "      <td>Bearing Ball</td>\n",
       "      <td>None</td>\n",
       "      <td>0.0</td>\n",
       "    </tr>\n",
       "  </tbody>\n",
       "</table>\n",
       "</div>"
      ],
      "text/plain": [
       "              Name Color  ListPrice\n",
       "0  Adjustable Race  None        0.0\n",
       "1     Bearing Ball  None        0.0"
      ]
     },
     "execution_count": 89,
     "metadata": {},
     "output_type": "execute_result"
    }
   ],
   "source": [
    "#engine.table_names(schema=\"Production\") #tablo isimlerini verir.\n",
    "\n",
    "#\n",
    "pd.read_sql_query(\"SELECT TOP 2 Name, Color, ListPrice FROM Production.Product\",engine)\n",
    "\n",
    "#\n",
    "pd.read_sql(\"SELECT TOP 2 Name, Color, ListPrice FROM Production.Product\",engine)\n",
    "\n",
    "#\n",
    "#pd.read_sql_table(schema=\"Production\" ,table_name=\"Product\",con=engine)"
   ]
  },
  {
   "cell_type": "markdown",
   "metadata": {},
   "source": [
    "#### Veritabanına yazma işlemleri"
   ]
  },
  {
   "cell_type": "code",
   "execution_count": 91,
   "metadata": {},
   "outputs": [
    {
     "data": {
      "text/plain": [
       "-1"
      ]
     },
     "execution_count": 91,
     "metadata": {},
     "output_type": "execute_result"
    }
   ],
   "source": [
    "df_kisiler = pd.read_csv(\"./databases/kisiler.csv\")\n",
    "df_kisiler.to_sql(name=\"kisiler\",con=engine,if_exists=\"replace\",index=False) #kisiler tablosunu oluşturur. Eğer varsa siler ve tekrar oluşturur. \n",
    "#replace yerine append yaparsak tabloya ekler."
   ]
  },
  {
   "cell_type": "markdown",
   "metadata": {},
   "source": [
    "### HTML okuyalım"
   ]
  },
  {
   "cell_type": "code",
   "execution_count": 101,
   "metadata": {},
   "outputs": [
    {
     "data": {
      "text/html": [
       "<div>\n",
       "<style scoped>\n",
       "    .dataframe tbody tr th:only-of-type {\n",
       "        vertical-align: middle;\n",
       "    }\n",
       "\n",
       "    .dataframe tbody tr th {\n",
       "        vertical-align: top;\n",
       "    }\n",
       "\n",
       "    .dataframe thead tr th {\n",
       "        text-align: left;\n",
       "    }\n",
       "</style>\n",
       "<table border=\"1\" class=\"dataframe\">\n",
       "  <thead>\n",
       "    <tr>\n",
       "      <th></th>\n",
       "      <th>Season</th>\n",
       "      <th colspan=\"2\" halign=\"left\">Episodes</th>\n",
       "      <th colspan=\"2\" halign=\"left\">Originally aired</th>\n",
       "      <th>Avg. viewers (millions)</th>\n",
       "      <th>Rank</th>\n",
       "    </tr>\n",
       "    <tr>\n",
       "      <th></th>\n",
       "      <th>Season</th>\n",
       "      <th>Episodes</th>\n",
       "      <th>Episodes.1</th>\n",
       "      <th>First aired</th>\n",
       "      <th>Last aired</th>\n",
       "      <th>Avg. viewers (millions)</th>\n",
       "      <th>Rank</th>\n",
       "    </tr>\n",
       "  </thead>\n",
       "  <tbody>\n",
       "    <tr>\n",
       "      <th>0</th>\n",
       "      <td>1</td>\n",
       "      <td>25</td>\n",
       "      <td>25</td>\n",
       "      <td>September 22, 2004</td>\n",
       "      <td>May 25, 2005</td>\n",
       "      <td>15.69</td>\n",
       "      <td>15[2]</td>\n",
       "    </tr>\n",
       "    <tr>\n",
       "      <th>1</th>\n",
       "      <td>2</td>\n",
       "      <td>24</td>\n",
       "      <td>24</td>\n",
       "      <td>September 21, 2005</td>\n",
       "      <td>May 24, 2006</td>\n",
       "      <td>15.50</td>\n",
       "      <td>15[3]</td>\n",
       "    </tr>\n",
       "    <tr>\n",
       "      <th>2</th>\n",
       "      <td>3</td>\n",
       "      <td>23</td>\n",
       "      <td>23</td>\n",
       "      <td>October 4, 2006</td>\n",
       "      <td>May 23, 2007</td>\n",
       "      <td>17.84</td>\n",
       "      <td>10[4]</td>\n",
       "    </tr>\n",
       "    <tr>\n",
       "      <th>3</th>\n",
       "      <td>4</td>\n",
       "      <td>14</td>\n",
       "      <td>14</td>\n",
       "      <td>January 31, 2008</td>\n",
       "      <td>May 29, 2008</td>\n",
       "      <td>13.40</td>\n",
       "      <td>17[5]</td>\n",
       "    </tr>\n",
       "    <tr>\n",
       "      <th>4</th>\n",
       "      <td>5</td>\n",
       "      <td>17</td>\n",
       "      <td>17</td>\n",
       "      <td>January 21, 2009</td>\n",
       "      <td>May 13, 2009</td>\n",
       "      <td>10.94</td>\n",
       "      <td>28[6]</td>\n",
       "    </tr>\n",
       "    <tr>\n",
       "      <th>5</th>\n",
       "      <td>6</td>\n",
       "      <td>18</td>\n",
       "      <td>18</td>\n",
       "      <td>February 2, 2010</td>\n",
       "      <td>May 23, 2010</td>\n",
       "      <td>10.08</td>\n",
       "      <td>31[7]</td>\n",
       "    </tr>\n",
       "  </tbody>\n",
       "</table>\n",
       "</div>"
      ],
      "text/plain": [
       "  Season Episodes               Originally aired                \\\n",
       "  Season Episodes Episodes.1         First aired    Last aired   \n",
       "0      1       25         25  September 22, 2004  May 25, 2005   \n",
       "1      2       24         24  September 21, 2005  May 24, 2006   \n",
       "2      3       23         23     October 4, 2006  May 23, 2007   \n",
       "3      4       14         14    January 31, 2008  May 29, 2008   \n",
       "4      5       17         17    January 21, 2009  May 13, 2009   \n",
       "5      6       18         18    February 2, 2010  May 23, 2010   \n",
       "\n",
       "  Avg. viewers (millions)   Rank  \n",
       "  Avg. viewers (millions)   Rank  \n",
       "0                   15.69  15[2]  \n",
       "1                   15.50  15[3]  \n",
       "2                   17.84  10[4]  \n",
       "3                   13.40  17[5]  \n",
       "4                   10.94  28[6]  \n",
       "5                   10.08  31[7]  "
      ]
     },
     "execution_count": 101,
     "metadata": {},
     "output_type": "execute_result"
    }
   ],
   "source": [
    "url = \"https://en.wikipedia.org/wiki/List_of_Lost_episodes\"\n",
    "\n",
    "lst_table = pd.read_html(url) #html sayfasındaki tabloları okur. Liste olarak döner.\n",
    "\n",
    "#\n",
    "lst_table.__len__() #12 tablo mevcut.\n",
    "lst_table[0]\n",
    "\n",
    "#\n",
    "# for df in lst_table:\n",
    "#     #df #görünmez\n",
    "#     #print(df.head(2))\n",
    "#     display(df.head(2)) #display notebook özelliğidir. df olarak gösterir."
   ]
  },
  {
   "cell_type": "markdown",
   "metadata": {},
   "source": [
    "#### Parquet olarak kaydedelim"
   ]
  },
  {
   "cell_type": "code",
   "execution_count": 103,
   "metadata": {},
   "outputs": [],
   "source": [
    "df_lost_sesion_1 = lst_table[1]\n",
    "\n",
    "df_lost_sesion_1.to_parquet(\"./databases/lost_sesion_1.parquet\") #parquet formatında kaydeder."
   ]
  },
  {
   "cell_type": "markdown",
   "metadata": {},
   "source": [
    "### Df görünümüne Style ve Options ile müdehale edelim "
   ]
  },
  {
   "cell_type": "code",
   "execution_count": 130,
   "metadata": {},
   "outputs": [],
   "source": [
    "dfUrun = pd.read_sql_query(\"SELECT TOP 10 Name, Color, ListPrice FROM Production.Product WHERE ListPrice >0\",engine)"
   ]
  },
  {
   "cell_type": "code",
   "execution_count": 131,
   "metadata": {},
   "outputs": [
    {
     "data": {
      "text/html": [
       "<div>\n",
       "<style scoped>\n",
       "    .dataframe tbody tr th:only-of-type {\n",
       "        vertical-align: middle;\n",
       "    }\n",
       "\n",
       "    .dataframe tbody tr th {\n",
       "        vertical-align: top;\n",
       "    }\n",
       "\n",
       "    .dataframe thead th {\n",
       "        text-align: right;\n",
       "    }\n",
       "</style>\n",
       "<table border=\"1\" class=\"dataframe\">\n",
       "  <thead>\n",
       "    <tr style=\"text-align: right;\">\n",
       "      <th></th>\n",
       "      <th>Name</th>\n",
       "      <th>Color</th>\n",
       "      <th>ListPrice</th>\n",
       "    </tr>\n",
       "  </thead>\n",
       "  <tbody>\n",
       "    <tr>\n",
       "      <th>0</th>\n",
       "      <td>LL Mountain Seat Assembly</td>\n",
       "      <td>None</td>\n",
       "      <td>133.340000</td>\n",
       "    </tr>\n",
       "    <tr>\n",
       "      <th>1</th>\n",
       "      <td>ML Mountain Seat Assembly</td>\n",
       "      <td>None</td>\n",
       "      <td>147.140000</td>\n",
       "    </tr>\n",
       "    <tr>\n",
       "      <th>...</th>\n",
       "      <td>...</td>\n",
       "      <td>...</td>\n",
       "      <td>...</td>\n",
       "    </tr>\n",
       "    <tr>\n",
       "      <th>8</th>\n",
       "      <td>HL Touring Seat Assembly</td>\n",
       "      <td>None</td>\n",
       "      <td>196.920000</td>\n",
       "    </tr>\n",
       "    <tr>\n",
       "      <th>9</th>\n",
       "      <td>HL Road Frame - Black, 58</td>\n",
       "      <td>Black</td>\n",
       "      <td>1431.500000</td>\n",
       "    </tr>\n",
       "  </tbody>\n",
       "</table>\n",
       "<p>10 rows × 3 columns</p>\n",
       "</div>"
      ],
      "text/plain": [
       "                         Name  Color   ListPrice\n",
       "0   LL Mountain Seat Assembly   None  133.340000\n",
       "1   ML Mountain Seat Assembly   None  147.140000\n",
       "..                        ...    ...         ...\n",
       "8    HL Touring Seat Assembly   None  196.920000\n",
       "9   HL Road Frame - Black, 58  Black 1431.500000\n",
       "\n",
       "[10 rows x 3 columns]"
      ]
     },
     "execution_count": 131,
     "metadata": {},
     "output_type": "execute_result"
    }
   ],
   "source": [
    "#options\n",
    "#dir(pd.options.display)\n",
    "\n",
    "#\n",
    "pd.options.display.max_columns = 5 #max 5 kolon gösterir. diğperleirni gizler\n",
    "pd.options.display.max_rows = 5 #max 5 satır gösterir. diğerlerini gizler None olursa tüm satırları gösterir.\n",
    "\n",
    "#farklı kullanım\n",
    "pd.set_option(\"display.max_columns\",None) #tüm kolonları gösterir\n",
    "\n",
    "#\n",
    "pd.options.display.float_format = '{:.6f}'.format #ondalık sayıları 2 hane gösterir.\n",
    "\n",
    "dfUrun"
   ]
  },
  {
   "cell_type": "code",
   "execution_count": 132,
   "metadata": {},
   "outputs": [
    {
     "data": {
      "text/html": [
       "<style type=\"text/css\">\n",
       "#T_c45ae_row9_col2 {\n",
       "  background-color: Green;\n",
       "}\n",
       "</style>\n",
       "<table id=\"T_c45ae\">\n",
       "  <thead>\n",
       "    <tr>\n",
       "      <th class=\"blank level0\" >&nbsp;</th>\n",
       "      <th id=\"T_c45ae_level0_col0\" class=\"col_heading level0 col0\" >Name</th>\n",
       "      <th id=\"T_c45ae_level0_col1\" class=\"col_heading level0 col1\" >Color</th>\n",
       "      <th id=\"T_c45ae_level0_col2\" class=\"col_heading level0 col2\" >ListPrice</th>\n",
       "    </tr>\n",
       "  </thead>\n",
       "  <tbody>\n",
       "    <tr>\n",
       "      <th id=\"T_c45ae_level0_row0\" class=\"row_heading level0 row0\" >0</th>\n",
       "      <td id=\"T_c45ae_row0_col0\" class=\"data row0 col0\" >LL Mountain Seat Assembly</td>\n",
       "      <td id=\"T_c45ae_row0_col1\" class=\"data row0 col1\" >None</td>\n",
       "      <td id=\"T_c45ae_row0_col2\" class=\"data row0 col2\" >133.340000</td>\n",
       "    </tr>\n",
       "    <tr>\n",
       "      <th id=\"T_c45ae_level0_row1\" class=\"row_heading level0 row1\" >1</th>\n",
       "      <td id=\"T_c45ae_row1_col0\" class=\"data row1 col0\" >ML Mountain Seat Assembly</td>\n",
       "      <td id=\"T_c45ae_row1_col1\" class=\"data row1 col1\" >None</td>\n",
       "      <td id=\"T_c45ae_row1_col2\" class=\"data row1 col2\" >147.140000</td>\n",
       "    </tr>\n",
       "    <tr>\n",
       "      <th id=\"T_c45ae_level0_row2\" class=\"row_heading level0 row2\" >2</th>\n",
       "      <td id=\"T_c45ae_row2_col0\" class=\"data row2 col0\" >HL Mountain Seat Assembly</td>\n",
       "      <td id=\"T_c45ae_row2_col1\" class=\"data row2 col1\" >None</td>\n",
       "      <td id=\"T_c45ae_row2_col2\" class=\"data row2 col2\" >196.920000</td>\n",
       "    </tr>\n",
       "    <tr>\n",
       "      <th id=\"T_c45ae_level0_row3\" class=\"row_heading level0 row3\" >3</th>\n",
       "      <td id=\"T_c45ae_row3_col0\" class=\"data row3 col0\" >LL Road Seat Assembly</td>\n",
       "      <td id=\"T_c45ae_row3_col1\" class=\"data row3 col1\" >None</td>\n",
       "      <td id=\"T_c45ae_row3_col2\" class=\"data row3 col2\" >133.340000</td>\n",
       "    </tr>\n",
       "    <tr>\n",
       "      <th id=\"T_c45ae_level0_row4\" class=\"row_heading level0 row4\" >4</th>\n",
       "      <td id=\"T_c45ae_row4_col0\" class=\"data row4 col0\" >ML Road Seat Assembly</td>\n",
       "      <td id=\"T_c45ae_row4_col1\" class=\"data row4 col1\" >None</td>\n",
       "      <td id=\"T_c45ae_row4_col2\" class=\"data row4 col2\" >147.140000</td>\n",
       "    </tr>\n",
       "    <tr>\n",
       "      <th id=\"T_c45ae_level0_row5\" class=\"row_heading level0 row5\" >5</th>\n",
       "      <td id=\"T_c45ae_row5_col0\" class=\"data row5 col0\" >HL Road Seat Assembly</td>\n",
       "      <td id=\"T_c45ae_row5_col1\" class=\"data row5 col1\" >None</td>\n",
       "      <td id=\"T_c45ae_row5_col2\" class=\"data row5 col2\" >196.920000</td>\n",
       "    </tr>\n",
       "    <tr>\n",
       "      <th id=\"T_c45ae_level0_row6\" class=\"row_heading level0 row6\" >6</th>\n",
       "      <td id=\"T_c45ae_row6_col0\" class=\"data row6 col0\" >LL Touring Seat Assembly</td>\n",
       "      <td id=\"T_c45ae_row6_col1\" class=\"data row6 col1\" >None</td>\n",
       "      <td id=\"T_c45ae_row6_col2\" class=\"data row6 col2\" >133.340000</td>\n",
       "    </tr>\n",
       "    <tr>\n",
       "      <th id=\"T_c45ae_level0_row7\" class=\"row_heading level0 row7\" >7</th>\n",
       "      <td id=\"T_c45ae_row7_col0\" class=\"data row7 col0\" >ML Touring Seat Assembly</td>\n",
       "      <td id=\"T_c45ae_row7_col1\" class=\"data row7 col1\" >None</td>\n",
       "      <td id=\"T_c45ae_row7_col2\" class=\"data row7 col2\" >147.140000</td>\n",
       "    </tr>\n",
       "    <tr>\n",
       "      <th id=\"T_c45ae_level0_row8\" class=\"row_heading level0 row8\" >8</th>\n",
       "      <td id=\"T_c45ae_row8_col0\" class=\"data row8 col0\" >HL Touring Seat Assembly</td>\n",
       "      <td id=\"T_c45ae_row8_col1\" class=\"data row8 col1\" >None</td>\n",
       "      <td id=\"T_c45ae_row8_col2\" class=\"data row8 col2\" >196.920000</td>\n",
       "    </tr>\n",
       "    <tr>\n",
       "      <th id=\"T_c45ae_level0_row9\" class=\"row_heading level0 row9\" >9</th>\n",
       "      <td id=\"T_c45ae_row9_col0\" class=\"data row9 col0\" >HL Road Frame - Black, 58</td>\n",
       "      <td id=\"T_c45ae_row9_col1\" class=\"data row9 col1\" >Black</td>\n",
       "      <td id=\"T_c45ae_row9_col2\" class=\"data row9 col2\" >1431.500000</td>\n",
       "    </tr>\n",
       "  </tbody>\n",
       "</table>\n"
      ],
      "text/plain": [
       "<pandas.io.formats.style.Styler at 0x25db6683ad0>"
      ]
     },
     "execution_count": 132,
     "metadata": {},
     "output_type": "execute_result"
    }
   ],
   "source": [
    "#style\n",
    "\n",
    "\n",
    "dir(dfUrun.style)\n",
    "\n",
    "dfUrun.style.highlight_null(color=\"red\") #null olanları kırmızı yapar\n",
    "dfUrun.style.highlight_max(axis=0,color=\"Green\", subset=\"ListPrice\") #indexi gizler"
   ]
  }
 ],
 "metadata": {
  "kernelspec": {
   "display_name": "Python 3",
   "language": "python",
   "name": "python3"
  },
  "language_info": {
   "codemirror_mode": {
    "name": "ipython",
    "version": 3
   },
   "file_extension": ".py",
   "mimetype": "text/x-python",
   "name": "python",
   "nbconvert_exporter": "python",
   "pygments_lexer": "ipython3",
   "version": "3.11.3"
  }
 },
 "nbformat": 4,
 "nbformat_minor": 2
}
