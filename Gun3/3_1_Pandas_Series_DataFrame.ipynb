{
 "cells": [
  {
   "cell_type": "markdown",
   "metadata": {},
   "source": [
    "## Pandas\n",
    "![alt text](PandasNedir.png)"
   ]
  },
  {
   "cell_type": "code",
   "execution_count": 1,
   "metadata": {},
   "outputs": [],
   "source": [
    "import numpy as np\n",
    "import pandas as pd"
   ]
  },
  {
   "cell_type": "markdown",
   "metadata": {},
   "source": [
    "### Series ve DataFrame Tanımlama"
   ]
  },
  {
   "cell_type": "code",
   "execution_count": 2,
   "metadata": {},
   "outputs": [
    {
     "data": {
      "text/plain": [
       "s1    11\n",
       "s2    22\n",
       "s3    33\n",
       "dtype: int64"
      ]
     },
     "execution_count": 2,
     "metadata": {},
     "output_type": "execute_result"
    }
   ],
   "source": [
    "#Seri\n",
    "pd.Series([11,22,33])\n",
    "# serilerde satır etiketi, sıra numararı ve ortak veri tipi ile karşılışıyoruz.\n",
    "\n",
    "#Dataframe\n",
    "pd.Series([11,22,33], index = ['s1','s2','s3']) #Seriede varsayılan olarak sıra numaraları etiket index olarak atanır.\n",
    "#İndex parametresi ile etiket ataması yapabiliriz."
   ]
  },
  {
   "cell_type": "code",
   "execution_count": 3,
   "metadata": {},
   "outputs": [
    {
     "data": {
      "text/html": [
       "<div>\n",
       "<style scoped>\n",
       "    .dataframe tbody tr th:only-of-type {\n",
       "        vertical-align: middle;\n",
       "    }\n",
       "\n",
       "    .dataframe tbody tr th {\n",
       "        vertical-align: top;\n",
       "    }\n",
       "\n",
       "    .dataframe thead th {\n",
       "        text-align: right;\n",
       "    }\n",
       "</style>\n",
       "<table border=\"1\" class=\"dataframe\">\n",
       "  <thead>\n",
       "    <tr style=\"text-align: right;\">\n",
       "      <th></th>\n",
       "      <th>DepId</th>\n",
       "      <th>DepAd</th>\n",
       "    </tr>\n",
       "  </thead>\n",
       "  <tbody>\n",
       "    <tr>\n",
       "      <th>0</th>\n",
       "      <td>1</td>\n",
       "      <td>Departman A</td>\n",
       "    </tr>\n",
       "    <tr>\n",
       "      <th>1</th>\n",
       "      <td>2</td>\n",
       "      <td>Departman B</td>\n",
       "    </tr>\n",
       "    <tr>\n",
       "      <th>2</th>\n",
       "      <td>3</td>\n",
       "      <td>Departman C</td>\n",
       "    </tr>\n",
       "  </tbody>\n",
       "</table>\n",
       "</div>"
      ],
      "text/plain": [
       "   DepId        DepAd\n",
       "0      1  Departman A\n",
       "1      2  Departman B\n",
       "2      3  Departman C"
      ]
     },
     "execution_count": 3,
     "metadata": {},
     "output_type": "execute_result"
    }
   ],
   "source": [
    "## Dataframe Oluşturma\n",
    "departman = pd.DataFrame(data = [\n",
    "                        (1,'Departman A'),\n",
    "                        (2,'Departman B'),\n",
    "                        (3,'Departman C')\n",
    "                     ]\n",
    "                     ,columns=[\"DepId\",\"DepAd\"])\n",
    "#kolon ve satır etiketi verilmediğinde sıra numarasını str tipinden etiket olarak kullanır.\n",
    "\n",
    "departman"
   ]
  },
  {
   "cell_type": "code",
   "execution_count": 4,
   "metadata": {},
   "outputs": [
    {
     "data": {
      "text/html": [
       "<div>\n",
       "<style scoped>\n",
       "    .dataframe tbody tr th:only-of-type {\n",
       "        vertical-align: middle;\n",
       "    }\n",
       "\n",
       "    .dataframe tbody tr th {\n",
       "        vertical-align: top;\n",
       "    }\n",
       "\n",
       "    .dataframe thead th {\n",
       "        text-align: right;\n",
       "    }\n",
       "</style>\n",
       "<table border=\"1\" class=\"dataframe\">\n",
       "  <thead>\n",
       "    <tr style=\"text-align: right;\">\n",
       "      <th></th>\n",
       "      <th>Id</th>\n",
       "      <th>Ad</th>\n",
       "      <th>Cinsiyet</th>\n",
       "      <th>Miktar</th>\n",
       "      <th>DepartmanId</th>\n",
       "    </tr>\n",
       "  </thead>\n",
       "  <tbody>\n",
       "    <tr>\n",
       "      <th>İstanbul</th>\n",
       "      <td>1</td>\n",
       "      <td>Ali</td>\n",
       "      <td>E</td>\n",
       "      <td>120.0</td>\n",
       "      <td>NaN</td>\n",
       "    </tr>\n",
       "    <tr>\n",
       "      <th>İstanbul</th>\n",
       "      <td>2</td>\n",
       "      <td>Veli</td>\n",
       "      <td>E</td>\n",
       "      <td>NaN</td>\n",
       "      <td>NaN</td>\n",
       "    </tr>\n",
       "    <tr>\n",
       "      <th>Ankara</th>\n",
       "      <td>3</td>\n",
       "      <td>Ayşe</td>\n",
       "      <td>None</td>\n",
       "      <td>250.0</td>\n",
       "      <td>NaN</td>\n",
       "    </tr>\n",
       "    <tr>\n",
       "      <th>Ankara</th>\n",
       "      <td>4</td>\n",
       "      <td>Fatma</td>\n",
       "      <td>K</td>\n",
       "      <td>350.0</td>\n",
       "      <td>NaN</td>\n",
       "    </tr>\n",
       "    <tr>\n",
       "      <th>İzmir</th>\n",
       "      <td>5</td>\n",
       "      <td>Tonguç</td>\n",
       "      <td>E</td>\n",
       "      <td>NaN</td>\n",
       "      <td>NaN</td>\n",
       "    </tr>\n",
       "  </tbody>\n",
       "</table>\n",
       "</div>"
      ],
      "text/plain": [
       "          Id      Ad Cinsiyet  Miktar DepartmanId\n",
       "İstanbul   1     Ali        E   120.0         NaN\n",
       "İstanbul   2    Veli        E     NaN         NaN\n",
       "Ankara     3    Ayşe     None   250.0         NaN\n",
       "Ankara     4   Fatma        K   350.0         NaN\n",
       "İzmir      5  Tonguç        E     NaN         NaN"
      ]
     },
     "execution_count": 4,
     "metadata": {},
     "output_type": "execute_result"
    }
   ],
   "source": [
    "#DataFrame 2\n",
    "ekipEfor = pd.DataFrame(data = {\n",
    "                                \"Id\":[1,2,3,4,5],\n",
    "                                \"Ad\":[\"Ali\",\"Veli\",\"Ayşe\",\"Fatma\",\"Tonguç\"],\n",
    "                                \"Cinsiyet\":[\"E\",\"E\",None,\"K\",\"E\"],\n",
    "                                \"Miktar\":[120,None,250,350,None]\n",
    "                                }\n",
    "                        ,columns=[\"Id\",\"Ad\",\"Cinsiyet\",\"Miktar\",\"DepartmanId\"] #kolon iismleri güncellenir olmayan kolonlar eklenir.\n",
    "                        ,index=[\"İstanbul\",\"İstanbul\",\"Ankara\",\"Ankara\",\"İzmir\"]\n",
    "                        )\n",
    "#\n",
    "ekipEfor"
   ]
  },
  {
   "cell_type": "markdown",
   "metadata": {},
   "source": [
    "### Yapısını Değiştirmek"
   ]
  },
  {
   "cell_type": "markdown",
   "metadata": {},
   "source": [
    "#### Satır ve Kollon İsimleri Vermek"
   ]
  },
  {
   "cell_type": "code",
   "execution_count": 5,
   "metadata": {},
   "outputs": [
    {
     "data": {
      "text/html": [
       "<div>\n",
       "<style scoped>\n",
       "    .dataframe tbody tr th:only-of-type {\n",
       "        vertical-align: middle;\n",
       "    }\n",
       "\n",
       "    .dataframe tbody tr th {\n",
       "        vertical-align: top;\n",
       "    }\n",
       "\n",
       "    .dataframe thead th {\n",
       "        text-align: right;\n",
       "    }\n",
       "</style>\n",
       "<table border=\"1\" class=\"dataframe\">\n",
       "  <thead>\n",
       "    <tr style=\"text-align: right;\">\n",
       "      <th>Özellikler</th>\n",
       "      <th>Id</th>\n",
       "      <th>Ad</th>\n",
       "      <th>Cinsiyet</th>\n",
       "      <th>Miktar</th>\n",
       "      <th>DepartmanId</th>\n",
       "    </tr>\n",
       "    <tr>\n",
       "      <th>Lokasyon</th>\n",
       "      <th></th>\n",
       "      <th></th>\n",
       "      <th></th>\n",
       "      <th></th>\n",
       "      <th></th>\n",
       "    </tr>\n",
       "  </thead>\n",
       "  <tbody>\n",
       "    <tr>\n",
       "      <th>İstanbul</th>\n",
       "      <td>1</td>\n",
       "      <td>Ali</td>\n",
       "      <td>E</td>\n",
       "      <td>120.0</td>\n",
       "      <td>NaN</td>\n",
       "    </tr>\n",
       "    <tr>\n",
       "      <th>İstanbul</th>\n",
       "      <td>2</td>\n",
       "      <td>Veli</td>\n",
       "      <td>E</td>\n",
       "      <td>NaN</td>\n",
       "      <td>NaN</td>\n",
       "    </tr>\n",
       "    <tr>\n",
       "      <th>Ankara</th>\n",
       "      <td>3</td>\n",
       "      <td>Ayşe</td>\n",
       "      <td>None</td>\n",
       "      <td>250.0</td>\n",
       "      <td>NaN</td>\n",
       "    </tr>\n",
       "    <tr>\n",
       "      <th>Ankara</th>\n",
       "      <td>4</td>\n",
       "      <td>Fatma</td>\n",
       "      <td>K</td>\n",
       "      <td>350.0</td>\n",
       "      <td>NaN</td>\n",
       "    </tr>\n",
       "    <tr>\n",
       "      <th>İzmir</th>\n",
       "      <td>5</td>\n",
       "      <td>Tonguç</td>\n",
       "      <td>E</td>\n",
       "      <td>NaN</td>\n",
       "      <td>NaN</td>\n",
       "    </tr>\n",
       "  </tbody>\n",
       "</table>\n",
       "</div>"
      ],
      "text/plain": [
       "Özellikler  Id      Ad Cinsiyet  Miktar DepartmanId\n",
       "Lokasyon                                           \n",
       "İstanbul     1     Ali        E   120.0         NaN\n",
       "İstanbul     2    Veli        E     NaN         NaN\n",
       "Ankara       3    Ayşe     None   250.0         NaN\n",
       "Ankara       4   Fatma        K   350.0         NaN\n",
       "İzmir        5  Tonguç        E     NaN         NaN"
      ]
     },
     "execution_count": 5,
     "metadata": {},
     "output_type": "execute_result"
    }
   ],
   "source": [
    "ekipEfor.index #Satır etiketleri #Index(['İstanbul', 'İstanbul', 'Ankara', 'Ankara', 'İzmir'], dtype='object', name='Şehir')\n",
    "ekipEfor.index.name =\"Lokasyon\"\n",
    "\n",
    "\n",
    "#\n",
    "ekipEfor.columns #Kolon etiketleri Index(['Id', 'Ad', 'Cinsiyet', 'Miktar', 'DepartmanId'], dtype='object')\n",
    "ekipEfor.columns.name = \"Özellikler\"\n",
    "\n",
    "\n",
    "#\n",
    "ekipEfor"
   ]
  },
  {
   "cell_type": "markdown",
   "metadata": {},
   "source": [
    "#### Satır ve Kolonların Etiketlerini Güncelleyelim"
   ]
  },
  {
   "cell_type": "code",
   "execution_count": 6,
   "metadata": {},
   "outputs": [
    {
     "data": {
      "text/html": [
       "<div>\n",
       "<style scoped>\n",
       "    .dataframe tbody tr th:only-of-type {\n",
       "        vertical-align: middle;\n",
       "    }\n",
       "\n",
       "    .dataframe tbody tr th {\n",
       "        vertical-align: top;\n",
       "    }\n",
       "\n",
       "    .dataframe thead th {\n",
       "        text-align: right;\n",
       "    }\n",
       "</style>\n",
       "<table border=\"1\" class=\"dataframe\">\n",
       "  <thead>\n",
       "    <tr style=\"text-align: right;\">\n",
       "      <th></th>\n",
       "      <th>Id</th>\n",
       "      <th>Ad</th>\n",
       "      <th>Cinsiyet</th>\n",
       "      <th>Uretim</th>\n",
       "      <th>DepId</th>\n",
       "    </tr>\n",
       "  </thead>\n",
       "  <tbody>\n",
       "    <tr>\n",
       "      <th>Bursa</th>\n",
       "      <td>1</td>\n",
       "      <td>Ali</td>\n",
       "      <td>E</td>\n",
       "      <td>120.0</td>\n",
       "      <td>NaN</td>\n",
       "    </tr>\n",
       "    <tr>\n",
       "      <th>Bursa</th>\n",
       "      <td>2</td>\n",
       "      <td>Veli</td>\n",
       "      <td>E</td>\n",
       "      <td>NaN</td>\n",
       "      <td>NaN</td>\n",
       "    </tr>\n",
       "    <tr>\n",
       "      <th>Bolu</th>\n",
       "      <td>3</td>\n",
       "      <td>Ayşe</td>\n",
       "      <td>None</td>\n",
       "      <td>250.0</td>\n",
       "      <td>NaN</td>\n",
       "    </tr>\n",
       "    <tr>\n",
       "      <th>Bolu</th>\n",
       "      <td>4</td>\n",
       "      <td>Fatma</td>\n",
       "      <td>K</td>\n",
       "      <td>350.0</td>\n",
       "      <td>NaN</td>\n",
       "    </tr>\n",
       "    <tr>\n",
       "      <th>İzmir</th>\n",
       "      <td>5</td>\n",
       "      <td>Tonguç</td>\n",
       "      <td>E</td>\n",
       "      <td>NaN</td>\n",
       "      <td>NaN</td>\n",
       "    </tr>\n",
       "  </tbody>\n",
       "</table>\n",
       "</div>"
      ],
      "text/plain": [
       "       Id      Ad Cinsiyet  Uretim DepId\n",
       "Bursa   1     Ali        E   120.0   NaN\n",
       "Bursa   2    Veli        E     NaN   NaN\n",
       "Bolu    3    Ayşe     None   250.0   NaN\n",
       "Bolu    4   Fatma        K   350.0   NaN\n",
       "İzmir   5  Tonguç        E     NaN   NaN"
      ]
     },
     "execution_count": 6,
     "metadata": {},
     "output_type": "execute_result"
    }
   ],
   "source": [
    "ekipEfor.columns = ['Id', 'Ad', 'Cinsiyet', 'Miktar', 'DepId']\n",
    "ekipEfor.index  = ['Bursa', 'Bursa', 'Ankara', 'Ankara', 'İzmir']\n",
    "\n",
    "#-------------------------------------------------------------\n",
    "#numpydaki öğrendiklerimiz ile kolon iismlerini bir dizi olarak üretip verelim.\n",
    "ekipEfor.index = np.where(ekipEfor.index ==\"Ankara\",\"Çorum\",ekipEfor.index)\n",
    "#-------------------------------------------------------------\n",
    "\n",
    "#\n",
    "ekipEfor.rename(columns={\"Miktar\":\"Uretim\"} , index={\"Çorum\":\"Bolu\"}, inplace=True) #inplace=True ile orjinalini etkiler.\n",
    "\n",
    "#\n",
    "ekipEfor"
   ]
  },
  {
   "cell_type": "markdown",
   "metadata": {},
   "source": [
    "#### Satır etiketlirini sıfırlamak ve bir kolonu satır etiketi haline getirmek"
   ]
  },
  {
   "cell_type": "code",
   "execution_count": 7,
   "metadata": {},
   "outputs": [
    {
     "data": {
      "text/html": [
       "<div>\n",
       "<style scoped>\n",
       "    .dataframe tbody tr th:only-of-type {\n",
       "        vertical-align: middle;\n",
       "    }\n",
       "\n",
       "    .dataframe tbody tr th {\n",
       "        vertical-align: top;\n",
       "    }\n",
       "\n",
       "    .dataframe thead th {\n",
       "        text-align: right;\n",
       "    }\n",
       "</style>\n",
       "<table border=\"1\" class=\"dataframe\">\n",
       "  <thead>\n",
       "    <tr style=\"text-align: right;\">\n",
       "      <th></th>\n",
       "      <th>index</th>\n",
       "      <th>Id</th>\n",
       "      <th>Ad</th>\n",
       "      <th>Cinsiyet</th>\n",
       "      <th>Uretim</th>\n",
       "      <th>DepId</th>\n",
       "    </tr>\n",
       "  </thead>\n",
       "  <tbody>\n",
       "    <tr>\n",
       "      <th>0</th>\n",
       "      <td>Bursa</td>\n",
       "      <td>1</td>\n",
       "      <td>Ali</td>\n",
       "      <td>E</td>\n",
       "      <td>120.0</td>\n",
       "      <td>NaN</td>\n",
       "    </tr>\n",
       "    <tr>\n",
       "      <th>1</th>\n",
       "      <td>Bursa</td>\n",
       "      <td>2</td>\n",
       "      <td>Veli</td>\n",
       "      <td>E</td>\n",
       "      <td>NaN</td>\n",
       "      <td>NaN</td>\n",
       "    </tr>\n",
       "    <tr>\n",
       "      <th>2</th>\n",
       "      <td>Bolu</td>\n",
       "      <td>3</td>\n",
       "      <td>Ayşe</td>\n",
       "      <td>None</td>\n",
       "      <td>250.0</td>\n",
       "      <td>NaN</td>\n",
       "    </tr>\n",
       "    <tr>\n",
       "      <th>3</th>\n",
       "      <td>Bolu</td>\n",
       "      <td>4</td>\n",
       "      <td>Fatma</td>\n",
       "      <td>K</td>\n",
       "      <td>350.0</td>\n",
       "      <td>NaN</td>\n",
       "    </tr>\n",
       "    <tr>\n",
       "      <th>4</th>\n",
       "      <td>İzmir</td>\n",
       "      <td>5</td>\n",
       "      <td>Tonguç</td>\n",
       "      <td>E</td>\n",
       "      <td>NaN</td>\n",
       "      <td>NaN</td>\n",
       "    </tr>\n",
       "  </tbody>\n",
       "</table>\n",
       "</div>"
      ],
      "text/plain": [
       "   index  Id      Ad Cinsiyet  Uretim DepId\n",
       "0  Bursa   1     Ali        E   120.0   NaN\n",
       "1  Bursa   2    Veli        E     NaN   NaN\n",
       "2   Bolu   3    Ayşe     None   250.0   NaN\n",
       "3   Bolu   4   Fatma        K   350.0   NaN\n",
       "4  İzmir   5  Tonguç        E     NaN   NaN"
      ]
     },
     "execution_count": 7,
     "metadata": {},
     "output_type": "execute_result"
    }
   ],
   "source": [
    "#Satır etiketi sıfırlandığında satırdaki bu bilgi kolona dönüştürülür.\n",
    "#orjinalini etkilemez.\n",
    "ekipEfor = ekipEfor.reset_index() #inplace=True \n",
    "\n",
    "ekipEfor"
   ]
  },
  {
   "cell_type": "code",
   "execution_count": 8,
   "metadata": {},
   "outputs": [
    {
     "data": {
      "text/html": [
       "<div>\n",
       "<style scoped>\n",
       "    .dataframe tbody tr th:only-of-type {\n",
       "        vertical-align: middle;\n",
       "    }\n",
       "\n",
       "    .dataframe tbody tr th {\n",
       "        vertical-align: top;\n",
       "    }\n",
       "\n",
       "    .dataframe thead th {\n",
       "        text-align: right;\n",
       "    }\n",
       "</style>\n",
       "<table border=\"1\" class=\"dataframe\">\n",
       "  <thead>\n",
       "    <tr style=\"text-align: right;\">\n",
       "      <th></th>\n",
       "      <th>Şehir</th>\n",
       "      <th>Id</th>\n",
       "      <th>Ad</th>\n",
       "      <th>Cinsiyet</th>\n",
       "      <th>Uretim</th>\n",
       "      <th>DepId</th>\n",
       "    </tr>\n",
       "  </thead>\n",
       "  <tbody>\n",
       "    <tr>\n",
       "      <th>0</th>\n",
       "      <td>Bursa</td>\n",
       "      <td>1</td>\n",
       "      <td>Ali</td>\n",
       "      <td>E</td>\n",
       "      <td>120.0</td>\n",
       "      <td>NaN</td>\n",
       "    </tr>\n",
       "    <tr>\n",
       "      <th>1</th>\n",
       "      <td>Bursa</td>\n",
       "      <td>2</td>\n",
       "      <td>Veli</td>\n",
       "      <td>E</td>\n",
       "      <td>NaN</td>\n",
       "      <td>NaN</td>\n",
       "    </tr>\n",
       "    <tr>\n",
       "      <th>2</th>\n",
       "      <td>Bolu</td>\n",
       "      <td>3</td>\n",
       "      <td>Ayşe</td>\n",
       "      <td>None</td>\n",
       "      <td>250.0</td>\n",
       "      <td>NaN</td>\n",
       "    </tr>\n",
       "    <tr>\n",
       "      <th>3</th>\n",
       "      <td>Bolu</td>\n",
       "      <td>4</td>\n",
       "      <td>Fatma</td>\n",
       "      <td>K</td>\n",
       "      <td>350.0</td>\n",
       "      <td>NaN</td>\n",
       "    </tr>\n",
       "    <tr>\n",
       "      <th>4</th>\n",
       "      <td>İzmir</td>\n",
       "      <td>5</td>\n",
       "      <td>Tonguç</td>\n",
       "      <td>E</td>\n",
       "      <td>NaN</td>\n",
       "      <td>NaN</td>\n",
       "    </tr>\n",
       "  </tbody>\n",
       "</table>\n",
       "</div>"
      ],
      "text/plain": [
       "   Şehir  Id      Ad Cinsiyet  Uretim DepId\n",
       "0  Bursa   1     Ali        E   120.0   NaN\n",
       "1  Bursa   2    Veli        E     NaN   NaN\n",
       "2   Bolu   3    Ayşe     None   250.0   NaN\n",
       "3   Bolu   4   Fatma        K   350.0   NaN\n",
       "4  İzmir   5  Tonguç        E     NaN   NaN"
      ]
     },
     "execution_count": 8,
     "metadata": {},
     "output_type": "execute_result"
    }
   ],
   "source": [
    "ekipEfor.rename(columns =  {\"index\":\"Şehir\"}, inplace=True)\n",
    "ekipEfor"
   ]
  },
  {
   "cell_type": "code",
   "execution_count": 9,
   "metadata": {},
   "outputs": [
    {
     "data": {
      "text/html": [
       "<div>\n",
       "<style scoped>\n",
       "    .dataframe tbody tr th:only-of-type {\n",
       "        vertical-align: middle;\n",
       "    }\n",
       "\n",
       "    .dataframe tbody tr th {\n",
       "        vertical-align: top;\n",
       "    }\n",
       "\n",
       "    .dataframe thead th {\n",
       "        text-align: right;\n",
       "    }\n",
       "</style>\n",
       "<table border=\"1\" class=\"dataframe\">\n",
       "  <thead>\n",
       "    <tr style=\"text-align: right;\">\n",
       "      <th></th>\n",
       "      <th>Id</th>\n",
       "      <th>Ad</th>\n",
       "      <th>Cinsiyet</th>\n",
       "      <th>Uretim</th>\n",
       "      <th>DepId</th>\n",
       "    </tr>\n",
       "  </thead>\n",
       "  <tbody>\n",
       "    <tr>\n",
       "      <th>Bursa</th>\n",
       "      <td>1</td>\n",
       "      <td>Ali</td>\n",
       "      <td>E</td>\n",
       "      <td>120.0</td>\n",
       "      <td>NaN</td>\n",
       "    </tr>\n",
       "    <tr>\n",
       "      <th>Bursa</th>\n",
       "      <td>2</td>\n",
       "      <td>Veli</td>\n",
       "      <td>E</td>\n",
       "      <td>NaN</td>\n",
       "      <td>NaN</td>\n",
       "    </tr>\n",
       "    <tr>\n",
       "      <th>Bolu</th>\n",
       "      <td>3</td>\n",
       "      <td>Ayşe</td>\n",
       "      <td>None</td>\n",
       "      <td>250.0</td>\n",
       "      <td>NaN</td>\n",
       "    </tr>\n",
       "    <tr>\n",
       "      <th>Bolu</th>\n",
       "      <td>4</td>\n",
       "      <td>Fatma</td>\n",
       "      <td>K</td>\n",
       "      <td>350.0</td>\n",
       "      <td>NaN</td>\n",
       "    </tr>\n",
       "    <tr>\n",
       "      <th>İzmir</th>\n",
       "      <td>5</td>\n",
       "      <td>Tonguç</td>\n",
       "      <td>E</td>\n",
       "      <td>NaN</td>\n",
       "      <td>NaN</td>\n",
       "    </tr>\n",
       "  </tbody>\n",
       "</table>\n",
       "</div>"
      ],
      "text/plain": [
       "       Id      Ad Cinsiyet  Uretim DepId\n",
       "Bursa   1     Ali        E   120.0   NaN\n",
       "Bursa   2    Veli        E     NaN   NaN\n",
       "Bolu    3    Ayşe     None   250.0   NaN\n",
       "Bolu    4   Fatma        K   350.0   NaN\n",
       "İzmir   5  Tonguç        E     NaN   NaN"
      ]
     },
     "execution_count": 9,
     "metadata": {},
     "output_type": "execute_result"
    }
   ],
   "source": [
    "#bir kolonu index etiketi olarak kullanabiliriz.\n",
    "ekipEfor.set_index(\"Şehir\", inplace=True)\n",
    "ekipEfor.index.name = None #indexin başlığını kaldırdık.\n",
    "\n",
    "ekipEfor"
   ]
  },
  {
   "cell_type": "markdown",
   "metadata": {},
   "source": [
    "#### Kolonların Veri Tiplerini Değiştirmek"
   ]
  },
  {
   "cell_type": "code",
   "execution_count": 10,
   "metadata": {},
   "outputs": [
    {
     "name": "stdout",
     "output_type": "stream",
     "text": [
      "<class 'pandas.core.frame.DataFrame'>\n",
      "Index: 5 entries, Bursa to İzmir\n",
      "Data columns (total 5 columns):\n",
      " #   Column    Non-Null Count  Dtype  \n",
      "---  ------    --------------  -----  \n",
      " 0   Id        5 non-null      int8   \n",
      " 1   Ad        5 non-null      object \n",
      " 2   Cinsiyet  4 non-null      object \n",
      " 3   Uretim    3 non-null      float16\n",
      " 4   DepId     0 non-null      object \n",
      "dtypes: float16(1), int8(1), object(3)\n",
      "memory usage: 175.0+ bytes\n"
     ]
    }
   ],
   "source": [
    "# 240.0+ bytes\n",
    "# 220.0+ bytes\n",
    "# 190.0+ bytes\n",
    "# 175.0+ bytes\n",
    "ekipEfor = ekipEfor.astype({\n",
    "                            \"Id\": np.int8, #int,\n",
    "                            \"Uretim\":np.float16, #pd.Float32Dtype(),  #:float,\n",
    "                            \"Ad\":str #:str\n",
    "                        })\n",
    "\n",
    "#\n",
    "ekipEfor.info()"
   ]
  },
  {
   "cell_type": "markdown",
   "metadata": {},
   "source": [
    "#### Orjinalini Etkilememesi için Atamalarda `b=a.copy` Kullananalım."
   ]
  },
  {
   "cell_type": "code",
   "execution_count": 11,
   "metadata": {},
   "outputs": [
    {
     "name": "stdout",
     "output_type": "stream",
     "text": [
      "2093129884688 2093387353936\n",
      "False\n"
     ]
    }
   ],
   "source": [
    "ekip = ekipEfor.copy() #orjinali etkilenmez\n",
    "\n",
    "#copy() ile farklı nesneler oldular.\n",
    "print(id(ekip),id(ekipEfor) )\n",
    "print(ekip is ekipEfor)"
   ]
  },
  {
   "cell_type": "markdown",
   "metadata": {},
   "source": [
    "### DF Hakkında Bilgi Almak"
   ]
  },
  {
   "cell_type": "code",
   "execution_count": 12,
   "metadata": {},
   "outputs": [
    {
     "data": {
      "text/html": [
       "<div>\n",
       "<style scoped>\n",
       "    .dataframe tbody tr th:only-of-type {\n",
       "        vertical-align: middle;\n",
       "    }\n",
       "\n",
       "    .dataframe tbody tr th {\n",
       "        vertical-align: top;\n",
       "    }\n",
       "\n",
       "    .dataframe thead th {\n",
       "        text-align: right;\n",
       "    }\n",
       "</style>\n",
       "<table border=\"1\" class=\"dataframe\">\n",
       "  <thead>\n",
       "    <tr style=\"text-align: right;\">\n",
       "      <th></th>\n",
       "      <th>Id</th>\n",
       "      <th>Ad</th>\n",
       "      <th>Cinsiyet</th>\n",
       "      <th>Uretim</th>\n",
       "      <th>DepId</th>\n",
       "    </tr>\n",
       "  </thead>\n",
       "  <tbody>\n",
       "    <tr>\n",
       "      <th>Bursa</th>\n",
       "      <td>2</td>\n",
       "      <td>Veli</td>\n",
       "      <td>E</td>\n",
       "      <td>NaN</td>\n",
       "      <td>NaN</td>\n",
       "    </tr>\n",
       "    <tr>\n",
       "      <th>İzmir</th>\n",
       "      <td>5</td>\n",
       "      <td>Tonguç</td>\n",
       "      <td>E</td>\n",
       "      <td>NaN</td>\n",
       "      <td>NaN</td>\n",
       "    </tr>\n",
       "  </tbody>\n",
       "</table>\n",
       "</div>"
      ],
      "text/plain": [
       "       Id      Ad Cinsiyet  Uretim DepId\n",
       "Bursa   2    Veli        E     NaN   NaN\n",
       "İzmir   5  Tonguç        E     NaN   NaN"
      ]
     },
     "execution_count": 12,
     "metadata": {},
     "output_type": "execute_result"
    }
   ],
   "source": [
    "ekip.head(2) # üstten kaç satır çekilecek\n",
    "ekip.tail(2) #alttan kaç  satır\n",
    "ekip.sample(2) #rastgele kaç satır"
   ]
  },
  {
   "cell_type": "code",
   "execution_count": 13,
   "metadata": {},
   "outputs": [
    {
     "data": {
      "text/html": [
       "<div>\n",
       "<style scoped>\n",
       "    .dataframe tbody tr th:only-of-type {\n",
       "        vertical-align: middle;\n",
       "    }\n",
       "\n",
       "    .dataframe tbody tr th {\n",
       "        vertical-align: top;\n",
       "    }\n",
       "\n",
       "    .dataframe thead th {\n",
       "        text-align: right;\n",
       "    }\n",
       "</style>\n",
       "<table border=\"1\" class=\"dataframe\">\n",
       "  <thead>\n",
       "    <tr style=\"text-align: right;\">\n",
       "      <th></th>\n",
       "      <th>count</th>\n",
       "      <th>mean</th>\n",
       "      <th>std</th>\n",
       "      <th>min</th>\n",
       "      <th>25%</th>\n",
       "      <th>50%</th>\n",
       "      <th>75%</th>\n",
       "      <th>max</th>\n",
       "    </tr>\n",
       "  </thead>\n",
       "  <tbody>\n",
       "    <tr>\n",
       "      <th>Id</th>\n",
       "      <td>5.0</td>\n",
       "      <td>3.0</td>\n",
       "      <td>1.581139</td>\n",
       "      <td>1.0</td>\n",
       "      <td>2.0</td>\n",
       "      <td>3.0</td>\n",
       "      <td>4.0</td>\n",
       "      <td>5.0</td>\n",
       "    </tr>\n",
       "    <tr>\n",
       "      <th>Uretim</th>\n",
       "      <td>3.0</td>\n",
       "      <td>240.0</td>\n",
       "      <td>115.312500</td>\n",
       "      <td>120.0</td>\n",
       "      <td>185.0</td>\n",
       "      <td>250.0</td>\n",
       "      <td>300.0</td>\n",
       "      <td>350.0</td>\n",
       "    </tr>\n",
       "  </tbody>\n",
       "</table>\n",
       "</div>"
      ],
      "text/plain": [
       "        count   mean         std    min    25%    50%    75%    max\n",
       "Id        5.0    3.0    1.581139    1.0    2.0    3.0    4.0    5.0\n",
       "Uretim    3.0  240.0  115.312500  120.0  185.0  250.0  300.0  350.0"
      ]
     },
     "execution_count": 13,
     "metadata": {},
     "output_type": "execute_result"
    }
   ],
   "source": [
    "ekip.shape #(5,5) 5 satır 5 sutun var.\n",
    "ekip.size #kaç hücre var\n",
    "\n",
    "#\n",
    "len(ekip) #satır sayısını veriyor. shape'in ilk değerini döndürür.\n",
    "ekip.__len__()\n",
    "\n",
    "#\n",
    "ekip.columns\n",
    "ekip.index\n",
    "\n",
    "#tablonun yapısı\n",
    "#ekip.info()\n",
    "\n",
    "#istatistiksel değler. Sayısal alanlar için üretir.\n",
    "ekip.describe()\n",
    "ekip.describe().T #tranpose almak daha kullanışlı olabiliyor\n",
    "#ekip.corr() #sayıal kolonların Korelasyonunu verir. metinsel kolonlar olduğu için hata veriyor burada."
   ]
  },
  {
   "cell_type": "markdown",
   "metadata": {},
   "source": [
    "### Bazı Kullanışlı Fonksiyonlar\n",
    "* Seri ve DF'lerde kullanılabilir\n",
    "* axis parametresi verilebilr. \n",
    "  * axis=0 satır boyunca işlem yapar\n",
    "  * axis=1 kolon boyunca işlem yapar"
   ]
  },
  {
   "cell_type": "code",
   "execution_count": 14,
   "metadata": {},
   "outputs": [
    {
     "data": {
      "text/plain": [
       "Bursa    4\n",
       "Bursa    3\n",
       "Bolu     3\n",
       "Bolu     4\n",
       "İzmir    3\n",
       "dtype: int64"
      ]
     },
     "execution_count": 14,
     "metadata": {},
     "output_type": "execute_result"
    }
   ],
   "source": [
    "#DF'lerde ve serilerde kullanılanlar\n",
    "#axis verebilir\n",
    "\n",
    "#ekip.sum() #sayısal alanları kendi içinde toplar\n",
    "#ekip.sum(axis=1) #\n",
    "\n",
    "#\n",
    "ekip.count() #None olmayanların adedi\n",
    "ekip.count(axis=1) #kolon boyunca işlem yap.\n",
    "\n",
    "#min, max, sum, std, mean, median, cumsum vs. kullanılabilir"
   ]
  },
  {
   "cell_type": "code",
   "execution_count": 15,
   "metadata": {},
   "outputs": [
    {
     "data": {
      "text/plain": [
       "Bursa    4\n",
       "Bursa    3\n",
       "Bolu     3\n",
       "Bolu     4\n",
       "İzmir    3\n",
       "dtype: int64"
      ]
     },
     "execution_count": 15,
     "metadata": {},
     "output_type": "execute_result"
    }
   ],
   "source": [
    "ekip.nunique() #kaç farklı değer var.\n",
    "ekip.nunique(axis=1)"
   ]
  },
  {
   "cell_type": "code",
   "execution_count": 16,
   "metadata": {},
   "outputs": [
    {
     "data": {
      "text/plain": [
       "2"
      ]
     },
     "execution_count": 16,
     "metadata": {},
     "output_type": "execute_result"
    }
   ],
   "source": [
    "#seri de kullanılabilecekler\n",
    "ekip[\"Uretim\"] #kolon etiketi alır ve kolonu seri olarak döndürür.\n",
    "ekip.Uretim #ingilizce kolon isimlerinde pandasın sunduğu işlevlerle karışma ihtimali olduğu için kullanmama gayret edelim.\n",
    "\n",
    "\n",
    "#\n",
    "ekip.Uretim.mean() #kolon ortalaması\n",
    "\n",
    "#\n",
    "ekip.Cinsiyet.value_counts() #Hangi değerden kaç tane var?\n",
    "\n",
    "#COUNT(DISTINCT kolonAdi) benzeri işlev\n",
    "ekip.Cinsiyet.value_counts().count() #value_counts()'dan dönen seri olduğu için tekrar count alıp kaç farklı değer kullanılmış görebiliriz."
   ]
  },
  {
   "cell_type": "markdown",
   "metadata": {},
   "source": [
    "#### None değerler Hakkında\n",
    "* `isna()` ve `isnull()` ile hücre  bazlı null konrolü yapılabilir. None olan değerler için **True** döner. Diğer hücreler için **False** döner.\n",
    "* True olanlar 1, False olanlar 0 kabul edilerek None hücreler `sum()` ile sayılabilir.\n",
    "* `all()` ile tüm hücrelerin None olup olmadığı kontrol edilebilir.**Hepsi None mu?**\n",
    "* `any()` ile en az bir hücrenin None olup olmadığı kontrol edilebilir. **Hiç None var mı?**"
   ]
  },
  {
   "cell_type": "code",
   "execution_count": 30,
   "metadata": {},
   "outputs": [
    {
     "data": {
      "text/plain": [
       "Bursa    False\n",
       "Bursa    False\n",
       "Bolu     False\n",
       "Bolu     False\n",
       "İzmir    False\n",
       "dtype: bool"
      ]
     },
     "execution_count": 30,
     "metadata": {},
     "output_type": "execute_result"
    }
   ],
   "source": [
    "ekip.isna() #isnull()\n",
    "\n",
    "#\n",
    "ekip.isna().any() #herhangi bir hücrede None var mı? True var mı?\n",
    "#ekip.isna().any(axis=1)\n",
    "\n",
    "#\n",
    "ekip.isna().any().any() #DF'te hiç None var mı?\n",
    "\n",
    "#\n",
    "ekip.isna().all() #hepsi None olan hücreler için True döner\n",
    "ekip.isna().all(axis=1) #komple None olan bir satır var mı?\n",
    "#\n",
    "#ekip.isna().all().any() #DF'te hepsi None olan bir kolon var mı?"
   ]
  },
  {
   "cell_type": "markdown",
   "metadata": {},
   "source": [
    "#### Sıralama"
   ]
  },
  {
   "cell_type": "code",
   "execution_count": 33,
   "metadata": {},
   "outputs": [
    {
     "data": {
      "text/html": [
       "<div>\n",
       "<style scoped>\n",
       "    .dataframe tbody tr th:only-of-type {\n",
       "        vertical-align: middle;\n",
       "    }\n",
       "\n",
       "    .dataframe tbody tr th {\n",
       "        vertical-align: top;\n",
       "    }\n",
       "\n",
       "    .dataframe thead th {\n",
       "        text-align: right;\n",
       "    }\n",
       "</style>\n",
       "<table border=\"1\" class=\"dataframe\">\n",
       "  <thead>\n",
       "    <tr style=\"text-align: right;\">\n",
       "      <th></th>\n",
       "      <th>Id</th>\n",
       "      <th>Ad</th>\n",
       "      <th>Cinsiyet</th>\n",
       "      <th>Uretim</th>\n",
       "      <th>DepId</th>\n",
       "    </tr>\n",
       "  </thead>\n",
       "  <tbody>\n",
       "    <tr>\n",
       "      <th>Bolu</th>\n",
       "      <td>4</td>\n",
       "      <td>Fatma</td>\n",
       "      <td>K</td>\n",
       "      <td>350.0</td>\n",
       "      <td>NaN</td>\n",
       "    </tr>\n",
       "    <tr>\n",
       "      <th>Bolu</th>\n",
       "      <td>3</td>\n",
       "      <td>Ayşe</td>\n",
       "      <td>None</td>\n",
       "      <td>250.0</td>\n",
       "      <td>NaN</td>\n",
       "    </tr>\n",
       "    <tr>\n",
       "      <th>Bursa</th>\n",
       "      <td>1</td>\n",
       "      <td>Ali</td>\n",
       "      <td>E</td>\n",
       "      <td>120.0</td>\n",
       "      <td>NaN</td>\n",
       "    </tr>\n",
       "    <tr>\n",
       "      <th>Bursa</th>\n",
       "      <td>2</td>\n",
       "      <td>Veli</td>\n",
       "      <td>E</td>\n",
       "      <td>NaN</td>\n",
       "      <td>NaN</td>\n",
       "    </tr>\n",
       "    <tr>\n",
       "      <th>İzmir</th>\n",
       "      <td>5</td>\n",
       "      <td>Tonguç</td>\n",
       "      <td>E</td>\n",
       "      <td>NaN</td>\n",
       "      <td>NaN</td>\n",
       "    </tr>\n",
       "  </tbody>\n",
       "</table>\n",
       "</div>"
      ],
      "text/plain": [
       "       Id      Ad Cinsiyet  Uretim DepId\n",
       "Bolu    4   Fatma        K   350.0   NaN\n",
       "Bolu    3    Ayşe     None   250.0   NaN\n",
       "Bursa   1     Ali        E   120.0   NaN\n",
       "Bursa   2    Veli        E     NaN   NaN\n",
       "İzmir   5  Tonguç        E     NaN   NaN"
      ]
     },
     "execution_count": 33,
     "metadata": {},
     "output_type": "execute_result"
    }
   ],
   "source": [
    "ekip.sort_index(ascending=True) #ascending=False ters sıralama\n",
    "ekip.sort_values(by=\"Uretim\", ascending=False) #Uretim kolonuna göre sıralama"
   ]
  },
  {
   "cell_type": "markdown",
   "metadata": {},
   "source": [
    "### Değerlere Ulaşmak\n",
    "![alt text](PandasDegerlereUlasmak.png)"
   ]
  },
  {
   "cell_type": "code",
   "execution_count": 34,
   "metadata": {},
   "outputs": [],
   "source": [
    "ekip =ekipEfor.copy()"
   ]
  },
  {
   "cell_type": "code",
   "execution_count": null,
   "metadata": {},
   "outputs": [],
   "source": []
  }
 ],
 "metadata": {
  "kernelspec": {
   "display_name": "Python 3",
   "language": "python",
   "name": "python3"
  },
  "language_info": {
   "codemirror_mode": {
    "name": "ipython",
    "version": 3
   },
   "file_extension": ".py",
   "mimetype": "text/x-python",
   "name": "python",
   "nbconvert_exporter": "python",
   "pygments_lexer": "ipython3",
   "version": "3.11.3"
  }
 },
 "nbformat": 4,
 "nbformat_minor": 2
}
