{
 "cells": [
  {
   "cell_type": "markdown",
   "metadata": {},
   "source": [
    "## Pandas\n",
    "![alt text](PandasNedir.png)"
   ]
  },
  {
   "cell_type": "code",
   "execution_count": 75,
   "metadata": {},
   "outputs": [],
   "source": [
    "import numpy as np\n",
    "import pandas as pd"
   ]
  },
  {
   "cell_type": "markdown",
   "metadata": {},
   "source": [
    "### Series ve DataFrame Tanımlama"
   ]
  },
  {
   "cell_type": "code",
   "execution_count": 76,
   "metadata": {},
   "outputs": [
    {
     "data": {
      "text/plain": [
       "s1    11\n",
       "s2    22\n",
       "s3    33\n",
       "dtype: int64"
      ]
     },
     "execution_count": 76,
     "metadata": {},
     "output_type": "execute_result"
    }
   ],
   "source": [
    "#Seri\n",
    "pd.Series([11,22,33])\n",
    "# serilerde satır etiketi, sıra numararı ve ortak veri tipi ile karşılışıyoruz.\n",
    "\n",
    "#Dataframe\n",
    "pd.Series([11,22,33], index = ['s1','s2','s3']) #Seriede varsayılan olarak sıra numaraları etiket index olarak atanır.\n",
    "#İndex parametresi ile etiket ataması yapabiliriz."
   ]
  },
  {
   "cell_type": "code",
   "execution_count": 77,
   "metadata": {},
   "outputs": [
    {
     "data": {
      "text/html": [
       "<div>\n",
       "<style scoped>\n",
       "    .dataframe tbody tr th:only-of-type {\n",
       "        vertical-align: middle;\n",
       "    }\n",
       "\n",
       "    .dataframe tbody tr th {\n",
       "        vertical-align: top;\n",
       "    }\n",
       "\n",
       "    .dataframe thead th {\n",
       "        text-align: right;\n",
       "    }\n",
       "</style>\n",
       "<table border=\"1\" class=\"dataframe\">\n",
       "  <thead>\n",
       "    <tr style=\"text-align: right;\">\n",
       "      <th></th>\n",
       "      <th>DepId</th>\n",
       "      <th>DepAd</th>\n",
       "    </tr>\n",
       "  </thead>\n",
       "  <tbody>\n",
       "    <tr>\n",
       "      <th>0</th>\n",
       "      <td>1</td>\n",
       "      <td>Departman A</td>\n",
       "    </tr>\n",
       "    <tr>\n",
       "      <th>1</th>\n",
       "      <td>2</td>\n",
       "      <td>Departman B</td>\n",
       "    </tr>\n",
       "    <tr>\n",
       "      <th>2</th>\n",
       "      <td>3</td>\n",
       "      <td>Departman C</td>\n",
       "    </tr>\n",
       "  </tbody>\n",
       "</table>\n",
       "</div>"
      ],
      "text/plain": [
       "   DepId        DepAd\n",
       "0      1  Departman A\n",
       "1      2  Departman B\n",
       "2      3  Departman C"
      ]
     },
     "execution_count": 77,
     "metadata": {},
     "output_type": "execute_result"
    }
   ],
   "source": [
    "## Dataframe Oluşturma\n",
    "departman = pd.DataFrame(data = [\n",
    "                        (1,'Departman A'),\n",
    "                        (2,'Departman B'),\n",
    "                        (3,'Departman C')\n",
    "                     ]\n",
    "                     ,columns=[\"DepId\",\"DepAd\"])\n",
    "#kolon ve satır etiketi verilmediğinde sıra numarasını str tipinden etiket olarak kullanır.\n",
    "\n",
    "departman"
   ]
  },
  {
   "cell_type": "code",
   "execution_count": 78,
   "metadata": {},
   "outputs": [
    {
     "data": {
      "text/html": [
       "<div>\n",
       "<style scoped>\n",
       "    .dataframe tbody tr th:only-of-type {\n",
       "        vertical-align: middle;\n",
       "    }\n",
       "\n",
       "    .dataframe tbody tr th {\n",
       "        vertical-align: top;\n",
       "    }\n",
       "\n",
       "    .dataframe thead th {\n",
       "        text-align: right;\n",
       "    }\n",
       "</style>\n",
       "<table border=\"1\" class=\"dataframe\">\n",
       "  <thead>\n",
       "    <tr style=\"text-align: right;\">\n",
       "      <th></th>\n",
       "      <th>Id</th>\n",
       "      <th>Ad</th>\n",
       "      <th>Cinsiyet</th>\n",
       "      <th>Miktar</th>\n",
       "      <th>DepartmanId</th>\n",
       "    </tr>\n",
       "  </thead>\n",
       "  <tbody>\n",
       "    <tr>\n",
       "      <th>İstanbul</th>\n",
       "      <td>1</td>\n",
       "      <td>Ali</td>\n",
       "      <td>E</td>\n",
       "      <td>120.0</td>\n",
       "      <td>NaN</td>\n",
       "    </tr>\n",
       "    <tr>\n",
       "      <th>İstanbul</th>\n",
       "      <td>2</td>\n",
       "      <td>Veli</td>\n",
       "      <td>E</td>\n",
       "      <td>NaN</td>\n",
       "      <td>NaN</td>\n",
       "    </tr>\n",
       "    <tr>\n",
       "      <th>Ankara</th>\n",
       "      <td>3</td>\n",
       "      <td>Ayşe</td>\n",
       "      <td>None</td>\n",
       "      <td>250.0</td>\n",
       "      <td>NaN</td>\n",
       "    </tr>\n",
       "    <tr>\n",
       "      <th>Ankara</th>\n",
       "      <td>4</td>\n",
       "      <td>Fatma</td>\n",
       "      <td>K</td>\n",
       "      <td>350.0</td>\n",
       "      <td>NaN</td>\n",
       "    </tr>\n",
       "    <tr>\n",
       "      <th>İzmir</th>\n",
       "      <td>5</td>\n",
       "      <td>Tonguç</td>\n",
       "      <td>E</td>\n",
       "      <td>NaN</td>\n",
       "      <td>NaN</td>\n",
       "    </tr>\n",
       "  </tbody>\n",
       "</table>\n",
       "</div>"
      ],
      "text/plain": [
       "          Id      Ad Cinsiyet  Miktar DepartmanId\n",
       "İstanbul   1     Ali        E   120.0         NaN\n",
       "İstanbul   2    Veli        E     NaN         NaN\n",
       "Ankara     3    Ayşe     None   250.0         NaN\n",
       "Ankara     4   Fatma        K   350.0         NaN\n",
       "İzmir      5  Tonguç        E     NaN         NaN"
      ]
     },
     "execution_count": 78,
     "metadata": {},
     "output_type": "execute_result"
    }
   ],
   "source": [
    "#DataFrame 2\n",
    "ekipEfor = pd.DataFrame(data = {\n",
    "                                \"Id\":[1,2,3,4,5],\n",
    "                                \"Ad\":[\"Ali\",\"Veli\",\"Ayşe\",\"Fatma\",\"Tonguç\"],\n",
    "                                \"Cinsiyet\":[\"E\",\"E\",None,\"K\",\"E\"],\n",
    "                                \"Miktar\":[120,None,250,350,None]\n",
    "                                }\n",
    "                        ,columns=[\"Id\",\"Ad\",\"Cinsiyet\",\"Miktar\",\"DepartmanId\"] #kolon iismleri güncellenir olmayan kolonlar eklenir.\n",
    "                        ,index=[\"İstanbul\",\"İstanbul\",\"Ankara\",\"Ankara\",\"İzmir\"]\n",
    "                        )\n",
    "#\n",
    "ekipEfor"
   ]
  },
  {
   "cell_type": "markdown",
   "metadata": {},
   "source": [
    "### Yapısını Değiştirmek"
   ]
  },
  {
   "cell_type": "markdown",
   "metadata": {},
   "source": [
    "#### Satır ve Kollon İsimleri Vermek"
   ]
  },
  {
   "cell_type": "code",
   "execution_count": 79,
   "metadata": {},
   "outputs": [
    {
     "data": {
      "text/html": [
       "<div>\n",
       "<style scoped>\n",
       "    .dataframe tbody tr th:only-of-type {\n",
       "        vertical-align: middle;\n",
       "    }\n",
       "\n",
       "    .dataframe tbody tr th {\n",
       "        vertical-align: top;\n",
       "    }\n",
       "\n",
       "    .dataframe thead th {\n",
       "        text-align: right;\n",
       "    }\n",
       "</style>\n",
       "<table border=\"1\" class=\"dataframe\">\n",
       "  <thead>\n",
       "    <tr style=\"text-align: right;\">\n",
       "      <th>Özellikler</th>\n",
       "      <th>Id</th>\n",
       "      <th>Ad</th>\n",
       "      <th>Cinsiyet</th>\n",
       "      <th>Miktar</th>\n",
       "      <th>DepartmanId</th>\n",
       "    </tr>\n",
       "    <tr>\n",
       "      <th>Lokasyon</th>\n",
       "      <th></th>\n",
       "      <th></th>\n",
       "      <th></th>\n",
       "      <th></th>\n",
       "      <th></th>\n",
       "    </tr>\n",
       "  </thead>\n",
       "  <tbody>\n",
       "    <tr>\n",
       "      <th>İstanbul</th>\n",
       "      <td>1</td>\n",
       "      <td>Ali</td>\n",
       "      <td>E</td>\n",
       "      <td>120.0</td>\n",
       "      <td>NaN</td>\n",
       "    </tr>\n",
       "    <tr>\n",
       "      <th>İstanbul</th>\n",
       "      <td>2</td>\n",
       "      <td>Veli</td>\n",
       "      <td>E</td>\n",
       "      <td>NaN</td>\n",
       "      <td>NaN</td>\n",
       "    </tr>\n",
       "    <tr>\n",
       "      <th>Ankara</th>\n",
       "      <td>3</td>\n",
       "      <td>Ayşe</td>\n",
       "      <td>None</td>\n",
       "      <td>250.0</td>\n",
       "      <td>NaN</td>\n",
       "    </tr>\n",
       "    <tr>\n",
       "      <th>Ankara</th>\n",
       "      <td>4</td>\n",
       "      <td>Fatma</td>\n",
       "      <td>K</td>\n",
       "      <td>350.0</td>\n",
       "      <td>NaN</td>\n",
       "    </tr>\n",
       "    <tr>\n",
       "      <th>İzmir</th>\n",
       "      <td>5</td>\n",
       "      <td>Tonguç</td>\n",
       "      <td>E</td>\n",
       "      <td>NaN</td>\n",
       "      <td>NaN</td>\n",
       "    </tr>\n",
       "  </tbody>\n",
       "</table>\n",
       "</div>"
      ],
      "text/plain": [
       "Özellikler  Id      Ad Cinsiyet  Miktar DepartmanId\n",
       "Lokasyon                                           \n",
       "İstanbul     1     Ali        E   120.0         NaN\n",
       "İstanbul     2    Veli        E     NaN         NaN\n",
       "Ankara       3    Ayşe     None   250.0         NaN\n",
       "Ankara       4   Fatma        K   350.0         NaN\n",
       "İzmir        5  Tonguç        E     NaN         NaN"
      ]
     },
     "execution_count": 79,
     "metadata": {},
     "output_type": "execute_result"
    }
   ],
   "source": [
    "ekipEfor.index #Satır etiketleri #Index(['İstanbul', 'İstanbul', 'Ankara', 'Ankara', 'İzmir'], dtype='object', name='Şehir')\n",
    "ekipEfor.index.name =\"Lokasyon\"\n",
    "\n",
    "\n",
    "#\n",
    "ekipEfor.columns #Kolon etiketleri Index(['Id', 'Ad', 'Cinsiyet', 'Miktar', 'DepartmanId'], dtype='object')\n",
    "ekipEfor.columns.name = \"Özellikler\"\n",
    "\n",
    "\n",
    "#\n",
    "ekipEfor"
   ]
  },
  {
   "cell_type": "markdown",
   "metadata": {},
   "source": [
    "#### Satır ve Kolonların Etiketlerini Güncelleyelim"
   ]
  },
  {
   "cell_type": "code",
   "execution_count": 80,
   "metadata": {},
   "outputs": [
    {
     "data": {
      "text/html": [
       "<div>\n",
       "<style scoped>\n",
       "    .dataframe tbody tr th:only-of-type {\n",
       "        vertical-align: middle;\n",
       "    }\n",
       "\n",
       "    .dataframe tbody tr th {\n",
       "        vertical-align: top;\n",
       "    }\n",
       "\n",
       "    .dataframe thead th {\n",
       "        text-align: right;\n",
       "    }\n",
       "</style>\n",
       "<table border=\"1\" class=\"dataframe\">\n",
       "  <thead>\n",
       "    <tr style=\"text-align: right;\">\n",
       "      <th></th>\n",
       "      <th>Id</th>\n",
       "      <th>Ad</th>\n",
       "      <th>Cinsiyet</th>\n",
       "      <th>Uretim</th>\n",
       "      <th>DepId</th>\n",
       "    </tr>\n",
       "  </thead>\n",
       "  <tbody>\n",
       "    <tr>\n",
       "      <th>Bursa</th>\n",
       "      <td>1</td>\n",
       "      <td>Ali</td>\n",
       "      <td>E</td>\n",
       "      <td>120.0</td>\n",
       "      <td>NaN</td>\n",
       "    </tr>\n",
       "    <tr>\n",
       "      <th>Bursa</th>\n",
       "      <td>2</td>\n",
       "      <td>Veli</td>\n",
       "      <td>E</td>\n",
       "      <td>NaN</td>\n",
       "      <td>NaN</td>\n",
       "    </tr>\n",
       "    <tr>\n",
       "      <th>Bolu</th>\n",
       "      <td>3</td>\n",
       "      <td>Ayşe</td>\n",
       "      <td>None</td>\n",
       "      <td>250.0</td>\n",
       "      <td>NaN</td>\n",
       "    </tr>\n",
       "    <tr>\n",
       "      <th>Bolu</th>\n",
       "      <td>4</td>\n",
       "      <td>Fatma</td>\n",
       "      <td>K</td>\n",
       "      <td>350.0</td>\n",
       "      <td>NaN</td>\n",
       "    </tr>\n",
       "    <tr>\n",
       "      <th>İzmir</th>\n",
       "      <td>5</td>\n",
       "      <td>Tonguç</td>\n",
       "      <td>E</td>\n",
       "      <td>NaN</td>\n",
       "      <td>NaN</td>\n",
       "    </tr>\n",
       "  </tbody>\n",
       "</table>\n",
       "</div>"
      ],
      "text/plain": [
       "       Id      Ad Cinsiyet  Uretim DepId\n",
       "Bursa   1     Ali        E   120.0   NaN\n",
       "Bursa   2    Veli        E     NaN   NaN\n",
       "Bolu    3    Ayşe     None   250.0   NaN\n",
       "Bolu    4   Fatma        K   350.0   NaN\n",
       "İzmir   5  Tonguç        E     NaN   NaN"
      ]
     },
     "execution_count": 80,
     "metadata": {},
     "output_type": "execute_result"
    }
   ],
   "source": [
    "ekipEfor.columns = ['Id', 'Ad', 'Cinsiyet', 'Miktar', 'DepId']\n",
    "ekipEfor.index  = ['Bursa', 'Bursa', 'Ankara', 'Ankara', 'İzmir']\n",
    "\n",
    "#-------------------------------------------------------------\n",
    "#numpydaki öğrendiklerimiz ile kolon iismlerini bir dizi olarak üretip verelim.\n",
    "ekipEfor.index = np.where(ekipEfor.index ==\"Ankara\",\"Çorum\",ekipEfor.index)\n",
    "#-------------------------------------------------------------\n",
    "\n",
    "#\n",
    "ekipEfor.rename(columns={\"Miktar\":\"Uretim\"} , index={\"Çorum\":\"Bolu\"}, inplace=True) #inplace=True ile orjinalini etkiler.\n",
    "\n",
    "#\n",
    "ekipEfor"
   ]
  },
  {
   "cell_type": "markdown",
   "metadata": {},
   "source": [
    "#### Satır etiketlirini sıfırlamak ve bir kolonu satır etiketi haline getirmek"
   ]
  },
  {
   "cell_type": "code",
   "execution_count": 81,
   "metadata": {},
   "outputs": [
    {
     "data": {
      "text/html": [
       "<div>\n",
       "<style scoped>\n",
       "    .dataframe tbody tr th:only-of-type {\n",
       "        vertical-align: middle;\n",
       "    }\n",
       "\n",
       "    .dataframe tbody tr th {\n",
       "        vertical-align: top;\n",
       "    }\n",
       "\n",
       "    .dataframe thead th {\n",
       "        text-align: right;\n",
       "    }\n",
       "</style>\n",
       "<table border=\"1\" class=\"dataframe\">\n",
       "  <thead>\n",
       "    <tr style=\"text-align: right;\">\n",
       "      <th></th>\n",
       "      <th>index</th>\n",
       "      <th>Id</th>\n",
       "      <th>Ad</th>\n",
       "      <th>Cinsiyet</th>\n",
       "      <th>Uretim</th>\n",
       "      <th>DepId</th>\n",
       "    </tr>\n",
       "  </thead>\n",
       "  <tbody>\n",
       "    <tr>\n",
       "      <th>0</th>\n",
       "      <td>Bursa</td>\n",
       "      <td>1</td>\n",
       "      <td>Ali</td>\n",
       "      <td>E</td>\n",
       "      <td>120.0</td>\n",
       "      <td>NaN</td>\n",
       "    </tr>\n",
       "    <tr>\n",
       "      <th>1</th>\n",
       "      <td>Bursa</td>\n",
       "      <td>2</td>\n",
       "      <td>Veli</td>\n",
       "      <td>E</td>\n",
       "      <td>NaN</td>\n",
       "      <td>NaN</td>\n",
       "    </tr>\n",
       "    <tr>\n",
       "      <th>2</th>\n",
       "      <td>Bolu</td>\n",
       "      <td>3</td>\n",
       "      <td>Ayşe</td>\n",
       "      <td>None</td>\n",
       "      <td>250.0</td>\n",
       "      <td>NaN</td>\n",
       "    </tr>\n",
       "    <tr>\n",
       "      <th>3</th>\n",
       "      <td>Bolu</td>\n",
       "      <td>4</td>\n",
       "      <td>Fatma</td>\n",
       "      <td>K</td>\n",
       "      <td>350.0</td>\n",
       "      <td>NaN</td>\n",
       "    </tr>\n",
       "    <tr>\n",
       "      <th>4</th>\n",
       "      <td>İzmir</td>\n",
       "      <td>5</td>\n",
       "      <td>Tonguç</td>\n",
       "      <td>E</td>\n",
       "      <td>NaN</td>\n",
       "      <td>NaN</td>\n",
       "    </tr>\n",
       "  </tbody>\n",
       "</table>\n",
       "</div>"
      ],
      "text/plain": [
       "   index  Id      Ad Cinsiyet  Uretim DepId\n",
       "0  Bursa   1     Ali        E   120.0   NaN\n",
       "1  Bursa   2    Veli        E     NaN   NaN\n",
       "2   Bolu   3    Ayşe     None   250.0   NaN\n",
       "3   Bolu   4   Fatma        K   350.0   NaN\n",
       "4  İzmir   5  Tonguç        E     NaN   NaN"
      ]
     },
     "execution_count": 81,
     "metadata": {},
     "output_type": "execute_result"
    }
   ],
   "source": [
    "#Satır etiketi sıfırlandığında satırdaki bu bilgi kolona dönüştürülür.\n",
    "#orjinalini etkilemez.\n",
    "ekipEfor = ekipEfor.reset_index() #inplace=True \n",
    "\n",
    "ekipEfor"
   ]
  },
  {
   "cell_type": "code",
   "execution_count": 82,
   "metadata": {},
   "outputs": [
    {
     "data": {
      "text/html": [
       "<div>\n",
       "<style scoped>\n",
       "    .dataframe tbody tr th:only-of-type {\n",
       "        vertical-align: middle;\n",
       "    }\n",
       "\n",
       "    .dataframe tbody tr th {\n",
       "        vertical-align: top;\n",
       "    }\n",
       "\n",
       "    .dataframe thead th {\n",
       "        text-align: right;\n",
       "    }\n",
       "</style>\n",
       "<table border=\"1\" class=\"dataframe\">\n",
       "  <thead>\n",
       "    <tr style=\"text-align: right;\">\n",
       "      <th></th>\n",
       "      <th>Şehir</th>\n",
       "      <th>Id</th>\n",
       "      <th>Ad</th>\n",
       "      <th>Cinsiyet</th>\n",
       "      <th>Uretim</th>\n",
       "      <th>DepId</th>\n",
       "    </tr>\n",
       "  </thead>\n",
       "  <tbody>\n",
       "    <tr>\n",
       "      <th>0</th>\n",
       "      <td>Bursa</td>\n",
       "      <td>1</td>\n",
       "      <td>Ali</td>\n",
       "      <td>E</td>\n",
       "      <td>120.0</td>\n",
       "      <td>NaN</td>\n",
       "    </tr>\n",
       "    <tr>\n",
       "      <th>1</th>\n",
       "      <td>Bursa</td>\n",
       "      <td>2</td>\n",
       "      <td>Veli</td>\n",
       "      <td>E</td>\n",
       "      <td>NaN</td>\n",
       "      <td>NaN</td>\n",
       "    </tr>\n",
       "    <tr>\n",
       "      <th>2</th>\n",
       "      <td>Bolu</td>\n",
       "      <td>3</td>\n",
       "      <td>Ayşe</td>\n",
       "      <td>None</td>\n",
       "      <td>250.0</td>\n",
       "      <td>NaN</td>\n",
       "    </tr>\n",
       "    <tr>\n",
       "      <th>3</th>\n",
       "      <td>Bolu</td>\n",
       "      <td>4</td>\n",
       "      <td>Fatma</td>\n",
       "      <td>K</td>\n",
       "      <td>350.0</td>\n",
       "      <td>NaN</td>\n",
       "    </tr>\n",
       "    <tr>\n",
       "      <th>4</th>\n",
       "      <td>İzmir</td>\n",
       "      <td>5</td>\n",
       "      <td>Tonguç</td>\n",
       "      <td>E</td>\n",
       "      <td>NaN</td>\n",
       "      <td>NaN</td>\n",
       "    </tr>\n",
       "  </tbody>\n",
       "</table>\n",
       "</div>"
      ],
      "text/plain": [
       "   Şehir  Id      Ad Cinsiyet  Uretim DepId\n",
       "0  Bursa   1     Ali        E   120.0   NaN\n",
       "1  Bursa   2    Veli        E     NaN   NaN\n",
       "2   Bolu   3    Ayşe     None   250.0   NaN\n",
       "3   Bolu   4   Fatma        K   350.0   NaN\n",
       "4  İzmir   5  Tonguç        E     NaN   NaN"
      ]
     },
     "execution_count": 82,
     "metadata": {},
     "output_type": "execute_result"
    }
   ],
   "source": [
    "ekipEfor.rename(columns =  {\"index\":\"Şehir\"}, inplace=True)\n",
    "ekipEfor"
   ]
  },
  {
   "cell_type": "code",
   "execution_count": 83,
   "metadata": {},
   "outputs": [
    {
     "data": {
      "text/html": [
       "<div>\n",
       "<style scoped>\n",
       "    .dataframe tbody tr th:only-of-type {\n",
       "        vertical-align: middle;\n",
       "    }\n",
       "\n",
       "    .dataframe tbody tr th {\n",
       "        vertical-align: top;\n",
       "    }\n",
       "\n",
       "    .dataframe thead th {\n",
       "        text-align: right;\n",
       "    }\n",
       "</style>\n",
       "<table border=\"1\" class=\"dataframe\">\n",
       "  <thead>\n",
       "    <tr style=\"text-align: right;\">\n",
       "      <th></th>\n",
       "      <th>Id</th>\n",
       "      <th>Ad</th>\n",
       "      <th>Cinsiyet</th>\n",
       "      <th>Uretim</th>\n",
       "      <th>DepId</th>\n",
       "    </tr>\n",
       "  </thead>\n",
       "  <tbody>\n",
       "    <tr>\n",
       "      <th>Bursa</th>\n",
       "      <td>1</td>\n",
       "      <td>Ali</td>\n",
       "      <td>E</td>\n",
       "      <td>120.0</td>\n",
       "      <td>NaN</td>\n",
       "    </tr>\n",
       "    <tr>\n",
       "      <th>Bursa</th>\n",
       "      <td>2</td>\n",
       "      <td>Veli</td>\n",
       "      <td>E</td>\n",
       "      <td>NaN</td>\n",
       "      <td>NaN</td>\n",
       "    </tr>\n",
       "    <tr>\n",
       "      <th>Bolu</th>\n",
       "      <td>3</td>\n",
       "      <td>Ayşe</td>\n",
       "      <td>None</td>\n",
       "      <td>250.0</td>\n",
       "      <td>NaN</td>\n",
       "    </tr>\n",
       "    <tr>\n",
       "      <th>Bolu</th>\n",
       "      <td>4</td>\n",
       "      <td>Fatma</td>\n",
       "      <td>K</td>\n",
       "      <td>350.0</td>\n",
       "      <td>NaN</td>\n",
       "    </tr>\n",
       "    <tr>\n",
       "      <th>İzmir</th>\n",
       "      <td>5</td>\n",
       "      <td>Tonguç</td>\n",
       "      <td>E</td>\n",
       "      <td>NaN</td>\n",
       "      <td>NaN</td>\n",
       "    </tr>\n",
       "  </tbody>\n",
       "</table>\n",
       "</div>"
      ],
      "text/plain": [
       "       Id      Ad Cinsiyet  Uretim DepId\n",
       "Bursa   1     Ali        E   120.0   NaN\n",
       "Bursa   2    Veli        E     NaN   NaN\n",
       "Bolu    3    Ayşe     None   250.0   NaN\n",
       "Bolu    4   Fatma        K   350.0   NaN\n",
       "İzmir   5  Tonguç        E     NaN   NaN"
      ]
     },
     "execution_count": 83,
     "metadata": {},
     "output_type": "execute_result"
    }
   ],
   "source": [
    "#bir kolonu index etiketi olarak kullanabiliriz.\n",
    "ekipEfor.set_index(\"Şehir\", inplace=True)\n",
    "ekipEfor.index.name = None #indexin başlığını kaldırdık.\n",
    "\n",
    "ekipEfor"
   ]
  },
  {
   "cell_type": "markdown",
   "metadata": {},
   "source": [
    "#### Kolonların Veri Tiplerini Değiştirmek"
   ]
  },
  {
   "cell_type": "code",
   "execution_count": 84,
   "metadata": {},
   "outputs": [
    {
     "name": "stdout",
     "output_type": "stream",
     "text": [
      "<class 'pandas.core.frame.DataFrame'>\n",
      "Index: 5 entries, Bursa to İzmir\n",
      "Data columns (total 5 columns):\n",
      " #   Column    Non-Null Count  Dtype  \n",
      "---  ------    --------------  -----  \n",
      " 0   Id        5 non-null      int8   \n",
      " 1   Ad        5 non-null      object \n",
      " 2   Cinsiyet  4 non-null      object \n",
      " 3   Uretim    3 non-null      float16\n",
      " 4   DepId     0 non-null      object \n",
      "dtypes: float16(1), int8(1), object(3)\n",
      "memory usage: 175.0+ bytes\n"
     ]
    }
   ],
   "source": [
    "# 240.0+ bytes\n",
    "# 220.0+ bytes\n",
    "# 190.0+ bytes\n",
    "# 175.0+ bytes\n",
    "ekipEfor = ekipEfor.astype({\n",
    "                            \"Id\": np.int8, #int,\n",
    "                            \"Uretim\":np.float16, #pd.Float32Dtype(),  #:float,\n",
    "                            \"Ad\":str #:str\n",
    "                        })\n",
    "\n",
    "#\n",
    "ekipEfor.info()"
   ]
  },
  {
   "cell_type": "markdown",
   "metadata": {},
   "source": [
    "#### Orjinalini Etkilememesi için Atamalarda `b=a.copy` Kullananalım."
   ]
  },
  {
   "cell_type": "code",
   "execution_count": 85,
   "metadata": {},
   "outputs": [
    {
     "name": "stdout",
     "output_type": "stream",
     "text": [
      "2280620744144 2280621752720\n",
      "False\n"
     ]
    }
   ],
   "source": [
    "ekip = ekipEfor.copy() #orjinali etkilenmez\n",
    "\n",
    "#copy() ile farklı nesneler oldular.\n",
    "print(id(ekip),id(ekipEfor) )\n",
    "print(ekip is ekipEfor)"
   ]
  },
  {
   "cell_type": "markdown",
   "metadata": {},
   "source": [
    "### DF Hakkında Bilgi Almak"
   ]
  },
  {
   "cell_type": "code",
   "execution_count": 86,
   "metadata": {},
   "outputs": [
    {
     "data": {
      "text/html": [
       "<div>\n",
       "<style scoped>\n",
       "    .dataframe tbody tr th:only-of-type {\n",
       "        vertical-align: middle;\n",
       "    }\n",
       "\n",
       "    .dataframe tbody tr th {\n",
       "        vertical-align: top;\n",
       "    }\n",
       "\n",
       "    .dataframe thead th {\n",
       "        text-align: right;\n",
       "    }\n",
       "</style>\n",
       "<table border=\"1\" class=\"dataframe\">\n",
       "  <thead>\n",
       "    <tr style=\"text-align: right;\">\n",
       "      <th></th>\n",
       "      <th>Id</th>\n",
       "      <th>Ad</th>\n",
       "      <th>Cinsiyet</th>\n",
       "      <th>Uretim</th>\n",
       "      <th>DepId</th>\n",
       "    </tr>\n",
       "  </thead>\n",
       "  <tbody>\n",
       "    <tr>\n",
       "      <th>Bursa</th>\n",
       "      <td>2</td>\n",
       "      <td>Veli</td>\n",
       "      <td>E</td>\n",
       "      <td>NaN</td>\n",
       "      <td>NaN</td>\n",
       "    </tr>\n",
       "    <tr>\n",
       "      <th>İzmir</th>\n",
       "      <td>5</td>\n",
       "      <td>Tonguç</td>\n",
       "      <td>E</td>\n",
       "      <td>NaN</td>\n",
       "      <td>NaN</td>\n",
       "    </tr>\n",
       "  </tbody>\n",
       "</table>\n",
       "</div>"
      ],
      "text/plain": [
       "       Id      Ad Cinsiyet  Uretim DepId\n",
       "Bursa   2    Veli        E     NaN   NaN\n",
       "İzmir   5  Tonguç        E     NaN   NaN"
      ]
     },
     "execution_count": 86,
     "metadata": {},
     "output_type": "execute_result"
    }
   ],
   "source": [
    "ekip.head(2) # üstten kaç satır çekilecek\n",
    "ekip.tail(2) #alttan kaç  satır\n",
    "ekip.sample(2) #rastgele kaç satır7"
   ]
  },
  {
   "cell_type": "code",
   "execution_count": 150,
   "metadata": {},
   "outputs": [
    {
     "data": {
      "text/html": [
       "<div>\n",
       "<style scoped>\n",
       "    .dataframe tbody tr th:only-of-type {\n",
       "        vertical-align: middle;\n",
       "    }\n",
       "\n",
       "    .dataframe tbody tr th {\n",
       "        vertical-align: top;\n",
       "    }\n",
       "\n",
       "    .dataframe thead th {\n",
       "        text-align: right;\n",
       "    }\n",
       "</style>\n",
       "<table border=\"1\" class=\"dataframe\">\n",
       "  <thead>\n",
       "    <tr style=\"text-align: right;\">\n",
       "      <th></th>\n",
       "      <th>count</th>\n",
       "      <th>mean</th>\n",
       "      <th>std</th>\n",
       "      <th>min</th>\n",
       "      <th>25%</th>\n",
       "      <th>50%</th>\n",
       "      <th>75%</th>\n",
       "      <th>max</th>\n",
       "    </tr>\n",
       "  </thead>\n",
       "  <tbody>\n",
       "    <tr>\n",
       "      <th>Id</th>\n",
       "      <td>5.0</td>\n",
       "      <td>3.0</td>\n",
       "      <td>1.581139</td>\n",
       "      <td>1.0</td>\n",
       "      <td>2.0</td>\n",
       "      <td>3.0</td>\n",
       "      <td>4.0</td>\n",
       "      <td>5.0</td>\n",
       "    </tr>\n",
       "    <tr>\n",
       "      <th>Uretim</th>\n",
       "      <td>3.0</td>\n",
       "      <td>240.0</td>\n",
       "      <td>115.312500</td>\n",
       "      <td>120.0</td>\n",
       "      <td>185.0</td>\n",
       "      <td>250.0</td>\n",
       "      <td>300.0</td>\n",
       "      <td>350.0</td>\n",
       "    </tr>\n",
       "  </tbody>\n",
       "</table>\n",
       "</div>"
      ],
      "text/plain": [
       "        count   mean         std    min    25%    50%    75%    max\n",
       "Id        5.0    3.0    1.581139    1.0    2.0    3.0    4.0    5.0\n",
       "Uretim    3.0  240.0  115.312500  120.0  185.0  250.0  300.0  350.0"
      ]
     },
     "execution_count": 150,
     "metadata": {},
     "output_type": "execute_result"
    }
   ],
   "source": [
    "ekip.shape #(5,5) 5 satır 5 sutun var.\n",
    "ekip.size #kaç hücre var\n",
    "\n",
    "#\n",
    "len(ekip) #satır sayısını veriyor. shape'in ilk değerini döndürür.\n",
    "ekip.__len__()\n",
    "\n",
    "#\n",
    "ekip.columns\n",
    "ekip.index\n",
    "\n",
    "#tablonun yapısı\n",
    "#ekip.info()\n",
    "\n",
    "#istatistiksel değler. Sayısal alanlar için üretir.\n",
    "ekip.describe()\n",
    "ekip.describe(exclude=[\"object\"]).T #tranpose almak daha kullanışlı olabiliyor. exclude ile belli alanlar hariç tutulabilir.\n",
    "#ekip.corr() #sayıal kolonların Korelasyonunu verir. metinsel kolonlar olduğu için hata veriyor burada."
   ]
  },
  {
   "cell_type": "markdown",
   "metadata": {},
   "source": [
    "### Bazı Kullanışlı Fonksiyonlar\n",
    "* Seri ve DF'lerde kullanılabilir\n",
    "* axis parametresi verilebilr. \n",
    "  * axis=0 satır boyunca işlem yapar\n",
    "  * axis=1 kolon boyunca işlem yapar"
   ]
  },
  {
   "cell_type": "code",
   "execution_count": 88,
   "metadata": {},
   "outputs": [
    {
     "data": {
      "text/plain": [
       "Bursa    4\n",
       "Bursa    3\n",
       "Bolu     3\n",
       "Bolu     4\n",
       "İzmir    3\n",
       "dtype: int64"
      ]
     },
     "execution_count": 88,
     "metadata": {},
     "output_type": "execute_result"
    }
   ],
   "source": [
    "#DF'lerde ve serilerde kullanılanlar\n",
    "#axis verebilir\n",
    "\n",
    "#ekip.sum() #sayısal alanları kendi içinde toplar\n",
    "#ekip.sum(axis=1) #\n",
    "\n",
    "#\n",
    "ekip.count() #None olmayanların adedi\n",
    "ekip.count(axis=1) #kolon boyunca işlem yap.\n",
    "\n",
    "#min, max, sum, std, mean, median, cumsum vs. kullanılabilir"
   ]
  },
  {
   "cell_type": "code",
   "execution_count": 89,
   "metadata": {},
   "outputs": [
    {
     "data": {
      "text/plain": [
       "Bursa    4\n",
       "Bursa    3\n",
       "Bolu     3\n",
       "Bolu     4\n",
       "İzmir    3\n",
       "dtype: int64"
      ]
     },
     "execution_count": 89,
     "metadata": {},
     "output_type": "execute_result"
    }
   ],
   "source": [
    "ekip.nunique() #kaç farklı değer var.\n",
    "ekip.nunique(axis=1)"
   ]
  },
  {
   "cell_type": "code",
   "execution_count": 90,
   "metadata": {},
   "outputs": [
    {
     "data": {
      "text/plain": [
       "2"
      ]
     },
     "execution_count": 90,
     "metadata": {},
     "output_type": "execute_result"
    }
   ],
   "source": [
    "#seri de kullanılabilecekler\n",
    "ekip[\"Uretim\"] #kolon etiketi alır ve kolonu seri olarak döndürür.\n",
    "ekip.Uretim #ingilizce kolon isimlerinde pandasın sunduğu işlevlerle karışma ihtimali olduğu için kullanmama gayret edelim.\n",
    "\n",
    "\n",
    "#\n",
    "ekip.Uretim.mean() #kolon ortalaması\n",
    "\n",
    "#\n",
    "ekip.Cinsiyet.value_counts() #Hangi değerden kaç tane var?\n",
    "\n",
    "#COUNT(DISTINCT kolonAdi) benzeri işlev\n",
    "ekip.Cinsiyet.value_counts().count() #value_counts()'dan dönen seri olduğu için tekrar count alıp kaç farklı değer kullanılmış görebiliriz."
   ]
  },
  {
   "cell_type": "markdown",
   "metadata": {},
   "source": [
    "#### None değerler Hakkında\n",
    "* `isna()` ve `isnull()` ile hücre  bazlı null konrolü yapılabilir. None olan değerler için **True** döner. Diğer hücreler için **False** döner.\n",
    "* True olanlar 1, False olanlar 0 kabul edilerek None hücreler `sum()` ile sayılabilir.\n",
    "* `all()` ile tüm hücrelerin None olup olmadığı kontrol edilebilir.**Hepsi None mu?**\n",
    "* `any()` ile en az bir hücrenin None olup olmadığı kontrol edilebilir. **Hiç None var mı?**"
   ]
  },
  {
   "cell_type": "code",
   "execution_count": 91,
   "metadata": {},
   "outputs": [
    {
     "data": {
      "text/plain": [
       "Bursa    False\n",
       "Bursa    False\n",
       "Bolu     False\n",
       "Bolu     False\n",
       "İzmir    False\n",
       "dtype: bool"
      ]
     },
     "execution_count": 91,
     "metadata": {},
     "output_type": "execute_result"
    }
   ],
   "source": [
    "ekip.isna() #isnull()\n",
    "\n",
    "#\n",
    "ekip.isna().any() #herhangi bir hücrede None var mı? True var mı?\n",
    "#ekip.isna().any(axis=1)\n",
    "\n",
    "#\n",
    "ekip.isna().any().any() #DF'te hiç None var mı?\n",
    "\n",
    "#\n",
    "ekip.isna().all() #hepsi None olan hücreler için True döner\n",
    "ekip.isna().all(axis=1) #komple None olan bir satır var mı?\n",
    "#\n",
    "#ekip.isna().all().any() #DF'te hepsi None olan bir kolon var mı?"
   ]
  },
  {
   "cell_type": "markdown",
   "metadata": {},
   "source": [
    "#### Sıralama"
   ]
  },
  {
   "cell_type": "code",
   "execution_count": 92,
   "metadata": {},
   "outputs": [
    {
     "data": {
      "text/html": [
       "<div>\n",
       "<style scoped>\n",
       "    .dataframe tbody tr th:only-of-type {\n",
       "        vertical-align: middle;\n",
       "    }\n",
       "\n",
       "    .dataframe tbody tr th {\n",
       "        vertical-align: top;\n",
       "    }\n",
       "\n",
       "    .dataframe thead th {\n",
       "        text-align: right;\n",
       "    }\n",
       "</style>\n",
       "<table border=\"1\" class=\"dataframe\">\n",
       "  <thead>\n",
       "    <tr style=\"text-align: right;\">\n",
       "      <th></th>\n",
       "      <th>Id</th>\n",
       "      <th>Ad</th>\n",
       "      <th>Cinsiyet</th>\n",
       "      <th>Uretim</th>\n",
       "      <th>DepId</th>\n",
       "    </tr>\n",
       "  </thead>\n",
       "  <tbody>\n",
       "    <tr>\n",
       "      <th>Bolu</th>\n",
       "      <td>4</td>\n",
       "      <td>Fatma</td>\n",
       "      <td>K</td>\n",
       "      <td>350.0</td>\n",
       "      <td>NaN</td>\n",
       "    </tr>\n",
       "    <tr>\n",
       "      <th>Bolu</th>\n",
       "      <td>3</td>\n",
       "      <td>Ayşe</td>\n",
       "      <td>None</td>\n",
       "      <td>250.0</td>\n",
       "      <td>NaN</td>\n",
       "    </tr>\n",
       "    <tr>\n",
       "      <th>Bursa</th>\n",
       "      <td>1</td>\n",
       "      <td>Ali</td>\n",
       "      <td>E</td>\n",
       "      <td>120.0</td>\n",
       "      <td>NaN</td>\n",
       "    </tr>\n",
       "    <tr>\n",
       "      <th>Bursa</th>\n",
       "      <td>2</td>\n",
       "      <td>Veli</td>\n",
       "      <td>E</td>\n",
       "      <td>NaN</td>\n",
       "      <td>NaN</td>\n",
       "    </tr>\n",
       "    <tr>\n",
       "      <th>İzmir</th>\n",
       "      <td>5</td>\n",
       "      <td>Tonguç</td>\n",
       "      <td>E</td>\n",
       "      <td>NaN</td>\n",
       "      <td>NaN</td>\n",
       "    </tr>\n",
       "  </tbody>\n",
       "</table>\n",
       "</div>"
      ],
      "text/plain": [
       "       Id      Ad Cinsiyet  Uretim DepId\n",
       "Bolu    4   Fatma        K   350.0   NaN\n",
       "Bolu    3    Ayşe     None   250.0   NaN\n",
       "Bursa   1     Ali        E   120.0   NaN\n",
       "Bursa   2    Veli        E     NaN   NaN\n",
       "İzmir   5  Tonguç        E     NaN   NaN"
      ]
     },
     "execution_count": 92,
     "metadata": {},
     "output_type": "execute_result"
    }
   ],
   "source": [
    "ekip.sort_index(ascending=True) #ascending=False ters sıralama\n",
    "ekip.sort_values(by=\"Uretim\", ascending=False) #Uretim kolonuna göre sıralama"
   ]
  },
  {
   "cell_type": "markdown",
   "metadata": {},
   "source": [
    "### Değerlere Ulaşmak\n",
    "![alt text](PandasDegerlereUlasmak2.png)"
   ]
  },
  {
   "cell_type": "code",
   "execution_count": 93,
   "metadata": {},
   "outputs": [],
   "source": [
    "ekip =ekipEfor.copy()"
   ]
  },
  {
   "cell_type": "markdown",
   "metadata": {},
   "source": [
    "#### Numpy Disizine Dönüştürmek"
   ]
  },
  {
   "cell_type": "code",
   "execution_count": 94,
   "metadata": {},
   "outputs": [
    {
     "data": {
      "text/plain": [
       "'Ali'"
      ]
     },
     "execution_count": 94,
     "metadata": {},
     "output_type": "execute_result"
    }
   ],
   "source": [
    "dizi_ekip = ekip.values #numpy array olarak döner\n",
    "\n",
    "#numpydaki tekniklerle bilgileri alabiliriz.\n",
    "dizi_ekip[0,1] #0.satır 1. kolon "
   ]
  },
  {
   "cell_type": "markdown",
   "metadata": {},
   "source": [
    "#### `[]` ve `[[]]` kullanımı. `to_frame` ve `to_list()`"
   ]
  },
  {
   "cell_type": "code",
   "execution_count": 95,
   "metadata": {},
   "outputs": [
    {
     "data": {
      "text/plain": [
       "['Ali', 'Veli', 'Ayşe', 'Fatma', 'Tonguç']"
      ]
     },
     "execution_count": 95,
     "metadata": {},
     "output_type": "execute_result"
    }
   ],
   "source": [
    "#seri\n",
    "ekip[\"Ad\"] #seri olarak döner\n",
    "ekip.Ad\n",
    "\n",
    "#\n",
    "#df olarak elde edelim\n",
    "ekip[[\"Ad\"]] #DF olarak döner\n",
    "ekip[[\"Ad\",\"Cinsiyet\"]]\n",
    "\n",
    "#\n",
    "ekip[\"Ad\"].to_frame() #seriyi DF olarak döner\n",
    "\n",
    "#\n",
    "ekip[\"Ad\"].to_list() #seriyi liste olarak döner"
   ]
  },
  {
   "cell_type": "markdown",
   "metadata": {},
   "source": [
    "#### `df[start:stop:step]` satırda slicer işlemi yapar."
   ]
  },
  {
   "cell_type": "code",
   "execution_count": 96,
   "metadata": {},
   "outputs": [
    {
     "data": {
      "text/html": [
       "<div>\n",
       "<style scoped>\n",
       "    .dataframe tbody tr th:only-of-type {\n",
       "        vertical-align: middle;\n",
       "    }\n",
       "\n",
       "    .dataframe tbody tr th {\n",
       "        vertical-align: top;\n",
       "    }\n",
       "\n",
       "    .dataframe thead th {\n",
       "        text-align: right;\n",
       "    }\n",
       "</style>\n",
       "<table border=\"1\" class=\"dataframe\">\n",
       "  <thead>\n",
       "    <tr style=\"text-align: right;\">\n",
       "      <th></th>\n",
       "      <th>Id</th>\n",
       "      <th>Ad</th>\n",
       "      <th>Cinsiyet</th>\n",
       "      <th>Uretim</th>\n",
       "      <th>DepId</th>\n",
       "    </tr>\n",
       "  </thead>\n",
       "  <tbody>\n",
       "    <tr>\n",
       "      <th>Bolu</th>\n",
       "      <td>3</td>\n",
       "      <td>Ayşe</td>\n",
       "      <td>None</td>\n",
       "      <td>250.0</td>\n",
       "      <td>NaN</td>\n",
       "    </tr>\n",
       "    <tr>\n",
       "      <th>İzmir</th>\n",
       "      <td>5</td>\n",
       "      <td>Tonguç</td>\n",
       "      <td>E</td>\n",
       "      <td>NaN</td>\n",
       "      <td>NaN</td>\n",
       "    </tr>\n",
       "  </tbody>\n",
       "</table>\n",
       "</div>"
      ],
      "text/plain": [
       "       Id      Ad Cinsiyet  Uretim DepId\n",
       "Bolu    3    Ayşe     None   250.0   NaN\n",
       "İzmir   5  Tonguç        E     NaN   NaN"
      ]
     },
     "execution_count": 96,
     "metadata": {},
     "output_type": "execute_result"
    }
   ],
   "source": [
    "ekip[:3] #ilk 3 satırı getirir\n",
    "\n",
    "#\n",
    "ekip[2:5:2] #2.satırdan 5.satıra kadar 2şer atlayarak getirir."
   ]
  },
  {
   "cell_type": "code",
   "execution_count": 97,
   "metadata": {},
   "outputs": [
    {
     "data": {
      "text/html": [
       "<div>\n",
       "<style scoped>\n",
       "    .dataframe tbody tr th:only-of-type {\n",
       "        vertical-align: middle;\n",
       "    }\n",
       "\n",
       "    .dataframe tbody tr th {\n",
       "        vertical-align: top;\n",
       "    }\n",
       "\n",
       "    .dataframe thead th {\n",
       "        text-align: right;\n",
       "    }\n",
       "</style>\n",
       "<table border=\"1\" class=\"dataframe\">\n",
       "  <thead>\n",
       "    <tr style=\"text-align: right;\">\n",
       "      <th></th>\n",
       "      <th>Id</th>\n",
       "      <th>Ad</th>\n",
       "      <th>Cinsiyet</th>\n",
       "      <th>Uretim</th>\n",
       "      <th>DepId</th>\n",
       "    </tr>\n",
       "  </thead>\n",
       "  <tbody>\n",
       "    <tr>\n",
       "      <th>Bolu</th>\n",
       "      <td>3</td>\n",
       "      <td>Ayşe</td>\n",
       "      <td>None</td>\n",
       "      <td>250.0</td>\n",
       "      <td>NaN</td>\n",
       "    </tr>\n",
       "    <tr>\n",
       "      <th>Bolu</th>\n",
       "      <td>4</td>\n",
       "      <td>Fatma</td>\n",
       "      <td>K</td>\n",
       "      <td>350.0</td>\n",
       "      <td>NaN</td>\n",
       "    </tr>\n",
       "    <tr>\n",
       "      <th>İzmir</th>\n",
       "      <td>5</td>\n",
       "      <td>Tonguç</td>\n",
       "      <td>E</td>\n",
       "      <td>NaN</td>\n",
       "      <td>NaN</td>\n",
       "    </tr>\n",
       "  </tbody>\n",
       "</table>\n",
       "</div>"
      ],
      "text/plain": [
       "       Id      Ad Cinsiyet  Uretim DepId\n",
       "Bolu    3    Ayşe     None   250.0   NaN\n",
       "Bolu    4   Fatma        K   350.0   NaN\n",
       "İzmir   5  Tonguç        E     NaN   NaN"
      ]
     },
     "execution_count": 97,
     "metadata": {},
     "output_type": "execute_result"
    }
   ],
   "source": [
    "#satır etiketleri de slicer olarak kullanılabilir.\n",
    "ekip[\"Bolu\":\"İzmir\"] #Bolu'dan İzmir'e kadar getirir."
   ]
  },
  {
   "cell_type": "markdown",
   "metadata": {},
   "source": [
    "#### `df[]` boolen liste/seri/dizi ile satırları filtrelemek"
   ]
  },
  {
   "cell_type": "code",
   "execution_count": 98,
   "metadata": {},
   "outputs": [
    {
     "data": {
      "text/html": [
       "<div>\n",
       "<style scoped>\n",
       "    .dataframe tbody tr th:only-of-type {\n",
       "        vertical-align: middle;\n",
       "    }\n",
       "\n",
       "    .dataframe tbody tr th {\n",
       "        vertical-align: top;\n",
       "    }\n",
       "\n",
       "    .dataframe thead th {\n",
       "        text-align: right;\n",
       "    }\n",
       "</style>\n",
       "<table border=\"1\" class=\"dataframe\">\n",
       "  <thead>\n",
       "    <tr style=\"text-align: right;\">\n",
       "      <th></th>\n",
       "      <th>Id</th>\n",
       "      <th>Ad</th>\n",
       "      <th>Cinsiyet</th>\n",
       "      <th>Uretim</th>\n",
       "      <th>DepId</th>\n",
       "    </tr>\n",
       "  </thead>\n",
       "  <tbody>\n",
       "    <tr>\n",
       "      <th>Bolu</th>\n",
       "      <td>3</td>\n",
       "      <td>Ayşe</td>\n",
       "      <td>None</td>\n",
       "      <td>250.0</td>\n",
       "      <td>NaN</td>\n",
       "    </tr>\n",
       "    <tr>\n",
       "      <th>İzmir</th>\n",
       "      <td>5</td>\n",
       "      <td>Tonguç</td>\n",
       "      <td>E</td>\n",
       "      <td>NaN</td>\n",
       "      <td>NaN</td>\n",
       "    </tr>\n",
       "  </tbody>\n",
       "</table>\n",
       "</div>"
      ],
      "text/plain": [
       "       Id      Ad Cinsiyet  Uretim DepId\n",
       "Bolu    3    Ayşe     None   250.0   NaN\n",
       "İzmir   5  Tonguç        E     NaN   NaN"
      ]
     },
     "execution_count": 98,
     "metadata": {},
     "output_type": "execute_result"
    }
   ],
   "source": [
    "ekip.shape #5,5\n",
    "ekip.__len__() #5\n",
    "\n",
    "#\n",
    "#satırlarda filreleme yapmak için satır sayısı kadar True/False listesi üretmemiz gerekir.\n",
    "filtre_satirlar = [False,False,True,False,True]\n",
    "\n",
    "#\n",
    "ekip[filtre_satirlar] #filtrelenmiş satırları getirir. Karşılığı True olan satırları getirir."
   ]
  },
  {
   "cell_type": "markdown",
   "metadata": {},
   "source": [
    "#### `df.iloc[satirSirasi, kolonSirasi]` ile Çalışmak"
   ]
  },
  {
   "cell_type": "code",
   "execution_count": 99,
   "metadata": {},
   "outputs": [
    {
     "data": {
      "text/html": [
       "<div>\n",
       "<style scoped>\n",
       "    .dataframe tbody tr th:only-of-type {\n",
       "        vertical-align: middle;\n",
       "    }\n",
       "\n",
       "    .dataframe tbody tr th {\n",
       "        vertical-align: top;\n",
       "    }\n",
       "\n",
       "    .dataframe thead th {\n",
       "        text-align: right;\n",
       "    }\n",
       "</style>\n",
       "<table border=\"1\" class=\"dataframe\">\n",
       "  <thead>\n",
       "    <tr style=\"text-align: right;\">\n",
       "      <th></th>\n",
       "      <th>Ad</th>\n",
       "      <th>Uretim</th>\n",
       "    </tr>\n",
       "  </thead>\n",
       "  <tbody>\n",
       "    <tr>\n",
       "      <th>Bursa</th>\n",
       "      <td>Ali</td>\n",
       "      <td>120.0</td>\n",
       "    </tr>\n",
       "    <tr>\n",
       "      <th>Bolu</th>\n",
       "      <td>Ayşe</td>\n",
       "      <td>250.0</td>\n",
       "    </tr>\n",
       "    <tr>\n",
       "      <th>İzmir</th>\n",
       "      <td>Tonguç</td>\n",
       "      <td>NaN</td>\n",
       "    </tr>\n",
       "  </tbody>\n",
       "</table>\n",
       "</div>"
      ],
      "text/plain": [
       "           Ad  Uretim\n",
       "Bursa     Ali   120.0\n",
       "Bolu     Ayşe   250.0\n",
       "İzmir  Tonguç     NaN"
      ]
     },
     "execution_count": 99,
     "metadata": {},
     "output_type": "execute_result"
    }
   ],
   "source": [
    "ekip[:2] #slicer yöntemi her kulanımda destekleniyor.\n",
    "#ekip[0] #HATA!!!! direkt sıra numarasını vermek için iloc ile çalışmak gerek.\n",
    "\n",
    "#iloc ile numpydaki gibi satır ve sutun numaralarını ayrı ayrı verebiliriiz.\n",
    "ekip.iloc[0,1] #0.satır 1.kolon\n",
    "\n",
    "#\n",
    "ekip.iloc[0] #0. satırın tamamı seri olarak gelir\n",
    "ekip.iloc[[0]] #0. satırı DF olarak gelir\n",
    "\n",
    "#\n",
    "ekip.iloc[0,[0,1]] #0.satırın 0 ve 1. kolonlarını getirir.\n",
    "ekip.iloc[[0],[0,1]] #0.satırın 0 ve 1. kolonlarını getirir. df döner\n",
    "\n",
    "#\n",
    "ekip.iloc[[0,2,4],[1,3]] #0,2,4. satırların 0 ve 1. kolonlarını getirir."
   ]
  },
  {
   "cell_type": "code",
   "execution_count": 100,
   "metadata": {},
   "outputs": [
    {
     "data": {
      "text/html": [
       "<div>\n",
       "<style scoped>\n",
       "    .dataframe tbody tr th:only-of-type {\n",
       "        vertical-align: middle;\n",
       "    }\n",
       "\n",
       "    .dataframe tbody tr th {\n",
       "        vertical-align: top;\n",
       "    }\n",
       "\n",
       "    .dataframe thead th {\n",
       "        text-align: right;\n",
       "    }\n",
       "</style>\n",
       "<table border=\"1\" class=\"dataframe\">\n",
       "  <thead>\n",
       "    <tr style=\"text-align: right;\">\n",
       "      <th></th>\n",
       "      <th>Ad</th>\n",
       "      <th>Cinsiyet</th>\n",
       "      <th>Uretim</th>\n",
       "    </tr>\n",
       "  </thead>\n",
       "  <tbody>\n",
       "    <tr>\n",
       "      <th>Bursa</th>\n",
       "      <td>Ali</td>\n",
       "      <td>E</td>\n",
       "      <td>120.0</td>\n",
       "    </tr>\n",
       "    <tr>\n",
       "      <th>Bursa</th>\n",
       "      <td>Veli</td>\n",
       "      <td>E</td>\n",
       "      <td>NaN</td>\n",
       "    </tr>\n",
       "    <tr>\n",
       "      <th>Bolu</th>\n",
       "      <td>Ayşe</td>\n",
       "      <td>None</td>\n",
       "      <td>250.0</td>\n",
       "    </tr>\n",
       "  </tbody>\n",
       "</table>\n",
       "</div>"
      ],
      "text/plain": [
       "         Ad Cinsiyet  Uretim\n",
       "Bursa   Ali        E   120.0\n",
       "Bursa  Veli        E     NaN\n",
       "Bolu   Ayşe     None   250.0"
      ]
     },
     "execution_count": 100,
     "metadata": {},
     "output_type": "execute_result"
    }
   ],
   "source": [
    "# slicer kullanımı\n",
    "ekip.iloc[:2,[1,2,3]]\n",
    "\n",
    "#boolen index\n",
    "filtre_kolonlar = [False, True, True,True,False]\n",
    "ekip.iloc[:3,filtre_kolonlar] #ilk 3 satır ve kolonlar karşılığı True olanlar"
   ]
  },
  {
   "cell_type": "markdown",
   "metadata": {},
   "source": [
    "#### `df.loc[satirEtiketi, kolonEtiketi]` ile Çalışmak"
   ]
  },
  {
   "cell_type": "code",
   "execution_count": 101,
   "metadata": {},
   "outputs": [
    {
     "data": {
      "text/html": [
       "<div>\n",
       "<style scoped>\n",
       "    .dataframe tbody tr th:only-of-type {\n",
       "        vertical-align: middle;\n",
       "    }\n",
       "\n",
       "    .dataframe tbody tr th {\n",
       "        vertical-align: top;\n",
       "    }\n",
       "\n",
       "    .dataframe thead th {\n",
       "        text-align: right;\n",
       "    }\n",
       "</style>\n",
       "<table border=\"1\" class=\"dataframe\">\n",
       "  <thead>\n",
       "    <tr style=\"text-align: right;\">\n",
       "      <th></th>\n",
       "      <th>Id</th>\n",
       "      <th>Ad</th>\n",
       "      <th>Cinsiyet</th>\n",
       "      <th>Uretim</th>\n",
       "      <th>DepId</th>\n",
       "    </tr>\n",
       "  </thead>\n",
       "  <tbody>\n",
       "    <tr>\n",
       "      <th>Bursa</th>\n",
       "      <td>1</td>\n",
       "      <td>Ali</td>\n",
       "      <td>E</td>\n",
       "      <td>120.0</td>\n",
       "      <td>NaN</td>\n",
       "    </tr>\n",
       "    <tr>\n",
       "      <th>Bursa</th>\n",
       "      <td>2</td>\n",
       "      <td>Veli</td>\n",
       "      <td>E</td>\n",
       "      <td>NaN</td>\n",
       "      <td>NaN</td>\n",
       "    </tr>\n",
       "  </tbody>\n",
       "</table>\n",
       "</div>"
      ],
      "text/plain": [
       "       Id    Ad Cinsiyet  Uretim DepId\n",
       "Bursa   1   Ali        E   120.0   NaN\n",
       "Bursa   2  Veli        E     NaN   NaN"
      ]
     },
     "execution_count": 101,
     "metadata": {},
     "output_type": "execute_result"
    }
   ],
   "source": [
    "ekip.loc[\"İzmir\"] #İzmir satırını getirir. satır etiketi verdik\n",
    "ekip.loc[[\"İzmir\"]] #İzmir satırını DF olarak getirir.\n",
    "\n",
    "#\n",
    "ekip.loc[\"Bursa\"] #2 satır ve bir çok kolon döndüğü için df gelir."
   ]
  },
  {
   "cell_type": "code",
   "execution_count": 102,
   "metadata": {},
   "outputs": [
    {
     "data": {
      "text/html": [
       "<div>\n",
       "<style scoped>\n",
       "    .dataframe tbody tr th:only-of-type {\n",
       "        vertical-align: middle;\n",
       "    }\n",
       "\n",
       "    .dataframe tbody tr th {\n",
       "        vertical-align: top;\n",
       "    }\n",
       "\n",
       "    .dataframe thead th {\n",
       "        text-align: right;\n",
       "    }\n",
       "</style>\n",
       "<table border=\"1\" class=\"dataframe\">\n",
       "  <thead>\n",
       "    <tr style=\"text-align: right;\">\n",
       "      <th></th>\n",
       "      <th>Ad</th>\n",
       "      <th>Cinsiyet</th>\n",
       "      <th>Uretim</th>\n",
       "    </tr>\n",
       "  </thead>\n",
       "  <tbody>\n",
       "    <tr>\n",
       "      <th>İzmir</th>\n",
       "      <td>Tonguç</td>\n",
       "      <td>E</td>\n",
       "      <td>NaN</td>\n",
       "    </tr>\n",
       "  </tbody>\n",
       "</table>\n",
       "</div>"
      ],
      "text/plain": [
       "           Ad Cinsiyet  Uretim\n",
       "İzmir  Tonguç        E     NaN"
      ]
     },
     "execution_count": 102,
     "metadata": {},
     "output_type": "execute_result"
    }
   ],
   "source": [
    "ekip.loc[\"İzmir\",[\"Ad\",\"Cinsiyet\",\"Uretim\"]] #seri\n",
    "ekip.loc[[\"İzmir\"],[\"Ad\",\"Cinsiyet\",\"Uretim\"]] #df"
   ]
  },
  {
   "cell_type": "code",
   "execution_count": 103,
   "metadata": {},
   "outputs": [
    {
     "data": {
      "text/html": [
       "<div>\n",
       "<style scoped>\n",
       "    .dataframe tbody tr th:only-of-type {\n",
       "        vertical-align: middle;\n",
       "    }\n",
       "\n",
       "    .dataframe tbody tr th {\n",
       "        vertical-align: top;\n",
       "    }\n",
       "\n",
       "    .dataframe thead th {\n",
       "        text-align: right;\n",
       "    }\n",
       "</style>\n",
       "<table border=\"1\" class=\"dataframe\">\n",
       "  <thead>\n",
       "    <tr style=\"text-align: right;\">\n",
       "      <th></th>\n",
       "      <th>Ad</th>\n",
       "      <th>Cinsiyet</th>\n",
       "      <th>Uretim</th>\n",
       "    </tr>\n",
       "  </thead>\n",
       "  <tbody>\n",
       "    <tr>\n",
       "      <th>Bolu</th>\n",
       "      <td>Ayşe</td>\n",
       "      <td>None</td>\n",
       "      <td>250.0</td>\n",
       "    </tr>\n",
       "    <tr>\n",
       "      <th>İzmir</th>\n",
       "      <td>Tonguç</td>\n",
       "      <td>E</td>\n",
       "      <td>NaN</td>\n",
       "    </tr>\n",
       "  </tbody>\n",
       "</table>\n",
       "</div>"
      ],
      "text/plain": [
       "           Ad Cinsiyet  Uretim\n",
       "Bolu     Ayşe     None   250.0\n",
       "İzmir  Tonguç        E     NaN"
      ]
     },
     "execution_count": 103,
     "metadata": {},
     "output_type": "execute_result"
    }
   ],
   "source": [
    "#slicer kullanımı\n",
    "ekip.loc[::-1,\"Ad\":\"Uretim\"] #ters sıralama ve Ad ile Uretim arasındaki kolonları getirir.\n",
    "\n",
    "#boolen index\n",
    "filtre_satir = [False,False,True,False,True]    \n",
    "filtre_sutun = [False, True, True, True,False]\n",
    "\n",
    "#\n",
    "ekip.loc[filtre_satir,filtre_sutun] #filtrelenmiş satırları ve kolonları getirir."
   ]
  },
  {
   "cell_type": "markdown",
   "metadata": {},
   "source": [
    "#### Boolen Listeler ile Filtreleme\n",
    "* Filtrelenecek boyutta eleman sayısı kadar True/False listesi/serisi/dizisi oluşturulur.\n",
    "* DF üzerinde True karşılığı olanlar gelir.\n",
    "* `[], iloc[], loc[]` içinde kullanılabilir."
   ]
  },
  {
   "cell_type": "code",
   "execution_count": 104,
   "metadata": {},
   "outputs": [
    {
     "data": {
      "text/html": [
       "<div>\n",
       "<style scoped>\n",
       "    .dataframe tbody tr th:only-of-type {\n",
       "        vertical-align: middle;\n",
       "    }\n",
       "\n",
       "    .dataframe tbody tr th {\n",
       "        vertical-align: top;\n",
       "    }\n",
       "\n",
       "    .dataframe thead th {\n",
       "        text-align: right;\n",
       "    }\n",
       "</style>\n",
       "<table border=\"1\" class=\"dataframe\">\n",
       "  <thead>\n",
       "    <tr style=\"text-align: right;\">\n",
       "      <th></th>\n",
       "      <th>Ad</th>\n",
       "      <th>Uretim</th>\n",
       "    </tr>\n",
       "  </thead>\n",
       "  <tbody>\n",
       "    <tr>\n",
       "      <th>Bursa</th>\n",
       "      <td>Ali</td>\n",
       "      <td>120.0</td>\n",
       "    </tr>\n",
       "    <tr>\n",
       "      <th>Bursa</th>\n",
       "      <td>Veli</td>\n",
       "      <td>NaN</td>\n",
       "    </tr>\n",
       "    <tr>\n",
       "      <th>Bolu</th>\n",
       "      <td>Ayşe</td>\n",
       "      <td>250.0</td>\n",
       "    </tr>\n",
       "    <tr>\n",
       "      <th>Bolu</th>\n",
       "      <td>Fatma</td>\n",
       "      <td>350.0</td>\n",
       "    </tr>\n",
       "    <tr>\n",
       "      <th>İzmir</th>\n",
       "      <td>Tonguç</td>\n",
       "      <td>NaN</td>\n",
       "    </tr>\n",
       "  </tbody>\n",
       "</table>\n",
       "</div>"
      ],
      "text/plain": [
       "           Ad  Uretim\n",
       "Bursa     Ali   120.0\n",
       "Bursa    Veli     NaN\n",
       "Bolu     Ayşe   250.0\n",
       "Bolu    Fatma   350.0\n",
       "İzmir  Tonguç     NaN"
      ]
     },
     "execution_count": 104,
     "metadata": {},
     "output_type": "execute_result"
    }
   ],
   "source": [
    "#örn:\n",
    "#içerisinde im geçen kolonları ve Ad kolonu getirelim. Tüm satırlar gelsin\n",
    "filtre_ad = ekip.columns==\"Ad\" #broadcasting ile tüm kolonları kontrol eder.\n",
    "filter_im = ekip.columns.str.contains(\"im\") #kolon isimlerinde im geçenleri getirir.\n",
    "\n",
    "filtre_kolon = filtre_ad | filter_im #veya işlemi np.logical_or(filtre_ad,filter_im) ile de yapılabilir.\n",
    "\n",
    "\n",
    "#boole indexler [], iloc, loc ile kullanılabilir.\n",
    "ekip.loc[:, filtre_kolon]\n",
    "ekip.iloc[:, filtre_kolon]"
   ]
  },
  {
   "cell_type": "code",
   "execution_count": 105,
   "metadata": {},
   "outputs": [
    {
     "data": {
      "text/html": [
       "<div>\n",
       "<style scoped>\n",
       "    .dataframe tbody tr th:only-of-type {\n",
       "        vertical-align: middle;\n",
       "    }\n",
       "\n",
       "    .dataframe tbody tr th {\n",
       "        vertical-align: top;\n",
       "    }\n",
       "\n",
       "    .dataframe thead th {\n",
       "        text-align: right;\n",
       "    }\n",
       "</style>\n",
       "<table border=\"1\" class=\"dataframe\">\n",
       "  <thead>\n",
       "    <tr style=\"text-align: right;\">\n",
       "      <th></th>\n",
       "      <th>Ad</th>\n",
       "      <th>Cinsiyet</th>\n",
       "    </tr>\n",
       "  </thead>\n",
       "  <tbody>\n",
       "    <tr>\n",
       "      <th>Bolu</th>\n",
       "      <td>Fatma</td>\n",
       "      <td>K</td>\n",
       "    </tr>\n",
       "  </tbody>\n",
       "</table>\n",
       "</div>"
      ],
      "text/plain": [
       "         Ad Cinsiyet\n",
       "Bolu  Fatma        K"
      ]
     },
     "execution_count": 105,
     "metadata": {},
     "output_type": "execute_result"
    }
   ],
   "source": [
    "#soru:\n",
    "'''\n",
    "    1. Sadece Ad, Cinsiyet, Uretim kolonlarını çekelim.\n",
    "    2. Uretim 150'den büyük satırları getirelim.\n",
    "    3. 300'den küçük üretime sahip olmayan kadın üyeler gelsin.\n",
    "    4. 150'den büyük üretime sahip olan kadın üyeler.\n",
    "'''\n",
    "#1.\n",
    "ekip[[\"Ad\",\"Cinsiyet\",\"Uretim\"]]\n",
    "ekip.loc[:,[\"Ad\",\"Cinsiyet\",\"Uretim\"]]\n",
    "\n",
    "#2.\n",
    "filtre_uretim = ekip.Uretim > 150 #broadcasting ile tüm hücreleri (seride satırlar) kontrol eder.\n",
    "ekip[filtre_uretim]\n",
    "ekip.loc[filtre_uretim]\n",
    "ekip.iloc[filtre_uretim.tolist()] #tolist() ile listeye çevirip kullanabiliriz.\n",
    "\n",
    "#3.\n",
    "filtre_kadin = ekip.Cinsiyet == \"K\"\n",
    "filtre_uretim300denKucuk = ekip.Uretim < 300\n",
    "filtre_uretim300denKucukOlmayan = ~filtre_uretim300denKucuk #np.logical_not(filtre_uretim300denKucuk) #filtre_uretim300denKucuk == False\n",
    "\n",
    "ekip.loc[filtre_kadin & filtre_uretim300denKucukOlmayan , [\"Ad\",\"Uretim\"]]\n",
    "\n",
    "#--------\n",
    "#4.lambda kullanımı\n",
    "ekip.loc[lambda s: (s.Uretim > 150) & (s.Cinsiyet == \"K\"), \"Ad\":\"Uretim\"]\n",
    "ekip.iloc[lambda s: ((s.Uretim > 150) & (s.Cinsiyet == \"K\")).tolist() , 1:3] #tolist() ile listeye çevirip kullanabiliriz."
   ]
  },
  {
   "cell_type": "markdown",
   "metadata": {},
   "source": [
    "#### `query(expression)` ile filtreleme\n",
    "* expression kısmı sql'deki where ile belirtilen expression gibidir."
   ]
  },
  {
   "cell_type": "code",
   "execution_count": 106,
   "metadata": {},
   "outputs": [
    {
     "data": {
      "text/html": [
       "<div>\n",
       "<style scoped>\n",
       "    .dataframe tbody tr th:only-of-type {\n",
       "        vertical-align: middle;\n",
       "    }\n",
       "\n",
       "    .dataframe tbody tr th {\n",
       "        vertical-align: top;\n",
       "    }\n",
       "\n",
       "    .dataframe thead th {\n",
       "        text-align: right;\n",
       "    }\n",
       "</style>\n",
       "<table border=\"1\" class=\"dataframe\">\n",
       "  <thead>\n",
       "    <tr style=\"text-align: right;\">\n",
       "      <th></th>\n",
       "      <th>Id</th>\n",
       "      <th>Ad</th>\n",
       "      <th>Cinsiyet</th>\n",
       "      <th>Uretim</th>\n",
       "      <th>DepId</th>\n",
       "    </tr>\n",
       "  </thead>\n",
       "  <tbody>\n",
       "    <tr>\n",
       "      <th>Bolu</th>\n",
       "      <td>4</td>\n",
       "      <td>Fatma</td>\n",
       "      <td>K</td>\n",
       "      <td>350.0</td>\n",
       "      <td>NaN</td>\n",
       "    </tr>\n",
       "  </tbody>\n",
       "</table>\n",
       "</div>"
      ],
      "text/plain": [
       "      Id     Ad Cinsiyet  Uretim DepId\n",
       "Bolu   4  Fatma        K   350.0   NaN"
      ]
     },
     "execution_count": 106,
     "metadata": {},
     "output_type": "execute_result"
    }
   ],
   "source": [
    "#örn:\n",
    "#Uretim mükteri 200'den büyük olanları getirelim. Cinsiyeti Kadın olanlar\n",
    "ekip.query(\"Uretim > 200 and Cinsiyet == 'K'\" )"
   ]
  },
  {
   "cell_type": "code",
   "execution_count": 107,
   "metadata": {},
   "outputs": [
    {
     "data": {
      "text/html": [
       "<div>\n",
       "<style scoped>\n",
       "    .dataframe tbody tr th:only-of-type {\n",
       "        vertical-align: middle;\n",
       "    }\n",
       "\n",
       "    .dataframe tbody tr th {\n",
       "        vertical-align: top;\n",
       "    }\n",
       "\n",
       "    .dataframe thead th {\n",
       "        text-align: right;\n",
       "    }\n",
       "</style>\n",
       "<table border=\"1\" class=\"dataframe\">\n",
       "  <thead>\n",
       "    <tr style=\"text-align: right;\">\n",
       "      <th></th>\n",
       "      <th>Id</th>\n",
       "      <th>Ad</th>\n",
       "      <th>Cinsiyet</th>\n",
       "      <th>Uretim</th>\n",
       "      <th>DepId</th>\n",
       "    </tr>\n",
       "  </thead>\n",
       "  <tbody>\n",
       "    <tr>\n",
       "      <th>Bolu</th>\n",
       "      <td>3</td>\n",
       "      <td>Ayşe</td>\n",
       "      <td>None</td>\n",
       "      <td>250.0</td>\n",
       "      <td>NaN</td>\n",
       "    </tr>\n",
       "    <tr>\n",
       "      <th>Bolu</th>\n",
       "      <td>4</td>\n",
       "      <td>Fatma</td>\n",
       "      <td>K</td>\n",
       "      <td>350.0</td>\n",
       "      <td>NaN</td>\n",
       "    </tr>\n",
       "  </tbody>\n",
       "</table>\n",
       "</div>"
      ],
      "text/plain": [
       "      Id     Ad Cinsiyet  Uretim DepId\n",
       "Bolu   3   Ayşe     None   250.0   NaN\n",
       "Bolu   4  Fatma        K   350.0   NaN"
      ]
     },
     "execution_count": 107,
     "metadata": {},
     "output_type": "execute_result"
    }
   ],
   "source": [
    "#örn:\n",
    "#Ortalamadan büyük Üretime sahip olanları  getirelim.\n",
    "ekip.Uretim.mean()\n",
    "\n",
    "#1.\n",
    "ekip.query(f\"Uretim > {ekip.Uretim.mean()}\")\n",
    "\n",
    "#2. değişken tanımlana\n",
    "uretim_ort = ekip.Uretim.mean()\n",
    "ekip.query(\"Uretim > @uretim_ort\") #@ ile değişkeni kullanabiliriz."
   ]
  },
  {
   "cell_type": "code",
   "execution_count": 108,
   "metadata": {},
   "outputs": [
    {
     "data": {
      "text/html": [
       "<div>\n",
       "<style scoped>\n",
       "    .dataframe tbody tr th:only-of-type {\n",
       "        vertical-align: middle;\n",
       "    }\n",
       "\n",
       "    .dataframe tbody tr th {\n",
       "        vertical-align: top;\n",
       "    }\n",
       "\n",
       "    .dataframe thead th {\n",
       "        text-align: right;\n",
       "    }\n",
       "</style>\n",
       "<table border=\"1\" class=\"dataframe\">\n",
       "  <thead>\n",
       "    <tr style=\"text-align: right;\">\n",
       "      <th></th>\n",
       "      <th>Id</th>\n",
       "      <th>Ad</th>\n",
       "      <th>Cinsiyet</th>\n",
       "      <th>Uretim</th>\n",
       "      <th>DepId</th>\n",
       "    </tr>\n",
       "  </thead>\n",
       "  <tbody>\n",
       "    <tr>\n",
       "      <th>Bursa</th>\n",
       "      <td>1</td>\n",
       "      <td>Ali</td>\n",
       "      <td>E</td>\n",
       "      <td>120.0</td>\n",
       "      <td>NaN</td>\n",
       "    </tr>\n",
       "    <tr>\n",
       "      <th>Bursa</th>\n",
       "      <td>2</td>\n",
       "      <td>Veli</td>\n",
       "      <td>E</td>\n",
       "      <td>NaN</td>\n",
       "      <td>NaN</td>\n",
       "    </tr>\n",
       "    <tr>\n",
       "      <th>Bolu</th>\n",
       "      <td>4</td>\n",
       "      <td>Fatma</td>\n",
       "      <td>K</td>\n",
       "      <td>350.0</td>\n",
       "      <td>NaN</td>\n",
       "    </tr>\n",
       "    <tr>\n",
       "      <th>İzmir</th>\n",
       "      <td>5</td>\n",
       "      <td>Tonguç</td>\n",
       "      <td>E</td>\n",
       "      <td>NaN</td>\n",
       "      <td>NaN</td>\n",
       "    </tr>\n",
       "  </tbody>\n",
       "</table>\n",
       "</div>"
      ],
      "text/plain": [
       "       Id      Ad Cinsiyet  Uretim DepId\n",
       "Bursa   1     Ali        E   120.0   NaN\n",
       "Bursa   2    Veli        E     NaN   NaN\n",
       "Bolu    4   Fatma        K   350.0   NaN\n",
       "İzmir   5  Tonguç        E     NaN   NaN"
      ]
     },
     "execution_count": 108,
     "metadata": {},
     "output_type": "execute_result"
    }
   ],
   "source": [
    "# Cinsiyet alano null olanları getirelim.\n",
    "# Cinsiyet alano null olmayanlar getirelim.\n",
    "#ekip[ekip.isna().Uretim]\n",
    "\n",
    "#NULL olanlar\n",
    "ekip.query(\"Cinsiyet != Cinsiyet\") #Cinsiyet alanı null olanları getirir.\n",
    "ekip.query(\"Cinsiyet.isnull()\")\n",
    "ekip.query(\"Cinsiyet.isna()\")\n",
    "\n",
    "#\n",
    "#NULL olmayanlar\n",
    "ekip.query(\"Cinsiyet == Cinsiyet\") #Cinsiyet alanı null olmayanları getirir.\n",
    "ekip.query(\"Cinsiyet.notnull()\")\n",
    "ekip.query(\"Cinsiyet.notna()\")\n",
    "ekip.query(\"not Cinsiyet.isna()\")\n",
    "ekip.query(\"~Cinsiyet.isna()\")"
   ]
  },
  {
   "cell_type": "code",
   "execution_count": 109,
   "metadata": {},
   "outputs": [
    {
     "data": {
      "text/html": [
       "<div>\n",
       "<style scoped>\n",
       "    .dataframe tbody tr th:only-of-type {\n",
       "        vertical-align: middle;\n",
       "    }\n",
       "\n",
       "    .dataframe tbody tr th {\n",
       "        vertical-align: top;\n",
       "    }\n",
       "\n",
       "    .dataframe thead th {\n",
       "        text-align: right;\n",
       "    }\n",
       "</style>\n",
       "<table border=\"1\" class=\"dataframe\">\n",
       "  <thead>\n",
       "    <tr style=\"text-align: right;\">\n",
       "      <th></th>\n",
       "      <th>Id</th>\n",
       "      <th>Ad</th>\n",
       "      <th>Cinsiyet</th>\n",
       "      <th>Uretim</th>\n",
       "      <th>DepId</th>\n",
       "    </tr>\n",
       "  </thead>\n",
       "  <tbody>\n",
       "    <tr>\n",
       "      <th>Bursa</th>\n",
       "      <td>1</td>\n",
       "      <td>Ali</td>\n",
       "      <td>E</td>\n",
       "      <td>120.0</td>\n",
       "      <td>NaN</td>\n",
       "    </tr>\n",
       "    <tr>\n",
       "      <th>Bolu</th>\n",
       "      <td>3</td>\n",
       "      <td>Ayşe</td>\n",
       "      <td>None</td>\n",
       "      <td>250.0</td>\n",
       "      <td>NaN</td>\n",
       "    </tr>\n",
       "    <tr>\n",
       "      <th>Bolu</th>\n",
       "      <td>4</td>\n",
       "      <td>Fatma</td>\n",
       "      <td>K</td>\n",
       "      <td>350.0</td>\n",
       "      <td>NaN</td>\n",
       "    </tr>\n",
       "  </tbody>\n",
       "</table>\n",
       "</div>"
      ],
      "text/plain": [
       "       Id     Ad Cinsiyet  Uretim DepId\n",
       "Bursa   1    Ali        E   120.0   NaN\n",
       "Bolu    3   Ayşe     None   250.0   NaN\n",
       "Bolu    4  Fatma        K   350.0   NaN"
      ]
     },
     "execution_count": 109,
     "metadata": {},
     "output_type": "execute_result"
    }
   ],
   "source": [
    "#içerisinde a geçen isimler gelsin\n",
    "filtre_a = ekip.Ad.str.contains(\"a\", case=False) #case=False büyük küçük harf duyarlılığını kaldırır.\n",
    "ekip[filtre_a]\n",
    "\n",
    "#\n",
    "ekip.query(\"Ad.str.contains('a', case=False)\")"
   ]
  },
  {
   "cell_type": "markdown",
   "metadata": {},
   "source": [
    "#### `where` Kullanımı\n",
    "* Belirtilen şartı tüm hücreler için kontrol eder.\n",
    "* Şarta uyan satırlar aynen gelir. Uymayan satırlar için bir varsayılan değer veya None basılır."
   ]
  },
  {
   "cell_type": "code",
   "execution_count": 110,
   "metadata": {},
   "outputs": [
    {
     "data": {
      "text/html": [
       "<div>\n",
       "<style scoped>\n",
       "    .dataframe tbody tr th:only-of-type {\n",
       "        vertical-align: middle;\n",
       "    }\n",
       "\n",
       "    .dataframe tbody tr th {\n",
       "        vertical-align: top;\n",
       "    }\n",
       "\n",
       "    .dataframe thead th {\n",
       "        text-align: right;\n",
       "    }\n",
       "</style>\n",
       "<table border=\"1\" class=\"dataframe\">\n",
       "  <thead>\n",
       "    <tr style=\"text-align: right;\">\n",
       "      <th></th>\n",
       "      <th>Id</th>\n",
       "      <th>Ad</th>\n",
       "      <th>Cinsiyet</th>\n",
       "      <th>Uretim</th>\n",
       "      <th>DepId</th>\n",
       "    </tr>\n",
       "  </thead>\n",
       "  <tbody>\n",
       "    <tr>\n",
       "      <th>Bursa</th>\n",
       "      <td>1</td>\n",
       "      <td>Ali</td>\n",
       "      <td>E</td>\n",
       "      <td>120.0</td>\n",
       "      <td>NaN</td>\n",
       "    </tr>\n",
       "    <tr>\n",
       "      <th>Bursa</th>\n",
       "      <td>2</td>\n",
       "      <td>Veli</td>\n",
       "      <td>E</td>\n",
       "      <td>NaN</td>\n",
       "      <td>NaN</td>\n",
       "    </tr>\n",
       "    <tr>\n",
       "      <th>Bolu</th>\n",
       "      <td>-</td>\n",
       "      <td>-</td>\n",
       "      <td>-</td>\n",
       "      <td>-</td>\n",
       "      <td>-</td>\n",
       "    </tr>\n",
       "    <tr>\n",
       "      <th>Bolu</th>\n",
       "      <td>-</td>\n",
       "      <td>-</td>\n",
       "      <td>-</td>\n",
       "      <td>-</td>\n",
       "      <td>-</td>\n",
       "    </tr>\n",
       "    <tr>\n",
       "      <th>İzmir</th>\n",
       "      <td>5</td>\n",
       "      <td>Tonguç</td>\n",
       "      <td>E</td>\n",
       "      <td>NaN</td>\n",
       "      <td>NaN</td>\n",
       "    </tr>\n",
       "  </tbody>\n",
       "</table>\n",
       "</div>"
      ],
      "text/plain": [
       "      Id      Ad Cinsiyet Uretim DepId\n",
       "Bursa  1     Ali        E  120.0   NaN\n",
       "Bursa  2    Veli        E    NaN   NaN\n",
       "Bolu   -       -        -      -     -\n",
       "Bolu   -       -        -      -     -\n",
       "İzmir  5  Tonguç        E    NaN   NaN"
      ]
     },
     "execution_count": 110,
     "metadata": {},
     "output_type": "execute_result"
    }
   ],
   "source": [
    "ekip.where(ekip.Cinsiyet==\"E\")\n",
    "ekip.where(ekip.Cinsiyet==\"E\",'-') #Uymayan satırlar için - basalım."
   ]
  },
  {
   "cell_type": "markdown",
   "metadata": {},
   "source": [
    "#### `isin` Kullanımı\n",
    "* herhangi bir değerin tablonun neresinde olduğunu bulmamızı sağlar.\n",
    "* belirtilen değer hücrelerde var mı? Hücre bazlı True/False döner."
   ]
  },
  {
   "cell_type": "code",
   "execution_count": 111,
   "metadata": {},
   "outputs": [
    {
     "data": {
      "text/plain": [
       "1"
      ]
     },
     "execution_count": 111,
     "metadata": {},
     "output_type": "execute_result"
    }
   ],
   "source": [
    "ekip.isin([\"Ali\"]) #liste veya dict istiyor\n",
    "ekip.isin([\"Ali\"]).any()#Ali değeri bir kolonda var mı? Ad kolonunda True\n",
    "ekip.isin([\"Ali\"]).any().any() #Ali değeri DF'te var mı?\n",
    "\n",
    "#\n",
    "ekip.isin([\"Ali\"]).sum() #hangi kolonda kaç tane var.\n",
    "ekip.isin([\"Ali\"]).sum().sum() #DF'te kaç tane var."
   ]
  },
  {
   "cell_type": "code",
   "execution_count": 112,
   "metadata": {},
   "outputs": [
    {
     "data": {
      "text/html": [
       "<div>\n",
       "<style scoped>\n",
       "    .dataframe tbody tr th:only-of-type {\n",
       "        vertical-align: middle;\n",
       "    }\n",
       "\n",
       "    .dataframe tbody tr th {\n",
       "        vertical-align: top;\n",
       "    }\n",
       "\n",
       "    .dataframe thead th {\n",
       "        text-align: right;\n",
       "    }\n",
       "</style>\n",
       "<table border=\"1\" class=\"dataframe\">\n",
       "  <thead>\n",
       "    <tr style=\"text-align: right;\">\n",
       "      <th></th>\n",
       "      <th>Id</th>\n",
       "      <th>Ad</th>\n",
       "      <th>Cinsiyet</th>\n",
       "      <th>Uretim</th>\n",
       "      <th>DepId</th>\n",
       "    </tr>\n",
       "  </thead>\n",
       "  <tbody>\n",
       "    <tr>\n",
       "      <th>Bursa</th>\n",
       "      <td>False</td>\n",
       "      <td>True</td>\n",
       "      <td>True</td>\n",
       "      <td>False</td>\n",
       "      <td>False</td>\n",
       "    </tr>\n",
       "    <tr>\n",
       "      <th>Bursa</th>\n",
       "      <td>False</td>\n",
       "      <td>False</td>\n",
       "      <td>True</td>\n",
       "      <td>False</td>\n",
       "      <td>False</td>\n",
       "    </tr>\n",
       "    <tr>\n",
       "      <th>Bolu</th>\n",
       "      <td>False</td>\n",
       "      <td>True</td>\n",
       "      <td>False</td>\n",
       "      <td>False</td>\n",
       "      <td>False</td>\n",
       "    </tr>\n",
       "    <tr>\n",
       "      <th>Bolu</th>\n",
       "      <td>False</td>\n",
       "      <td>False</td>\n",
       "      <td>False</td>\n",
       "      <td>False</td>\n",
       "      <td>False</td>\n",
       "    </tr>\n",
       "    <tr>\n",
       "      <th>İzmir</th>\n",
       "      <td>False</td>\n",
       "      <td>False</td>\n",
       "      <td>True</td>\n",
       "      <td>False</td>\n",
       "      <td>False</td>\n",
       "    </tr>\n",
       "  </tbody>\n",
       "</table>\n",
       "</div>"
      ],
      "text/plain": [
       "          Id     Ad  Cinsiyet  Uretim  DepId\n",
       "Bursa  False   True      True   False  False\n",
       "Bursa  False  False      True   False  False\n",
       "Bolu   False   True     False   False  False\n",
       "Bolu   False  False     False   False  False\n",
       "İzmir  False  False      True   False  False"
      ]
     },
     "execution_count": 112,
     "metadata": {},
     "output_type": "execute_result"
    }
   ],
   "source": [
    "ekip.isin({\"Ad\":[\"Ali\",\"Ayşe\"], \"Cinsiyet\":[\"E\"]}) #Ad kolonunda Ali veya Ayşe, Cinsiyet kolonunda E olanlar"
   ]
  },
  {
   "cell_type": "markdown",
   "metadata": {},
   "source": [
    "#### `filter` ile etiketlere göre filtreleme yapabiliriz.\n",
    "* `items , regex, like` parametreleri ile etiketleri tarif edebiliriz.\n",
    "* axis=0 satırları, axis=1 kolonları tarif eder."
   ]
  },
  {
   "cell_type": "code",
   "execution_count": 113,
   "metadata": {},
   "outputs": [
    {
     "data": {
      "text/html": [
       "<div>\n",
       "<style scoped>\n",
       "    .dataframe tbody tr th:only-of-type {\n",
       "        vertical-align: middle;\n",
       "    }\n",
       "\n",
       "    .dataframe tbody tr th {\n",
       "        vertical-align: top;\n",
       "    }\n",
       "\n",
       "    .dataframe thead th {\n",
       "        text-align: right;\n",
       "    }\n",
       "</style>\n",
       "<table border=\"1\" class=\"dataframe\">\n",
       "  <thead>\n",
       "    <tr style=\"text-align: right;\">\n",
       "      <th></th>\n",
       "      <th>Uretim</th>\n",
       "    </tr>\n",
       "  </thead>\n",
       "  <tbody>\n",
       "    <tr>\n",
       "      <th>Bursa</th>\n",
       "      <td>120.0</td>\n",
       "    </tr>\n",
       "    <tr>\n",
       "      <th>Bursa</th>\n",
       "      <td>NaN</td>\n",
       "    </tr>\n",
       "    <tr>\n",
       "      <th>Bolu</th>\n",
       "      <td>250.0</td>\n",
       "    </tr>\n",
       "    <tr>\n",
       "      <th>Bolu</th>\n",
       "      <td>350.0</td>\n",
       "    </tr>\n",
       "    <tr>\n",
       "      <th>İzmir</th>\n",
       "      <td>NaN</td>\n",
       "    </tr>\n",
       "  </tbody>\n",
       "</table>\n",
       "</div>"
      ],
      "text/plain": [
       "       Uretim\n",
       "Bursa   120.0\n",
       "Bursa     NaN\n",
       "Bolu    250.0\n",
       "Bolu    350.0\n",
       "İzmir     NaN"
      ]
     },
     "execution_count": 113,
     "metadata": {},
     "output_type": "execute_result"
    }
   ],
   "source": [
    "ekip.filter(items=[\"Ad\",\"Uretim\"]) #kolon isimleri verilir\n",
    "\n",
    "#\n",
    "ekip.filter(like=\"im\") #kolon isimlerinde im geçenleri getirir.\n",
    "\n",
    "#\n",
    "ekip.filter(regex=\"^A\") #A ile başlayan kolonları getirir.\n",
    "ekip.filter(regex=\"im$\") #im ile biten kolonları getirir."
   ]
  },
  {
   "cell_type": "code",
   "execution_count": 149,
   "metadata": {},
   "outputs": [
    {
     "data": {
      "text/html": [
       "<div>\n",
       "<style scoped>\n",
       "    .dataframe tbody tr th:only-of-type {\n",
       "        vertical-align: middle;\n",
       "    }\n",
       "\n",
       "    .dataframe tbody tr th {\n",
       "        vertical-align: top;\n",
       "    }\n",
       "\n",
       "    .dataframe thead th {\n",
       "        text-align: right;\n",
       "    }\n",
       "</style>\n",
       "<table border=\"1\" class=\"dataframe\">\n",
       "  <thead>\n",
       "    <tr style=\"text-align: right;\">\n",
       "      <th></th>\n",
       "      <th>Id</th>\n",
       "      <th>Uretim</th>\n",
       "    </tr>\n",
       "    <tr>\n",
       "      <th>DepId</th>\n",
       "      <th></th>\n",
       "      <th></th>\n",
       "    </tr>\n",
       "  </thead>\n",
       "  <tbody>\n",
       "    <tr>\n",
       "      <th>1</th>\n",
       "      <td>1</td>\n",
       "      <td>120.0</td>\n",
       "    </tr>\n",
       "    <tr>\n",
       "      <th>2</th>\n",
       "      <td>2</td>\n",
       "      <td>NaN</td>\n",
       "    </tr>\n",
       "    <tr>\n",
       "      <th>3</th>\n",
       "      <td>3</td>\n",
       "      <td>250.0</td>\n",
       "    </tr>\n",
       "    <tr>\n",
       "      <th>1</th>\n",
       "      <td>4</td>\n",
       "      <td>350.0</td>\n",
       "    </tr>\n",
       "    <tr>\n",
       "      <th>2</th>\n",
       "      <td>5</td>\n",
       "      <td>NaN</td>\n",
       "    </tr>\n",
       "  </tbody>\n",
       "</table>\n",
       "</div>"
      ],
      "text/plain": [
       "       Id  Uretim\n",
       "DepId            \n",
       "1       1   120.0\n",
       "2       2     NaN\n",
       "3       3   250.0\n",
       "1       4   350.0\n",
       "2       5     NaN"
      ]
     },
     "execution_count": 149,
     "metadata": {},
     "output_type": "execute_result"
    }
   ],
   "source": [
    "ekip.select_dtypes(include=\"number\") #sayısal kolonları getirir."
   ]
  },
  {
   "cell_type": "markdown",
   "metadata": {},
   "source": [
    "### Veri Atama\n",
    "* seri ve df'lerde atama yapılabilir. Orjinalini etkiler.\n",
    "* önce seri elde edip değerini bastık"
   ]
  },
  {
   "cell_type": "code",
   "execution_count": 114,
   "metadata": {},
   "outputs": [
    {
     "data": {
      "text/html": [
       "<div>\n",
       "<style scoped>\n",
       "    .dataframe tbody tr th:only-of-type {\n",
       "        vertical-align: middle;\n",
       "    }\n",
       "\n",
       "    .dataframe tbody tr th {\n",
       "        vertical-align: top;\n",
       "    }\n",
       "\n",
       "    .dataframe thead th {\n",
       "        text-align: right;\n",
       "    }\n",
       "</style>\n",
       "<table border=\"1\" class=\"dataframe\">\n",
       "  <thead>\n",
       "    <tr style=\"text-align: right;\">\n",
       "      <th></th>\n",
       "      <th>Id</th>\n",
       "      <th>Ad</th>\n",
       "      <th>Cinsiyet</th>\n",
       "      <th>Uretim</th>\n",
       "      <th>DepId</th>\n",
       "    </tr>\n",
       "  </thead>\n",
       "  <tbody>\n",
       "    <tr>\n",
       "      <th>Bursa</th>\n",
       "      <td>1</td>\n",
       "      <td>Ali</td>\n",
       "      <td>Erkek</td>\n",
       "      <td>120.0</td>\n",
       "      <td>1</td>\n",
       "    </tr>\n",
       "    <tr>\n",
       "      <th>Bursa</th>\n",
       "      <td>2</td>\n",
       "      <td>Veli</td>\n",
       "      <td>Erkek</td>\n",
       "      <td>NaN</td>\n",
       "      <td>2</td>\n",
       "    </tr>\n",
       "    <tr>\n",
       "      <th>Bolu</th>\n",
       "      <td>3</td>\n",
       "      <td>Ayşe</td>\n",
       "      <td>None</td>\n",
       "      <td>250.0</td>\n",
       "      <td>3</td>\n",
       "    </tr>\n",
       "    <tr>\n",
       "      <th>Bolu</th>\n",
       "      <td>4</td>\n",
       "      <td>Fatma</td>\n",
       "      <td>Kadın</td>\n",
       "      <td>350.0</td>\n",
       "      <td>1</td>\n",
       "    </tr>\n",
       "    <tr>\n",
       "      <th>İzmir</th>\n",
       "      <td>5</td>\n",
       "      <td>Tonguç</td>\n",
       "      <td>Erkek</td>\n",
       "      <td>NaN</td>\n",
       "      <td>2</td>\n",
       "    </tr>\n",
       "  </tbody>\n",
       "</table>\n",
       "</div>"
      ],
      "text/plain": [
       "       Id      Ad Cinsiyet  Uretim DepId\n",
       "Bursa   1     Ali    Erkek   120.0     1\n",
       "Bursa   2    Veli    Erkek     NaN     2\n",
       "Bolu    3    Ayşe     None   250.0     3\n",
       "Bolu    4   Fatma    Kadın   350.0     1\n",
       "İzmir   5  Tonguç    Erkek     NaN     2"
      ]
     },
     "execution_count": 114,
     "metadata": {},
     "output_type": "execute_result"
    }
   ],
   "source": [
    "#örn:\n",
    "#Cinsiyet değerlini açıkça belirtelim.\n",
    "ekip.loc[ekip.Cinsiyet == 'K', \"Cinsiyet\"] = \"Kadın\"\n",
    "ekip.loc[ekip.Cinsiyet == 'E', \"Cinsiyet\"] = \"Erkek\"\n",
    "\n",
    "#\n",
    "#ekip.loc[:,\"DepId\"] = 1 #tüm satırlara 1 değerini atar.\n",
    "ekip.loc[:,\"DepId\"] = [1,2,3,1,2] #broadcast ile 5 değer satırlara atanır.\n",
    "\n",
    "#\n",
    "ekip"
   ]
  },
  {
   "cell_type": "markdown",
   "metadata": {},
   "source": [
    "### `NULL (None, NaN, NaT, N/A)` Değerlerin İşlenmesi\n",
    "* Metinsel alanlar için None\n",
    "* Sayısal alanlar için NaN\n",
    "* Tarih alanları için NaT\n",
    "* N/A ise not available\n",
    "\n",
    "* İlgili fonksiyonlar\n",
    "* `isna()` veya `isnull()` ile None değerler kontrol edilir.\n",
    "  * axis verilerek `sum(), any(), all()` ile True değerler üzerinde işlem yapılabilir.\n",
    "* `notna()` veya `notnull()` ile None olmayan değerler kontrol edilir.\n",
    "* `fillna()` ile null değerlere atama yapılabilir. axis ve method parametreleri verilebilir.\n",
    "* `dropna()` ile null değerlerin olduğu satırlar veya kolonlar silinebilir. axis ve how parametreleri verilebilir."
   ]
  },
  {
   "cell_type": "code",
   "execution_count": 115,
   "metadata": {},
   "outputs": [
    {
     "data": {
      "text/html": [
       "<div>\n",
       "<style scoped>\n",
       "    .dataframe tbody tr th:only-of-type {\n",
       "        vertical-align: middle;\n",
       "    }\n",
       "\n",
       "    .dataframe tbody tr th {\n",
       "        vertical-align: top;\n",
       "    }\n",
       "\n",
       "    .dataframe thead th {\n",
       "        text-align: right;\n",
       "    }\n",
       "</style>\n",
       "<table border=\"1\" class=\"dataframe\">\n",
       "  <thead>\n",
       "    <tr style=\"text-align: right;\">\n",
       "      <th></th>\n",
       "      <th>Ad</th>\n",
       "      <th>Cinsiyet</th>\n",
       "      <th>Uretim</th>\n",
       "    </tr>\n",
       "  </thead>\n",
       "  <tbody>\n",
       "    <tr>\n",
       "      <th>Bursa</th>\n",
       "      <td>Veli</td>\n",
       "      <td>Erkek</td>\n",
       "      <td>NaN</td>\n",
       "    </tr>\n",
       "    <tr>\n",
       "      <th>İzmir</th>\n",
       "      <td>Tonguç</td>\n",
       "      <td>Erkek</td>\n",
       "      <td>NaN</td>\n",
       "    </tr>\n",
       "  </tbody>\n",
       "</table>\n",
       "</div>"
      ],
      "text/plain": [
       "           Ad Cinsiyet  Uretim\n",
       "Bursa    Veli    Erkek     NaN\n",
       "İzmir  Tonguç    Erkek     NaN"
      ]
     },
     "execution_count": 115,
     "metadata": {},
     "output_type": "execute_result"
    }
   ],
   "source": [
    "ekip.Uretim.isna().any() #Uretim kolonunda null var mı?\n",
    "ekip.Uretim.isna().sum() #Uretim kolonunda kaç tane null var?\n",
    "\n",
    "#null satırları getirelim\n",
    "ekip.loc[ekip.Uretim.isna(),[\"Ad\",\"Cinsiyet\",\"Uretim\"]]"
   ]
  },
  {
   "cell_type": "code",
   "execution_count": 116,
   "metadata": {},
   "outputs": [
    {
     "data": {
      "text/html": [
       "<div>\n",
       "<style scoped>\n",
       "    .dataframe tbody tr th:only-of-type {\n",
       "        vertical-align: middle;\n",
       "    }\n",
       "\n",
       "    .dataframe tbody tr th {\n",
       "        vertical-align: top;\n",
       "    }\n",
       "\n",
       "    .dataframe thead th {\n",
       "        text-align: right;\n",
       "    }\n",
       "</style>\n",
       "<table border=\"1\" class=\"dataframe\">\n",
       "  <thead>\n",
       "    <tr style=\"text-align: right;\">\n",
       "      <th></th>\n",
       "      <th>Id</th>\n",
       "      <th>Ad</th>\n",
       "      <th>Cinsiyet</th>\n",
       "      <th>Uretim</th>\n",
       "      <th>DepId</th>\n",
       "    </tr>\n",
       "  </thead>\n",
       "  <tbody>\n",
       "    <tr>\n",
       "      <th>Bursa</th>\n",
       "      <td>1</td>\n",
       "      <td>Ali</td>\n",
       "      <td>Erkek</td>\n",
       "      <td>120.0</td>\n",
       "      <td>1</td>\n",
       "    </tr>\n",
       "    <tr>\n",
       "      <th>Bursa</th>\n",
       "      <td>2</td>\n",
       "      <td>Veli</td>\n",
       "      <td>Erkek</td>\n",
       "      <td>240.0</td>\n",
       "      <td>2</td>\n",
       "    </tr>\n",
       "    <tr>\n",
       "      <th>Bolu</th>\n",
       "      <td>3</td>\n",
       "      <td>Ayşe</td>\n",
       "      <td>None</td>\n",
       "      <td>250.0</td>\n",
       "      <td>3</td>\n",
       "    </tr>\n",
       "    <tr>\n",
       "      <th>Bolu</th>\n",
       "      <td>4</td>\n",
       "      <td>Fatma</td>\n",
       "      <td>Kadın</td>\n",
       "      <td>350.0</td>\n",
       "      <td>1</td>\n",
       "    </tr>\n",
       "    <tr>\n",
       "      <th>İzmir</th>\n",
       "      <td>5</td>\n",
       "      <td>Tonguç</td>\n",
       "      <td>Erkek</td>\n",
       "      <td>240.0</td>\n",
       "      <td>2</td>\n",
       "    </tr>\n",
       "  </tbody>\n",
       "</table>\n",
       "</div>"
      ],
      "text/plain": [
       "       Id      Ad Cinsiyet  Uretim DepId\n",
       "Bursa   1     Ali    Erkek   120.0     1\n",
       "Bursa   2    Veli    Erkek   240.0     2\n",
       "Bolu    3    Ayşe     None   250.0     3\n",
       "Bolu    4   Fatma    Kadın   350.0     1\n",
       "İzmir   5  Tonguç    Erkek   240.0     2"
      ]
     },
     "execution_count": 116,
     "metadata": {},
     "output_type": "execute_result"
    }
   ],
   "source": [
    "#örn:\n",
    "#Uretimi null olalra ortalama üretimi basalım.\n",
    "ekip.loc[ekip.Uretim.isna(),\"Uretim\"] = ekip.Uretim.mean()\n",
    "\n",
    "ekip"
   ]
  },
  {
   "cell_type": "code",
   "execution_count": 117,
   "metadata": {},
   "outputs": [
    {
     "data": {
      "text/html": [
       "<div>\n",
       "<style scoped>\n",
       "    .dataframe tbody tr th:only-of-type {\n",
       "        vertical-align: middle;\n",
       "    }\n",
       "\n",
       "    .dataframe tbody tr th {\n",
       "        vertical-align: top;\n",
       "    }\n",
       "\n",
       "    .dataframe thead th {\n",
       "        text-align: right;\n",
       "    }\n",
       "</style>\n",
       "<table border=\"1\" class=\"dataframe\">\n",
       "  <thead>\n",
       "    <tr style=\"text-align: right;\">\n",
       "      <th></th>\n",
       "      <th>Id</th>\n",
       "      <th>Ad</th>\n",
       "      <th>Cinsiyet</th>\n",
       "      <th>Uretim</th>\n",
       "      <th>DepId</th>\n",
       "    </tr>\n",
       "  </thead>\n",
       "  <tbody>\n",
       "    <tr>\n",
       "      <th>Bursa</th>\n",
       "      <td>1</td>\n",
       "      <td>Ali</td>\n",
       "      <td>Erkek</td>\n",
       "      <td>120.0</td>\n",
       "      <td>1</td>\n",
       "    </tr>\n",
       "    <tr>\n",
       "      <th>Bursa</th>\n",
       "      <td>2</td>\n",
       "      <td>Veli</td>\n",
       "      <td>Erkek</td>\n",
       "      <td>240.0</td>\n",
       "      <td>2</td>\n",
       "    </tr>\n",
       "    <tr>\n",
       "      <th>Bolu</th>\n",
       "      <td>3</td>\n",
       "      <td>Ayşe</td>\n",
       "      <td>Bilinmiyor</td>\n",
       "      <td>250.0</td>\n",
       "      <td>3</td>\n",
       "    </tr>\n",
       "    <tr>\n",
       "      <th>Bolu</th>\n",
       "      <td>4</td>\n",
       "      <td>Fatma</td>\n",
       "      <td>Kadın</td>\n",
       "      <td>350.0</td>\n",
       "      <td>1</td>\n",
       "    </tr>\n",
       "    <tr>\n",
       "      <th>İzmir</th>\n",
       "      <td>5</td>\n",
       "      <td>Tonguç</td>\n",
       "      <td>Erkek</td>\n",
       "      <td>240.0</td>\n",
       "      <td>2</td>\n",
       "    </tr>\n",
       "  </tbody>\n",
       "</table>\n",
       "</div>"
      ],
      "text/plain": [
       "       Id      Ad    Cinsiyet  Uretim  DepId\n",
       "Bursa   1     Ali       Erkek   120.0      1\n",
       "Bursa   2    Veli       Erkek   240.0      2\n",
       "Bolu    3    Ayşe  Bilinmiyor   250.0      3\n",
       "Bolu    4   Fatma       Kadın   350.0      1\n",
       "İzmir   5  Tonguç       Erkek   240.0      2"
      ]
     },
     "execution_count": 117,
     "metadata": {},
     "output_type": "execute_result"
    }
   ],
   "source": [
    "##filna() ile \n",
    "ekip.fillna(\"Bilinmiyor\") #tüm null değerleri Bilinmiyor ile doldurur.\n",
    "\n",
    "\n",
    "#hangi kolona ne basılacağını belirtebiliriz.\n",
    "ekip.fillna({\n",
    "                \"Uretim\":ekip.Uretim.mean(),\n",
    "                \"Cinsiyet\":\"Bilinmiyor\",\n",
    "                \"DepId\":-1\n",
    "            })"
   ]
  },
  {
   "cell_type": "code",
   "execution_count": 118,
   "metadata": {},
   "outputs": [
    {
     "data": {
      "text/html": [
       "<div>\n",
       "<style scoped>\n",
       "    .dataframe tbody tr th:only-of-type {\n",
       "        vertical-align: middle;\n",
       "    }\n",
       "\n",
       "    .dataframe tbody tr th {\n",
       "        vertical-align: top;\n",
       "    }\n",
       "\n",
       "    .dataframe thead th {\n",
       "        text-align: right;\n",
       "    }\n",
       "</style>\n",
       "<table border=\"1\" class=\"dataframe\">\n",
       "  <thead>\n",
       "    <tr style=\"text-align: right;\">\n",
       "      <th></th>\n",
       "      <th>Id</th>\n",
       "      <th>Ad</th>\n",
       "      <th>Cinsiyet</th>\n",
       "      <th>Uretim</th>\n",
       "      <th>DepId</th>\n",
       "    </tr>\n",
       "  </thead>\n",
       "  <tbody>\n",
       "    <tr>\n",
       "      <th>Bursa</th>\n",
       "      <td>1</td>\n",
       "      <td>Ali</td>\n",
       "      <td>Erkek</td>\n",
       "      <td>120.0</td>\n",
       "      <td>1</td>\n",
       "    </tr>\n",
       "    <tr>\n",
       "      <th>Bursa</th>\n",
       "      <td>2</td>\n",
       "      <td>Veli</td>\n",
       "      <td>Erkek</td>\n",
       "      <td>240.0</td>\n",
       "      <td>2</td>\n",
       "    </tr>\n",
       "    <tr>\n",
       "      <th>Bolu</th>\n",
       "      <td>4</td>\n",
       "      <td>Fatma</td>\n",
       "      <td>Kadın</td>\n",
       "      <td>350.0</td>\n",
       "      <td>1</td>\n",
       "    </tr>\n",
       "    <tr>\n",
       "      <th>İzmir</th>\n",
       "      <td>5</td>\n",
       "      <td>Tonguç</td>\n",
       "      <td>Erkek</td>\n",
       "      <td>240.0</td>\n",
       "      <td>2</td>\n",
       "    </tr>\n",
       "  </tbody>\n",
       "</table>\n",
       "</div>"
      ],
      "text/plain": [
       "       Id      Ad Cinsiyet  Uretim DepId\n",
       "Bursa   1     Ali    Erkek   120.0     1\n",
       "Bursa   2    Veli    Erkek   240.0     2\n",
       "Bolu    4   Fatma    Kadın   350.0     1\n",
       "İzmir   5  Tonguç    Erkek   240.0     2"
      ]
     },
     "execution_count": 118,
     "metadata": {},
     "output_type": "execute_result"
    }
   ],
   "source": [
    "##dropna() ile silebiliriz.\n",
    "ekip.dropna() #içinde null olan satırları siler.\n",
    "ekip.dropna(axis=1, how=\"any\") #herhangi bir null varsa kolonu siler.\n",
    "ekip.dropna(axis=1, how=\"all\") #tüm hücreleri null olan kolonu siler.\n",
    "\n",
    "#\n",
    "ekip.dropna(axis=0, how=\"all\") #tüm hücreleri null olan satırı siler.\n",
    "\n",
    "#\n",
    "ekip.dropna(subset=[\"Cinsiyet\"]) #Cinsiyet alanı null olan satırları siler."
   ]
  },
  {
   "cell_type": "markdown",
   "metadata": {},
   "source": [
    "### Satır ve Kolon Ekleme / Kaldırma\n",
    "* `append()` ile satır eklenebilir. yeni versiyonda `pd.concat([df1,df2])` ile dfler birleştirilir.\n",
    "* `drop()` ile satır veya kolon silinebilir. axis ve how parametreleri verilebilir.\n",
    "* `insert()` ile kolon eklenebilir. `df[yeniKolon]=degerler` ile de kolon eklenebilir.\n",
    "* `pop()` ile kolon silinebilir. `del df[kolonAdi]` ile de kolon silinebilir.\n",
    "* `drop_duplicates()` ile tekrar eden satırlar silinebilir.\n",
    "* `dropna()` ile null değerlerin olduğu satırlar veya kolonlar silinebilir. axis ve how parametreleri verilebilir.\n",
    "* `eval()` ile kolonlar arasında işlem yapılabilir. Yeni kolon oluşturulabilir.\n",
    "* İşlemler orjinalini etkilemez."
   ]
  },
  {
   "cell_type": "code",
   "execution_count": 119,
   "metadata": {},
   "outputs": [],
   "source": [
    "ekip = ekipEfor.copy()"
   ]
  },
  {
   "cell_type": "markdown",
   "metadata": {},
   "source": [
    "#### Satır Ekleme"
   ]
  },
  {
   "cell_type": "code",
   "execution_count": 120,
   "metadata": {},
   "outputs": [
    {
     "data": {
      "text/plain": [
       "Id            int64\n",
       "Ad           object\n",
       "Cinsiyet     object\n",
       "Uretim      float16\n",
       "DepId        object\n",
       "AktifMi        bool\n",
       "dtype: object"
      ]
     },
     "execution_count": 120,
     "metadata": {},
     "output_type": "execute_result"
    }
   ],
   "source": [
    "df_satir = pd.DataFrame(data={\n",
    "                \"Id\": [120],\n",
    "                \"Ad\":[\"XMan\"],\n",
    "                \"Cinsiyet\":[\"E\"],\n",
    "                \"AktifMi\":[True] #yeni bir alan\n",
    "            },index=[\"Uzay\"])\n",
    "\n",
    "#\n",
    "ekip = pd.concat([ekip, df_satir])\n",
    "\n",
    "#\n",
    "#ekip.info()\n",
    "ekip = ekip.astype({\"AktifMi\":bool})\n",
    "ekip.dtypes"
   ]
  },
  {
   "cell_type": "markdown",
   "metadata": {},
   "source": [
    "#### Kolon Ekleme"
   ]
  },
  {
   "cell_type": "code",
   "execution_count": 121,
   "metadata": {},
   "outputs": [
    {
     "data": {
      "text/html": [
       "<div>\n",
       "<style scoped>\n",
       "    .dataframe tbody tr th:only-of-type {\n",
       "        vertical-align: middle;\n",
       "    }\n",
       "\n",
       "    .dataframe tbody tr th {\n",
       "        vertical-align: top;\n",
       "    }\n",
       "\n",
       "    .dataframe thead th {\n",
       "        text-align: right;\n",
       "    }\n",
       "</style>\n",
       "<table border=\"1\" class=\"dataframe\">\n",
       "  <thead>\n",
       "    <tr style=\"text-align: right;\">\n",
       "      <th></th>\n",
       "      <th>HedefDurum2</th>\n",
       "      <th>Id</th>\n",
       "      <th>Ad</th>\n",
       "      <th>Cinsiyet</th>\n",
       "      <th>Uretim</th>\n",
       "      <th>DepId</th>\n",
       "      <th>AktifMi</th>\n",
       "      <th>HedefDurum</th>\n",
       "    </tr>\n",
       "  </thead>\n",
       "  <tbody>\n",
       "    <tr>\n",
       "      <th>Bursa</th>\n",
       "      <td>0.24</td>\n",
       "      <td>1</td>\n",
       "      <td>Ali</td>\n",
       "      <td>E</td>\n",
       "      <td>120.0</td>\n",
       "      <td>NaN</td>\n",
       "      <td>True</td>\n",
       "      <td>0.24</td>\n",
       "    </tr>\n",
       "    <tr>\n",
       "      <th>Bursa</th>\n",
       "      <td>NaN</td>\n",
       "      <td>2</td>\n",
       "      <td>Veli</td>\n",
       "      <td>E</td>\n",
       "      <td>NaN</td>\n",
       "      <td>NaN</td>\n",
       "      <td>True</td>\n",
       "      <td>NaN</td>\n",
       "    </tr>\n",
       "    <tr>\n",
       "      <th>Bolu</th>\n",
       "      <td>0.50</td>\n",
       "      <td>3</td>\n",
       "      <td>Ayşe</td>\n",
       "      <td>None</td>\n",
       "      <td>250.0</td>\n",
       "      <td>NaN</td>\n",
       "      <td>True</td>\n",
       "      <td>0.50</td>\n",
       "    </tr>\n",
       "    <tr>\n",
       "      <th>Bolu</th>\n",
       "      <td>0.70</td>\n",
       "      <td>4</td>\n",
       "      <td>Fatma</td>\n",
       "      <td>K</td>\n",
       "      <td>350.0</td>\n",
       "      <td>NaN</td>\n",
       "      <td>True</td>\n",
       "      <td>0.70</td>\n",
       "    </tr>\n",
       "    <tr>\n",
       "      <th>İzmir</th>\n",
       "      <td>NaN</td>\n",
       "      <td>5</td>\n",
       "      <td>Tonguç</td>\n",
       "      <td>E</td>\n",
       "      <td>NaN</td>\n",
       "      <td>NaN</td>\n",
       "      <td>True</td>\n",
       "      <td>NaN</td>\n",
       "    </tr>\n",
       "    <tr>\n",
       "      <th>Uzay</th>\n",
       "      <td>NaN</td>\n",
       "      <td>120</td>\n",
       "      <td>XMan</td>\n",
       "      <td>E</td>\n",
       "      <td>NaN</td>\n",
       "      <td>NaN</td>\n",
       "      <td>True</td>\n",
       "      <td>NaN</td>\n",
       "    </tr>\n",
       "  </tbody>\n",
       "</table>\n",
       "</div>"
      ],
      "text/plain": [
       "       HedefDurum2   Id      Ad Cinsiyet  Uretim DepId  AktifMi  HedefDurum\n",
       "Bursa         0.24    1     Ali        E   120.0   NaN     True        0.24\n",
       "Bursa          NaN    2    Veli        E     NaN   NaN     True         NaN\n",
       "Bolu          0.50    3    Ayşe     None   250.0   NaN     True        0.50\n",
       "Bolu          0.70    4   Fatma        K   350.0   NaN     True        0.70\n",
       "İzmir          NaN    5  Tonguç        E     NaN   NaN     True         NaN\n",
       "Uzay           NaN  120    XMan        E     NaN   NaN     True         NaN"
      ]
     },
     "execution_count": 121,
     "metadata": {},
     "output_type": "execute_result"
    }
   ],
   "source": [
    "#örn: hedefim % kaçında olduğumuz yeni kolonda tutalım\n",
    "hedef_Uretim = 500\n",
    "\n",
    "ekip[\"HedefDurum\"] = ekip.Uretim / hedef_Uretim\n",
    "ekip.insert(0,\"HedefDurum2\",ekip.Uretim / hedef_Uretim) #kolonu belirli bir konuma ekler.\n",
    "\n",
    "ekip"
   ]
  },
  {
   "cell_type": "markdown",
   "metadata": {},
   "source": [
    "#### Eval Kullanımı\n"
   ]
  },
  {
   "cell_type": "code",
   "execution_count": 122,
   "metadata": {},
   "outputs": [
    {
     "data": {
      "text/html": [
       "<div>\n",
       "<style scoped>\n",
       "    .dataframe tbody tr th:only-of-type {\n",
       "        vertical-align: middle;\n",
       "    }\n",
       "\n",
       "    .dataframe tbody tr th {\n",
       "        vertical-align: top;\n",
       "    }\n",
       "\n",
       "    .dataframe thead th {\n",
       "        text-align: right;\n",
       "    }\n",
       "</style>\n",
       "<table border=\"1\" class=\"dataframe\">\n",
       "  <thead>\n",
       "    <tr style=\"text-align: right;\">\n",
       "      <th></th>\n",
       "      <th>HedefDurum2</th>\n",
       "      <th>Id</th>\n",
       "      <th>Ad</th>\n",
       "      <th>Cinsiyet</th>\n",
       "      <th>Uretim</th>\n",
       "      <th>DepId</th>\n",
       "      <th>AktifMi</th>\n",
       "      <th>HedefDurum</th>\n",
       "      <th>GelecekYilUretim</th>\n",
       "      <th>SonrakiYilUretim</th>\n",
       "    </tr>\n",
       "  </thead>\n",
       "  <tbody>\n",
       "    <tr>\n",
       "      <th>Bursa</th>\n",
       "      <td>0.24</td>\n",
       "      <td>1</td>\n",
       "      <td>Ali</td>\n",
       "      <td>E</td>\n",
       "      <td>120.0</td>\n",
       "      <td>NaN</td>\n",
       "      <td>True</td>\n",
       "      <td>0.24</td>\n",
       "      <td>144.0</td>\n",
       "      <td>172.875</td>\n",
       "    </tr>\n",
       "    <tr>\n",
       "      <th>Bursa</th>\n",
       "      <td>NaN</td>\n",
       "      <td>2</td>\n",
       "      <td>Veli</td>\n",
       "      <td>E</td>\n",
       "      <td>NaN</td>\n",
       "      <td>NaN</td>\n",
       "      <td>True</td>\n",
       "      <td>NaN</td>\n",
       "      <td>NaN</td>\n",
       "      <td>NaN</td>\n",
       "    </tr>\n",
       "    <tr>\n",
       "      <th>Bolu</th>\n",
       "      <td>0.50</td>\n",
       "      <td>3</td>\n",
       "      <td>Ayşe</td>\n",
       "      <td>None</td>\n",
       "      <td>250.0</td>\n",
       "      <td>NaN</td>\n",
       "      <td>True</td>\n",
       "      <td>0.50</td>\n",
       "      <td>300.0</td>\n",
       "      <td>360.000</td>\n",
       "    </tr>\n",
       "    <tr>\n",
       "      <th>Bolu</th>\n",
       "      <td>0.70</td>\n",
       "      <td>4</td>\n",
       "      <td>Fatma</td>\n",
       "      <td>K</td>\n",
       "      <td>350.0</td>\n",
       "      <td>NaN</td>\n",
       "      <td>True</td>\n",
       "      <td>0.70</td>\n",
       "      <td>420.0</td>\n",
       "      <td>504.000</td>\n",
       "    </tr>\n",
       "    <tr>\n",
       "      <th>İzmir</th>\n",
       "      <td>NaN</td>\n",
       "      <td>5</td>\n",
       "      <td>Tonguç</td>\n",
       "      <td>E</td>\n",
       "      <td>NaN</td>\n",
       "      <td>NaN</td>\n",
       "      <td>True</td>\n",
       "      <td>NaN</td>\n",
       "      <td>NaN</td>\n",
       "      <td>NaN</td>\n",
       "    </tr>\n",
       "    <tr>\n",
       "      <th>Uzay</th>\n",
       "      <td>NaN</td>\n",
       "      <td>120</td>\n",
       "      <td>XMan</td>\n",
       "      <td>E</td>\n",
       "      <td>NaN</td>\n",
       "      <td>NaN</td>\n",
       "      <td>True</td>\n",
       "      <td>NaN</td>\n",
       "      <td>NaN</td>\n",
       "      <td>NaN</td>\n",
       "    </tr>\n",
       "  </tbody>\n",
       "</table>\n",
       "</div>"
      ],
      "text/plain": [
       "       HedefDurum2   Id      Ad Cinsiyet  Uretim DepId  AktifMi  HedefDurum  \\\n",
       "Bursa         0.24    1     Ali        E   120.0   NaN     True        0.24   \n",
       "Bursa          NaN    2    Veli        E     NaN   NaN     True         NaN   \n",
       "Bolu          0.50    3    Ayşe     None   250.0   NaN     True        0.50   \n",
       "Bolu          0.70    4   Fatma        K   350.0   NaN     True        0.70   \n",
       "İzmir          NaN    5  Tonguç        E     NaN   NaN     True         NaN   \n",
       "Uzay           NaN  120    XMan        E     NaN   NaN     True         NaN   \n",
       "\n",
       "       GelecekYilUretim  SonrakiYilUretim  \n",
       "Bursa             144.0           172.875  \n",
       "Bursa               NaN               NaN  \n",
       "Bolu              300.0           360.000  \n",
       "Bolu              420.0           504.000  \n",
       "İzmir               NaN               NaN  \n",
       "Uzay                NaN               NaN  "
      ]
     },
     "execution_count": 122,
     "metadata": {},
     "output_type": "execute_result"
    }
   ],
   "source": [
    "#örn:\n",
    "#Gelecek yıl %20 daha fazla üretelim\n",
    "buyumeOrani = 1.2\n",
    "\n",
    "#\n",
    "ekip.eval(\"\"\"\n",
    "            GelecekYilUretim = Uretim * @buyumeOrani\n",
    "            SonrakiYilUretim = GelecekYilUretim * @buyumeOrani\n",
    "\"\"\",inplace=True) \n",
    "\n",
    "ekip"
   ]
  },
  {
   "cell_type": "markdown",
   "metadata": {},
   "source": [
    "#### Satır ve Kolon Kaldırma"
   ]
  },
  {
   "cell_type": "code",
   "execution_count": 123,
   "metadata": {},
   "outputs": [
    {
     "data": {
      "text/html": [
       "<div>\n",
       "<style scoped>\n",
       "    .dataframe tbody tr th:only-of-type {\n",
       "        vertical-align: middle;\n",
       "    }\n",
       "\n",
       "    .dataframe tbody tr th {\n",
       "        vertical-align: top;\n",
       "    }\n",
       "\n",
       "    .dataframe thead th {\n",
       "        text-align: right;\n",
       "    }\n",
       "</style>\n",
       "<table border=\"1\" class=\"dataframe\">\n",
       "  <thead>\n",
       "    <tr style=\"text-align: right;\">\n",
       "      <th></th>\n",
       "      <th>HedefDurum2</th>\n",
       "      <th>Id</th>\n",
       "      <th>Cinsiyet</th>\n",
       "      <th>Uretim</th>\n",
       "      <th>DepId</th>\n",
       "      <th>HedefDurum</th>\n",
       "      <th>GelecekYilUretim</th>\n",
       "      <th>SonrakiYilUretim</th>\n",
       "    </tr>\n",
       "  </thead>\n",
       "  <tbody>\n",
       "    <tr>\n",
       "      <th>Bursa</th>\n",
       "      <td>0.24</td>\n",
       "      <td>1</td>\n",
       "      <td>E</td>\n",
       "      <td>120.0</td>\n",
       "      <td>NaN</td>\n",
       "      <td>0.24</td>\n",
       "      <td>144.0</td>\n",
       "      <td>172.875</td>\n",
       "    </tr>\n",
       "    <tr>\n",
       "      <th>Bursa</th>\n",
       "      <td>NaN</td>\n",
       "      <td>2</td>\n",
       "      <td>E</td>\n",
       "      <td>NaN</td>\n",
       "      <td>NaN</td>\n",
       "      <td>NaN</td>\n",
       "      <td>NaN</td>\n",
       "      <td>NaN</td>\n",
       "    </tr>\n",
       "    <tr>\n",
       "      <th>İzmir</th>\n",
       "      <td>NaN</td>\n",
       "      <td>5</td>\n",
       "      <td>E</td>\n",
       "      <td>NaN</td>\n",
       "      <td>NaN</td>\n",
       "      <td>NaN</td>\n",
       "      <td>NaN</td>\n",
       "      <td>NaN</td>\n",
       "    </tr>\n",
       "  </tbody>\n",
       "</table>\n",
       "</div>"
      ],
      "text/plain": [
       "       HedefDurum2  Id Cinsiyet  Uretim DepId  HedefDurum  GelecekYilUretim  \\\n",
       "Bursa         0.24   1        E   120.0   NaN        0.24             144.0   \n",
       "Bursa          NaN   2        E     NaN   NaN         NaN               NaN   \n",
       "İzmir          NaN   5        E     NaN   NaN         NaN               NaN   \n",
       "\n",
       "       SonrakiYilUretim  \n",
       "Bursa           172.875  \n",
       "Bursa               NaN  \n",
       "İzmir               NaN  "
      ]
     },
     "execution_count": 123,
     "metadata": {},
     "output_type": "execute_result"
    }
   ],
   "source": [
    "ekip.drop(\"AktifMi\", axis=1, errors=\"ignore\", inplace=True) #errors=\"ignore\" hata verirse devam et demek. axis=1 ile kolon siler.\n",
    "\n",
    "#\n",
    "ekip = ekip.drop(index=\"Uzay\")\n",
    "'''\n",
    "    index ile index etiketi yazabiliyoruz\n",
    "    columns ile kolon etiketi yazabiliyoruz\n",
    "\n",
    "    label ile index veya kolon etiketi yazabiliyoruz. axis=0 ise index etiketi, axis=1 ise kolon etiketi olur.\n",
    "'''\n",
    "\n",
    "ekip = ekip.drop(index = \"Bolu\", columns=\"Ad\") #bolu etiketine sahip satırı ve Ad kolonunu siler.\n",
    "#\n",
    "ekip"
   ]
  },
  {
   "cell_type": "markdown",
   "metadata": {},
   "source": [
    "### Her bir hücre için çalışan fonksiyonlar\n",
    "* DF üzerinde çalışanlar\n",
    "  * `applymap()`: her bir hücre için belirtilen fonksiyonu çalıştırır.\n",
    "  * `apply()`: hem df hem de seride çalışabilir. axis parametresi verilebilir. Belirtilen fonksiyonu satır ve kolon bazında çalıştırır.\n",
    "* Seri üzerinde çalışanlar\n",
    "  * `map()` : sadece serilerde kullanılır. her bir hücre için belirtilen fonksiyonu çalıştırır.\n",
    "  * `apply()`\n",
    "* Transform fonksiyonu ile kolon adı belirterek işlem yapabiliriz.\n",
    "  * `transform()`\n",
    "\n",
    "> `map() > apply() > applymap()` seriden - df'e kullanım"
   ]
  },
  {
   "cell_type": "code",
   "execution_count": 124,
   "metadata": {},
   "outputs": [
    {
     "data": {
      "text/plain": [
       "array([[0, 1, 2, 3, 2],\n",
       "       [3, 0, 2, 0, 4],\n",
       "       [0, 2, 3, 1, 4],\n",
       "       [0, 0, 4, 0, 2]])"
      ]
     },
     "execution_count": 124,
     "metadata": {},
     "output_type": "execute_result"
    }
   ],
   "source": [
    "dizi = np.random.randint(5,size=(4,5)) # 0-4 arasında rastgele sayılar üretir. 4x5 matris\n",
    "dizi"
   ]
  },
  {
   "cell_type": "code",
   "execution_count": 125,
   "metadata": {},
   "outputs": [
    {
     "name": "stdout",
     "output_type": "stream",
     "text": [
      "satir=4 ve sutun=5\n"
     ]
    }
   ],
   "source": [
    "dizi.shape\n",
    "dizi.shape[0] #satır sayısı\n",
    "dizi.shape[1] #kolon sayısı\n",
    "\n",
    "#\n",
    "satir, sutun = dizi.shape #unpacking\n",
    "\n",
    "print(f\"{satir=} ve {sutun=}\")"
   ]
  },
  {
   "cell_type": "code",
   "execution_count": 126,
   "metadata": {},
   "outputs": [
    {
     "data": {
      "text/html": [
       "<div>\n",
       "<style scoped>\n",
       "    .dataframe tbody tr th:only-of-type {\n",
       "        vertical-align: middle;\n",
       "    }\n",
       "\n",
       "    .dataframe tbody tr th {\n",
       "        vertical-align: top;\n",
       "    }\n",
       "\n",
       "    .dataframe thead th {\n",
       "        text-align: right;\n",
       "    }\n",
       "</style>\n",
       "<table border=\"1\" class=\"dataframe\">\n",
       "  <thead>\n",
       "    <tr style=\"text-align: right;\">\n",
       "      <th></th>\n",
       "      <th>col_0</th>\n",
       "      <th>col_1</th>\n",
       "      <th>col_2</th>\n",
       "      <th>col_3</th>\n",
       "      <th>col_4</th>\n",
       "    </tr>\n",
       "  </thead>\n",
       "  <tbody>\n",
       "    <tr>\n",
       "      <th>row_0</th>\n",
       "      <td>0</td>\n",
       "      <td>1</td>\n",
       "      <td>2</td>\n",
       "      <td>3</td>\n",
       "      <td>2</td>\n",
       "    </tr>\n",
       "    <tr>\n",
       "      <th>row_1</th>\n",
       "      <td>3</td>\n",
       "      <td>0</td>\n",
       "      <td>2</td>\n",
       "      <td>0</td>\n",
       "      <td>4</td>\n",
       "    </tr>\n",
       "    <tr>\n",
       "      <th>row_2</th>\n",
       "      <td>0</td>\n",
       "      <td>2</td>\n",
       "      <td>3</td>\n",
       "      <td>1</td>\n",
       "      <td>4</td>\n",
       "    </tr>\n",
       "    <tr>\n",
       "      <th>row_3</th>\n",
       "      <td>0</td>\n",
       "      <td>0</td>\n",
       "      <td>4</td>\n",
       "      <td>0</td>\n",
       "      <td>2</td>\n",
       "    </tr>\n",
       "  </tbody>\n",
       "</table>\n",
       "</div>"
      ],
      "text/plain": [
       "       col_0  col_1  col_2  col_3  col_4\n",
       "row_0      0      1      2      3      2\n",
       "row_1      3      0      2      0      4\n",
       "row_2      0      2      3      1      4\n",
       "row_3      0      0      4      0      2"
      ]
     },
     "execution_count": 126,
     "metadata": {},
     "output_type": "execute_result"
    }
   ],
   "source": [
    "df_rastgele = pd.DataFrame(data=dizi, \n",
    "                           #columns=[\"K1\",\"K2\",\"K3\",\"K4\",\"K5\"]\n",
    "                           columns=[f\"col_{s}\" for s in range(sutun)],\n",
    "                           index=[f\"row_{s}\" for s in range(satir)]\n",
    "                        ) \n",
    "\n",
    "df_rastgele"
   ]
  },
  {
   "cell_type": "markdown",
   "metadata": {},
   "source": [
    "##### applymap"
   ]
  },
  {
   "cell_type": "code",
   "execution_count": 127,
   "metadata": {},
   "outputs": [
    {
     "data": {
      "text/html": [
       "<div>\n",
       "<style scoped>\n",
       "    .dataframe tbody tr th:only-of-type {\n",
       "        vertical-align: middle;\n",
       "    }\n",
       "\n",
       "    .dataframe tbody tr th {\n",
       "        vertical-align: top;\n",
       "    }\n",
       "\n",
       "    .dataframe thead th {\n",
       "        text-align: right;\n",
       "    }\n",
       "</style>\n",
       "<table border=\"1\" class=\"dataframe\">\n",
       "  <thead>\n",
       "    <tr style=\"text-align: right;\">\n",
       "      <th></th>\n",
       "      <th>col_0</th>\n",
       "      <th>col_1</th>\n",
       "      <th>col_2</th>\n",
       "      <th>col_3</th>\n",
       "      <th>col_4</th>\n",
       "    </tr>\n",
       "  </thead>\n",
       "  <tbody>\n",
       "    <tr>\n",
       "      <th>row_0</th>\n",
       "      <td>çift</td>\n",
       "      <td>tek</td>\n",
       "      <td>çift</td>\n",
       "      <td>tek</td>\n",
       "      <td>çift</td>\n",
       "    </tr>\n",
       "    <tr>\n",
       "      <th>row_1</th>\n",
       "      <td>tek</td>\n",
       "      <td>çift</td>\n",
       "      <td>çift</td>\n",
       "      <td>çift</td>\n",
       "      <td>çift</td>\n",
       "    </tr>\n",
       "    <tr>\n",
       "      <th>row_2</th>\n",
       "      <td>çift</td>\n",
       "      <td>çift</td>\n",
       "      <td>tek</td>\n",
       "      <td>tek</td>\n",
       "      <td>çift</td>\n",
       "    </tr>\n",
       "    <tr>\n",
       "      <th>row_3</th>\n",
       "      <td>çift</td>\n",
       "      <td>çift</td>\n",
       "      <td>çift</td>\n",
       "      <td>çift</td>\n",
       "      <td>çift</td>\n",
       "    </tr>\n",
       "  </tbody>\n",
       "</table>\n",
       "</div>"
      ],
      "text/plain": [
       "      col_0 col_1 col_2 col_3 col_4\n",
       "row_0  çift   tek  çift   tek  çift\n",
       "row_1   tek  çift  çift  çift  çift\n",
       "row_2  çift  çift   tek   tek  çift\n",
       "row_3  çift  çift  çift  çift  çift"
      ]
     },
     "execution_count": 127,
     "metadata": {},
     "output_type": "execute_result"
    }
   ],
   "source": [
    "df_rastgele.applymap(lambda cell: \"çift\" if cell % 2 == 0 else \"tek\") #yazdığımız foksiyonu hücre hücre uygular."
   ]
  },
  {
   "cell_type": "markdown",
   "metadata": {},
   "source": [
    "#### apply"
   ]
  },
  {
   "cell_type": "code",
   "execution_count": 128,
   "metadata": {},
   "outputs": [
    {
     "data": {
      "text/html": [
       "<div>\n",
       "<style scoped>\n",
       "    .dataframe tbody tr th:only-of-type {\n",
       "        vertical-align: middle;\n",
       "    }\n",
       "\n",
       "    .dataframe tbody tr th {\n",
       "        vertical-align: top;\n",
       "    }\n",
       "\n",
       "    .dataframe thead th {\n",
       "        text-align: right;\n",
       "    }\n",
       "</style>\n",
       "<table border=\"1\" class=\"dataframe\">\n",
       "  <thead>\n",
       "    <tr style=\"text-align: right;\">\n",
       "      <th></th>\n",
       "      <th>col_0</th>\n",
       "      <th>col_1</th>\n",
       "      <th>col_2</th>\n",
       "      <th>col_3</th>\n",
       "      <th>col_4</th>\n",
       "    </tr>\n",
       "  </thead>\n",
       "  <tbody>\n",
       "    <tr>\n",
       "      <th>row_0</th>\n",
       "      <td>0</td>\n",
       "      <td>1</td>\n",
       "      <td>2</td>\n",
       "      <td>3</td>\n",
       "      <td>2</td>\n",
       "    </tr>\n",
       "    <tr>\n",
       "      <th>row_1</th>\n",
       "      <td>3</td>\n",
       "      <td>0</td>\n",
       "      <td>2</td>\n",
       "      <td>0</td>\n",
       "      <td>4</td>\n",
       "    </tr>\n",
       "    <tr>\n",
       "      <th>row_2</th>\n",
       "      <td>0</td>\n",
       "      <td>2</td>\n",
       "      <td>3</td>\n",
       "      <td>1</td>\n",
       "      <td>4</td>\n",
       "    </tr>\n",
       "    <tr>\n",
       "      <th>row_3</th>\n",
       "      <td>0</td>\n",
       "      <td>0</td>\n",
       "      <td>4</td>\n",
       "      <td>0</td>\n",
       "      <td>2</td>\n",
       "    </tr>\n",
       "  </tbody>\n",
       "</table>\n",
       "</div>"
      ],
      "text/plain": [
       "       col_0  col_1  col_2  col_3  col_4\n",
       "row_0      0      1      2      3      2\n",
       "row_1      3      0      2      0      4\n",
       "row_2      0      2      3      1      4\n",
       "row_3      0      0      4      0      2"
      ]
     },
     "execution_count": 128,
     "metadata": {},
     "output_type": "execute_result"
    }
   ],
   "source": [
    "df_rastgele"
   ]
  },
  {
   "cell_type": "code",
   "execution_count": 129,
   "metadata": {},
   "outputs": [
    {
     "data": {
      "text/plain": [
       "row_0    3\n",
       "row_1    4\n",
       "row_2    4\n",
       "row_3    4\n",
       "dtype: int32"
      ]
     },
     "execution_count": 129,
     "metadata": {},
     "output_type": "execute_result"
    }
   ],
   "source": [
    "fnk_MaxMin = lambda rc: rc.max() - rc.min() #axise göre gelen kolon veya satır olabilir.\n",
    "\n",
    "#\n",
    "df_rastgele.apply(fnk_MaxMin, axis=0)  #varsayılan değerdir. satır üzerinde çalışır\n",
    "df_rastgele.apply(fnk_MaxMin, axis=1)  #kolon üzerinde çalışır"
   ]
  },
  {
   "cell_type": "markdown",
   "metadata": {},
   "source": [
    "#### map"
   ]
  },
  {
   "cell_type": "code",
   "execution_count": 130,
   "metadata": {},
   "outputs": [
    {
     "data": {
      "text/plain": [
       "Bursa       ALI\n",
       "Bursa      VELI\n",
       "Bolu       AYŞE\n",
       "Bolu      FATMA\n",
       "İzmir    TONGUÇ\n",
       "Name: Ad, dtype: object"
      ]
     },
     "execution_count": 130,
     "metadata": {},
     "output_type": "execute_result"
    }
   ],
   "source": [
    "ekip = ekipEfor.copy()\n",
    "\n",
    "#\n",
    "ekip.Ad.map(\"Benim adım {}\".format) #fonksiyonu veriyouz. çalıştırmıyoruz. () kullanmıyoruz.\n",
    "ekip.Ad.map(len) #Ad kolonundaki her bir değerin uzunluğunu getirir.\n",
    "ekip.Ad.map(str.upper)\n",
    "\n",
    "#broadcast sağlayan fonksiyon var.\n",
    "ekip.Ad.str.upper() #seri üzerinde çalışır.\n",
    "\n",
    "#map özelikle kendi fonksiyonlarımızı broadcast yapmak için kullanma imkanı verir."
   ]
  },
  {
   "cell_type": "code",
   "execution_count": 131,
   "metadata": {},
   "outputs": [
    {
     "data": {
      "text/html": [
       "<div>\n",
       "<style scoped>\n",
       "    .dataframe tbody tr th:only-of-type {\n",
       "        vertical-align: middle;\n",
       "    }\n",
       "\n",
       "    .dataframe tbody tr th {\n",
       "        vertical-align: top;\n",
       "    }\n",
       "\n",
       "    .dataframe thead th {\n",
       "        text-align: right;\n",
       "    }\n",
       "</style>\n",
       "<table border=\"1\" class=\"dataframe\">\n",
       "  <thead>\n",
       "    <tr style=\"text-align: right;\">\n",
       "      <th></th>\n",
       "      <th>Uretim</th>\n",
       "    </tr>\n",
       "  </thead>\n",
       "  <tbody>\n",
       "    <tr>\n",
       "      <th>Bursa</th>\n",
       "      <td>144.0</td>\n",
       "    </tr>\n",
       "    <tr>\n",
       "      <th>Bursa</th>\n",
       "      <td>NaN</td>\n",
       "    </tr>\n",
       "    <tr>\n",
       "      <th>Bolu</th>\n",
       "      <td>300.0</td>\n",
       "    </tr>\n",
       "    <tr>\n",
       "      <th>Bolu</th>\n",
       "      <td>420.0</td>\n",
       "    </tr>\n",
       "    <tr>\n",
       "      <th>İzmir</th>\n",
       "      <td>NaN</td>\n",
       "    </tr>\n",
       "  </tbody>\n",
       "</table>\n",
       "</div>"
      ],
      "text/plain": [
       "       Uretim\n",
       "Bursa   144.0\n",
       "Bursa     NaN\n",
       "Bolu    300.0\n",
       "Bolu    420.0\n",
       "İzmir     NaN"
      ]
     },
     "execution_count": 131,
     "metadata": {},
     "output_type": "execute_result"
    }
   ],
   "source": [
    "#df.transform(lambda x: x*2) #kolon bazında çalışır.\n",
    "ekip.transform({\"Uretim\":lambda x: x*1.20})"
   ]
  },
  {
   "cell_type": "markdown",
   "metadata": {},
   "source": [
    "### Veri Gruplama\n",
    "* `groupby` bir şeye göre gruplamamızı sağlar. gruplanmış özeli bir df döner.\n",
    "* `agg` ile gruplanmış veriler üzerinde işlem yapılabilir.\n",
    "  * Normalde `count` gibi bir fonksiyon direkt olarak kullanılabilir. \n",
    "  * Ancak birden fazla özetleme fonksiyon kullanılacaksa `agg` kullanılır."
   ]
  },
  {
   "cell_type": "markdown",
   "metadata": {},
   "source": [
    "#### Groupby ile gruplama"
   ]
  },
  {
   "cell_type": "code",
   "execution_count": 132,
   "metadata": {},
   "outputs": [
    {
     "data": {
      "text/plain": [
       "Cinsiyet\n",
       "E    120.0\n",
       "K    350.0\n",
       "Name: Uretim, dtype: float16"
      ]
     },
     "execution_count": 132,
     "metadata": {},
     "output_type": "execute_result"
    }
   ],
   "source": [
    "df_gruplanmis = ekip.groupby(by=[\"Cinsiyet\"]) #DataFrameGroupBy \n",
    "\n",
    "#\n",
    "df_gruplanmis.groups #grupların indexlerini verir.\n",
    "df_gruplanmis.get_group(\"E\") #gruplanmış verileri getirir.\n",
    "\n",
    "#\n",
    "df_gruplanmis.count()\n",
    "#df_gruplanmis.mean() #metinsel alanlar olduğu için hata verir.\n",
    "\n",
    "#\n",
    "df_gruplanmis.Uretim.mean() #gruplanmış verilerin ortalamasını alır.\n",
    "df_gruplanmis[\"Uretim\"].sum()"
   ]
  },
  {
   "cell_type": "code",
   "execution_count": 133,
   "metadata": {},
   "outputs": [
    {
     "data": {
      "text/html": [
       "<div>\n",
       "<style scoped>\n",
       "    .dataframe tbody tr th:only-of-type {\n",
       "        vertical-align: middle;\n",
       "    }\n",
       "\n",
       "    .dataframe tbody tr th {\n",
       "        vertical-align: top;\n",
       "    }\n",
       "\n",
       "    .dataframe thead th {\n",
       "        text-align: right;\n",
       "    }\n",
       "</style>\n",
       "<table border=\"1\" class=\"dataframe\">\n",
       "  <thead>\n",
       "    <tr style=\"text-align: right;\">\n",
       "      <th></th>\n",
       "      <th></th>\n",
       "      <th>Id</th>\n",
       "      <th>Uretim</th>\n",
       "      <th>DepId</th>\n",
       "    </tr>\n",
       "    <tr>\n",
       "      <th>Cinsiyet</th>\n",
       "      <th>Ad</th>\n",
       "      <th></th>\n",
       "      <th></th>\n",
       "      <th></th>\n",
       "    </tr>\n",
       "  </thead>\n",
       "  <tbody>\n",
       "    <tr>\n",
       "      <th rowspan=\"3\" valign=\"top\">E</th>\n",
       "      <th>Ali</th>\n",
       "      <td>1</td>\n",
       "      <td>120.0</td>\n",
       "      <td>0</td>\n",
       "    </tr>\n",
       "    <tr>\n",
       "      <th>Tonguç</th>\n",
       "      <td>5</td>\n",
       "      <td>0.0</td>\n",
       "      <td>0</td>\n",
       "    </tr>\n",
       "    <tr>\n",
       "      <th>Veli</th>\n",
       "      <td>2</td>\n",
       "      <td>0.0</td>\n",
       "      <td>0</td>\n",
       "    </tr>\n",
       "    <tr>\n",
       "      <th>K</th>\n",
       "      <th>Fatma</th>\n",
       "      <td>4</td>\n",
       "      <td>350.0</td>\n",
       "      <td>0</td>\n",
       "    </tr>\n",
       "  </tbody>\n",
       "</table>\n",
       "</div>"
      ],
      "text/plain": [
       "                 Id  Uretim DepId\n",
       "Cinsiyet Ad                      \n",
       "E        Ali      1   120.0     0\n",
       "         Tonguç   5     0.0     0\n",
       "         Veli     2     0.0     0\n",
       "K        Fatma    4   350.0     0"
      ]
     },
     "execution_count": 133,
     "metadata": {},
     "output_type": "execute_result"
    }
   ],
   "source": [
    "ekip.groupby(by=[\"Cinsiyet\",\"Ad\"]).sum() #ortaya hiyerarşik bir yapı çıkarır."
   ]
  },
  {
   "cell_type": "markdown",
   "metadata": {},
   "source": [
    "##### agg ile birden fazla işlem yapılabilir.\n",
    "* min, max, mean, sum, count, std, var, first, last, mad, median, mode, prod, sem, skew, kurt, quantile, cummax, cummin, cumsum, cumprod, diff, pct_change"
   ]
  },
  {
   "cell_type": "code",
   "execution_count": 134,
   "metadata": {},
   "outputs": [
    {
     "data": {
      "text/html": [
       "<div>\n",
       "<style scoped>\n",
       "    .dataframe tbody tr th:only-of-type {\n",
       "        vertical-align: middle;\n",
       "    }\n",
       "\n",
       "    .dataframe tbody tr th {\n",
       "        vertical-align: top;\n",
       "    }\n",
       "\n",
       "    .dataframe thead th {\n",
       "        text-align: right;\n",
       "    }\n",
       "</style>\n",
       "<table border=\"1\" class=\"dataframe\">\n",
       "  <thead>\n",
       "    <tr style=\"text-align: right;\">\n",
       "      <th></th>\n",
       "      <th>count</th>\n",
       "      <th>mean</th>\n",
       "      <th>sum</th>\n",
       "      <th>min</th>\n",
       "      <th>max</th>\n",
       "      <th>std</th>\n",
       "      <th>median</th>\n",
       "    </tr>\n",
       "  </thead>\n",
       "  <tbody>\n",
       "    <tr>\n",
       "      <th>Id</th>\n",
       "      <td>5.0</td>\n",
       "      <td>3.0</td>\n",
       "      <td>15.0</td>\n",
       "      <td>1.0</td>\n",
       "      <td>5.0</td>\n",
       "      <td>1.581139</td>\n",
       "      <td>3.0</td>\n",
       "    </tr>\n",
       "    <tr>\n",
       "      <th>Uretim</th>\n",
       "      <td>3.0</td>\n",
       "      <td>240.0</td>\n",
       "      <td>720.0</td>\n",
       "      <td>120.0</td>\n",
       "      <td>350.0</td>\n",
       "      <td>115.312500</td>\n",
       "      <td>250.0</td>\n",
       "    </tr>\n",
       "  </tbody>\n",
       "</table>\n",
       "</div>"
      ],
      "text/plain": [
       "        count   mean    sum    min    max         std  median\n",
       "Id        5.0    3.0   15.0    1.0    5.0    1.581139     3.0\n",
       "Uretim    3.0  240.0  720.0  120.0  350.0  115.312500   250.0"
      ]
     },
     "execution_count": 134,
     "metadata": {},
     "output_type": "execute_result"
    }
   ],
   "source": [
    "ekip_sayisal = ekip.loc[:,[\"Id\",\"Uretim\"]]\n",
    "\n",
    "#\n",
    "ekip_sayisal.count()\n",
    "\n",
    "#agg birden fazla özetleme işlemi yapma imkanı oldu.\n",
    "ekip_sayisal.agg([\"count\",\"mean\",\"sum\",\"min\",\"max\",\"std\",\"median\"]).T #tüm kolonlar için count, mean, sum işlemlerini yapar. T ile transpoze eder."
   ]
  },
  {
   "cell_type": "code",
   "execution_count": 135,
   "metadata": {},
   "outputs": [
    {
     "data": {
      "text/plain": [
       "{'Ad': 'veli'}"
      ]
     },
     "execution_count": 135,
     "metadata": {},
     "output_type": "execute_result"
    }
   ],
   "source": [
    "#aynı keyden birden fazla tanım yapılabilir. Son tanım geçerli olur. dict özel durum\n",
    "{\n",
    "    \"Ad\":\"Ali\",\n",
    "    \"Ad\":\"veli\"\n",
    "}"
   ]
  },
  {
   "cell_type": "code",
   "execution_count": 136,
   "metadata": {},
   "outputs": [
    {
     "data": {
      "text/html": [
       "<div>\n",
       "<style scoped>\n",
       "    .dataframe tbody tr th:only-of-type {\n",
       "        vertical-align: middle;\n",
       "    }\n",
       "\n",
       "    .dataframe tbody tr th {\n",
       "        vertical-align: top;\n",
       "    }\n",
       "\n",
       "    .dataframe thead th {\n",
       "        text-align: right;\n",
       "    }\n",
       "</style>\n",
       "<table border=\"1\" class=\"dataframe\">\n",
       "  <thead>\n",
       "    <tr style=\"text-align: right;\">\n",
       "      <th></th>\n",
       "      <th>Id</th>\n",
       "      <th>Uretim</th>\n",
       "      <th>Cinsiyet</th>\n",
       "    </tr>\n",
       "  </thead>\n",
       "  <tbody>\n",
       "    <tr>\n",
       "      <th>count</th>\n",
       "      <td>5.0</td>\n",
       "      <td>3.0000</td>\n",
       "      <td>4.0</td>\n",
       "    </tr>\n",
       "    <tr>\n",
       "      <th>min</th>\n",
       "      <td>1.0</td>\n",
       "      <td>120.0000</td>\n",
       "      <td>-</td>\n",
       "    </tr>\n",
       "    <tr>\n",
       "      <th>max</th>\n",
       "      <td>5.0</td>\n",
       "      <td>350.0000</td>\n",
       "      <td>-</td>\n",
       "    </tr>\n",
       "    <tr>\n",
       "      <th>mean</th>\n",
       "      <td>-</td>\n",
       "      <td>240.0000</td>\n",
       "      <td>-</td>\n",
       "    </tr>\n",
       "    <tr>\n",
       "      <th>sum</th>\n",
       "      <td>-</td>\n",
       "      <td>720.0000</td>\n",
       "      <td>-</td>\n",
       "    </tr>\n",
       "    <tr>\n",
       "      <th>std</th>\n",
       "      <td>-</td>\n",
       "      <td>115.3125</td>\n",
       "      <td>-</td>\n",
       "    </tr>\n",
       "    <tr>\n",
       "      <th>median</th>\n",
       "      <td>-</td>\n",
       "      <td>250.0000</td>\n",
       "      <td>-</td>\n",
       "    </tr>\n",
       "  </tbody>\n",
       "</table>\n",
       "</div>"
      ],
      "text/plain": [
       "         Id    Uretim Cinsiyet\n",
       "count   5.0    3.0000      4.0\n",
       "min     1.0  120.0000        -\n",
       "max     5.0  350.0000        -\n",
       "mean      -  240.0000        -\n",
       "sum       -  720.0000        -\n",
       "std       -  115.3125        -\n",
       "median    -  250.0000        -"
      ]
     },
     "execution_count": 136,
     "metadata": {},
     "output_type": "execute_result"
    }
   ],
   "source": [
    "#hangi kolonda hangi özetleme işlemi yapılacak\n",
    "ekip.agg({\n",
    "        \"Id\":[\"count\",\"min\",\"max\"],\n",
    "        \"Uretim\":[\"count\",\"mean\",\"sum\",\"min\",\"max\",\"std\",\"median\"],\n",
    "        #\"Cinsiyet\":\"value_counts\"\n",
    "        \"Cinsiyet\":\"count\" #nunique\n",
    "        }).fillna(\"-\") #eksik değerler için - basar."
   ]
  },
  {
   "cell_type": "markdown",
   "metadata": {},
   "source": [
    "#### groupby ile agg birlikte kullanalım"
   ]
  },
  {
   "cell_type": "code",
   "execution_count": 137,
   "metadata": {},
   "outputs": [
    {
     "data": {
      "text/html": [
       "<div>\n",
       "<style scoped>\n",
       "    .dataframe tbody tr th:only-of-type {\n",
       "        vertical-align: middle;\n",
       "    }\n",
       "\n",
       "    .dataframe tbody tr th {\n",
       "        vertical-align: top;\n",
       "    }\n",
       "\n",
       "    .dataframe thead tr th {\n",
       "        text-align: left;\n",
       "    }\n",
       "\n",
       "    .dataframe thead tr:last-of-type th {\n",
       "        text-align: right;\n",
       "    }\n",
       "</style>\n",
       "<table border=\"1\" class=\"dataframe\">\n",
       "  <thead>\n",
       "    <tr>\n",
       "      <th></th>\n",
       "      <th colspan=\"3\" halign=\"left\">Uretim</th>\n",
       "      <th colspan=\"2\" halign=\"left\">Id</th>\n",
       "    </tr>\n",
       "    <tr>\n",
       "      <th></th>\n",
       "      <th>sum</th>\n",
       "      <th>max</th>\n",
       "      <th>min</th>\n",
       "      <th>max</th>\n",
       "      <th>min</th>\n",
       "    </tr>\n",
       "    <tr>\n",
       "      <th>Cinsiyet</th>\n",
       "      <th></th>\n",
       "      <th></th>\n",
       "      <th></th>\n",
       "      <th></th>\n",
       "      <th></th>\n",
       "    </tr>\n",
       "  </thead>\n",
       "  <tbody>\n",
       "    <tr>\n",
       "      <th>E</th>\n",
       "      <td>120.0</td>\n",
       "      <td>120.0</td>\n",
       "      <td>120.0</td>\n",
       "      <td>5</td>\n",
       "      <td>1</td>\n",
       "    </tr>\n",
       "    <tr>\n",
       "      <th>K</th>\n",
       "      <td>350.0</td>\n",
       "      <td>350.0</td>\n",
       "      <td>350.0</td>\n",
       "      <td>4</td>\n",
       "      <td>4</td>\n",
       "    </tr>\n",
       "  </tbody>\n",
       "</table>\n",
       "</div>"
      ],
      "text/plain": [
       "         Uretim                Id    \n",
       "            sum    max    min max min\n",
       "Cinsiyet                             \n",
       "E         120.0  120.0  120.0   5   1\n",
       "K         350.0  350.0  350.0   4   4"
      ]
     },
     "execution_count": 137,
     "metadata": {},
     "output_type": "execute_result"
    }
   ],
   "source": [
    "ekip.groupby(by=[\"Cinsiyet\"]).count()\n",
    "\n",
    "#\n",
    "ekip.groupby(by=[\"Cinsiyet\"]).agg([\"count\",\"max\",\"min\"])\n",
    "\n",
    "#\n",
    "ekip.groupby(by=[\"Cinsiyet\"]).agg({\n",
    "                                    \"Uretim\":[\"sum\",\"max\",\"min\"],\n",
    "                                    \"Id\":[\"max\",\"min\"]\n",
    "                                })"
   ]
  },
  {
   "cell_type": "code",
   "execution_count": 138,
   "metadata": {},
   "outputs": [
    {
     "data": {
      "text/html": [
       "<div>\n",
       "<style scoped>\n",
       "    .dataframe tbody tr th:only-of-type {\n",
       "        vertical-align: middle;\n",
       "    }\n",
       "\n",
       "    .dataframe tbody tr th {\n",
       "        vertical-align: top;\n",
       "    }\n",
       "\n",
       "    .dataframe thead tr th {\n",
       "        text-align: left;\n",
       "    }\n",
       "</style>\n",
       "<table border=\"1\" class=\"dataframe\">\n",
       "  <thead>\n",
       "    <tr>\n",
       "      <th></th>\n",
       "      <th>Cinsiyet</th>\n",
       "      <th colspan=\"3\" halign=\"left\">Uretim</th>\n",
       "      <th colspan=\"2\" halign=\"left\">Id</th>\n",
       "    </tr>\n",
       "    <tr>\n",
       "      <th></th>\n",
       "      <th></th>\n",
       "      <th>sum</th>\n",
       "      <th>max</th>\n",
       "      <th>min</th>\n",
       "      <th>max</th>\n",
       "      <th>min</th>\n",
       "    </tr>\n",
       "  </thead>\n",
       "  <tbody>\n",
       "    <tr>\n",
       "      <th>0</th>\n",
       "      <td>E</td>\n",
       "      <td>120.0</td>\n",
       "      <td>120.0</td>\n",
       "      <td>120.0</td>\n",
       "      <td>5</td>\n",
       "      <td>1</td>\n",
       "    </tr>\n",
       "    <tr>\n",
       "      <th>1</th>\n",
       "      <td>K</td>\n",
       "      <td>350.0</td>\n",
       "      <td>350.0</td>\n",
       "      <td>350.0</td>\n",
       "      <td>4</td>\n",
       "      <td>4</td>\n",
       "    </tr>\n",
       "  </tbody>\n",
       "</table>\n",
       "</div>"
      ],
      "text/plain": [
       "  Cinsiyet Uretim                Id    \n",
       "              sum    max    min max min\n",
       "0        E  120.0  120.0  120.0   5   1\n",
       "1        K  350.0  350.0  350.0   4   4"
      ]
     },
     "execution_count": 138,
     "metadata": {},
     "output_type": "execute_result"
    }
   ],
   "source": [
    "df_hiyerarsik = ekip.groupby(by=[\"Cinsiyet\"]).agg({\n",
    "                                                    \"Uretim\":[\"sum\",\"max\",\"min\"],\n",
    "                                                    \"Id\":[\"max\",\"min\"]\n",
    "                                                })\n",
    "\n",
    "#-\n",
    "df_hiyerarsik = df_hiyerarsik.reset_index()\n",
    "df_hiyerarsik "
   ]
  },
  {
   "cell_type": "code",
   "execution_count": 139,
   "metadata": {},
   "outputs": [
    {
     "data": {
      "text/html": [
       "<div>\n",
       "<style scoped>\n",
       "    .dataframe tbody tr th:only-of-type {\n",
       "        vertical-align: middle;\n",
       "    }\n",
       "\n",
       "    .dataframe tbody tr th {\n",
       "        vertical-align: top;\n",
       "    }\n",
       "\n",
       "    .dataframe thead th {\n",
       "        text-align: right;\n",
       "    }\n",
       "</style>\n",
       "<table border=\"1\" class=\"dataframe\">\n",
       "  <thead>\n",
       "    <tr style=\"text-align: right;\">\n",
       "      <th></th>\n",
       "      <th>sum</th>\n",
       "      <th>max</th>\n",
       "      <th>min</th>\n",
       "    </tr>\n",
       "  </thead>\n",
       "  <tbody>\n",
       "    <tr>\n",
       "      <th>0</th>\n",
       "      <td>120.0</td>\n",
       "      <td>120.0</td>\n",
       "      <td>120.0</td>\n",
       "    </tr>\n",
       "    <tr>\n",
       "      <th>1</th>\n",
       "      <td>350.0</td>\n",
       "      <td>350.0</td>\n",
       "      <td>350.0</td>\n",
       "    </tr>\n",
       "  </tbody>\n",
       "</table>\n",
       "</div>"
      ],
      "text/plain": [
       "     sum    max    min\n",
       "0  120.0  120.0  120.0\n",
       "1  350.0  350.0  350.0"
      ]
     },
     "execution_count": 139,
     "metadata": {},
     "output_type": "execute_result"
    }
   ],
   "source": [
    "df_hiyerarsik.loc[:,\"Uretim\"]"
   ]
  },
  {
   "cell_type": "code",
   "execution_count": 140,
   "metadata": {},
   "outputs": [
    {
     "data": {
      "text/html": [
       "<div>\n",
       "<style scoped>\n",
       "    .dataframe tbody tr th:only-of-type {\n",
       "        vertical-align: middle;\n",
       "    }\n",
       "\n",
       "    .dataframe tbody tr th {\n",
       "        vertical-align: top;\n",
       "    }\n",
       "\n",
       "    .dataframe thead tr th {\n",
       "        text-align: left;\n",
       "    }\n",
       "</style>\n",
       "<table border=\"1\" class=\"dataframe\">\n",
       "  <thead>\n",
       "    <tr>\n",
       "      <th></th>\n",
       "      <th colspan=\"2\" halign=\"left\">Uretim</th>\n",
       "    </tr>\n",
       "    <tr>\n",
       "      <th></th>\n",
       "      <th>max</th>\n",
       "      <th>min</th>\n",
       "    </tr>\n",
       "  </thead>\n",
       "  <tbody>\n",
       "    <tr>\n",
       "      <th>0</th>\n",
       "      <td>120.0</td>\n",
       "      <td>120.0</td>\n",
       "    </tr>\n",
       "    <tr>\n",
       "      <th>1</th>\n",
       "      <td>350.0</td>\n",
       "      <td>350.0</td>\n",
       "    </tr>\n",
       "  </tbody>\n",
       "</table>\n",
       "</div>"
      ],
      "text/plain": [
       "  Uretim       \n",
       "     max    min\n",
       "0  120.0  120.0\n",
       "1  350.0  350.0"
      ]
     },
     "execution_count": 140,
     "metadata": {},
     "output_type": "execute_result"
    }
   ],
   "source": [
    "df_hiyerarsik.loc[:,(\"Uretim\",[\"max\",\"min\"] )] #Üretim kolonu altındaki max, min kolonarını çektik."
   ]
  },
  {
   "cell_type": "markdown",
   "metadata": {},
   "source": [
    "### Birden Fazla DF'i Birleştirmek\n",
    "* `merge` ve `join`\n",
    "* `concat`\n",
    "  * axis verilerek dikey ve yatay birleştirilbilir.\n",
    "  * `pd.concat(df1, df2, axis=0)` axis=0 ile dikey(union) , axis=1 ile yanyana birleştirme"
   ]
  },
  {
   "cell_type": "code",
   "execution_count": 141,
   "metadata": {},
   "outputs": [
    {
     "data": {
      "text/html": [
       "<div>\n",
       "<style scoped>\n",
       "    .dataframe tbody tr th:only-of-type {\n",
       "        vertical-align: middle;\n",
       "    }\n",
       "\n",
       "    .dataframe tbody tr th {\n",
       "        vertical-align: top;\n",
       "    }\n",
       "\n",
       "    .dataframe thead th {\n",
       "        text-align: right;\n",
       "    }\n",
       "</style>\n",
       "<table border=\"1\" class=\"dataframe\">\n",
       "  <thead>\n",
       "    <tr style=\"text-align: right;\">\n",
       "      <th></th>\n",
       "      <th>Id</th>\n",
       "      <th>Ad</th>\n",
       "      <th>Cinsiyet</th>\n",
       "      <th>Uretim</th>\n",
       "      <th>DepId</th>\n",
       "    </tr>\n",
       "  </thead>\n",
       "  <tbody>\n",
       "    <tr>\n",
       "      <th>Bursa</th>\n",
       "      <td>1</td>\n",
       "      <td>Ali</td>\n",
       "      <td>E</td>\n",
       "      <td>120.0</td>\n",
       "      <td>1</td>\n",
       "    </tr>\n",
       "    <tr>\n",
       "      <th>Bursa</th>\n",
       "      <td>2</td>\n",
       "      <td>Veli</td>\n",
       "      <td>E</td>\n",
       "      <td>NaN</td>\n",
       "      <td>2</td>\n",
       "    </tr>\n",
       "    <tr>\n",
       "      <th>Bolu</th>\n",
       "      <td>3</td>\n",
       "      <td>Ayşe</td>\n",
       "      <td>None</td>\n",
       "      <td>250.0</td>\n",
       "      <td>3</td>\n",
       "    </tr>\n",
       "    <tr>\n",
       "      <th>Bolu</th>\n",
       "      <td>4</td>\n",
       "      <td>Fatma</td>\n",
       "      <td>K</td>\n",
       "      <td>350.0</td>\n",
       "      <td>1</td>\n",
       "    </tr>\n",
       "    <tr>\n",
       "      <th>İzmir</th>\n",
       "      <td>5</td>\n",
       "      <td>Tonguç</td>\n",
       "      <td>E</td>\n",
       "      <td>NaN</td>\n",
       "      <td>2</td>\n",
       "    </tr>\n",
       "  </tbody>\n",
       "</table>\n",
       "</div>"
      ],
      "text/plain": [
       "       Id      Ad Cinsiyet  Uretim  DepId\n",
       "Bursa   1     Ali        E   120.0      1\n",
       "Bursa   2    Veli        E     NaN      2\n",
       "Bolu    3    Ayşe     None   250.0      3\n",
       "Bolu    4   Fatma        K   350.0      1\n",
       "İzmir   5  Tonguç        E     NaN      2"
      ]
     },
     "execution_count": 141,
     "metadata": {},
     "output_type": "execute_result"
    }
   ],
   "source": [
    "departman\n",
    "ekip.DepId = [1,2,3,1,2] #departmanlar atıyalım\n",
    "\n",
    "ekip"
   ]
  },
  {
   "cell_type": "markdown",
   "metadata": {},
   "source": [
    "#### merge\n",
    "* sql'deki joine tekabul eder. tabloları yanyana bir kurala göre birleştirmemixz sağlar.\n",
    "* `left, right, inner, outer` yöntemleri birleştirebilir."
   ]
  },
  {
   "cell_type": "code",
   "execution_count": 142,
   "metadata": {},
   "outputs": [
    {
     "data": {
      "text/html": [
       "<div>\n",
       "<style scoped>\n",
       "    .dataframe tbody tr th:only-of-type {\n",
       "        vertical-align: middle;\n",
       "    }\n",
       "\n",
       "    .dataframe tbody tr th {\n",
       "        vertical-align: top;\n",
       "    }\n",
       "\n",
       "    .dataframe thead th {\n",
       "        text-align: right;\n",
       "    }\n",
       "</style>\n",
       "<table border=\"1\" class=\"dataframe\">\n",
       "  <thead>\n",
       "    <tr style=\"text-align: right;\">\n",
       "      <th></th>\n",
       "      <th>Id</th>\n",
       "      <th>Ad</th>\n",
       "      <th>Cinsiyet</th>\n",
       "      <th>Uretim</th>\n",
       "      <th>DepId</th>\n",
       "      <th>DepAd</th>\n",
       "    </tr>\n",
       "  </thead>\n",
       "  <tbody>\n",
       "    <tr>\n",
       "      <th>0</th>\n",
       "      <td>1</td>\n",
       "      <td>Ali</td>\n",
       "      <td>E</td>\n",
       "      <td>120.0</td>\n",
       "      <td>1</td>\n",
       "      <td>Departman A</td>\n",
       "    </tr>\n",
       "    <tr>\n",
       "      <th>1</th>\n",
       "      <td>4</td>\n",
       "      <td>Fatma</td>\n",
       "      <td>K</td>\n",
       "      <td>350.0</td>\n",
       "      <td>1</td>\n",
       "      <td>Departman A</td>\n",
       "    </tr>\n",
       "    <tr>\n",
       "      <th>2</th>\n",
       "      <td>2</td>\n",
       "      <td>Veli</td>\n",
       "      <td>E</td>\n",
       "      <td>NaN</td>\n",
       "      <td>2</td>\n",
       "      <td>Departman B</td>\n",
       "    </tr>\n",
       "    <tr>\n",
       "      <th>3</th>\n",
       "      <td>5</td>\n",
       "      <td>Tonguç</td>\n",
       "      <td>E</td>\n",
       "      <td>NaN</td>\n",
       "      <td>2</td>\n",
       "      <td>Departman B</td>\n",
       "    </tr>\n",
       "    <tr>\n",
       "      <th>4</th>\n",
       "      <td>3</td>\n",
       "      <td>Ayşe</td>\n",
       "      <td>None</td>\n",
       "      <td>250.0</td>\n",
       "      <td>3</td>\n",
       "      <td>Departman C</td>\n",
       "    </tr>\n",
       "  </tbody>\n",
       "</table>\n",
       "</div>"
      ],
      "text/plain": [
       "   Id      Ad Cinsiyet  Uretim  DepId        DepAd\n",
       "0   1     Ali        E   120.0      1  Departman A\n",
       "1   4   Fatma        K   350.0      1  Departman A\n",
       "2   2    Veli        E     NaN      2  Departman B\n",
       "3   5  Tonguç        E     NaN      2  Departman B\n",
       "4   3    Ayşe     None   250.0      3  Departman C"
      ]
     },
     "execution_count": 142,
     "metadata": {},
     "output_type": "execute_result"
    }
   ],
   "source": [
    "pd.merge(ekip, departman, how=\"left\", left_on = \"DepId\", right_on=\"DepId\") #liste ile birden fazla kolon verilebilir.\n",
    "pd.merge(ekip, departman, how=\"right\", left_on = \"DepId\", right_on=\"DepId\") \n",
    "pd.merge(ekip, departman, how=\"inner\", left_on = \"DepId\", right_on=\"DepId\") \n",
    "pd.merge(ekip, departman, how=\"outer\", left_on = \"DepId\", right_on=\"DepId\") "
   ]
  },
  {
   "cell_type": "markdown",
   "metadata": {},
   "source": [
    "#### Join\n",
    "* index etiketi üzerinden birleştirme yapar"
   ]
  },
  {
   "cell_type": "code",
   "execution_count": 143,
   "metadata": {},
   "outputs": [],
   "source": [
    "ekip.set_index(\"DepId\",inplace=True)\n",
    "departman.set_index(\"DepId\",inplace=True)"
   ]
  },
  {
   "cell_type": "code",
   "execution_count": 144,
   "metadata": {},
   "outputs": [
    {
     "data": {
      "text/html": [
       "<div>\n",
       "<style scoped>\n",
       "    .dataframe tbody tr th:only-of-type {\n",
       "        vertical-align: middle;\n",
       "    }\n",
       "\n",
       "    .dataframe tbody tr th {\n",
       "        vertical-align: top;\n",
       "    }\n",
       "\n",
       "    .dataframe thead th {\n",
       "        text-align: right;\n",
       "    }\n",
       "</style>\n",
       "<table border=\"1\" class=\"dataframe\">\n",
       "  <thead>\n",
       "    <tr style=\"text-align: right;\">\n",
       "      <th></th>\n",
       "      <th>Id</th>\n",
       "      <th>Ad</th>\n",
       "      <th>Cinsiyet</th>\n",
       "      <th>Uretim</th>\n",
       "      <th>DepAd</th>\n",
       "    </tr>\n",
       "    <tr>\n",
       "      <th>DepId</th>\n",
       "      <th></th>\n",
       "      <th></th>\n",
       "      <th></th>\n",
       "      <th></th>\n",
       "      <th></th>\n",
       "    </tr>\n",
       "  </thead>\n",
       "  <tbody>\n",
       "    <tr>\n",
       "      <th>1</th>\n",
       "      <td>1</td>\n",
       "      <td>Ali</td>\n",
       "      <td>E</td>\n",
       "      <td>120.0</td>\n",
       "      <td>Departman A</td>\n",
       "    </tr>\n",
       "    <tr>\n",
       "      <th>1</th>\n",
       "      <td>4</td>\n",
       "      <td>Fatma</td>\n",
       "      <td>K</td>\n",
       "      <td>350.0</td>\n",
       "      <td>Departman A</td>\n",
       "    </tr>\n",
       "    <tr>\n",
       "      <th>2</th>\n",
       "      <td>2</td>\n",
       "      <td>Veli</td>\n",
       "      <td>E</td>\n",
       "      <td>NaN</td>\n",
       "      <td>Departman B</td>\n",
       "    </tr>\n",
       "    <tr>\n",
       "      <th>2</th>\n",
       "      <td>5</td>\n",
       "      <td>Tonguç</td>\n",
       "      <td>E</td>\n",
       "      <td>NaN</td>\n",
       "      <td>Departman B</td>\n",
       "    </tr>\n",
       "    <tr>\n",
       "      <th>3</th>\n",
       "      <td>3</td>\n",
       "      <td>Ayşe</td>\n",
       "      <td>None</td>\n",
       "      <td>250.0</td>\n",
       "      <td>Departman C</td>\n",
       "    </tr>\n",
       "  </tbody>\n",
       "</table>\n",
       "</div>"
      ],
      "text/plain": [
       "       Id      Ad Cinsiyet  Uretim        DepAd\n",
       "DepId                                          \n",
       "1       1     Ali        E   120.0  Departman A\n",
       "1       4   Fatma        K   350.0  Departman A\n",
       "2       2    Veli        E     NaN  Departman B\n",
       "2       5  Tonguç        E     NaN  Departman B\n",
       "3       3    Ayşe     None   250.0  Departman C"
      ]
     },
     "execution_count": 144,
     "metadata": {},
     "output_type": "execute_result"
    }
   ],
   "source": [
    "ekip.join(departman, how=\"left\") #indexleri ortak tabloları birleştirebiliriz"
   ]
  },
  {
   "cell_type": "markdown",
   "metadata": {},
   "source": [
    "### Pivor / Unpivot"
   ]
  },
  {
   "cell_type": "markdown",
   "metadata": {},
   "source": [
    "#### pivot"
   ]
  },
  {
   "cell_type": "code",
   "execution_count": 145,
   "metadata": {},
   "outputs": [
    {
     "data": {
      "text/html": [
       "<div>\n",
       "<style scoped>\n",
       "    .dataframe tbody tr th:only-of-type {\n",
       "        vertical-align: middle;\n",
       "    }\n",
       "\n",
       "    .dataframe tbody tr th {\n",
       "        vertical-align: top;\n",
       "    }\n",
       "\n",
       "    .dataframe thead th {\n",
       "        text-align: right;\n",
       "    }\n",
       "</style>\n",
       "<table border=\"1\" class=\"dataframe\">\n",
       "  <thead>\n",
       "    <tr style=\"text-align: right;\">\n",
       "      <th></th>\n",
       "      <th>Yil</th>\n",
       "      <th>Kategori</th>\n",
       "      <th>Satis</th>\n",
       "    </tr>\n",
       "  </thead>\n",
       "  <tbody>\n",
       "    <tr>\n",
       "      <th>0</th>\n",
       "      <td>2019</td>\n",
       "      <td>K1</td>\n",
       "      <td>1200</td>\n",
       "    </tr>\n",
       "    <tr>\n",
       "      <th>1</th>\n",
       "      <td>2020</td>\n",
       "      <td>K2</td>\n",
       "      <td>1440</td>\n",
       "    </tr>\n",
       "    <tr>\n",
       "      <th>2</th>\n",
       "      <td>2021</td>\n",
       "      <td>K3</td>\n",
       "      <td>544</td>\n",
       "    </tr>\n",
       "    <tr>\n",
       "      <th>3</th>\n",
       "      <td>2019</td>\n",
       "      <td>K2</td>\n",
       "      <td>2546</td>\n",
       "    </tr>\n",
       "    <tr>\n",
       "      <th>4</th>\n",
       "      <td>2021</td>\n",
       "      <td>K3</td>\n",
       "      <td>474</td>\n",
       "    </tr>\n",
       "  </tbody>\n",
       "</table>\n",
       "</div>"
      ],
      "text/plain": [
       "    Yil Kategori  Satis\n",
       "0  2019       K1   1200\n",
       "1  2020       K2   1440\n",
       "2  2021       K3    544\n",
       "3  2019       K2   2546\n",
       "4  2021       K3    474"
      ]
     },
     "execution_count": 145,
     "metadata": {},
     "output_type": "execute_result"
    }
   ],
   "source": [
    "df = pd.DataFrame({\n",
    "                \"Yil\":[2019,2020,2021,2019,2021],\n",
    "                \"Kategori\":[\"K1\",\"K2\",\"K3\",\"K2\",\"K3\"],\n",
    "                \"Satis\":[1200,1440,544,2546,474]\n",
    "})\n",
    "\n",
    "df"
   ]
  },
  {
   "cell_type": "code",
   "execution_count": 146,
   "metadata": {},
   "outputs": [
    {
     "data": {
      "text/html": [
       "<div>\n",
       "<style scoped>\n",
       "    .dataframe tbody tr th:only-of-type {\n",
       "        vertical-align: middle;\n",
       "    }\n",
       "\n",
       "    .dataframe tbody tr th {\n",
       "        vertical-align: top;\n",
       "    }\n",
       "\n",
       "    .dataframe thead th {\n",
       "        text-align: right;\n",
       "    }\n",
       "</style>\n",
       "<table border=\"1\" class=\"dataframe\">\n",
       "  <thead>\n",
       "    <tr style=\"text-align: right;\">\n",
       "      <th>Kategori</th>\n",
       "      <th>K1</th>\n",
       "      <th>K2</th>\n",
       "      <th>K3</th>\n",
       "    </tr>\n",
       "    <tr>\n",
       "      <th>Yil</th>\n",
       "      <th></th>\n",
       "      <th></th>\n",
       "      <th></th>\n",
       "    </tr>\n",
       "  </thead>\n",
       "  <tbody>\n",
       "    <tr>\n",
       "      <th>2019</th>\n",
       "      <td>1200.0</td>\n",
       "      <td>2546.0</td>\n",
       "      <td>-</td>\n",
       "    </tr>\n",
       "    <tr>\n",
       "      <th>2020</th>\n",
       "      <td>-</td>\n",
       "      <td>1440.0</td>\n",
       "      <td>-</td>\n",
       "    </tr>\n",
       "    <tr>\n",
       "      <th>2021</th>\n",
       "      <td>-</td>\n",
       "      <td>-</td>\n",
       "      <td>1018.0</td>\n",
       "    </tr>\n",
       "  </tbody>\n",
       "</table>\n",
       "</div>"
      ],
      "text/plain": [
       "Kategori      K1      K2      K3\n",
       "Yil                             \n",
       "2019      1200.0  2546.0       -\n",
       "2020           -  1440.0       -\n",
       "2021           -       -  1018.0"
      ]
     },
     "execution_count": 146,
     "metadata": {},
     "output_type": "execute_result"
    }
   ],
   "source": [
    "#df.pivot ile de yapılabilir.\n",
    "df_pivot = pd.pivot_table(df,\n",
    "                            index=\"Yil\",\n",
    "                            columns=\"Kategori\",\n",
    "                            values=\"Satis\", #birden fazla kolon liste halinde verilebilir.\n",
    "                            aggfunc=\"sum\", #nasıl özetleyeceğini tarif edebilriiz. varsayılan sum olur. liste halinde birden fazla özetleme bilgisi verilebilir.\n",
    "                            fill_value=\"-\" #null olan yere ne yazılsın\n",
    "                            )\n",
    "\n",
    "df_pivot"
   ]
  },
  {
   "cell_type": "markdown",
   "metadata": {},
   "source": [
    "### melt ile unpivot"
   ]
  },
  {
   "cell_type": "code",
   "execution_count": 147,
   "metadata": {},
   "outputs": [
    {
     "data": {
      "text/html": [
       "<div>\n",
       "<style scoped>\n",
       "    .dataframe tbody tr th:only-of-type {\n",
       "        vertical-align: middle;\n",
       "    }\n",
       "\n",
       "    .dataframe tbody tr th {\n",
       "        vertical-align: top;\n",
       "    }\n",
       "\n",
       "    .dataframe thead th {\n",
       "        text-align: right;\n",
       "    }\n",
       "</style>\n",
       "<table border=\"1\" class=\"dataframe\">\n",
       "  <thead>\n",
       "    <tr style=\"text-align: right;\">\n",
       "      <th></th>\n",
       "      <th>Yil</th>\n",
       "      <th>K1</th>\n",
       "      <th>K2</th>\n",
       "      <th>K3</th>\n",
       "    </tr>\n",
       "  </thead>\n",
       "  <tbody>\n",
       "    <tr>\n",
       "      <th>0</th>\n",
       "      <td>2019</td>\n",
       "      <td>1200.0</td>\n",
       "      <td>2546.0</td>\n",
       "      <td>-</td>\n",
       "    </tr>\n",
       "    <tr>\n",
       "      <th>1</th>\n",
       "      <td>2020</td>\n",
       "      <td>-</td>\n",
       "      <td>1440.0</td>\n",
       "      <td>-</td>\n",
       "    </tr>\n",
       "    <tr>\n",
       "      <th>2</th>\n",
       "      <td>2021</td>\n",
       "      <td>-</td>\n",
       "      <td>-</td>\n",
       "      <td>1018.0</td>\n",
       "    </tr>\n",
       "  </tbody>\n",
       "</table>\n",
       "</div>"
      ],
      "text/plain": [
       "    Yil      K1      K2      K3\n",
       "0  2019  1200.0  2546.0       -\n",
       "1  2020       -  1440.0       -\n",
       "2  2021       -       -  1018.0"
      ]
     },
     "execution_count": 147,
     "metadata": {},
     "output_type": "execute_result"
    }
   ],
   "source": [
    "df_pivot = df_pivot.reset_index()\n",
    "df_pivot.columns.name=None\n",
    "\n",
    "df_pivot"
   ]
  },
  {
   "cell_type": "code",
   "execution_count": 148,
   "metadata": {},
   "outputs": [
    {
     "data": {
      "text/html": [
       "<div>\n",
       "<style scoped>\n",
       "    .dataframe tbody tr th:only-of-type {\n",
       "        vertical-align: middle;\n",
       "    }\n",
       "\n",
       "    .dataframe tbody tr th {\n",
       "        vertical-align: top;\n",
       "    }\n",
       "\n",
       "    .dataframe thead th {\n",
       "        text-align: right;\n",
       "    }\n",
       "</style>\n",
       "<table border=\"1\" class=\"dataframe\">\n",
       "  <thead>\n",
       "    <tr style=\"text-align: right;\">\n",
       "      <th></th>\n",
       "      <th>Yil</th>\n",
       "      <th>Kategoriler</th>\n",
       "      <th>SatisVerieri</th>\n",
       "    </tr>\n",
       "  </thead>\n",
       "  <tbody>\n",
       "    <tr>\n",
       "      <th>0</th>\n",
       "      <td>2019</td>\n",
       "      <td>K1</td>\n",
       "      <td>1200.0</td>\n",
       "    </tr>\n",
       "    <tr>\n",
       "      <th>1</th>\n",
       "      <td>2020</td>\n",
       "      <td>K1</td>\n",
       "      <td>-</td>\n",
       "    </tr>\n",
       "    <tr>\n",
       "      <th>2</th>\n",
       "      <td>2021</td>\n",
       "      <td>K1</td>\n",
       "      <td>-</td>\n",
       "    </tr>\n",
       "    <tr>\n",
       "      <th>3</th>\n",
       "      <td>2019</td>\n",
       "      <td>K2</td>\n",
       "      <td>2546.0</td>\n",
       "    </tr>\n",
       "    <tr>\n",
       "      <th>4</th>\n",
       "      <td>2020</td>\n",
       "      <td>K2</td>\n",
       "      <td>1440.0</td>\n",
       "    </tr>\n",
       "    <tr>\n",
       "      <th>5</th>\n",
       "      <td>2021</td>\n",
       "      <td>K2</td>\n",
       "      <td>-</td>\n",
       "    </tr>\n",
       "  </tbody>\n",
       "</table>\n",
       "</div>"
      ],
      "text/plain": [
       "    Yil Kategoriler SatisVerieri\n",
       "0  2019          K1       1200.0\n",
       "1  2020          K1            -\n",
       "2  2021          K1            -\n",
       "3  2019          K2       2546.0\n",
       "4  2020          K2       1440.0\n",
       "5  2021          K2            -"
      ]
     },
     "execution_count": 148,
     "metadata": {},
     "output_type": "execute_result"
    }
   ],
   "source": [
    "pd.melt(df_pivot,\n",
    "        id_vars=\"Yil\",\n",
    "        \n",
    "        value_vars=[\"K1\",\"K2\"],\n",
    "        var_name = \"Kategoriler\",\n",
    "\n",
    "        value_name = \"SatisVerieri\"\n",
    ")"
   ]
  },
  {
   "cell_type": "markdown",
   "metadata": {},
   "source": [
    "### Çapraz Tablo"
   ]
  },
  {
   "cell_type": "code",
   "execution_count": 171,
   "metadata": {},
   "outputs": [
    {
     "data": {
      "text/html": [
       "<div>\n",
       "<style scoped>\n",
       "    .dataframe tbody tr th:only-of-type {\n",
       "        vertical-align: middle;\n",
       "    }\n",
       "\n",
       "    .dataframe tbody tr th {\n",
       "        vertical-align: top;\n",
       "    }\n",
       "\n",
       "    .dataframe thead th {\n",
       "        text-align: right;\n",
       "    }\n",
       "</style>\n",
       "<table border=\"1\" class=\"dataframe\">\n",
       "  <thead>\n",
       "    <tr style=\"text-align: right;\">\n",
       "      <th>Kategori</th>\n",
       "      <th>K1</th>\n",
       "      <th>K2</th>\n",
       "      <th>K3</th>\n",
       "      <th>Toplam</th>\n",
       "    </tr>\n",
       "    <tr>\n",
       "      <th>Yil</th>\n",
       "      <th></th>\n",
       "      <th></th>\n",
       "      <th></th>\n",
       "      <th></th>\n",
       "    </tr>\n",
       "  </thead>\n",
       "  <tbody>\n",
       "    <tr>\n",
       "      <th>2019</th>\n",
       "      <td>1200</td>\n",
       "      <td>2546</td>\n",
       "      <td>0</td>\n",
       "      <td>3746</td>\n",
       "    </tr>\n",
       "    <tr>\n",
       "      <th>2020</th>\n",
       "      <td>0</td>\n",
       "      <td>1440</td>\n",
       "      <td>0</td>\n",
       "      <td>1440</td>\n",
       "    </tr>\n",
       "    <tr>\n",
       "      <th>2021</th>\n",
       "      <td>0</td>\n",
       "      <td>0</td>\n",
       "      <td>1018</td>\n",
       "      <td>1018</td>\n",
       "    </tr>\n",
       "    <tr>\n",
       "      <th>Toplam</th>\n",
       "      <td>1200</td>\n",
       "      <td>3986</td>\n",
       "      <td>1018</td>\n",
       "      <td>6204</td>\n",
       "    </tr>\n",
       "  </tbody>\n",
       "</table>\n",
       "</div>"
      ],
      "text/plain": [
       "Kategori    K1    K2    K3  Toplam\n",
       "Yil                               \n",
       "2019      1200  2546     0    3746\n",
       "2020         0  1440     0    1440\n",
       "2021         0     0  1018    1018\n",
       "Toplam    1200  3986  1018    6204"
      ]
     },
     "execution_count": 171,
     "metadata": {},
     "output_type": "execute_result"
    }
   ],
   "source": [
    "pd.crosstab(df.Yil,df.Kategori) #adetleri getirir.\n",
    "pd.crosstab(df.Yil,df.Kategori, values=df.Satis, aggfunc=\"sum\", margins=True, margins_name=\"Toplam\") #margin ile toplam alanı ekler."
   ]
  },
  {
   "cell_type": "markdown",
   "metadata": {},
   "source": [
    "### Cat ile kategorik verileri işleyebiliriz."
   ]
  },
  {
   "cell_type": "code",
   "execution_count": 163,
   "metadata": {},
   "outputs": [
    {
     "data": {
      "text/plain": [
       "0    0\n",
       "1    1\n",
       "2    2\n",
       "3    1\n",
       "4    2\n",
       "dtype: int8"
      ]
     },
     "execution_count": 163,
     "metadata": {},
     "output_type": "execute_result"
    }
   ],
   "source": [
    "df = df.astype({\"Kategori\":\"category\"})\n",
    "df.dtypes\n",
    "\n",
    "#\n",
    "df[\"Kategori\"].cat.categories #kategori alanındaki kategorileri getirir.\n",
    "df[\"Kategori\"].cat.codes"
   ]
  },
  {
   "cell_type": "code",
   "execution_count": 167,
   "metadata": {},
   "outputs": [
    {
     "data": {
      "text/html": [
       "<div>\n",
       "<style scoped>\n",
       "    .dataframe tbody tr th:only-of-type {\n",
       "        vertical-align: middle;\n",
       "    }\n",
       "\n",
       "    .dataframe tbody tr th {\n",
       "        vertical-align: top;\n",
       "    }\n",
       "\n",
       "    .dataframe thead th {\n",
       "        text-align: right;\n",
       "    }\n",
       "</style>\n",
       "<table border=\"1\" class=\"dataframe\">\n",
       "  <thead>\n",
       "    <tr style=\"text-align: right;\">\n",
       "      <th></th>\n",
       "      <th>Yil</th>\n",
       "      <th>Satis</th>\n",
       "      <th>Kategori_K1</th>\n",
       "      <th>Kategori_K2</th>\n",
       "      <th>Kategori_K3</th>\n",
       "    </tr>\n",
       "  </thead>\n",
       "  <tbody>\n",
       "    <tr>\n",
       "      <th>0</th>\n",
       "      <td>2019</td>\n",
       "      <td>1200</td>\n",
       "      <td>True</td>\n",
       "      <td>False</td>\n",
       "      <td>False</td>\n",
       "    </tr>\n",
       "    <tr>\n",
       "      <th>1</th>\n",
       "      <td>2020</td>\n",
       "      <td>1440</td>\n",
       "      <td>False</td>\n",
       "      <td>True</td>\n",
       "      <td>False</td>\n",
       "    </tr>\n",
       "    <tr>\n",
       "      <th>2</th>\n",
       "      <td>2021</td>\n",
       "      <td>544</td>\n",
       "      <td>False</td>\n",
       "      <td>False</td>\n",
       "      <td>True</td>\n",
       "    </tr>\n",
       "    <tr>\n",
       "      <th>3</th>\n",
       "      <td>2019</td>\n",
       "      <td>2546</td>\n",
       "      <td>False</td>\n",
       "      <td>True</td>\n",
       "      <td>False</td>\n",
       "    </tr>\n",
       "    <tr>\n",
       "      <th>4</th>\n",
       "      <td>2021</td>\n",
       "      <td>474</td>\n",
       "      <td>False</td>\n",
       "      <td>False</td>\n",
       "      <td>True</td>\n",
       "    </tr>\n",
       "  </tbody>\n",
       "</table>\n",
       "</div>"
      ],
      "text/plain": [
       "    Yil  Satis  Kategori_K1  Kategori_K2  Kategori_K3\n",
       "0  2019   1200         True        False        False\n",
       "1  2020   1440        False         True        False\n",
       "2  2021    544        False        False         True\n",
       "3  2019   2546        False         True        False\n",
       "4  2021    474        False        False         True"
      ]
     },
     "execution_count": 167,
     "metadata": {},
     "output_type": "execute_result"
    }
   ],
   "source": [
    "pd.get_dummies(df, columns=[\"Kategori\"]) #Kategori alanını dummy değişkenlere çevirir."
   ]
  },
  {
   "cell_type": "markdown",
   "metadata": {},
   "source": [
    "### Cut ile kategorik değişkenler oluşturabiliriz."
   ]
  },
  {
   "cell_type": "code",
   "execution_count": 180,
   "metadata": {},
   "outputs": [
    {
     "data": {
      "text/html": [
       "<div>\n",
       "<style scoped>\n",
       "    .dataframe tbody tr th:only-of-type {\n",
       "        vertical-align: middle;\n",
       "    }\n",
       "\n",
       "    .dataframe tbody tr th {\n",
       "        vertical-align: top;\n",
       "    }\n",
       "\n",
       "    .dataframe thead th {\n",
       "        text-align: right;\n",
       "    }\n",
       "</style>\n",
       "<table border=\"1\" class=\"dataframe\">\n",
       "  <thead>\n",
       "    <tr style=\"text-align: right;\">\n",
       "      <th></th>\n",
       "      <th>Yil</th>\n",
       "      <th>Kategori</th>\n",
       "      <th>Satis</th>\n",
       "      <th>SatisDurum</th>\n",
       "    </tr>\n",
       "  </thead>\n",
       "  <tbody>\n",
       "    <tr>\n",
       "      <th>0</th>\n",
       "      <td>2019</td>\n",
       "      <td>K1</td>\n",
       "      <td>1200</td>\n",
       "      <td>[1000, 2000)</td>\n",
       "    </tr>\n",
       "    <tr>\n",
       "      <th>1</th>\n",
       "      <td>2020</td>\n",
       "      <td>K2</td>\n",
       "      <td>1440</td>\n",
       "      <td>[1000, 2000)</td>\n",
       "    </tr>\n",
       "    <tr>\n",
       "      <th>2</th>\n",
       "      <td>2021</td>\n",
       "      <td>K3</td>\n",
       "      <td>544</td>\n",
       "      <td>[500, 1000)</td>\n",
       "    </tr>\n",
       "    <tr>\n",
       "      <th>3</th>\n",
       "      <td>2019</td>\n",
       "      <td>K2</td>\n",
       "      <td>2546</td>\n",
       "      <td>[2000, 3000)</td>\n",
       "    </tr>\n",
       "    <tr>\n",
       "      <th>4</th>\n",
       "      <td>2021</td>\n",
       "      <td>K3</td>\n",
       "      <td>474</td>\n",
       "      <td>[0, 500)</td>\n",
       "    </tr>\n",
       "  </tbody>\n",
       "</table>\n",
       "</div>"
      ],
      "text/plain": [
       "    Yil Kategori  Satis    SatisDurum\n",
       "0  2019       K1   1200  [1000, 2000)\n",
       "1  2020       K2   1440  [1000, 2000)\n",
       "2  2021       K3    544   [500, 1000)\n",
       "3  2019       K2   2546  [2000, 3000)\n",
       "4  2021       K3    474      [0, 500)"
      ]
     },
     "execution_count": 180,
     "metadata": {},
     "output_type": "execute_result"
    }
   ],
   "source": [
    "#kolon olarak ekleyebiliriz.\n",
    "df[\"SatisDurum\"] = pd.cut(df.Satis, bins=3, labels=[\"Düşük\",\"Orta\",\"Yüksek\"]) #bins=[0,500,1000,2000,3000] gibi de verilebilir.\n",
    "df[\"SatisDurum\"] = pd.cut(df.Satis, bins=[0,500,1000,2000,3000], right=False) #right=False ile sağ sınırı dahil etmez.\n",
    "\n",
    "#\n",
    "df"
   ]
  }
 ],
 "metadata": {
  "kernelspec": {
   "display_name": "Python 3 (ipykernel)",
   "language": "python",
   "name": "python3"
  },
  "language_info": {
   "codemirror_mode": {
    "name": "ipython",
    "version": 3
   },
   "file_extension": ".py",
   "mimetype": "text/x-python",
   "name": "python",
   "nbconvert_exporter": "python",
   "pygments_lexer": "ipython3",
   "version": "3.11.3"
  },
  "toc": {
   "base_numbering": 1,
   "nav_menu": {},
   "number_sections": true,
   "sideBar": true,
   "skip_h1_title": false,
   "title_cell": "Table of Contents",
   "title_sidebar": "Contents",
   "toc_cell": false,
   "toc_position": {},
   "toc_section_display": true,
   "toc_window_display": false
  },
  "varInspector": {
   "cols": {
    "lenName": 16,
    "lenType": 16,
    "lenVar": 40
   },
   "kernels_config": {
    "python": {
     "delete_cmd_postfix": "",
     "delete_cmd_prefix": "del ",
     "library": "var_list.py",
     "varRefreshCmd": "print(var_dic_list())"
    },
    "r": {
     "delete_cmd_postfix": ") ",
     "delete_cmd_prefix": "rm(",
     "library": "var_list.r",
     "varRefreshCmd": "cat(var_dic_list()) "
    }
   },
   "types_to_exclude": [
    "module",
    "function",
    "builtin_function_or_method",
    "instance",
    "_Feature"
   ],
   "window_display": false
  }
 },
 "nbformat": 4,
 "nbformat_minor": 2
}
