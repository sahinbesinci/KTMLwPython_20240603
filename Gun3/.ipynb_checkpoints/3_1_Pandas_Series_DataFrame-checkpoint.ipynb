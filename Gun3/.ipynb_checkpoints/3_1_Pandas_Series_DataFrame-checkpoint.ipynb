{
 "cells": [
  {
   "cell_type": "markdown",
   "metadata": {},
   "source": [
    "## Pandas\n",
    "![alt text](PandasNedir.png)"
   ]
  },
  {
   "cell_type": "code",
   "execution_count": 1,
   "metadata": {},
   "outputs": [],
   "source": [
    "import numpy as np\n",
    "import pandas as pd"
   ]
  },
  {
   "cell_type": "markdown",
   "metadata": {},
   "source": [
    "### Series ve DataFrame Tanımlama"
   ]
  },
  {
   "cell_type": "code",
   "execution_count": 2,
   "metadata": {},
   "outputs": [
    {
     "data": {
      "text/plain": [
       "s1    11\n",
       "s2    22\n",
       "s3    33\n",
       "dtype: int64"
      ]
     },
     "execution_count": 2,
     "metadata": {},
     "output_type": "execute_result"
    }
   ],
   "source": [
    "#Seri\n",
    "pd.Series([11,22,33])\n",
    "# serilerde satır etiketi, sıra numararı ve ortak veri tipi ile karşılışıyoruz.\n",
    "\n",
    "#Dataframe\n",
    "pd.Series([11,22,33], index = ['s1','s2','s3']) #Seriede varsayılan olarak sıra numaraları etiket index olarak atanır.\n",
    "#İndex parametresi ile etiket ataması yapabiliriz."
   ]
  },
  {
   "cell_type": "code",
   "execution_count": 3,
   "metadata": {},
   "outputs": [
    {
     "data": {
      "text/html": [
       "<div>\n",
       "<style scoped>\n",
       "    .dataframe tbody tr th:only-of-type {\n",
       "        vertical-align: middle;\n",
       "    }\n",
       "\n",
       "    .dataframe tbody tr th {\n",
       "        vertical-align: top;\n",
       "    }\n",
       "\n",
       "    .dataframe thead th {\n",
       "        text-align: right;\n",
       "    }\n",
       "</style>\n",
       "<table border=\"1\" class=\"dataframe\">\n",
       "  <thead>\n",
       "    <tr style=\"text-align: right;\">\n",
       "      <th></th>\n",
       "      <th>DepId</th>\n",
       "      <th>DepAd</th>\n",
       "    </tr>\n",
       "  </thead>\n",
       "  <tbody>\n",
       "    <tr>\n",
       "      <th>0</th>\n",
       "      <td>1</td>\n",
       "      <td>Departman A</td>\n",
       "    </tr>\n",
       "    <tr>\n",
       "      <th>1</th>\n",
       "      <td>2</td>\n",
       "      <td>Departman B</td>\n",
       "    </tr>\n",
       "    <tr>\n",
       "      <th>2</th>\n",
       "      <td>3</td>\n",
       "      <td>Departman C</td>\n",
       "    </tr>\n",
       "  </tbody>\n",
       "</table>\n",
       "</div>"
      ],
      "text/plain": [
       "   DepId        DepAd\n",
       "0      1  Departman A\n",
       "1      2  Departman B\n",
       "2      3  Departman C"
      ]
     },
     "execution_count": 3,
     "metadata": {},
     "output_type": "execute_result"
    }
   ],
   "source": [
    "## Dataframe Oluşturma\n",
    "departman = pd.DataFrame(data = [\n",
    "                        (1,'Departman A'),\n",
    "                        (2,'Departman B'),\n",
    "                        (3,'Departman C')\n",
    "                     ]\n",
    "                     ,columns=[\"DepId\",\"DepAd\"])\n",
    "#kolon ve satır etiketi verilmediğinde sıra numarasını str tipinden etiket olarak kullanır.\n",
    "\n",
    "departman"
   ]
  },
  {
   "cell_type": "code",
   "execution_count": 4,
   "metadata": {},
   "outputs": [
    {
     "data": {
      "text/html": [
       "<div>\n",
       "<style scoped>\n",
       "    .dataframe tbody tr th:only-of-type {\n",
       "        vertical-align: middle;\n",
       "    }\n",
       "\n",
       "    .dataframe tbody tr th {\n",
       "        vertical-align: top;\n",
       "    }\n",
       "\n",
       "    .dataframe thead th {\n",
       "        text-align: right;\n",
       "    }\n",
       "</style>\n",
       "<table border=\"1\" class=\"dataframe\">\n",
       "  <thead>\n",
       "    <tr style=\"text-align: right;\">\n",
       "      <th></th>\n",
       "      <th>Id</th>\n",
       "      <th>Ad</th>\n",
       "      <th>Cinsiyet</th>\n",
       "      <th>Miktar</th>\n",
       "      <th>DepartmanId</th>\n",
       "    </tr>\n",
       "  </thead>\n",
       "  <tbody>\n",
       "    <tr>\n",
       "      <th>İstanbul</th>\n",
       "      <td>1</td>\n",
       "      <td>Ali</td>\n",
       "      <td>E</td>\n",
       "      <td>120.0</td>\n",
       "      <td>NaN</td>\n",
       "    </tr>\n",
       "    <tr>\n",
       "      <th>İstanbul</th>\n",
       "      <td>2</td>\n",
       "      <td>Veli</td>\n",
       "      <td>E</td>\n",
       "      <td>NaN</td>\n",
       "      <td>NaN</td>\n",
       "    </tr>\n",
       "    <tr>\n",
       "      <th>Ankara</th>\n",
       "      <td>3</td>\n",
       "      <td>Ayşe</td>\n",
       "      <td>None</td>\n",
       "      <td>250.0</td>\n",
       "      <td>NaN</td>\n",
       "    </tr>\n",
       "    <tr>\n",
       "      <th>Ankara</th>\n",
       "      <td>4</td>\n",
       "      <td>Fatma</td>\n",
       "      <td>K</td>\n",
       "      <td>350.0</td>\n",
       "      <td>NaN</td>\n",
       "    </tr>\n",
       "    <tr>\n",
       "      <th>İzmir</th>\n",
       "      <td>5</td>\n",
       "      <td>Tonguç</td>\n",
       "      <td>E</td>\n",
       "      <td>NaN</td>\n",
       "      <td>NaN</td>\n",
       "    </tr>\n",
       "  </tbody>\n",
       "</table>\n",
       "</div>"
      ],
      "text/plain": [
       "          Id      Ad Cinsiyet  Miktar DepartmanId\n",
       "İstanbul   1     Ali        E   120.0         NaN\n",
       "İstanbul   2    Veli        E     NaN         NaN\n",
       "Ankara     3    Ayşe     None   250.0         NaN\n",
       "Ankara     4   Fatma        K   350.0         NaN\n",
       "İzmir      5  Tonguç        E     NaN         NaN"
      ]
     },
     "execution_count": 4,
     "metadata": {},
     "output_type": "execute_result"
    }
   ],
   "source": [
    "#DataFrame 2\n",
    "ekipEfor = pd.DataFrame(data = {\n",
    "                                \"Id\":[1,2,3,4,5],\n",
    "                                \"Ad\":[\"Ali\",\"Veli\",\"Ayşe\",\"Fatma\",\"Tonguç\"],\n",
    "                                \"Cinsiyet\":[\"E\",\"E\",None,\"K\",\"E\"],\n",
    "                                \"Miktar\":[120,None,250,350,None]\n",
    "                                }\n",
    "                        ,columns=[\"Id\",\"Ad\",\"Cinsiyet\",\"Miktar\",\"DepartmanId\"] #kolon iismleri güncellenir olmayan kolonlar eklenir.\n",
    "                        ,index=[\"İstanbul\",\"İstanbul\",\"Ankara\",\"Ankara\",\"İzmir\"]\n",
    "                        )\n",
    "#\n",
    "ekipEfor"
   ]
  },
  {
   "cell_type": "markdown",
   "metadata": {},
   "source": [
    "### Yapısını Değiştirmek"
   ]
  },
  {
   "cell_type": "markdown",
   "metadata": {},
   "source": [
    "#### Satır ve Kollon İsimleri Vermek"
   ]
  },
  {
   "cell_type": "code",
   "execution_count": 5,
   "metadata": {},
   "outputs": [
    {
     "data": {
      "text/html": [
       "<div>\n",
       "<style scoped>\n",
       "    .dataframe tbody tr th:only-of-type {\n",
       "        vertical-align: middle;\n",
       "    }\n",
       "\n",
       "    .dataframe tbody tr th {\n",
       "        vertical-align: top;\n",
       "    }\n",
       "\n",
       "    .dataframe thead th {\n",
       "        text-align: right;\n",
       "    }\n",
       "</style>\n",
       "<table border=\"1\" class=\"dataframe\">\n",
       "  <thead>\n",
       "    <tr style=\"text-align: right;\">\n",
       "      <th>Özellikler</th>\n",
       "      <th>Id</th>\n",
       "      <th>Ad</th>\n",
       "      <th>Cinsiyet</th>\n",
       "      <th>Miktar</th>\n",
       "      <th>DepartmanId</th>\n",
       "    </tr>\n",
       "    <tr>\n",
       "      <th>Lokasyon</th>\n",
       "      <th></th>\n",
       "      <th></th>\n",
       "      <th></th>\n",
       "      <th></th>\n",
       "      <th></th>\n",
       "    </tr>\n",
       "  </thead>\n",
       "  <tbody>\n",
       "    <tr>\n",
       "      <th>İstanbul</th>\n",
       "      <td>1</td>\n",
       "      <td>Ali</td>\n",
       "      <td>E</td>\n",
       "      <td>120.0</td>\n",
       "      <td>NaN</td>\n",
       "    </tr>\n",
       "    <tr>\n",
       "      <th>İstanbul</th>\n",
       "      <td>2</td>\n",
       "      <td>Veli</td>\n",
       "      <td>E</td>\n",
       "      <td>NaN</td>\n",
       "      <td>NaN</td>\n",
       "    </tr>\n",
       "    <tr>\n",
       "      <th>Ankara</th>\n",
       "      <td>3</td>\n",
       "      <td>Ayşe</td>\n",
       "      <td>None</td>\n",
       "      <td>250.0</td>\n",
       "      <td>NaN</td>\n",
       "    </tr>\n",
       "    <tr>\n",
       "      <th>Ankara</th>\n",
       "      <td>4</td>\n",
       "      <td>Fatma</td>\n",
       "      <td>K</td>\n",
       "      <td>350.0</td>\n",
       "      <td>NaN</td>\n",
       "    </tr>\n",
       "    <tr>\n",
       "      <th>İzmir</th>\n",
       "      <td>5</td>\n",
       "      <td>Tonguç</td>\n",
       "      <td>E</td>\n",
       "      <td>NaN</td>\n",
       "      <td>NaN</td>\n",
       "    </tr>\n",
       "  </tbody>\n",
       "</table>\n",
       "</div>"
      ],
      "text/plain": [
       "Özellikler  Id      Ad Cinsiyet  Miktar DepartmanId\n",
       "Lokasyon                                           \n",
       "İstanbul     1     Ali        E   120.0         NaN\n",
       "İstanbul     2    Veli        E     NaN         NaN\n",
       "Ankara       3    Ayşe     None   250.0         NaN\n",
       "Ankara       4   Fatma        K   350.0         NaN\n",
       "İzmir        5  Tonguç        E     NaN         NaN"
      ]
     },
     "execution_count": 5,
     "metadata": {},
     "output_type": "execute_result"
    }
   ],
   "source": [
    "ekipEfor.index #Satır etiketleri #Index(['İstanbul', 'İstanbul', 'Ankara', 'Ankara', 'İzmir'], dtype='object', name='Şehir')\n",
    "ekipEfor.index.name =\"Lokasyon\"\n",
    "\n",
    "\n",
    "#\n",
    "ekipEfor.columns #Kolon etiketleri Index(['Id', 'Ad', 'Cinsiyet', 'Miktar', 'DepartmanId'], dtype='object')\n",
    "ekipEfor.columns.name = \"Özellikler\"\n",
    "\n",
    "\n",
    "#\n",
    "ekipEfor"
   ]
  },
  {
   "cell_type": "markdown",
   "metadata": {},
   "source": [
    "#### Satır ve Kolonların Etiketlerini Güncelleyelim"
   ]
  },
  {
   "cell_type": "code",
   "execution_count": 6,
   "metadata": {},
   "outputs": [
    {
     "data": {
      "text/html": [
       "<div>\n",
       "<style scoped>\n",
       "    .dataframe tbody tr th:only-of-type {\n",
       "        vertical-align: middle;\n",
       "    }\n",
       "\n",
       "    .dataframe tbody tr th {\n",
       "        vertical-align: top;\n",
       "    }\n",
       "\n",
       "    .dataframe thead th {\n",
       "        text-align: right;\n",
       "    }\n",
       "</style>\n",
       "<table border=\"1\" class=\"dataframe\">\n",
       "  <thead>\n",
       "    <tr style=\"text-align: right;\">\n",
       "      <th></th>\n",
       "      <th>Id</th>\n",
       "      <th>Ad</th>\n",
       "      <th>Cinsiyet</th>\n",
       "      <th>Uretim</th>\n",
       "      <th>DepId</th>\n",
       "    </tr>\n",
       "  </thead>\n",
       "  <tbody>\n",
       "    <tr>\n",
       "      <th>Bursa</th>\n",
       "      <td>1</td>\n",
       "      <td>Ali</td>\n",
       "      <td>E</td>\n",
       "      <td>120.0</td>\n",
       "      <td>NaN</td>\n",
       "    </tr>\n",
       "    <tr>\n",
       "      <th>Bursa</th>\n",
       "      <td>2</td>\n",
       "      <td>Veli</td>\n",
       "      <td>E</td>\n",
       "      <td>NaN</td>\n",
       "      <td>NaN</td>\n",
       "    </tr>\n",
       "    <tr>\n",
       "      <th>Bolu</th>\n",
       "      <td>3</td>\n",
       "      <td>Ayşe</td>\n",
       "      <td>None</td>\n",
       "      <td>250.0</td>\n",
       "      <td>NaN</td>\n",
       "    </tr>\n",
       "    <tr>\n",
       "      <th>Bolu</th>\n",
       "      <td>4</td>\n",
       "      <td>Fatma</td>\n",
       "      <td>K</td>\n",
       "      <td>350.0</td>\n",
       "      <td>NaN</td>\n",
       "    </tr>\n",
       "    <tr>\n",
       "      <th>İzmir</th>\n",
       "      <td>5</td>\n",
       "      <td>Tonguç</td>\n",
       "      <td>E</td>\n",
       "      <td>NaN</td>\n",
       "      <td>NaN</td>\n",
       "    </tr>\n",
       "  </tbody>\n",
       "</table>\n",
       "</div>"
      ],
      "text/plain": [
       "       Id      Ad Cinsiyet  Uretim DepId\n",
       "Bursa   1     Ali        E   120.0   NaN\n",
       "Bursa   2    Veli        E     NaN   NaN\n",
       "Bolu    3    Ayşe     None   250.0   NaN\n",
       "Bolu    4   Fatma        K   350.0   NaN\n",
       "İzmir   5  Tonguç        E     NaN   NaN"
      ]
     },
     "execution_count": 6,
     "metadata": {},
     "output_type": "execute_result"
    }
   ],
   "source": [
    "ekipEfor.columns = ['Id', 'Ad', 'Cinsiyet', 'Miktar', 'DepId']\n",
    "ekipEfor.index  = ['Bursa', 'Bursa', 'Ankara', 'Ankara', 'İzmir']\n",
    "\n",
    "#-------------------------------------------------------------\n",
    "#numpydaki öğrendiklerimiz ile kolon iismlerini bir dizi olarak üretip verelim.\n",
    "ekipEfor.index = np.where(ekipEfor.index ==\"Ankara\",\"Çorum\",ekipEfor.index)\n",
    "#-------------------------------------------------------------\n",
    "\n",
    "#\n",
    "ekipEfor.rename(columns={\"Miktar\":\"Uretim\"} , index={\"Çorum\":\"Bolu\"}, inplace=True) #inplace=True ile orjinalini etkiler.\n",
    "\n",
    "#\n",
    "ekipEfor"
   ]
  },
  {
   "cell_type": "markdown",
   "metadata": {},
   "source": [
    "#### Satır etiketlirini sıfırlamak ve bir kolonu satır etiketi haline getirmek"
   ]
  },
  {
   "cell_type": "code",
   "execution_count": 7,
   "metadata": {},
   "outputs": [
    {
     "data": {
      "text/html": [
       "<div>\n",
       "<style scoped>\n",
       "    .dataframe tbody tr th:only-of-type {\n",
       "        vertical-align: middle;\n",
       "    }\n",
       "\n",
       "    .dataframe tbody tr th {\n",
       "        vertical-align: top;\n",
       "    }\n",
       "\n",
       "    .dataframe thead th {\n",
       "        text-align: right;\n",
       "    }\n",
       "</style>\n",
       "<table border=\"1\" class=\"dataframe\">\n",
       "  <thead>\n",
       "    <tr style=\"text-align: right;\">\n",
       "      <th></th>\n",
       "      <th>index</th>\n",
       "      <th>Id</th>\n",
       "      <th>Ad</th>\n",
       "      <th>Cinsiyet</th>\n",
       "      <th>Uretim</th>\n",
       "      <th>DepId</th>\n",
       "    </tr>\n",
       "  </thead>\n",
       "  <tbody>\n",
       "    <tr>\n",
       "      <th>0</th>\n",
       "      <td>Bursa</td>\n",
       "      <td>1</td>\n",
       "      <td>Ali</td>\n",
       "      <td>E</td>\n",
       "      <td>120.0</td>\n",
       "      <td>NaN</td>\n",
       "    </tr>\n",
       "    <tr>\n",
       "      <th>1</th>\n",
       "      <td>Bursa</td>\n",
       "      <td>2</td>\n",
       "      <td>Veli</td>\n",
       "      <td>E</td>\n",
       "      <td>NaN</td>\n",
       "      <td>NaN</td>\n",
       "    </tr>\n",
       "    <tr>\n",
       "      <th>2</th>\n",
       "      <td>Bolu</td>\n",
       "      <td>3</td>\n",
       "      <td>Ayşe</td>\n",
       "      <td>None</td>\n",
       "      <td>250.0</td>\n",
       "      <td>NaN</td>\n",
       "    </tr>\n",
       "    <tr>\n",
       "      <th>3</th>\n",
       "      <td>Bolu</td>\n",
       "      <td>4</td>\n",
       "      <td>Fatma</td>\n",
       "      <td>K</td>\n",
       "      <td>350.0</td>\n",
       "      <td>NaN</td>\n",
       "    </tr>\n",
       "    <tr>\n",
       "      <th>4</th>\n",
       "      <td>İzmir</td>\n",
       "      <td>5</td>\n",
       "      <td>Tonguç</td>\n",
       "      <td>E</td>\n",
       "      <td>NaN</td>\n",
       "      <td>NaN</td>\n",
       "    </tr>\n",
       "  </tbody>\n",
       "</table>\n",
       "</div>"
      ],
      "text/plain": [
       "   index  Id      Ad Cinsiyet  Uretim DepId\n",
       "0  Bursa   1     Ali        E   120.0   NaN\n",
       "1  Bursa   2    Veli        E     NaN   NaN\n",
       "2   Bolu   3    Ayşe     None   250.0   NaN\n",
       "3   Bolu   4   Fatma        K   350.0   NaN\n",
       "4  İzmir   5  Tonguç        E     NaN   NaN"
      ]
     },
     "execution_count": 7,
     "metadata": {},
     "output_type": "execute_result"
    }
   ],
   "source": [
    "#Satır etiketi sıfırlandığında satırdaki bu bilgi kolona dönüştürülür.\n",
    "#orjinalini etkilemez.\n",
    "ekipEfor = ekipEfor.reset_index() #inplace=True \n",
    "\n",
    "ekipEfor"
   ]
  },
  {
   "cell_type": "code",
   "execution_count": 8,
   "metadata": {},
   "outputs": [
    {
     "data": {
      "text/html": [
       "<div>\n",
       "<style scoped>\n",
       "    .dataframe tbody tr th:only-of-type {\n",
       "        vertical-align: middle;\n",
       "    }\n",
       "\n",
       "    .dataframe tbody tr th {\n",
       "        vertical-align: top;\n",
       "    }\n",
       "\n",
       "    .dataframe thead th {\n",
       "        text-align: right;\n",
       "    }\n",
       "</style>\n",
       "<table border=\"1\" class=\"dataframe\">\n",
       "  <thead>\n",
       "    <tr style=\"text-align: right;\">\n",
       "      <th></th>\n",
       "      <th>Şehir</th>\n",
       "      <th>Id</th>\n",
       "      <th>Ad</th>\n",
       "      <th>Cinsiyet</th>\n",
       "      <th>Uretim</th>\n",
       "      <th>DepId</th>\n",
       "    </tr>\n",
       "  </thead>\n",
       "  <tbody>\n",
       "    <tr>\n",
       "      <th>0</th>\n",
       "      <td>Bursa</td>\n",
       "      <td>1</td>\n",
       "      <td>Ali</td>\n",
       "      <td>E</td>\n",
       "      <td>120.0</td>\n",
       "      <td>NaN</td>\n",
       "    </tr>\n",
       "    <tr>\n",
       "      <th>1</th>\n",
       "      <td>Bursa</td>\n",
       "      <td>2</td>\n",
       "      <td>Veli</td>\n",
       "      <td>E</td>\n",
       "      <td>NaN</td>\n",
       "      <td>NaN</td>\n",
       "    </tr>\n",
       "    <tr>\n",
       "      <th>2</th>\n",
       "      <td>Bolu</td>\n",
       "      <td>3</td>\n",
       "      <td>Ayşe</td>\n",
       "      <td>None</td>\n",
       "      <td>250.0</td>\n",
       "      <td>NaN</td>\n",
       "    </tr>\n",
       "    <tr>\n",
       "      <th>3</th>\n",
       "      <td>Bolu</td>\n",
       "      <td>4</td>\n",
       "      <td>Fatma</td>\n",
       "      <td>K</td>\n",
       "      <td>350.0</td>\n",
       "      <td>NaN</td>\n",
       "    </tr>\n",
       "    <tr>\n",
       "      <th>4</th>\n",
       "      <td>İzmir</td>\n",
       "      <td>5</td>\n",
       "      <td>Tonguç</td>\n",
       "      <td>E</td>\n",
       "      <td>NaN</td>\n",
       "      <td>NaN</td>\n",
       "    </tr>\n",
       "  </tbody>\n",
       "</table>\n",
       "</div>"
      ],
      "text/plain": [
       "   Şehir  Id      Ad Cinsiyet  Uretim DepId\n",
       "0  Bursa   1     Ali        E   120.0   NaN\n",
       "1  Bursa   2    Veli        E     NaN   NaN\n",
       "2   Bolu   3    Ayşe     None   250.0   NaN\n",
       "3   Bolu   4   Fatma        K   350.0   NaN\n",
       "4  İzmir   5  Tonguç        E     NaN   NaN"
      ]
     },
     "execution_count": 8,
     "metadata": {},
     "output_type": "execute_result"
    }
   ],
   "source": [
    "ekipEfor.rename(columns =  {\"index\":\"Şehir\"}, inplace=True)\n",
    "ekipEfor"
   ]
  },
  {
   "cell_type": "code",
   "execution_count": 9,
   "metadata": {},
   "outputs": [
    {
     "data": {
      "text/html": [
       "<div>\n",
       "<style scoped>\n",
       "    .dataframe tbody tr th:only-of-type {\n",
       "        vertical-align: middle;\n",
       "    }\n",
       "\n",
       "    .dataframe tbody tr th {\n",
       "        vertical-align: top;\n",
       "    }\n",
       "\n",
       "    .dataframe thead th {\n",
       "        text-align: right;\n",
       "    }\n",
       "</style>\n",
       "<table border=\"1\" class=\"dataframe\">\n",
       "  <thead>\n",
       "    <tr style=\"text-align: right;\">\n",
       "      <th></th>\n",
       "      <th>Id</th>\n",
       "      <th>Ad</th>\n",
       "      <th>Cinsiyet</th>\n",
       "      <th>Uretim</th>\n",
       "      <th>DepId</th>\n",
       "    </tr>\n",
       "  </thead>\n",
       "  <tbody>\n",
       "    <tr>\n",
       "      <th>Bursa</th>\n",
       "      <td>1</td>\n",
       "      <td>Ali</td>\n",
       "      <td>E</td>\n",
       "      <td>120.0</td>\n",
       "      <td>NaN</td>\n",
       "    </tr>\n",
       "    <tr>\n",
       "      <th>Bursa</th>\n",
       "      <td>2</td>\n",
       "      <td>Veli</td>\n",
       "      <td>E</td>\n",
       "      <td>NaN</td>\n",
       "      <td>NaN</td>\n",
       "    </tr>\n",
       "    <tr>\n",
       "      <th>Bolu</th>\n",
       "      <td>3</td>\n",
       "      <td>Ayşe</td>\n",
       "      <td>None</td>\n",
       "      <td>250.0</td>\n",
       "      <td>NaN</td>\n",
       "    </tr>\n",
       "    <tr>\n",
       "      <th>Bolu</th>\n",
       "      <td>4</td>\n",
       "      <td>Fatma</td>\n",
       "      <td>K</td>\n",
       "      <td>350.0</td>\n",
       "      <td>NaN</td>\n",
       "    </tr>\n",
       "    <tr>\n",
       "      <th>İzmir</th>\n",
       "      <td>5</td>\n",
       "      <td>Tonguç</td>\n",
       "      <td>E</td>\n",
       "      <td>NaN</td>\n",
       "      <td>NaN</td>\n",
       "    </tr>\n",
       "  </tbody>\n",
       "</table>\n",
       "</div>"
      ],
      "text/plain": [
       "       Id      Ad Cinsiyet  Uretim DepId\n",
       "Bursa   1     Ali        E   120.0   NaN\n",
       "Bursa   2    Veli        E     NaN   NaN\n",
       "Bolu    3    Ayşe     None   250.0   NaN\n",
       "Bolu    4   Fatma        K   350.0   NaN\n",
       "İzmir   5  Tonguç        E     NaN   NaN"
      ]
     },
     "execution_count": 9,
     "metadata": {},
     "output_type": "execute_result"
    }
   ],
   "source": [
    "#bir kolonu index etiketi olarak kullanabiliriz.\n",
    "ekipEfor.set_index(\"Şehir\", inplace=True)\n",
    "ekipEfor.index.name = None #indexin başlığını kaldırdık.\n",
    "\n",
    "ekipEfor"
   ]
  },
  {
   "cell_type": "markdown",
   "metadata": {},
   "source": [
    "#### Kolonların Veri Tiplerini Değiştirmek"
   ]
  },
  {
   "cell_type": "code",
   "execution_count": 10,
   "metadata": {},
   "outputs": [
    {
     "name": "stdout",
     "output_type": "stream",
     "text": [
      "<class 'pandas.core.frame.DataFrame'>\n",
      "Index: 5 entries, Bursa to İzmir\n",
      "Data columns (total 5 columns):\n",
      " #   Column    Non-Null Count  Dtype  \n",
      "---  ------    --------------  -----  \n",
      " 0   Id        5 non-null      int8   \n",
      " 1   Ad        5 non-null      object \n",
      " 2   Cinsiyet  4 non-null      object \n",
      " 3   Uretim    3 non-null      float16\n",
      " 4   DepId     0 non-null      object \n",
      "dtypes: float16(1), int8(1), object(3)\n",
      "memory usage: 175.0+ bytes\n"
     ]
    }
   ],
   "source": [
    "# 240.0+ bytes\n",
    "# 220.0+ bytes\n",
    "# 190.0+ bytes\n",
    "# 175.0+ bytes\n",
    "ekipEfor = ekipEfor.astype({\n",
    "                            \"Id\": np.int8, #int,\n",
    "                            \"Uretim\":np.float16, #pd.Float32Dtype(),  #:float,\n",
    "                            \"Ad\":str #:str\n",
    "                        })\n",
    "\n",
    "#\n",
    "ekipEfor.info()"
   ]
  },
  {
   "cell_type": "markdown",
   "metadata": {},
   "source": [
    "#### Orjinalini Etkilememesi için Atamalarda `b=a.copy` Kullananalım."
   ]
  },
  {
   "cell_type": "code",
   "execution_count": 11,
   "metadata": {},
   "outputs": [
    {
     "name": "stdout",
     "output_type": "stream",
     "text": [
      "2816186425808 2816219068112\n",
      "False\n"
     ]
    }
   ],
   "source": [
    "ekip = ekipEfor.copy() #orjinali etkilenmez\n",
    "\n",
    "#copy() ile farklı nesneler oldular.\n",
    "print(id(ekip),id(ekipEfor) )\n",
    "print(ekip is ekipEfor)"
   ]
  },
  {
   "cell_type": "markdown",
   "metadata": {},
   "source": [
    "### DF Hakkında Bilgi Almak"
   ]
  },
  {
   "cell_type": "code",
   "execution_count": 12,
   "metadata": {},
   "outputs": [
    {
     "data": {
      "text/html": [
       "<div>\n",
       "<style scoped>\n",
       "    .dataframe tbody tr th:only-of-type {\n",
       "        vertical-align: middle;\n",
       "    }\n",
       "\n",
       "    .dataframe tbody tr th {\n",
       "        vertical-align: top;\n",
       "    }\n",
       "\n",
       "    .dataframe thead th {\n",
       "        text-align: right;\n",
       "    }\n",
       "</style>\n",
       "<table border=\"1\" class=\"dataframe\">\n",
       "  <thead>\n",
       "    <tr style=\"text-align: right;\">\n",
       "      <th></th>\n",
       "      <th>Id</th>\n",
       "      <th>Ad</th>\n",
       "      <th>Cinsiyet</th>\n",
       "      <th>Uretim</th>\n",
       "      <th>DepId</th>\n",
       "    </tr>\n",
       "  </thead>\n",
       "  <tbody>\n",
       "    <tr>\n",
       "      <th>Bursa</th>\n",
       "      <td>1</td>\n",
       "      <td>Ali</td>\n",
       "      <td>E</td>\n",
       "      <td>120.0</td>\n",
       "      <td>NaN</td>\n",
       "    </tr>\n",
       "    <tr>\n",
       "      <th>Bolu</th>\n",
       "      <td>4</td>\n",
       "      <td>Fatma</td>\n",
       "      <td>K</td>\n",
       "      <td>350.0</td>\n",
       "      <td>NaN</td>\n",
       "    </tr>\n",
       "  </tbody>\n",
       "</table>\n",
       "</div>"
      ],
      "text/plain": [
       "       Id     Ad Cinsiyet  Uretim DepId\n",
       "Bursa   1    Ali        E   120.0   NaN\n",
       "Bolu    4  Fatma        K   350.0   NaN"
      ]
     },
     "execution_count": 12,
     "metadata": {},
     "output_type": "execute_result"
    }
   ],
   "source": [
    "ekip.head(2) # üstten kaç satır çekilecek\n",
    "ekip.tail(2) #alttan kaç  satır\n",
    "ekip.sample(2) #rastgele kaç satır"
   ]
  },
  {
   "cell_type": "code",
   "execution_count": 13,
   "metadata": {},
   "outputs": [
    {
     "data": {
      "text/html": [
       "<div>\n",
       "<style scoped>\n",
       "    .dataframe tbody tr th:only-of-type {\n",
       "        vertical-align: middle;\n",
       "    }\n",
       "\n",
       "    .dataframe tbody tr th {\n",
       "        vertical-align: top;\n",
       "    }\n",
       "\n",
       "    .dataframe thead th {\n",
       "        text-align: right;\n",
       "    }\n",
       "</style>\n",
       "<table border=\"1\" class=\"dataframe\">\n",
       "  <thead>\n",
       "    <tr style=\"text-align: right;\">\n",
       "      <th></th>\n",
       "      <th>count</th>\n",
       "      <th>mean</th>\n",
       "      <th>std</th>\n",
       "      <th>min</th>\n",
       "      <th>25%</th>\n",
       "      <th>50%</th>\n",
       "      <th>75%</th>\n",
       "      <th>max</th>\n",
       "    </tr>\n",
       "  </thead>\n",
       "  <tbody>\n",
       "    <tr>\n",
       "      <th>Id</th>\n",
       "      <td>5.0</td>\n",
       "      <td>3.0</td>\n",
       "      <td>1.581139</td>\n",
       "      <td>1.0</td>\n",
       "      <td>2.0</td>\n",
       "      <td>3.0</td>\n",
       "      <td>4.0</td>\n",
       "      <td>5.0</td>\n",
       "    </tr>\n",
       "    <tr>\n",
       "      <th>Uretim</th>\n",
       "      <td>3.0</td>\n",
       "      <td>240.0</td>\n",
       "      <td>115.312500</td>\n",
       "      <td>120.0</td>\n",
       "      <td>185.0</td>\n",
       "      <td>250.0</td>\n",
       "      <td>300.0</td>\n",
       "      <td>350.0</td>\n",
       "    </tr>\n",
       "  </tbody>\n",
       "</table>\n",
       "</div>"
      ],
      "text/plain": [
       "        count   mean         std    min    25%    50%    75%    max\n",
       "Id        5.0    3.0    1.581139    1.0    2.0    3.0    4.0    5.0\n",
       "Uretim    3.0  240.0  115.312500  120.0  185.0  250.0  300.0  350.0"
      ]
     },
     "execution_count": 13,
     "metadata": {},
     "output_type": "execute_result"
    }
   ],
   "source": [
    "ekip.shape #(5,5) 5 satır 5 sutun var.\n",
    "ekip.size #kaç hücre var\n",
    "\n",
    "#\n",
    "len(ekip) #satır sayısını veriyor. shape'in ilk değerini döndürür.\n",
    "ekip.__len__()\n",
    "\n",
    "#\n",
    "ekip.columns\n",
    "ekip.index\n",
    "\n",
    "#tablonun yapısı\n",
    "#ekip.info()\n",
    "\n",
    "#istatistiksel değler. Sayısal alanlar için üretir.\n",
    "ekip.describe()\n",
    "ekip.describe().T #tranpose almak daha kullanışlı olabiliyor\n",
    "#ekip.corr() #sayıal kolonların Korelasyonunu verir. metinsel kolonlar olduğu için hata veriyor burada."
   ]
  },
  {
   "cell_type": "markdown",
   "metadata": {},
   "source": [
    "### Bazı Kullanışlı Fonksiyonlar\n",
    "* Seri ve DF'lerde kullanılabilir\n",
    "* axis parametresi verilebilr. \n",
    "  * axis=0 satır boyunca işlem yapar\n",
    "  * axis=1 kolon boyunca işlem yapar"
   ]
  },
  {
   "cell_type": "code",
   "execution_count": 14,
   "metadata": {},
   "outputs": [
    {
     "data": {
      "text/plain": [
       "Bursa    4\n",
       "Bursa    3\n",
       "Bolu     3\n",
       "Bolu     4\n",
       "İzmir    3\n",
       "dtype: int64"
      ]
     },
     "execution_count": 14,
     "metadata": {},
     "output_type": "execute_result"
    }
   ],
   "source": [
    "#DF'lerde ve serilerde kullanılanlar\n",
    "#axis verebilir\n",
    "\n",
    "#ekip.sum() #sayısal alanları kendi içinde toplar\n",
    "#ekip.sum(axis=1) #\n",
    "\n",
    "#\n",
    "ekip.count() #None olmayanların adedi\n",
    "ekip.count(axis=1) #kolon boyunca işlem yap.\n",
    "\n",
    "#min, max, sum, std, mean, median, cumsum vs. kullanılabilir"
   ]
  },
  {
   "cell_type": "code",
   "execution_count": 15,
   "metadata": {},
   "outputs": [
    {
     "data": {
      "text/plain": [
       "Bursa    4\n",
       "Bursa    3\n",
       "Bolu     3\n",
       "Bolu     4\n",
       "İzmir    3\n",
       "dtype: int64"
      ]
     },
     "execution_count": 15,
     "metadata": {},
     "output_type": "execute_result"
    }
   ],
   "source": [
    "ekip.nunique() #kaç farklı değer var.\n",
    "ekip.nunique(axis=1)"
   ]
  },
  {
   "cell_type": "code",
   "execution_count": 16,
   "metadata": {},
   "outputs": [
    {
     "data": {
      "text/plain": [
       "2"
      ]
     },
     "execution_count": 16,
     "metadata": {},
     "output_type": "execute_result"
    }
   ],
   "source": [
    "#seri de kullanılabilecekler\n",
    "ekip[\"Uretim\"] #kolon etiketi alır ve kolonu seri olarak döndürür.\n",
    "ekip.Uretim #ingilizce kolon isimlerinde pandasın sunduğu işlevlerle karışma ihtimali olduğu için kullanmama gayret edelim.\n",
    "\n",
    "\n",
    "#\n",
    "ekip.Uretim.mean() #kolon ortalaması\n",
    "\n",
    "#\n",
    "ekip.Cinsiyet.value_counts() #Hangi değerden kaç tane var?\n",
    "\n",
    "#COUNT(DISTINCT kolonAdi) benzeri işlev\n",
    "ekip.Cinsiyet.value_counts().count() #value_counts()'dan dönen seri olduğu için tekrar count alıp kaç farklı değer kullanılmış görebiliriz."
   ]
  },
  {
   "cell_type": "markdown",
   "metadata": {},
   "source": [
    "#### None değerler Hakkında\n",
    "* `isna()` ve `isnull()` ile hücre  bazlı null konrolü yapılabilir. None olan değerler için **True** döner. Diğer hücreler için **False** döner.\n",
    "* True olanlar 1, False olanlar 0 kabul edilerek None hücreler `sum()` ile sayılabilir.\n",
    "* `all()` ile tüm hücrelerin None olup olmadığı kontrol edilebilir.**Hepsi None mu?**\n",
    "* `any()` ile en az bir hücrenin None olup olmadığı kontrol edilebilir. **Hiç None var mı?**"
   ]
  },
  {
   "cell_type": "code",
   "execution_count": 17,
   "metadata": {},
   "outputs": [
    {
     "data": {
      "text/plain": [
       "Bursa    False\n",
       "Bursa    False\n",
       "Bolu     False\n",
       "Bolu     False\n",
       "İzmir    False\n",
       "dtype: bool"
      ]
     },
     "execution_count": 17,
     "metadata": {},
     "output_type": "execute_result"
    }
   ],
   "source": [
    "ekip.isna() #isnull()\n",
    "\n",
    "#\n",
    "ekip.isna().any() #herhangi bir hücrede None var mı? True var mı?\n",
    "#ekip.isna().any(axis=1)\n",
    "\n",
    "#\n",
    "ekip.isna().any().any() #DF'te hiç None var mı?\n",
    "\n",
    "#\n",
    "ekip.isna().all() #hepsi None olan hücreler için True döner\n",
    "ekip.isna().all(axis=1) #komple None olan bir satır var mı?\n",
    "#\n",
    "#ekip.isna().all().any() #DF'te hepsi None olan bir kolon var mı?"
   ]
  },
  {
   "cell_type": "markdown",
   "metadata": {},
   "source": [
    "#### Sıralama"
   ]
  },
  {
   "cell_type": "code",
   "execution_count": 18,
   "metadata": {},
   "outputs": [
    {
     "data": {
      "text/html": [
       "<div>\n",
       "<style scoped>\n",
       "    .dataframe tbody tr th:only-of-type {\n",
       "        vertical-align: middle;\n",
       "    }\n",
       "\n",
       "    .dataframe tbody tr th {\n",
       "        vertical-align: top;\n",
       "    }\n",
       "\n",
       "    .dataframe thead th {\n",
       "        text-align: right;\n",
       "    }\n",
       "</style>\n",
       "<table border=\"1\" class=\"dataframe\">\n",
       "  <thead>\n",
       "    <tr style=\"text-align: right;\">\n",
       "      <th></th>\n",
       "      <th>Id</th>\n",
       "      <th>Ad</th>\n",
       "      <th>Cinsiyet</th>\n",
       "      <th>Uretim</th>\n",
       "      <th>DepId</th>\n",
       "    </tr>\n",
       "  </thead>\n",
       "  <tbody>\n",
       "    <tr>\n",
       "      <th>Bolu</th>\n",
       "      <td>4</td>\n",
       "      <td>Fatma</td>\n",
       "      <td>K</td>\n",
       "      <td>350.0</td>\n",
       "      <td>NaN</td>\n",
       "    </tr>\n",
       "    <tr>\n",
       "      <th>Bolu</th>\n",
       "      <td>3</td>\n",
       "      <td>Ayşe</td>\n",
       "      <td>None</td>\n",
       "      <td>250.0</td>\n",
       "      <td>NaN</td>\n",
       "    </tr>\n",
       "    <tr>\n",
       "      <th>Bursa</th>\n",
       "      <td>1</td>\n",
       "      <td>Ali</td>\n",
       "      <td>E</td>\n",
       "      <td>120.0</td>\n",
       "      <td>NaN</td>\n",
       "    </tr>\n",
       "    <tr>\n",
       "      <th>Bursa</th>\n",
       "      <td>2</td>\n",
       "      <td>Veli</td>\n",
       "      <td>E</td>\n",
       "      <td>NaN</td>\n",
       "      <td>NaN</td>\n",
       "    </tr>\n",
       "    <tr>\n",
       "      <th>İzmir</th>\n",
       "      <td>5</td>\n",
       "      <td>Tonguç</td>\n",
       "      <td>E</td>\n",
       "      <td>NaN</td>\n",
       "      <td>NaN</td>\n",
       "    </tr>\n",
       "  </tbody>\n",
       "</table>\n",
       "</div>"
      ],
      "text/plain": [
       "       Id      Ad Cinsiyet  Uretim DepId\n",
       "Bolu    4   Fatma        K   350.0   NaN\n",
       "Bolu    3    Ayşe     None   250.0   NaN\n",
       "Bursa   1     Ali        E   120.0   NaN\n",
       "Bursa   2    Veli        E     NaN   NaN\n",
       "İzmir   5  Tonguç        E     NaN   NaN"
      ]
     },
     "execution_count": 18,
     "metadata": {},
     "output_type": "execute_result"
    }
   ],
   "source": [
    "ekip.sort_index(ascending=True) #ascending=False ters sıralama\n",
    "ekip.sort_values(by=\"Uretim\", ascending=False) #Uretim kolonuna göre sıralama"
   ]
  },
  {
   "cell_type": "markdown",
   "metadata": {},
   "source": [
    "### Değerlere Ulaşmak\n",
    "![alt text](PandasDegerlereUlasmak.png)"
   ]
  },
  {
   "cell_type": "code",
   "execution_count": 19,
   "metadata": {},
   "outputs": [],
   "source": [
    "ekip =ekipEfor.copy()"
   ]
  },
  {
   "cell_type": "markdown",
   "metadata": {},
   "source": [
    "#### Numpy Disizine Dönüştürmek"
   ]
  },
  {
   "cell_type": "code",
   "execution_count": 20,
   "metadata": {},
   "outputs": [
    {
     "data": {
      "text/plain": [
       "'Ali'"
      ]
     },
     "execution_count": 20,
     "metadata": {},
     "output_type": "execute_result"
    }
   ],
   "source": [
    "dizi_ekip = ekip.values #numpy array olarak döner\n",
    "\n",
    "#numpydaki tekniklerle bilgileri alabiliriz.\n",
    "dizi_ekip[0,1] #0.satır 1. kolon "
   ]
  },
  {
   "cell_type": "markdown",
   "metadata": {},
   "source": [
    "#### `[]` ve `[[]]` kullanımı. `to_frame` ve `to_list()`"
   ]
  },
  {
   "cell_type": "code",
   "execution_count": 21,
   "metadata": {},
   "outputs": [
    {
     "data": {
      "text/plain": [
       "['Ali', 'Veli', 'Ayşe', 'Fatma', 'Tonguç']"
      ]
     },
     "execution_count": 21,
     "metadata": {},
     "output_type": "execute_result"
    }
   ],
   "source": [
    "#seri\n",
    "ekip[\"Ad\"] #seri olarak döner\n",
    "ekip.Ad\n",
    "\n",
    "#\n",
    "#df olarak elde edelim\n",
    "ekip[[\"Ad\"]] #DF olarak döner\n",
    "ekip[[\"Ad\",\"Cinsiyet\"]]\n",
    "\n",
    "#\n",
    "ekip[\"Ad\"].to_frame() #seriyi DF olarak döner\n",
    "\n",
    "#\n",
    "ekip[\"Ad\"].to_list() #seriyi liste olarak döner"
   ]
  },
  {
   "cell_type": "markdown",
   "metadata": {},
   "source": [
    "#### `df[start:stop:step]` satırda slicer işlemi yapar."
   ]
  },
  {
   "cell_type": "code",
   "execution_count": 22,
   "metadata": {},
   "outputs": [
    {
     "data": {
      "text/html": [
       "<div>\n",
       "<style scoped>\n",
       "    .dataframe tbody tr th:only-of-type {\n",
       "        vertical-align: middle;\n",
       "    }\n",
       "\n",
       "    .dataframe tbody tr th {\n",
       "        vertical-align: top;\n",
       "    }\n",
       "\n",
       "    .dataframe thead th {\n",
       "        text-align: right;\n",
       "    }\n",
       "</style>\n",
       "<table border=\"1\" class=\"dataframe\">\n",
       "  <thead>\n",
       "    <tr style=\"text-align: right;\">\n",
       "      <th></th>\n",
       "      <th>Id</th>\n",
       "      <th>Ad</th>\n",
       "      <th>Cinsiyet</th>\n",
       "      <th>Uretim</th>\n",
       "      <th>DepId</th>\n",
       "    </tr>\n",
       "  </thead>\n",
       "  <tbody>\n",
       "    <tr>\n",
       "      <th>Bolu</th>\n",
       "      <td>3</td>\n",
       "      <td>Ayşe</td>\n",
       "      <td>None</td>\n",
       "      <td>250.0</td>\n",
       "      <td>NaN</td>\n",
       "    </tr>\n",
       "    <tr>\n",
       "      <th>İzmir</th>\n",
       "      <td>5</td>\n",
       "      <td>Tonguç</td>\n",
       "      <td>E</td>\n",
       "      <td>NaN</td>\n",
       "      <td>NaN</td>\n",
       "    </tr>\n",
       "  </tbody>\n",
       "</table>\n",
       "</div>"
      ],
      "text/plain": [
       "       Id      Ad Cinsiyet  Uretim DepId\n",
       "Bolu    3    Ayşe     None   250.0   NaN\n",
       "İzmir   5  Tonguç        E     NaN   NaN"
      ]
     },
     "execution_count": 22,
     "metadata": {},
     "output_type": "execute_result"
    }
   ],
   "source": [
    "ekip[:3] #ilk 3 satırı getirir\n",
    "\n",
    "#\n",
    "ekip[2:5:2] #2.satırdan 5.satıra kadar 2şer atlayarak getirir."
   ]
  },
  {
   "cell_type": "code",
   "execution_count": 23,
   "metadata": {},
   "outputs": [
    {
     "data": {
      "text/html": [
       "<div>\n",
       "<style scoped>\n",
       "    .dataframe tbody tr th:only-of-type {\n",
       "        vertical-align: middle;\n",
       "    }\n",
       "\n",
       "    .dataframe tbody tr th {\n",
       "        vertical-align: top;\n",
       "    }\n",
       "\n",
       "    .dataframe thead th {\n",
       "        text-align: right;\n",
       "    }\n",
       "</style>\n",
       "<table border=\"1\" class=\"dataframe\">\n",
       "  <thead>\n",
       "    <tr style=\"text-align: right;\">\n",
       "      <th></th>\n",
       "      <th>Id</th>\n",
       "      <th>Ad</th>\n",
       "      <th>Cinsiyet</th>\n",
       "      <th>Uretim</th>\n",
       "      <th>DepId</th>\n",
       "    </tr>\n",
       "  </thead>\n",
       "  <tbody>\n",
       "    <tr>\n",
       "      <th>Bolu</th>\n",
       "      <td>3</td>\n",
       "      <td>Ayşe</td>\n",
       "      <td>None</td>\n",
       "      <td>250.0</td>\n",
       "      <td>NaN</td>\n",
       "    </tr>\n",
       "    <tr>\n",
       "      <th>Bolu</th>\n",
       "      <td>4</td>\n",
       "      <td>Fatma</td>\n",
       "      <td>K</td>\n",
       "      <td>350.0</td>\n",
       "      <td>NaN</td>\n",
       "    </tr>\n",
       "    <tr>\n",
       "      <th>İzmir</th>\n",
       "      <td>5</td>\n",
       "      <td>Tonguç</td>\n",
       "      <td>E</td>\n",
       "      <td>NaN</td>\n",
       "      <td>NaN</td>\n",
       "    </tr>\n",
       "  </tbody>\n",
       "</table>\n",
       "</div>"
      ],
      "text/plain": [
       "       Id      Ad Cinsiyet  Uretim DepId\n",
       "Bolu    3    Ayşe     None   250.0   NaN\n",
       "Bolu    4   Fatma        K   350.0   NaN\n",
       "İzmir   5  Tonguç        E     NaN   NaN"
      ]
     },
     "execution_count": 23,
     "metadata": {},
     "output_type": "execute_result"
    }
   ],
   "source": [
    "#satır etiketleri de slicer olarak kullanılabilir.\n",
    "ekip[\"Bolu\":\"İzmir\"] #Bolu'dan İzmir'e kadar getirir."
   ]
  },
  {
   "cell_type": "markdown",
   "metadata": {},
   "source": [
    "#### `df[]` boolen liste/seri/dizi ile satırları filtrelemek"
   ]
  },
  {
   "cell_type": "code",
   "execution_count": 24,
   "metadata": {},
   "outputs": [
    {
     "data": {
      "text/html": [
       "<div>\n",
       "<style scoped>\n",
       "    .dataframe tbody tr th:only-of-type {\n",
       "        vertical-align: middle;\n",
       "    }\n",
       "\n",
       "    .dataframe tbody tr th {\n",
       "        vertical-align: top;\n",
       "    }\n",
       "\n",
       "    .dataframe thead th {\n",
       "        text-align: right;\n",
       "    }\n",
       "</style>\n",
       "<table border=\"1\" class=\"dataframe\">\n",
       "  <thead>\n",
       "    <tr style=\"text-align: right;\">\n",
       "      <th></th>\n",
       "      <th>Id</th>\n",
       "      <th>Ad</th>\n",
       "      <th>Cinsiyet</th>\n",
       "      <th>Uretim</th>\n",
       "      <th>DepId</th>\n",
       "    </tr>\n",
       "  </thead>\n",
       "  <tbody>\n",
       "    <tr>\n",
       "      <th>Bolu</th>\n",
       "      <td>3</td>\n",
       "      <td>Ayşe</td>\n",
       "      <td>None</td>\n",
       "      <td>250.0</td>\n",
       "      <td>NaN</td>\n",
       "    </tr>\n",
       "    <tr>\n",
       "      <th>İzmir</th>\n",
       "      <td>5</td>\n",
       "      <td>Tonguç</td>\n",
       "      <td>E</td>\n",
       "      <td>NaN</td>\n",
       "      <td>NaN</td>\n",
       "    </tr>\n",
       "  </tbody>\n",
       "</table>\n",
       "</div>"
      ],
      "text/plain": [
       "       Id      Ad Cinsiyet  Uretim DepId\n",
       "Bolu    3    Ayşe     None   250.0   NaN\n",
       "İzmir   5  Tonguç        E     NaN   NaN"
      ]
     },
     "execution_count": 24,
     "metadata": {},
     "output_type": "execute_result"
    }
   ],
   "source": [
    "ekip.shape #5,5\n",
    "ekip.__len__() #5\n",
    "\n",
    "#\n",
    "#satırlarda filreleme yapmak için satır sayısı kadar True/False listesi üretmemiz gerekir.\n",
    "filtre_satirlar = [False,False,True,False,True]\n",
    "\n",
    "#\n",
    "ekip[filtre_satirlar] #filtrelenmiş satırları getirir. Karşılığı True olan satırları getirir."
   ]
  },
  {
   "cell_type": "markdown",
   "metadata": {},
   "source": [
    "#### `df.iloc[satirSirasi, kolonSirasi]` ile Çalışmak"
   ]
  },
  {
   "cell_type": "code",
   "execution_count": 25,
   "metadata": {},
   "outputs": [
    {
     "data": {
      "text/html": [
       "<div>\n",
       "<style scoped>\n",
       "    .dataframe tbody tr th:only-of-type {\n",
       "        vertical-align: middle;\n",
       "    }\n",
       "\n",
       "    .dataframe tbody tr th {\n",
       "        vertical-align: top;\n",
       "    }\n",
       "\n",
       "    .dataframe thead th {\n",
       "        text-align: right;\n",
       "    }\n",
       "</style>\n",
       "<table border=\"1\" class=\"dataframe\">\n",
       "  <thead>\n",
       "    <tr style=\"text-align: right;\">\n",
       "      <th></th>\n",
       "      <th>Ad</th>\n",
       "      <th>Uretim</th>\n",
       "    </tr>\n",
       "  </thead>\n",
       "  <tbody>\n",
       "    <tr>\n",
       "      <th>Bursa</th>\n",
       "      <td>Ali</td>\n",
       "      <td>120.0</td>\n",
       "    </tr>\n",
       "    <tr>\n",
       "      <th>Bolu</th>\n",
       "      <td>Ayşe</td>\n",
       "      <td>250.0</td>\n",
       "    </tr>\n",
       "    <tr>\n",
       "      <th>İzmir</th>\n",
       "      <td>Tonguç</td>\n",
       "      <td>NaN</td>\n",
       "    </tr>\n",
       "  </tbody>\n",
       "</table>\n",
       "</div>"
      ],
      "text/plain": [
       "           Ad  Uretim\n",
       "Bursa     Ali   120.0\n",
       "Bolu     Ayşe   250.0\n",
       "İzmir  Tonguç     NaN"
      ]
     },
     "execution_count": 25,
     "metadata": {},
     "output_type": "execute_result"
    }
   ],
   "source": [
    "ekip[:2] #slicer yöntemi her kulanımda destekleniyor.\n",
    "#ekip[0] #HATA!!!! direkt sıra numarasını vermek için iloc ile çalışmak gerek.\n",
    "\n",
    "#iloc ile numpydaki gibi satır ve sutun numaralarını ayrı ayrı verebiliriiz.\n",
    "ekip.iloc[0,1] #0.satır 1.kolon\n",
    "\n",
    "#\n",
    "ekip.iloc[0] #0. satırın tamamı seri olarak gelir\n",
    "ekip.iloc[[0]] #0. satırı DF olarak gelir\n",
    "\n",
    "#\n",
    "ekip.iloc[0,[0,1]] #0.satırın 0 ve 1. kolonlarını getirir.\n",
    "ekip.iloc[[0],[0,1]] #0.satırın 0 ve 1. kolonlarını getirir. df döner\n",
    "\n",
    "#\n",
    "ekip.iloc[[0,2,4],[1,3]] #0,2,4. satırların 0 ve 1. kolonlarını getirir."
   ]
  },
  {
   "cell_type": "code",
   "execution_count": 26,
   "metadata": {},
   "outputs": [
    {
     "data": {
      "text/html": [
       "<div>\n",
       "<style scoped>\n",
       "    .dataframe tbody tr th:only-of-type {\n",
       "        vertical-align: middle;\n",
       "    }\n",
       "\n",
       "    .dataframe tbody tr th {\n",
       "        vertical-align: top;\n",
       "    }\n",
       "\n",
       "    .dataframe thead th {\n",
       "        text-align: right;\n",
       "    }\n",
       "</style>\n",
       "<table border=\"1\" class=\"dataframe\">\n",
       "  <thead>\n",
       "    <tr style=\"text-align: right;\">\n",
       "      <th></th>\n",
       "      <th>Ad</th>\n",
       "      <th>Cinsiyet</th>\n",
       "      <th>Uretim</th>\n",
       "    </tr>\n",
       "  </thead>\n",
       "  <tbody>\n",
       "    <tr>\n",
       "      <th>Bursa</th>\n",
       "      <td>Ali</td>\n",
       "      <td>E</td>\n",
       "      <td>120.0</td>\n",
       "    </tr>\n",
       "    <tr>\n",
       "      <th>Bursa</th>\n",
       "      <td>Veli</td>\n",
       "      <td>E</td>\n",
       "      <td>NaN</td>\n",
       "    </tr>\n",
       "    <tr>\n",
       "      <th>Bolu</th>\n",
       "      <td>Ayşe</td>\n",
       "      <td>None</td>\n",
       "      <td>250.0</td>\n",
       "    </tr>\n",
       "  </tbody>\n",
       "</table>\n",
       "</div>"
      ],
      "text/plain": [
       "         Ad Cinsiyet  Uretim\n",
       "Bursa   Ali        E   120.0\n",
       "Bursa  Veli        E     NaN\n",
       "Bolu   Ayşe     None   250.0"
      ]
     },
     "execution_count": 26,
     "metadata": {},
     "output_type": "execute_result"
    }
   ],
   "source": [
    "# slicer kullanımı\n",
    "ekip.iloc[:2,[1,2,3]]\n",
    "\n",
    "#boolen index\n",
    "filtre_kolonlar = [False, True, True,True,False]\n",
    "ekip.iloc[:3,filtre_kolonlar] #ilk 3 satır ve kolonlar karşılığı True olanlar"
   ]
  },
  {
   "cell_type": "markdown",
   "metadata": {},
   "source": [
    "#### `df.loc[satirEtiketi, kolonEtiketi]` ile Çalışmak"
   ]
  },
  {
   "cell_type": "code",
   "execution_count": 27,
   "metadata": {},
   "outputs": [
    {
     "data": {
      "text/html": [
       "<div>\n",
       "<style scoped>\n",
       "    .dataframe tbody tr th:only-of-type {\n",
       "        vertical-align: middle;\n",
       "    }\n",
       "\n",
       "    .dataframe tbody tr th {\n",
       "        vertical-align: top;\n",
       "    }\n",
       "\n",
       "    .dataframe thead th {\n",
       "        text-align: right;\n",
       "    }\n",
       "</style>\n",
       "<table border=\"1\" class=\"dataframe\">\n",
       "  <thead>\n",
       "    <tr style=\"text-align: right;\">\n",
       "      <th></th>\n",
       "      <th>Id</th>\n",
       "      <th>Ad</th>\n",
       "      <th>Cinsiyet</th>\n",
       "      <th>Uretim</th>\n",
       "      <th>DepId</th>\n",
       "    </tr>\n",
       "  </thead>\n",
       "  <tbody>\n",
       "    <tr>\n",
       "      <th>Bursa</th>\n",
       "      <td>1</td>\n",
       "      <td>Ali</td>\n",
       "      <td>E</td>\n",
       "      <td>120.0</td>\n",
       "      <td>NaN</td>\n",
       "    </tr>\n",
       "    <tr>\n",
       "      <th>Bursa</th>\n",
       "      <td>2</td>\n",
       "      <td>Veli</td>\n",
       "      <td>E</td>\n",
       "      <td>NaN</td>\n",
       "      <td>NaN</td>\n",
       "    </tr>\n",
       "  </tbody>\n",
       "</table>\n",
       "</div>"
      ],
      "text/plain": [
       "       Id    Ad Cinsiyet  Uretim DepId\n",
       "Bursa   1   Ali        E   120.0   NaN\n",
       "Bursa   2  Veli        E     NaN   NaN"
      ]
     },
     "execution_count": 27,
     "metadata": {},
     "output_type": "execute_result"
    }
   ],
   "source": [
    "ekip.loc[\"İzmir\"] #İzmir satırını getirir. satır etiketi verdik\n",
    "ekip.loc[[\"İzmir\"]] #İzmir satırını DF olarak getirir.\n",
    "\n",
    "#\n",
    "ekip.loc[\"Bursa\"] #2 satır ve bir çok kolon döndüğü için df gelir."
   ]
  },
  {
   "cell_type": "code",
   "execution_count": 28,
   "metadata": {},
   "outputs": [
    {
     "data": {
      "text/html": [
       "<div>\n",
       "<style scoped>\n",
       "    .dataframe tbody tr th:only-of-type {\n",
       "        vertical-align: middle;\n",
       "    }\n",
       "\n",
       "    .dataframe tbody tr th {\n",
       "        vertical-align: top;\n",
       "    }\n",
       "\n",
       "    .dataframe thead th {\n",
       "        text-align: right;\n",
       "    }\n",
       "</style>\n",
       "<table border=\"1\" class=\"dataframe\">\n",
       "  <thead>\n",
       "    <tr style=\"text-align: right;\">\n",
       "      <th></th>\n",
       "      <th>Ad</th>\n",
       "      <th>Cinsiyet</th>\n",
       "      <th>Uretim</th>\n",
       "    </tr>\n",
       "  </thead>\n",
       "  <tbody>\n",
       "    <tr>\n",
       "      <th>İzmir</th>\n",
       "      <td>Tonguç</td>\n",
       "      <td>E</td>\n",
       "      <td>NaN</td>\n",
       "    </tr>\n",
       "  </tbody>\n",
       "</table>\n",
       "</div>"
      ],
      "text/plain": [
       "           Ad Cinsiyet  Uretim\n",
       "İzmir  Tonguç        E     NaN"
      ]
     },
     "execution_count": 28,
     "metadata": {},
     "output_type": "execute_result"
    }
   ],
   "source": [
    "ekip.loc[\"İzmir\",[\"Ad\",\"Cinsiyet\",\"Uretim\"]] #seri\n",
    "ekip.loc[[\"İzmir\"],[\"Ad\",\"Cinsiyet\",\"Uretim\"]] #df"
   ]
  },
  {
   "cell_type": "code",
   "execution_count": 29,
   "metadata": {},
   "outputs": [
    {
     "data": {
      "text/html": [
       "<div>\n",
       "<style scoped>\n",
       "    .dataframe tbody tr th:only-of-type {\n",
       "        vertical-align: middle;\n",
       "    }\n",
       "\n",
       "    .dataframe tbody tr th {\n",
       "        vertical-align: top;\n",
       "    }\n",
       "\n",
       "    .dataframe thead th {\n",
       "        text-align: right;\n",
       "    }\n",
       "</style>\n",
       "<table border=\"1\" class=\"dataframe\">\n",
       "  <thead>\n",
       "    <tr style=\"text-align: right;\">\n",
       "      <th></th>\n",
       "      <th>Ad</th>\n",
       "      <th>Cinsiyet</th>\n",
       "      <th>Uretim</th>\n",
       "    </tr>\n",
       "  </thead>\n",
       "  <tbody>\n",
       "    <tr>\n",
       "      <th>Bolu</th>\n",
       "      <td>Ayşe</td>\n",
       "      <td>None</td>\n",
       "      <td>250.0</td>\n",
       "    </tr>\n",
       "    <tr>\n",
       "      <th>İzmir</th>\n",
       "      <td>Tonguç</td>\n",
       "      <td>E</td>\n",
       "      <td>NaN</td>\n",
       "    </tr>\n",
       "  </tbody>\n",
       "</table>\n",
       "</div>"
      ],
      "text/plain": [
       "           Ad Cinsiyet  Uretim\n",
       "Bolu     Ayşe     None   250.0\n",
       "İzmir  Tonguç        E     NaN"
      ]
     },
     "execution_count": 29,
     "metadata": {},
     "output_type": "execute_result"
    }
   ],
   "source": [
    "#slicer kullanımı\n",
    "ekip.loc[::-1,\"Ad\":\"Uretim\"] #ters sıralama ve Ad ile Uretim arasındaki kolonları getirir.\n",
    "\n",
    "#boolen index\n",
    "filtre_satir = [False,False,True,False,True]    \n",
    "filtre_sutun = [False, True, True, True,False]\n",
    "\n",
    "#\n",
    "ekip.loc[filtre_satir,filtre_sutun] #filtrelenmiş satırları ve kolonları getirir."
   ]
  },
  {
   "cell_type": "markdown",
   "metadata": {},
   "source": [
    "#### Boolen Listeler ile Filtreleme\n",
    "* Filtrelenecek boyutta eleman sayısı kadar True/False listesi/serisi/dizisi oluşturulur.\n",
    "* DF üzerinde True karşılığı olanlar gelir.\n",
    "* `[], iloc[], loc[]` içinde kullanılabilir."
   ]
  },
  {
   "cell_type": "code",
   "execution_count": 30,
   "metadata": {},
   "outputs": [
    {
     "data": {
      "text/html": [
       "<div>\n",
       "<style scoped>\n",
       "    .dataframe tbody tr th:only-of-type {\n",
       "        vertical-align: middle;\n",
       "    }\n",
       "\n",
       "    .dataframe tbody tr th {\n",
       "        vertical-align: top;\n",
       "    }\n",
       "\n",
       "    .dataframe thead th {\n",
       "        text-align: right;\n",
       "    }\n",
       "</style>\n",
       "<table border=\"1\" class=\"dataframe\">\n",
       "  <thead>\n",
       "    <tr style=\"text-align: right;\">\n",
       "      <th></th>\n",
       "      <th>Ad</th>\n",
       "      <th>Uretim</th>\n",
       "    </tr>\n",
       "  </thead>\n",
       "  <tbody>\n",
       "    <tr>\n",
       "      <th>Bursa</th>\n",
       "      <td>Ali</td>\n",
       "      <td>120.0</td>\n",
       "    </tr>\n",
       "    <tr>\n",
       "      <th>Bursa</th>\n",
       "      <td>Veli</td>\n",
       "      <td>NaN</td>\n",
       "    </tr>\n",
       "    <tr>\n",
       "      <th>Bolu</th>\n",
       "      <td>Ayşe</td>\n",
       "      <td>250.0</td>\n",
       "    </tr>\n",
       "    <tr>\n",
       "      <th>Bolu</th>\n",
       "      <td>Fatma</td>\n",
       "      <td>350.0</td>\n",
       "    </tr>\n",
       "    <tr>\n",
       "      <th>İzmir</th>\n",
       "      <td>Tonguç</td>\n",
       "      <td>NaN</td>\n",
       "    </tr>\n",
       "  </tbody>\n",
       "</table>\n",
       "</div>"
      ],
      "text/plain": [
       "           Ad  Uretim\n",
       "Bursa     Ali   120.0\n",
       "Bursa    Veli     NaN\n",
       "Bolu     Ayşe   250.0\n",
       "Bolu    Fatma   350.0\n",
       "İzmir  Tonguç     NaN"
      ]
     },
     "execution_count": 30,
     "metadata": {},
     "output_type": "execute_result"
    }
   ],
   "source": [
    "#örn:\n",
    "#içerisinde im geçen kolonları ve Ad kolonu getirelim. Tüm satırlar gelsin\n",
    "filtre_ad = ekip.columns==\"Ad\" #broadcasting ile tüm kolonları kontrol eder.\n",
    "filter_im = ekip.columns.str.contains(\"im\") #kolon isimlerinde im geçenleri getirir.\n",
    "\n",
    "filtre_kolon = filtre_ad | filter_im #veya işlemi np.logical_or(filtre_ad,filter_im) ile de yapılabilir.\n",
    "\n",
    "\n",
    "#boole indexler [], iloc, loc ile kullanılabilir.\n",
    "ekip.loc[:, filtre_kolon]\n",
    "ekip.iloc[:, filtre_kolon]"
   ]
  },
  {
   "cell_type": "code",
   "execution_count": 31,
   "metadata": {},
   "outputs": [
    {
     "data": {
      "text/html": [
       "<div>\n",
       "<style scoped>\n",
       "    .dataframe tbody tr th:only-of-type {\n",
       "        vertical-align: middle;\n",
       "    }\n",
       "\n",
       "    .dataframe tbody tr th {\n",
       "        vertical-align: top;\n",
       "    }\n",
       "\n",
       "    .dataframe thead th {\n",
       "        text-align: right;\n",
       "    }\n",
       "</style>\n",
       "<table border=\"1\" class=\"dataframe\">\n",
       "  <thead>\n",
       "    <tr style=\"text-align: right;\">\n",
       "      <th></th>\n",
       "      <th>Ad</th>\n",
       "      <th>Cinsiyet</th>\n",
       "    </tr>\n",
       "  </thead>\n",
       "  <tbody>\n",
       "    <tr>\n",
       "      <th>Bolu</th>\n",
       "      <td>Fatma</td>\n",
       "      <td>K</td>\n",
       "    </tr>\n",
       "  </tbody>\n",
       "</table>\n",
       "</div>"
      ],
      "text/plain": [
       "         Ad Cinsiyet\n",
       "Bolu  Fatma        K"
      ]
     },
     "execution_count": 31,
     "metadata": {},
     "output_type": "execute_result"
    }
   ],
   "source": [
    "#soru:\n",
    "'''\n",
    "    1. Sadece Ad, Cinsiyet, Uretim kolonlarını çekelim.\n",
    "    2. Uretim 150'den büyük satırları getirelim.\n",
    "    3. 300'den küçük üretime sahip olmayan kadın üyeler gelsin.\n",
    "    4. 150'den büyük üretime sahip olan kadın üyeler.\n",
    "'''\n",
    "#1.\n",
    "ekip[[\"Ad\",\"Cinsiyet\",\"Uretim\"]]\n",
    "ekip.loc[:,[\"Ad\",\"Cinsiyet\",\"Uretim\"]]\n",
    "\n",
    "#2.\n",
    "filtre_uretim = ekip.Uretim > 150 #broadcasting ile tüm hücreleri (seride satırlar) kontrol eder.\n",
    "ekip[filtre_uretim]\n",
    "ekip.loc[filtre_uretim]\n",
    "ekip.iloc[filtre_uretim.tolist()] #tolist() ile listeye çevirip kullanabiliriz.\n",
    "\n",
    "#3.\n",
    "filtre_kadin = ekip.Cinsiyet == \"K\"\n",
    "filtre_uretim300denKucuk = ekip.Uretim < 300\n",
    "filtre_uretim300denKucukOlmayan = ~filtre_uretim300denKucuk #np.logical_not(filtre_uretim300denKucuk) #filtre_uretim300denKucuk == False\n",
    "\n",
    "ekip.loc[filtre_kadin & filtre_uretim300denKucukOlmayan , [\"Ad\",\"Uretim\"]]\n",
    "\n",
    "#--------\n",
    "#4.lambda kullanımı\n",
    "ekip.loc[lambda s: (s.Uretim > 150) & (s.Cinsiyet == \"K\"), \"Ad\":\"Uretim\"]\n",
    "ekip.iloc[lambda s: ((s.Uretim > 150) & (s.Cinsiyet == \"K\")).tolist() , 1:3] #tolist() ile listeye çevirip kullanabiliriz."
   ]
  },
  {
   "cell_type": "markdown",
   "metadata": {},
   "source": [
    "#### `query(expression)` ile filtreleme\n",
    "* expression kısmı sql'deki where ile belirtilen expression gibidir."
   ]
  },
  {
   "cell_type": "code",
   "execution_count": 32,
   "metadata": {},
   "outputs": [
    {
     "data": {
      "text/html": [
       "<div>\n",
       "<style scoped>\n",
       "    .dataframe tbody tr th:only-of-type {\n",
       "        vertical-align: middle;\n",
       "    }\n",
       "\n",
       "    .dataframe tbody tr th {\n",
       "        vertical-align: top;\n",
       "    }\n",
       "\n",
       "    .dataframe thead th {\n",
       "        text-align: right;\n",
       "    }\n",
       "</style>\n",
       "<table border=\"1\" class=\"dataframe\">\n",
       "  <thead>\n",
       "    <tr style=\"text-align: right;\">\n",
       "      <th></th>\n",
       "      <th>Id</th>\n",
       "      <th>Ad</th>\n",
       "      <th>Cinsiyet</th>\n",
       "      <th>Uretim</th>\n",
       "      <th>DepId</th>\n",
       "    </tr>\n",
       "  </thead>\n",
       "  <tbody>\n",
       "    <tr>\n",
       "      <th>Bolu</th>\n",
       "      <td>4</td>\n",
       "      <td>Fatma</td>\n",
       "      <td>K</td>\n",
       "      <td>350.0</td>\n",
       "      <td>NaN</td>\n",
       "    </tr>\n",
       "  </tbody>\n",
       "</table>\n",
       "</div>"
      ],
      "text/plain": [
       "      Id     Ad Cinsiyet  Uretim DepId\n",
       "Bolu   4  Fatma        K   350.0   NaN"
      ]
     },
     "execution_count": 32,
     "metadata": {},
     "output_type": "execute_result"
    }
   ],
   "source": [
    "#örn:\n",
    "#Uretim mükteri 200'den büyük olanları getirelim. Cinsiyeti Kadın olanlar\n",
    "ekip.query(\"Uretim > 200 and Cinsiyet == 'K'\" )"
   ]
  },
  {
   "cell_type": "code",
   "execution_count": 33,
   "metadata": {},
   "outputs": [
    {
     "data": {
      "text/html": [
       "<div>\n",
       "<style scoped>\n",
       "    .dataframe tbody tr th:only-of-type {\n",
       "        vertical-align: middle;\n",
       "    }\n",
       "\n",
       "    .dataframe tbody tr th {\n",
       "        vertical-align: top;\n",
       "    }\n",
       "\n",
       "    .dataframe thead th {\n",
       "        text-align: right;\n",
       "    }\n",
       "</style>\n",
       "<table border=\"1\" class=\"dataframe\">\n",
       "  <thead>\n",
       "    <tr style=\"text-align: right;\">\n",
       "      <th></th>\n",
       "      <th>Id</th>\n",
       "      <th>Ad</th>\n",
       "      <th>Cinsiyet</th>\n",
       "      <th>Uretim</th>\n",
       "      <th>DepId</th>\n",
       "    </tr>\n",
       "  </thead>\n",
       "  <tbody>\n",
       "    <tr>\n",
       "      <th>Bolu</th>\n",
       "      <td>3</td>\n",
       "      <td>Ayşe</td>\n",
       "      <td>None</td>\n",
       "      <td>250.0</td>\n",
       "      <td>NaN</td>\n",
       "    </tr>\n",
       "    <tr>\n",
       "      <th>Bolu</th>\n",
       "      <td>4</td>\n",
       "      <td>Fatma</td>\n",
       "      <td>K</td>\n",
       "      <td>350.0</td>\n",
       "      <td>NaN</td>\n",
       "    </tr>\n",
       "  </tbody>\n",
       "</table>\n",
       "</div>"
      ],
      "text/plain": [
       "      Id     Ad Cinsiyet  Uretim DepId\n",
       "Bolu   3   Ayşe     None   250.0   NaN\n",
       "Bolu   4  Fatma        K   350.0   NaN"
      ]
     },
     "execution_count": 33,
     "metadata": {},
     "output_type": "execute_result"
    }
   ],
   "source": [
    "#örn:\n",
    "#Ortalamadan büyük Üretime sahip olanları  getirelim.\n",
    "ekip.Uretim.mean()\n",
    "\n",
    "#1.\n",
    "ekip.query(f\"Uretim > {ekip.Uretim.mean()}\")\n",
    "\n",
    "#2. değişken tanımlana\n",
    "uretim_ort = ekip.Uretim.mean()\n",
    "ekip.query(\"Uretim > @uretim_ort\") #@ ile değişkeni kullanabiliriz."
   ]
  },
  {
   "cell_type": "code",
   "execution_count": 34,
   "metadata": {},
   "outputs": [
    {
     "data": {
      "text/html": [
       "<div>\n",
       "<style scoped>\n",
       "    .dataframe tbody tr th:only-of-type {\n",
       "        vertical-align: middle;\n",
       "    }\n",
       "\n",
       "    .dataframe tbody tr th {\n",
       "        vertical-align: top;\n",
       "    }\n",
       "\n",
       "    .dataframe thead th {\n",
       "        text-align: right;\n",
       "    }\n",
       "</style>\n",
       "<table border=\"1\" class=\"dataframe\">\n",
       "  <thead>\n",
       "    <tr style=\"text-align: right;\">\n",
       "      <th></th>\n",
       "      <th>Id</th>\n",
       "      <th>Ad</th>\n",
       "      <th>Cinsiyet</th>\n",
       "      <th>Uretim</th>\n",
       "      <th>DepId</th>\n",
       "    </tr>\n",
       "  </thead>\n",
       "  <tbody>\n",
       "    <tr>\n",
       "      <th>Bursa</th>\n",
       "      <td>1</td>\n",
       "      <td>Ali</td>\n",
       "      <td>E</td>\n",
       "      <td>120.0</td>\n",
       "      <td>NaN</td>\n",
       "    </tr>\n",
       "    <tr>\n",
       "      <th>Bursa</th>\n",
       "      <td>2</td>\n",
       "      <td>Veli</td>\n",
       "      <td>E</td>\n",
       "      <td>NaN</td>\n",
       "      <td>NaN</td>\n",
       "    </tr>\n",
       "    <tr>\n",
       "      <th>Bolu</th>\n",
       "      <td>4</td>\n",
       "      <td>Fatma</td>\n",
       "      <td>K</td>\n",
       "      <td>350.0</td>\n",
       "      <td>NaN</td>\n",
       "    </tr>\n",
       "    <tr>\n",
       "      <th>İzmir</th>\n",
       "      <td>5</td>\n",
       "      <td>Tonguç</td>\n",
       "      <td>E</td>\n",
       "      <td>NaN</td>\n",
       "      <td>NaN</td>\n",
       "    </tr>\n",
       "  </tbody>\n",
       "</table>\n",
       "</div>"
      ],
      "text/plain": [
       "       Id      Ad Cinsiyet  Uretim DepId\n",
       "Bursa   1     Ali        E   120.0   NaN\n",
       "Bursa   2    Veli        E     NaN   NaN\n",
       "Bolu    4   Fatma        K   350.0   NaN\n",
       "İzmir   5  Tonguç        E     NaN   NaN"
      ]
     },
     "execution_count": 34,
     "metadata": {},
     "output_type": "execute_result"
    }
   ],
   "source": [
    "# Cinsiyet alano null olanları getirelim.\n",
    "# Cinsiyet alano null olmayanlar getirelim.\n",
    "#ekip[ekip.isna().Uretim]\n",
    "\n",
    "#NULL olanlar\n",
    "ekip.query(\"Cinsiyet != Cinsiyet\") #Cinsiyet alanı null olanları getirir.\n",
    "ekip.query(\"Cinsiyet.isnull()\")\n",
    "ekip.query(\"Cinsiyet.isna()\")\n",
    "\n",
    "#\n",
    "#NULL olmayanlar\n",
    "ekip.query(\"Cinsiyet == Cinsiyet\") #Cinsiyet alanı null olmayanları getirir.\n",
    "ekip.query(\"Cinsiyet.notnull()\")\n",
    "ekip.query(\"Cinsiyet.notna()\")\n",
    "ekip.query(\"not Cinsiyet.isna()\")\n",
    "ekip.query(\"~Cinsiyet.isna()\")"
   ]
  },
  {
   "cell_type": "code",
   "execution_count": 35,
   "metadata": {},
   "outputs": [
    {
     "data": {
      "text/html": [
       "<div>\n",
       "<style scoped>\n",
       "    .dataframe tbody tr th:only-of-type {\n",
       "        vertical-align: middle;\n",
       "    }\n",
       "\n",
       "    .dataframe tbody tr th {\n",
       "        vertical-align: top;\n",
       "    }\n",
       "\n",
       "    .dataframe thead th {\n",
       "        text-align: right;\n",
       "    }\n",
       "</style>\n",
       "<table border=\"1\" class=\"dataframe\">\n",
       "  <thead>\n",
       "    <tr style=\"text-align: right;\">\n",
       "      <th></th>\n",
       "      <th>Id</th>\n",
       "      <th>Ad</th>\n",
       "      <th>Cinsiyet</th>\n",
       "      <th>Uretim</th>\n",
       "      <th>DepId</th>\n",
       "    </tr>\n",
       "  </thead>\n",
       "  <tbody>\n",
       "    <tr>\n",
       "      <th>Bursa</th>\n",
       "      <td>1</td>\n",
       "      <td>Ali</td>\n",
       "      <td>E</td>\n",
       "      <td>120.0</td>\n",
       "      <td>NaN</td>\n",
       "    </tr>\n",
       "    <tr>\n",
       "      <th>Bolu</th>\n",
       "      <td>3</td>\n",
       "      <td>Ayşe</td>\n",
       "      <td>None</td>\n",
       "      <td>250.0</td>\n",
       "      <td>NaN</td>\n",
       "    </tr>\n",
       "    <tr>\n",
       "      <th>Bolu</th>\n",
       "      <td>4</td>\n",
       "      <td>Fatma</td>\n",
       "      <td>K</td>\n",
       "      <td>350.0</td>\n",
       "      <td>NaN</td>\n",
       "    </tr>\n",
       "  </tbody>\n",
       "</table>\n",
       "</div>"
      ],
      "text/plain": [
       "       Id     Ad Cinsiyet  Uretim DepId\n",
       "Bursa   1    Ali        E   120.0   NaN\n",
       "Bolu    3   Ayşe     None   250.0   NaN\n",
       "Bolu    4  Fatma        K   350.0   NaN"
      ]
     },
     "execution_count": 35,
     "metadata": {},
     "output_type": "execute_result"
    }
   ],
   "source": [
    "#içerisinde a geçen isimler gelsin\n",
    "filtre_a = ekip.Ad.str.contains(\"a\", case=False) #case=False büyük küçük harf duyarlılığını kaldırır.\n",
    "ekip[filtre_a]\n",
    "\n",
    "#\n",
    "ekip.query(\"Ad.str.contains('a', case=False)\")"
   ]
  },
  {
   "cell_type": "markdown",
   "metadata": {},
   "source": [
    "#### `where` Kullanımı\n",
    "* Belirtilen şartı tüm hücreler için kontrol eder.\n",
    "* Şarta uyan satırlar aynen gelir. Uymayan satırlar için bir varsayılan değer veya None basılır."
   ]
  },
  {
   "cell_type": "code",
   "execution_count": 36,
   "metadata": {},
   "outputs": [
    {
     "data": {
      "text/html": [
       "<div>\n",
       "<style scoped>\n",
       "    .dataframe tbody tr th:only-of-type {\n",
       "        vertical-align: middle;\n",
       "    }\n",
       "\n",
       "    .dataframe tbody tr th {\n",
       "        vertical-align: top;\n",
       "    }\n",
       "\n",
       "    .dataframe thead th {\n",
       "        text-align: right;\n",
       "    }\n",
       "</style>\n",
       "<table border=\"1\" class=\"dataframe\">\n",
       "  <thead>\n",
       "    <tr style=\"text-align: right;\">\n",
       "      <th></th>\n",
       "      <th>Id</th>\n",
       "      <th>Ad</th>\n",
       "      <th>Cinsiyet</th>\n",
       "      <th>Uretim</th>\n",
       "      <th>DepId</th>\n",
       "    </tr>\n",
       "  </thead>\n",
       "  <tbody>\n",
       "    <tr>\n",
       "      <th>Bursa</th>\n",
       "      <td>1</td>\n",
       "      <td>Ali</td>\n",
       "      <td>E</td>\n",
       "      <td>120.0</td>\n",
       "      <td>NaN</td>\n",
       "    </tr>\n",
       "    <tr>\n",
       "      <th>Bursa</th>\n",
       "      <td>2</td>\n",
       "      <td>Veli</td>\n",
       "      <td>E</td>\n",
       "      <td>NaN</td>\n",
       "      <td>NaN</td>\n",
       "    </tr>\n",
       "    <tr>\n",
       "      <th>Bolu</th>\n",
       "      <td>-</td>\n",
       "      <td>-</td>\n",
       "      <td>-</td>\n",
       "      <td>-</td>\n",
       "      <td>-</td>\n",
       "    </tr>\n",
       "    <tr>\n",
       "      <th>Bolu</th>\n",
       "      <td>-</td>\n",
       "      <td>-</td>\n",
       "      <td>-</td>\n",
       "      <td>-</td>\n",
       "      <td>-</td>\n",
       "    </tr>\n",
       "    <tr>\n",
       "      <th>İzmir</th>\n",
       "      <td>5</td>\n",
       "      <td>Tonguç</td>\n",
       "      <td>E</td>\n",
       "      <td>NaN</td>\n",
       "      <td>NaN</td>\n",
       "    </tr>\n",
       "  </tbody>\n",
       "</table>\n",
       "</div>"
      ],
      "text/plain": [
       "      Id      Ad Cinsiyet Uretim DepId\n",
       "Bursa  1     Ali        E  120.0   NaN\n",
       "Bursa  2    Veli        E    NaN   NaN\n",
       "Bolu   -       -        -      -     -\n",
       "Bolu   -       -        -      -     -\n",
       "İzmir  5  Tonguç        E    NaN   NaN"
      ]
     },
     "execution_count": 36,
     "metadata": {},
     "output_type": "execute_result"
    }
   ],
   "source": [
    "ekip.where(ekip.Cinsiyet==\"E\")\n",
    "ekip.where(ekip.Cinsiyet==\"E\",'-') #Uymayan satırlar için - basalım."
   ]
  },
  {
   "cell_type": "markdown",
   "metadata": {},
   "source": [
    "#### `isin` Kullanımı\n",
    "* herhangi bir değerin tablonun neresinde olduğunu bulmamızı sağlar.\n",
    "* belirtilen değer hücrelerde var mı? Hücre bazlı True/False döner."
   ]
  },
  {
   "cell_type": "code",
   "execution_count": 37,
   "metadata": {},
   "outputs": [
    {
     "data": {
      "text/plain": [
       "1"
      ]
     },
     "execution_count": 37,
     "metadata": {},
     "output_type": "execute_result"
    }
   ],
   "source": [
    "ekip.isin([\"Ali\"]) #liste veya dict istiyor\n",
    "ekip.isin([\"Ali\"]).any()#Ali değeri bir kolonda var mı? Ad kolonunda True\n",
    "ekip.isin([\"Ali\"]).any().any() #Ali değeri DF'te var mı?\n",
    "\n",
    "#\n",
    "ekip.isin([\"Ali\"]).sum() #hangi kolonda kaç tane var.\n",
    "ekip.isin([\"Ali\"]).sum().sum() #DF'te kaç tane var."
   ]
  },
  {
   "cell_type": "code",
   "execution_count": 38,
   "metadata": {},
   "outputs": [
    {
     "data": {
      "text/html": [
       "<div>\n",
       "<style scoped>\n",
       "    .dataframe tbody tr th:only-of-type {\n",
       "        vertical-align: middle;\n",
       "    }\n",
       "\n",
       "    .dataframe tbody tr th {\n",
       "        vertical-align: top;\n",
       "    }\n",
       "\n",
       "    .dataframe thead th {\n",
       "        text-align: right;\n",
       "    }\n",
       "</style>\n",
       "<table border=\"1\" class=\"dataframe\">\n",
       "  <thead>\n",
       "    <tr style=\"text-align: right;\">\n",
       "      <th></th>\n",
       "      <th>Id</th>\n",
       "      <th>Ad</th>\n",
       "      <th>Cinsiyet</th>\n",
       "      <th>Uretim</th>\n",
       "      <th>DepId</th>\n",
       "    </tr>\n",
       "  </thead>\n",
       "  <tbody>\n",
       "    <tr>\n",
       "      <th>Bursa</th>\n",
       "      <td>False</td>\n",
       "      <td>True</td>\n",
       "      <td>True</td>\n",
       "      <td>False</td>\n",
       "      <td>False</td>\n",
       "    </tr>\n",
       "    <tr>\n",
       "      <th>Bursa</th>\n",
       "      <td>False</td>\n",
       "      <td>False</td>\n",
       "      <td>True</td>\n",
       "      <td>False</td>\n",
       "      <td>False</td>\n",
       "    </tr>\n",
       "    <tr>\n",
       "      <th>Bolu</th>\n",
       "      <td>False</td>\n",
       "      <td>True</td>\n",
       "      <td>False</td>\n",
       "      <td>False</td>\n",
       "      <td>False</td>\n",
       "    </tr>\n",
       "    <tr>\n",
       "      <th>Bolu</th>\n",
       "      <td>False</td>\n",
       "      <td>False</td>\n",
       "      <td>False</td>\n",
       "      <td>False</td>\n",
       "      <td>False</td>\n",
       "    </tr>\n",
       "    <tr>\n",
       "      <th>İzmir</th>\n",
       "      <td>False</td>\n",
       "      <td>False</td>\n",
       "      <td>True</td>\n",
       "      <td>False</td>\n",
       "      <td>False</td>\n",
       "    </tr>\n",
       "  </tbody>\n",
       "</table>\n",
       "</div>"
      ],
      "text/plain": [
       "          Id     Ad  Cinsiyet  Uretim  DepId\n",
       "Bursa  False   True      True   False  False\n",
       "Bursa  False  False      True   False  False\n",
       "Bolu   False   True     False   False  False\n",
       "Bolu   False  False     False   False  False\n",
       "İzmir  False  False      True   False  False"
      ]
     },
     "execution_count": 38,
     "metadata": {},
     "output_type": "execute_result"
    }
   ],
   "source": [
    "ekip.isin({\"Ad\":[\"Ali\",\"Ayşe\"], \"Cinsiyet\":[\"E\"]}) #Ad kolonunda Ali veya Ayşe, Cinsiyet kolonunda E olanlar"
   ]
  },
  {
   "cell_type": "markdown",
   "metadata": {},
   "source": [
    "#### `filter` ile etiketlere göre filtreleme yapabiliriz.\n",
    "* `items , regex, like` parametreleri ile etiketleri tarif edebiliriz.\n",
    "* axis=0 satırları, axis=1 kolonları tarif eder."
   ]
  },
  {
   "cell_type": "code",
   "execution_count": 39,
   "metadata": {},
   "outputs": [
    {
     "data": {
      "text/html": [
       "<div>\n",
       "<style scoped>\n",
       "    .dataframe tbody tr th:only-of-type {\n",
       "        vertical-align: middle;\n",
       "    }\n",
       "\n",
       "    .dataframe tbody tr th {\n",
       "        vertical-align: top;\n",
       "    }\n",
       "\n",
       "    .dataframe thead th {\n",
       "        text-align: right;\n",
       "    }\n",
       "</style>\n",
       "<table border=\"1\" class=\"dataframe\">\n",
       "  <thead>\n",
       "    <tr style=\"text-align: right;\">\n",
       "      <th></th>\n",
       "      <th>Uretim</th>\n",
       "    </tr>\n",
       "  </thead>\n",
       "  <tbody>\n",
       "    <tr>\n",
       "      <th>Bursa</th>\n",
       "      <td>120.0</td>\n",
       "    </tr>\n",
       "    <tr>\n",
       "      <th>Bursa</th>\n",
       "      <td>NaN</td>\n",
       "    </tr>\n",
       "    <tr>\n",
       "      <th>Bolu</th>\n",
       "      <td>250.0</td>\n",
       "    </tr>\n",
       "    <tr>\n",
       "      <th>Bolu</th>\n",
       "      <td>350.0</td>\n",
       "    </tr>\n",
       "    <tr>\n",
       "      <th>İzmir</th>\n",
       "      <td>NaN</td>\n",
       "    </tr>\n",
       "  </tbody>\n",
       "</table>\n",
       "</div>"
      ],
      "text/plain": [
       "       Uretim\n",
       "Bursa   120.0\n",
       "Bursa     NaN\n",
       "Bolu    250.0\n",
       "Bolu    350.0\n",
       "İzmir     NaN"
      ]
     },
     "execution_count": 39,
     "metadata": {},
     "output_type": "execute_result"
    }
   ],
   "source": [
    "ekip.filter(items=[\"Ad\",\"Uretim\"]) #kolon isimleri verilir\n",
    "\n",
    "#\n",
    "ekip.filter(like=\"im\") #kolon isimlerinde im geçenleri getirir.\n",
    "\n",
    "#\n",
    "ekip.filter(regex=\"^A\") #A ile başlayan kolonları getirir.\n",
    "ekip.filter(regex=\"im$\") #im ile biten kolonları getirir."
   ]
  },
  {
   "cell_type": "markdown",
   "metadata": {},
   "source": [
    "### Veri Atama\n",
    "* seri ve df'lerde atama yapılabilir. Orjinalini etkiler.\n",
    "* önce seri elde edip değerini bastık"
   ]
  },
  {
   "cell_type": "code",
   "execution_count": 40,
   "metadata": {},
   "outputs": [
    {
     "data": {
      "text/html": [
       "<div>\n",
       "<style scoped>\n",
       "    .dataframe tbody tr th:only-of-type {\n",
       "        vertical-align: middle;\n",
       "    }\n",
       "\n",
       "    .dataframe tbody tr th {\n",
       "        vertical-align: top;\n",
       "    }\n",
       "\n",
       "    .dataframe thead th {\n",
       "        text-align: right;\n",
       "    }\n",
       "</style>\n",
       "<table border=\"1\" class=\"dataframe\">\n",
       "  <thead>\n",
       "    <tr style=\"text-align: right;\">\n",
       "      <th></th>\n",
       "      <th>Id</th>\n",
       "      <th>Ad</th>\n",
       "      <th>Cinsiyet</th>\n",
       "      <th>Uretim</th>\n",
       "      <th>DepId</th>\n",
       "    </tr>\n",
       "  </thead>\n",
       "  <tbody>\n",
       "    <tr>\n",
       "      <th>Bursa</th>\n",
       "      <td>1</td>\n",
       "      <td>Ali</td>\n",
       "      <td>Erkek</td>\n",
       "      <td>120.0</td>\n",
       "      <td>1</td>\n",
       "    </tr>\n",
       "    <tr>\n",
       "      <th>Bursa</th>\n",
       "      <td>2</td>\n",
       "      <td>Veli</td>\n",
       "      <td>Erkek</td>\n",
       "      <td>NaN</td>\n",
       "      <td>2</td>\n",
       "    </tr>\n",
       "    <tr>\n",
       "      <th>Bolu</th>\n",
       "      <td>3</td>\n",
       "      <td>Ayşe</td>\n",
       "      <td>None</td>\n",
       "      <td>250.0</td>\n",
       "      <td>3</td>\n",
       "    </tr>\n",
       "    <tr>\n",
       "      <th>Bolu</th>\n",
       "      <td>4</td>\n",
       "      <td>Fatma</td>\n",
       "      <td>Kadın</td>\n",
       "      <td>350.0</td>\n",
       "      <td>1</td>\n",
       "    </tr>\n",
       "    <tr>\n",
       "      <th>İzmir</th>\n",
       "      <td>5</td>\n",
       "      <td>Tonguç</td>\n",
       "      <td>Erkek</td>\n",
       "      <td>NaN</td>\n",
       "      <td>2</td>\n",
       "    </tr>\n",
       "  </tbody>\n",
       "</table>\n",
       "</div>"
      ],
      "text/plain": [
       "       Id      Ad Cinsiyet  Uretim DepId\n",
       "Bursa   1     Ali    Erkek   120.0     1\n",
       "Bursa   2    Veli    Erkek     NaN     2\n",
       "Bolu    3    Ayşe     None   250.0     3\n",
       "Bolu    4   Fatma    Kadın   350.0     1\n",
       "İzmir   5  Tonguç    Erkek     NaN     2"
      ]
     },
     "execution_count": 40,
     "metadata": {},
     "output_type": "execute_result"
    }
   ],
   "source": [
    "#örn:\n",
    "#Cinsiyet değerlini açıkça belirtelim.\n",
    "ekip.loc[ekip.Cinsiyet == 'K', \"Cinsiyet\"] = \"Kadın\"\n",
    "ekip.loc[ekip.Cinsiyet == 'E', \"Cinsiyet\"] = \"Erkek\"\n",
    "\n",
    "#\n",
    "#ekip.loc[:,\"DepId\"] = 1 #tüm satırlara 1 değerini atar.\n",
    "ekip.loc[:,\"DepId\"] = [1,2,3,1,2] #broadcast ile 5 değer satırlara atanır.\n",
    "\n",
    "#\n",
    "ekip"
   ]
  },
  {
   "cell_type": "markdown",
   "metadata": {},
   "source": [
    "### `NULL (None, NaN, NaT, N/A)` Değerlerin İşlenmesi\n",
    "* Metinsel alanlar için None\n",
    "* Sayısal alanlar için NaN\n",
    "* Tarih alanları için NaT\n",
    "* N/A ise not available\n",
    "\n",
    "* İlgili fonksiyonlar\n",
    "* `isna()` veya `isnull()` ile None değerler kontrol edilir.\n",
    "  * axis verilerek `sum(), any(), all()` ile True değerler üzerinde işlem yapılabilir.\n",
    "* `notna()` veya `notnull()` ile None olmayan değerler kontrol edilir.\n",
    "* `fillna()` ile null değerlere atama yapılabilir. axis ve method parametreleri verilebilir.\n",
    "* `dropna()` ile null değerlerin olduğu satırlar veya kolonlar silinebilir. axis ve how parametreleri verilebilir."
   ]
  },
  {
   "cell_type": "code",
   "execution_count": 41,
   "metadata": {},
   "outputs": [
    {
     "data": {
      "text/html": [
       "<div>\n",
       "<style scoped>\n",
       "    .dataframe tbody tr th:only-of-type {\n",
       "        vertical-align: middle;\n",
       "    }\n",
       "\n",
       "    .dataframe tbody tr th {\n",
       "        vertical-align: top;\n",
       "    }\n",
       "\n",
       "    .dataframe thead th {\n",
       "        text-align: right;\n",
       "    }\n",
       "</style>\n",
       "<table border=\"1\" class=\"dataframe\">\n",
       "  <thead>\n",
       "    <tr style=\"text-align: right;\">\n",
       "      <th></th>\n",
       "      <th>Ad</th>\n",
       "      <th>Cinsiyet</th>\n",
       "      <th>Uretim</th>\n",
       "    </tr>\n",
       "  </thead>\n",
       "  <tbody>\n",
       "    <tr>\n",
       "      <th>Bursa</th>\n",
       "      <td>Veli</td>\n",
       "      <td>Erkek</td>\n",
       "      <td>NaN</td>\n",
       "    </tr>\n",
       "    <tr>\n",
       "      <th>İzmir</th>\n",
       "      <td>Tonguç</td>\n",
       "      <td>Erkek</td>\n",
       "      <td>NaN</td>\n",
       "    </tr>\n",
       "  </tbody>\n",
       "</table>\n",
       "</div>"
      ],
      "text/plain": [
       "           Ad Cinsiyet  Uretim\n",
       "Bursa    Veli    Erkek     NaN\n",
       "İzmir  Tonguç    Erkek     NaN"
      ]
     },
     "execution_count": 41,
     "metadata": {},
     "output_type": "execute_result"
    }
   ],
   "source": [
    "ekip.Uretim.isna().any() #Uretim kolonunda null var mı?\n",
    "ekip.Uretim.isna().sum() #Uretim kolonunda kaç tane null var?\n",
    "\n",
    "#null satırları getirelim\n",
    "ekip.loc[ekip.Uretim.isna(),[\"Ad\",\"Cinsiyet\",\"Uretim\"]]"
   ]
  },
  {
   "cell_type": "code",
   "execution_count": 42,
   "metadata": {},
   "outputs": [
    {
     "data": {
      "text/html": [
       "<div>\n",
       "<style scoped>\n",
       "    .dataframe tbody tr th:only-of-type {\n",
       "        vertical-align: middle;\n",
       "    }\n",
       "\n",
       "    .dataframe tbody tr th {\n",
       "        vertical-align: top;\n",
       "    }\n",
       "\n",
       "    .dataframe thead th {\n",
       "        text-align: right;\n",
       "    }\n",
       "</style>\n",
       "<table border=\"1\" class=\"dataframe\">\n",
       "  <thead>\n",
       "    <tr style=\"text-align: right;\">\n",
       "      <th></th>\n",
       "      <th>Id</th>\n",
       "      <th>Ad</th>\n",
       "      <th>Cinsiyet</th>\n",
       "      <th>Uretim</th>\n",
       "      <th>DepId</th>\n",
       "    </tr>\n",
       "  </thead>\n",
       "  <tbody>\n",
       "    <tr>\n",
       "      <th>Bursa</th>\n",
       "      <td>1</td>\n",
       "      <td>Ali</td>\n",
       "      <td>Erkek</td>\n",
       "      <td>120.0</td>\n",
       "      <td>1</td>\n",
       "    </tr>\n",
       "    <tr>\n",
       "      <th>Bursa</th>\n",
       "      <td>2</td>\n",
       "      <td>Veli</td>\n",
       "      <td>Erkek</td>\n",
       "      <td>240.0</td>\n",
       "      <td>2</td>\n",
       "    </tr>\n",
       "    <tr>\n",
       "      <th>Bolu</th>\n",
       "      <td>3</td>\n",
       "      <td>Ayşe</td>\n",
       "      <td>None</td>\n",
       "      <td>250.0</td>\n",
       "      <td>3</td>\n",
       "    </tr>\n",
       "    <tr>\n",
       "      <th>Bolu</th>\n",
       "      <td>4</td>\n",
       "      <td>Fatma</td>\n",
       "      <td>Kadın</td>\n",
       "      <td>350.0</td>\n",
       "      <td>1</td>\n",
       "    </tr>\n",
       "    <tr>\n",
       "      <th>İzmir</th>\n",
       "      <td>5</td>\n",
       "      <td>Tonguç</td>\n",
       "      <td>Erkek</td>\n",
       "      <td>240.0</td>\n",
       "      <td>2</td>\n",
       "    </tr>\n",
       "  </tbody>\n",
       "</table>\n",
       "</div>"
      ],
      "text/plain": [
       "       Id      Ad Cinsiyet  Uretim DepId\n",
       "Bursa   1     Ali    Erkek   120.0     1\n",
       "Bursa   2    Veli    Erkek   240.0     2\n",
       "Bolu    3    Ayşe     None   250.0     3\n",
       "Bolu    4   Fatma    Kadın   350.0     1\n",
       "İzmir   5  Tonguç    Erkek   240.0     2"
      ]
     },
     "execution_count": 42,
     "metadata": {},
     "output_type": "execute_result"
    }
   ],
   "source": [
    "#örn:\n",
    "#Uretimi null olalra ortalama üretimi basalım.\n",
    "ekip.loc[ekip.Uretim.isna(),\"Uretim\"] = ekip.Uretim.mean()\n",
    "\n",
    "ekip"
   ]
  },
  {
   "cell_type": "code",
   "execution_count": 43,
   "metadata": {},
   "outputs": [
    {
     "data": {
      "text/html": [
       "<div>\n",
       "<style scoped>\n",
       "    .dataframe tbody tr th:only-of-type {\n",
       "        vertical-align: middle;\n",
       "    }\n",
       "\n",
       "    .dataframe tbody tr th {\n",
       "        vertical-align: top;\n",
       "    }\n",
       "\n",
       "    .dataframe thead th {\n",
       "        text-align: right;\n",
       "    }\n",
       "</style>\n",
       "<table border=\"1\" class=\"dataframe\">\n",
       "  <thead>\n",
       "    <tr style=\"text-align: right;\">\n",
       "      <th></th>\n",
       "      <th>Id</th>\n",
       "      <th>Ad</th>\n",
       "      <th>Cinsiyet</th>\n",
       "      <th>Uretim</th>\n",
       "      <th>DepId</th>\n",
       "    </tr>\n",
       "  </thead>\n",
       "  <tbody>\n",
       "    <tr>\n",
       "      <th>Bursa</th>\n",
       "      <td>1</td>\n",
       "      <td>Ali</td>\n",
       "      <td>Erkek</td>\n",
       "      <td>120.0</td>\n",
       "      <td>1</td>\n",
       "    </tr>\n",
       "    <tr>\n",
       "      <th>Bursa</th>\n",
       "      <td>2</td>\n",
       "      <td>Veli</td>\n",
       "      <td>Erkek</td>\n",
       "      <td>240.0</td>\n",
       "      <td>2</td>\n",
       "    </tr>\n",
       "    <tr>\n",
       "      <th>Bolu</th>\n",
       "      <td>3</td>\n",
       "      <td>Ayşe</td>\n",
       "      <td>Bilinmiyor</td>\n",
       "      <td>250.0</td>\n",
       "      <td>3</td>\n",
       "    </tr>\n",
       "    <tr>\n",
       "      <th>Bolu</th>\n",
       "      <td>4</td>\n",
       "      <td>Fatma</td>\n",
       "      <td>Kadın</td>\n",
       "      <td>350.0</td>\n",
       "      <td>1</td>\n",
       "    </tr>\n",
       "    <tr>\n",
       "      <th>İzmir</th>\n",
       "      <td>5</td>\n",
       "      <td>Tonguç</td>\n",
       "      <td>Erkek</td>\n",
       "      <td>240.0</td>\n",
       "      <td>2</td>\n",
       "    </tr>\n",
       "  </tbody>\n",
       "</table>\n",
       "</div>"
      ],
      "text/plain": [
       "       Id      Ad    Cinsiyet  Uretim  DepId\n",
       "Bursa   1     Ali       Erkek   120.0      1\n",
       "Bursa   2    Veli       Erkek   240.0      2\n",
       "Bolu    3    Ayşe  Bilinmiyor   250.0      3\n",
       "Bolu    4   Fatma       Kadın   350.0      1\n",
       "İzmir   5  Tonguç       Erkek   240.0      2"
      ]
     },
     "execution_count": 43,
     "metadata": {},
     "output_type": "execute_result"
    }
   ],
   "source": [
    "##filna() ile \n",
    "ekip.fillna(\"Bilinmiyor\") #tüm null değerleri Bilinmiyor ile doldurur.\n",
    "\n",
    "\n",
    "#hangi kolona ne basılacağını belirtebiliriz.\n",
    "ekip.fillna({\n",
    "                \"Uretim\":ekip.Uretim.mean(),\n",
    "                \"Cinsiyet\":\"Bilinmiyor\",\n",
    "                \"DepId\":-1\n",
    "            })"
   ]
  },
  {
   "cell_type": "code",
   "execution_count": 44,
   "metadata": {},
   "outputs": [
    {
     "data": {
      "text/html": [
       "<div>\n",
       "<style scoped>\n",
       "    .dataframe tbody tr th:only-of-type {\n",
       "        vertical-align: middle;\n",
       "    }\n",
       "\n",
       "    .dataframe tbody tr th {\n",
       "        vertical-align: top;\n",
       "    }\n",
       "\n",
       "    .dataframe thead th {\n",
       "        text-align: right;\n",
       "    }\n",
       "</style>\n",
       "<table border=\"1\" class=\"dataframe\">\n",
       "  <thead>\n",
       "    <tr style=\"text-align: right;\">\n",
       "      <th></th>\n",
       "      <th>Id</th>\n",
       "      <th>Ad</th>\n",
       "      <th>Cinsiyet</th>\n",
       "      <th>Uretim</th>\n",
       "      <th>DepId</th>\n",
       "    </tr>\n",
       "  </thead>\n",
       "  <tbody>\n",
       "    <tr>\n",
       "      <th>Bursa</th>\n",
       "      <td>1</td>\n",
       "      <td>Ali</td>\n",
       "      <td>Erkek</td>\n",
       "      <td>120.0</td>\n",
       "      <td>1</td>\n",
       "    </tr>\n",
       "    <tr>\n",
       "      <th>Bursa</th>\n",
       "      <td>2</td>\n",
       "      <td>Veli</td>\n",
       "      <td>Erkek</td>\n",
       "      <td>240.0</td>\n",
       "      <td>2</td>\n",
       "    </tr>\n",
       "    <tr>\n",
       "      <th>Bolu</th>\n",
       "      <td>4</td>\n",
       "      <td>Fatma</td>\n",
       "      <td>Kadın</td>\n",
       "      <td>350.0</td>\n",
       "      <td>1</td>\n",
       "    </tr>\n",
       "    <tr>\n",
       "      <th>İzmir</th>\n",
       "      <td>5</td>\n",
       "      <td>Tonguç</td>\n",
       "      <td>Erkek</td>\n",
       "      <td>240.0</td>\n",
       "      <td>2</td>\n",
       "    </tr>\n",
       "  </tbody>\n",
       "</table>\n",
       "</div>"
      ],
      "text/plain": [
       "       Id      Ad Cinsiyet  Uretim DepId\n",
       "Bursa   1     Ali    Erkek   120.0     1\n",
       "Bursa   2    Veli    Erkek   240.0     2\n",
       "Bolu    4   Fatma    Kadın   350.0     1\n",
       "İzmir   5  Tonguç    Erkek   240.0     2"
      ]
     },
     "execution_count": 44,
     "metadata": {},
     "output_type": "execute_result"
    }
   ],
   "source": [
    "##dropna() ile silebiliriz.\n",
    "ekip.dropna() #içinde null olan satırları siler.\n",
    "ekip.dropna(axis=1, how=\"any\") #herhangi bir null varsa kolonu siler.\n",
    "ekip.dropna(axis=1, how=\"all\") #tüm hücreleri null olan kolonu siler.\n",
    "\n",
    "#\n",
    "ekip.dropna(axis=0, how=\"all\") #tüm hücreleri null olan satırı siler.\n",
    "\n",
    "#\n",
    "ekip.dropna(subset=[\"Cinsiyet\"]) #Cinsiyet alanı null olan satırları siler."
   ]
  },
  {
   "cell_type": "markdown",
   "metadata": {},
   "source": [
    "### Satır ve Kolon Ekleme / Kaldırma\n",
    "* `append()` ile satır eklenebilir. yeni versiyonda `pd.concat([df1,df2])` ile dfler birleştirilir.\n",
    "* `drop()` ile satır veya kolon silinebilir. axis ve how parametreleri verilebilir.\n",
    "* `insert()` ile kolon eklenebilir. `df[yeniKolon]=degerler` ile de kolon eklenebilir.\n",
    "* `pop()` ile kolon silinebilir. `del df[kolonAdi]` ile de kolon silinebilir.\n",
    "* `drop_duplicates()` ile tekrar eden satırlar silinebilir.\n",
    "* `dropna()` ile null değerlerin olduğu satırlar veya kolonlar silinebilir. axis ve how parametreleri verilebilir.\n",
    "* `eval()` ile kolonlar arasında işlem yapılabilir. Yeni kolon oluşturulabilir.\n",
    "* İşlemler orjinalini etkilemez."
   ]
  },
  {
   "cell_type": "code",
   "execution_count": 57,
   "metadata": {},
   "outputs": [],
   "source": [
    "ekip = ekipEfor.copy()"
   ]
  },
  {
   "cell_type": "markdown",
   "metadata": {},
   "source": [
    "#### satır ekleme"
   ]
  },
  {
   "cell_type": "code",
   "execution_count": 60,
   "metadata": {},
   "outputs": [
    {
     "data": {
      "text/html": [
       "<div>\n",
       "<style scoped>\n",
       "    .dataframe tbody tr th:only-of-type {\n",
       "        vertical-align: middle;\n",
       "    }\n",
       "\n",
       "    .dataframe tbody tr th {\n",
       "        vertical-align: top;\n",
       "    }\n",
       "\n",
       "    .dataframe thead th {\n",
       "        text-align: right;\n",
       "    }\n",
       "</style>\n",
       "<table border=\"1\" class=\"dataframe\">\n",
       "  <thead>\n",
       "    <tr style=\"text-align: right;\">\n",
       "      <th></th>\n",
       "      <th>Id</th>\n",
       "      <th>Ad</th>\n",
       "      <th>Cinsiyet</th>\n",
       "      <th>Uretim</th>\n",
       "      <th>DepId</th>\n",
       "      <th>AktifMi</th>\n",
       "    </tr>\n",
       "  </thead>\n",
       "  <tbody>\n",
       "    <tr>\n",
       "      <th>Bursa</th>\n",
       "      <td>1</td>\n",
       "      <td>Ali</td>\n",
       "      <td>E</td>\n",
       "      <td>120.0</td>\n",
       "      <td>NaN</td>\n",
       "      <td>NaN</td>\n",
       "    </tr>\n",
       "    <tr>\n",
       "      <th>Bursa</th>\n",
       "      <td>2</td>\n",
       "      <td>Veli</td>\n",
       "      <td>E</td>\n",
       "      <td>NaN</td>\n",
       "      <td>NaN</td>\n",
       "      <td>NaN</td>\n",
       "    </tr>\n",
       "    <tr>\n",
       "      <th>Bolu</th>\n",
       "      <td>3</td>\n",
       "      <td>Ayşe</td>\n",
       "      <td>None</td>\n",
       "      <td>250.0</td>\n",
       "      <td>NaN</td>\n",
       "      <td>NaN</td>\n",
       "    </tr>\n",
       "    <tr>\n",
       "      <th>Bolu</th>\n",
       "      <td>4</td>\n",
       "      <td>Fatma</td>\n",
       "      <td>K</td>\n",
       "      <td>350.0</td>\n",
       "      <td>NaN</td>\n",
       "      <td>NaN</td>\n",
       "    </tr>\n",
       "    <tr>\n",
       "      <th>İzmir</th>\n",
       "      <td>5</td>\n",
       "      <td>Tonguç</td>\n",
       "      <td>E</td>\n",
       "      <td>NaN</td>\n",
       "      <td>NaN</td>\n",
       "      <td>NaN</td>\n",
       "    </tr>\n",
       "    <tr>\n",
       "      <th>Uzay</th>\n",
       "      <td>120</td>\n",
       "      <td>XMan</td>\n",
       "      <td>E</td>\n",
       "      <td>NaN</td>\n",
       "      <td>NaN</td>\n",
       "      <td>True</td>\n",
       "    </tr>\n",
       "  </tbody>\n",
       "</table>\n",
       "</div>"
      ],
      "text/plain": [
       "        Id      Ad Cinsiyet  Uretim DepId AktifMi\n",
       "Bursa    1     Ali        E   120.0   NaN     NaN\n",
       "Bursa    2    Veli        E     NaN   NaN     NaN\n",
       "Bolu     3    Ayşe     None   250.0   NaN     NaN\n",
       "Bolu     4   Fatma        K   350.0   NaN     NaN\n",
       "İzmir    5  Tonguç        E     NaN   NaN     NaN\n",
       "Uzay   120    XMan        E     NaN   NaN    True"
      ]
     },
     "execution_count": 60,
     "metadata": {},
     "output_type": "execute_result"
    }
   ],
   "source": [
    "df_satir = pd.DataFrame(data={\n",
    "                \"Id\": [120],\n",
    "                \"Ad\":[\"XMan\"],\n",
    "                \"Cinsiyet\":[\"E\"],\n",
    "                \"AktifMi\":[True] #yeni bir alan\n",
    "            },index=[\"Uzay\"])\n",
    "\n",
    "#\n",
    "pd.concat([ekip, df_satir])"
   ]
  },
  {
   "cell_type": "code",
   "execution_count": null,
   "metadata": {},
   "outputs": [],
   "source": []
  }
 ],
 "metadata": {
  "kernelspec": {
   "display_name": "Python 3 (ipykernel)",
   "language": "python",
   "name": "python3"
  },
  "language_info": {
   "codemirror_mode": {
    "name": "ipython",
    "version": 3
   },
   "file_extension": ".py",
   "mimetype": "text/x-python",
   "name": "python",
   "nbconvert_exporter": "python",
   "pygments_lexer": "ipython3",
   "version": "3.11.3"
  },
  "toc": {
   "base_numbering": 1,
   "nav_menu": {},
   "number_sections": true,
   "sideBar": true,
   "skip_h1_title": false,
   "title_cell": "Table of Contents",
   "title_sidebar": "Contents",
   "toc_cell": false,
   "toc_position": {},
   "toc_section_display": true,
   "toc_window_display": false
  },
  "varInspector": {
   "cols": {
    "lenName": 16,
    "lenType": 16,
    "lenVar": 40
   },
   "kernels_config": {
    "python": {
     "delete_cmd_postfix": "",
     "delete_cmd_prefix": "del ",
     "library": "var_list.py",
     "varRefreshCmd": "print(var_dic_list())"
    },
    "r": {
     "delete_cmd_postfix": ") ",
     "delete_cmd_prefix": "rm(",
     "library": "var_list.r",
     "varRefreshCmd": "cat(var_dic_list()) "
    }
   },
   "types_to_exclude": [
    "module",
    "function",
    "builtin_function_or_method",
    "instance",
    "_Feature"
   ],
   "window_display": false
  }
 },
 "nbformat": 4,
 "nbformat_minor": 2
}
