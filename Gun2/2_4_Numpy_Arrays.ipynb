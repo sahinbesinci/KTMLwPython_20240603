{
 "cells": [
  {
   "cell_type": "markdown",
   "metadata": {},
   "source": [
    "## Numpy Kütüphanesi\n",
    "* Numpy bir çok kütüphanenin temelini oluşturur. matplotlib, SciPy, pandas ve daha bir çok kütüphane numpy üzerine inşa edilmiştir.\n",
    "* Numpy Array: Numpy kütüphanesinin temel veri yapısıdır. Numpy arrayleri python listelerine benzer ancak numpy arrayleri üzerinde matematiksel işlemler yapmak daha hızlıdır.\n",
    "  * vector, matrix tanımlanabilir.\n",
    "  * Listeler 20 kat daha hızlıdır.\n",
    "  * Listeler ekstra bilgiler tutar.\n",
    "  * Arraylarde broadcast özelliği var. Bu özellik listelerde mevcut değildi. Fakat map, list comprehension ile bu özellik sağlanabilir.\n",
    "  * arrayler tek tip veri tutar. numpy 1.8 sonrası farklı tipteki verileri tutabilen bir yapıya kavuşmuştur.\n",
    "* Linear cebir, istatistik, diferansiyel denkler, optimizasyon, türev, regression, matris cebiri vs. kullanılabilir.\n",
    "* Resim, ses, veri işleme imkanı verir.\n",
    "  * Mesela bir resmi en,boy,pikselRengi şeklinde bir arraye dönüştürüp işlem yapabiliriz.\n",
    "* Numpy arrayler mutabledır. Yani üzerinde değişiklik yapılabilir. ve kopyalama yaparken `b=a.copy()` ile atama yapmamız gerekir ki orjiali etkilenmesin.\n",
    "* **Broadcast** özelliği:\n",
    "  * Yapılan her işlem her bir elemana tek tek uygulanır. \n",
    "  * Listelerde sadece * işlemi mevcut o da eleman sayısını tekralatıyordu.\n",
    "  * Arraylerde işlemler her bir elemana uygulanır.\n",
    "\n",
    "  ![alt text](numpy_broadcast.png)"
   ]
  },
  {
   "cell_type": "code",
   "execution_count": 1,
   "metadata": {},
   "outputs": [],
   "source": [
    "import numpy as np"
   ]
  },
  {
   "cell_type": "markdown",
   "metadata": {},
   "source": [
    "### Broadcast"
   ]
  },
  {
   "cell_type": "code",
   "execution_count": 3,
   "metadata": {},
   "outputs": [
    {
     "data": {
      "text/plain": [
       "array(['1', '2', '3', 'metin', 'False'], dtype='<U11')"
      ]
     },
     "execution_count": 3,
     "metadata": {},
     "output_type": "execute_result"
    }
   ],
   "source": [
    "a = np.array([1,2,3,\"metin\",False]) #arrayler tek tip veri tutar. ortak tipe çevirir.\n",
    "a"
   ]
  },
  {
   "cell_type": "code",
   "execution_count": 5,
   "metadata": {},
   "outputs": [
    {
     "data": {
      "text/plain": [
       "(5,)"
      ]
     },
     "execution_count": 5,
     "metadata": {},
     "output_type": "execute_result"
    }
   ],
   "source": [
    "a.shape #dizinin boyutu 5 elemanlı bir dizi"
   ]
  },
  {
   "cell_type": "code",
   "execution_count": 8,
   "metadata": {},
   "outputs": [
    {
     "data": {
      "text/plain": [
       "array([ 5, 10, 15, 20, 25])"
      ]
     },
     "execution_count": 8,
     "metadata": {},
     "output_type": "execute_result"
    }
   ],
   "source": [
    "lst = [1,2,3,4,5]\n",
    "lst * 5 #conatinerlarda eleman sayısı tekrarlatan operatordur.\n",
    "\n",
    "#broadcasting\n",
    "np.array(lst) * 5 #her bir elemanı 5 ile çarpar"
   ]
  },
  {
   "cell_type": "code",
   "execution_count": 10,
   "metadata": {},
   "outputs": [
    {
     "data": {
      "text/plain": [
       "array([101, 202, 303, 404])"
      ]
     },
     "execution_count": 10,
     "metadata": {},
     "output_type": "execute_result"
    }
   ],
   "source": [
    "np.array([1,2,3,4]) + np.array([100,200,300,400]) #eleman sayıları eşit olmalıdır."
   ]
  },
  {
   "cell_type": "markdown",
   "metadata": {},
   "source": [
    "### Numpy Array Oluşturma Yöntemleri"
   ]
  },
  {
   "cell_type": "code",
   "execution_count": 14,
   "metadata": {},
   "outputs": [
    {
     "data": {
      "text/plain": [
       "array([False,  True, False])"
      ]
     },
     "execution_count": 14,
     "metadata": {},
     "output_type": "execute_result"
    }
   ],
   "source": [
    "#tek boyutlı diziler\n",
    "#kolona benzetebiliriz.\n",
    "\n",
    "np.array([0,1,0])\n",
    "np.array([0,1,0], dtype=bool) #bool tipine çevirir. ortak tip bool oldu.\n",
    "\n",
    "#tipi sonrada değiştirebiliriz.\n",
    "a = np.array([0,1,0])\n",
    "a.astype(bool) #bool tipine çevirir."
   ]
  },
  {
   "cell_type": "code",
   "execution_count": 16,
   "metadata": {},
   "outputs": [
    {
     "name": "stdout",
     "output_type": "stream",
     "text": [
      "(2, 3)\n",
      "[[1 2 3]\n",
      " [4 5 6]]\n"
     ]
    }
   ],
   "source": [
    "## iki boyutlu dizi\n",
    "#bunu tabloya benzetebiliriz veya matrix olabilir. bu yapının tüm elemanlarının aynı tipten olması gerektiğini unutmayalım.\n",
    "ikiBoyutluDizi = np.array( [\n",
    "                            (1,2,3),\n",
    "                            (4,5,6)\n",
    "                            ] ) #okunaklı olsun diye liste içerisinde tuple kullandı. Container veriyoruz.\n",
    "\n",
    "#\n",
    "print(ikiBoyutluDizi.shape) #2 satır 3 sütun (2, 3)\n",
    "print(ikiBoyutluDizi)"
   ]
  },
  {
   "cell_type": "code",
   "execution_count": 20,
   "metadata": {},
   "outputs": [
    {
     "name": "stdout",
     "output_type": "stream",
     "text": [
      "(2, 4, 3)\n",
      "[[[  0   0   0]\n",
      "  [255   0   0]\n",
      "  [255 255   0]\n",
      "  [255 255 255]]\n",
      "\n",
      " [[  0 255 255]\n",
      "  [  0   0 255]\n",
      "  [125 125 125]\n",
      "  [ 10 180 200]]]\n"
     ]
    }
   ],
   "source": [
    "### üç boyutlu dizi\n",
    "#resme benzetebiliriz (en,boy, pikselRengi) > (2,4,3)\n",
    "ucBoyutluDizi = np.array([\n",
    "                            [(0,0,0),(255,0,0),(255,255,0),(255,255,255)],\n",
    "                            [(0,255,255),(0,0,255),(125,125,125),(10,180,200)]\n",
    "                        ])\n",
    "\n",
    "print(ucBoyutluDizi.shape) #2 satır, 4 sutun, (3 Red, Green, Blue)\n",
    "\n",
    "print(ucBoyutluDizi)"
   ]
  },
  {
   "cell_type": "code",
   "execution_count": 21,
   "metadata": {},
   "outputs": [
    {
     "data": {
      "image/png": "[encoded data removed]",
      "text/plain": [
       "<Figure size 640x480 with 1 Axes>"
      ]
     },
     "metadata": {},
     "output_type": "display_data"
    }
   ],
   "source": [
    "import matplotlib.pyplot as plt\n",
    "\n",
    "plt.imshow(ucBoyutluDizi)\n",
    "plt.show()"
   ]
  },
  {
   "cell_type": "markdown",
   "metadata": {},
   "source": [
    "### Dizinin boyutunu değiştirmek"
   ]
  },
  {
   "cell_type": "code",
   "execution_count": 25,
   "metadata": {},
   "outputs": [
    {
     "name": "stdout",
     "output_type": "stream",
     "text": [
      "(3, 8)\n",
      "[[  0   0   0 255   0   0 255 255]\n",
      " [  0 255 255 255   0 255 255   0]\n",
      " [  0 255 125 125 125  10 180 200]]\n"
     ]
    }
   ],
   "source": [
    "ucBoyutluDizi.shape #2,4,3 = 24 elemanlı bir dizi\n",
    "\n",
    "ikiBoyutluyaCevrildi = ucBoyutluDizi.reshape(3,8) #3 satır 8 sütun olacak şekilde yeniden şekillendirildi.\n",
    "print(ikiBoyutluyaCevrildi.shape)\n",
    "print(ikiBoyutluyaCevrildi)"
   ]
  },
  {
   "cell_type": "markdown",
   "metadata": {},
   "source": [
    "### Arrayler Hakkında Bilgi Almak"
   ]
  },
  {
   "cell_type": "code",
   "execution_count": 31,
   "metadata": {},
   "outputs": [
    {
     "data": {
      "text/plain": [
       "array([[[  0.,   0.,   0.],\n",
       "        [255.,   0.,   0.],\n",
       "        [255., 255.,   0.],\n",
       "        [255., 255., 255.]],\n",
       "\n",
       "       [[  0., 255., 255.],\n",
       "        [  0.,   0., 255.],\n",
       "        [125., 125., 125.],\n",
       "        [ 10., 180., 200.]]])"
      ]
     },
     "execution_count": 31,
     "metadata": {},
     "output_type": "execute_result"
    }
   ],
   "source": [
    "ucBoyutluDizi.shape #2,4,3 = 24 elemanlı bir dizi\n",
    "#len(ucBoyutluDizi) #2 shape'in ilk elemanıyla aynı sonucu\n",
    "\n",
    "ucBoyutluDizi.ndim #3 boyutlu olduğunu söyler.\n",
    "ucBoyutluDizi.size #24 elemanlı olduğunu söyler.\n",
    "\n",
    "#\n",
    "ucBoyutluDizi.dtype #int32\n",
    "ucBoyutluDizi.astype(float) #float tipine çevirir. #orjinali değiştirmez. yeni bir dizi oluşturur."
   ]
  },
  {
   "cell_type": "markdown",
   "metadata": {},
   "source": [
    "### Hazır Array Üretme Yönemleri"
   ]
  },
  {
   "cell_type": "code",
   "execution_count": 48,
   "metadata": {},
   "outputs": [
    {
     "data": {
      "text/plain": [
       "array([[9, 9, 9, 9],\n",
       "       [9, 9, 9, 9],\n",
       "       [9, 9, 9, 9]])"
      ]
     },
     "execution_count": 48,
     "metadata": {},
     "output_type": "execute_result"
    }
   ],
   "source": [
    "#np.array([1,2,3,4,5], dtype=float) #float tipine çevirir.\n",
    "np.arange(1,12,2) #1'den 10'a kadar 2'şer artarak dizi oluşturur. #range gibi çalışır.\n",
    "\n",
    "#istenen boyuta çebirelim.\n",
    "np.arange(1,12,2).reshape(2,3) #2x2'lik bir dizi oluşturur.\n",
    "\n",
    "#\n",
    "np.zeros((3,4)) #3x4'lük sıfırlardan oluşan bir dizi oluşturur.\n",
    "np.ones((3,4),dtype=int) #3x4'lük birlerden oluşan bir dizi oluşturur.\n",
    "\n",
    "#\n",
    "np.eye(3, dtype=int) #3x3'lük birim matris oluşturur. köşegenler 1, diğerleri 0\n",
    "\n",
    "#\n",
    "np.full((3,4), 9) #3x4'lük 9'lardan oluşan bir dizi oluşturur."
   ]
  },
  {
   "cell_type": "markdown",
   "metadata": {},
   "source": [
    "### Matematiksel İşlemler"
   ]
  },
  {
   "cell_type": "code",
   "execution_count": 54,
   "metadata": {},
   "outputs": [
    {
     "data": {
      "text/plain": [
       "array([ 4, 16, 36])"
      ]
     },
     "execution_count": 54,
     "metadata": {},
     "output_type": "execute_result"
    }
   ],
   "source": [
    "x = np.array([2,4,6])\n",
    "y = np.array([1,3,5])\n",
    "\n",
    "#\n",
    "np.add(x,y) #eleman bazında toplama yapar. aynı sıradaki elemanları toplar.\n",
    "x + y #aynı işlemi yapar.\n",
    "\n",
    "#\n",
    "np.subtract(x,y) #eleman bazında çıkarma yapar. aynı sıradaki elemanları çıkarır.\n",
    "x-y #aynı işlemi yapar.\n",
    "\n",
    "#\n",
    "np.multiply(x,y) #eleman bazında çarpma yapar. aynı sıradaki elemanları çarpar.\n",
    "x*y #aynı işlemi yapar.\n",
    "\n",
    "#\n",
    "np.divide(x,y) #eleman bazında bölme yapar. aynı sıradaki elemanları böler.\n",
    "x/y #aynı işlemi yapar.\n",
    "\n",
    "#\n",
    "np.square(x) #karelerini alır.\n",
    "x**2 #karelerini alır.\n",
    "\n",
    "#\n",
    "np.sqrt(x) #karekökünü alır.\n",
    "x**0.5 #2 #karelerini alır."
   ]
  },
  {
   "cell_type": "code",
   "execution_count": 56,
   "metadata": {},
   "outputs": [
    {
     "data": {
      "text/plain": [
       "False"
      ]
     },
     "execution_count": 56,
     "metadata": {},
     "output_type": "execute_result"
    }
   ],
   "source": [
    "np.equal(x,y) #eleman bazında karşılaştırma yapar. aynı sıradaki elemanları karşılaştırır. geriye eleman eleman True, False döner.\n",
    "np.array_equal(x,y) #dizilerin eşit olup olmadığını kontrol eder. tek bir True veya False döner"
   ]
  },
  {
   "cell_type": "code",
   "execution_count": 57,
   "metadata": {},
   "outputs": [
    {
     "data": {
      "text/plain": [
       "44"
      ]
     },
     "execution_count": 57,
     "metadata": {},
     "output_type": "execute_result"
    }
   ],
   "source": [
    "#dot product: (matrislerde kullanılan bir tür çarpma işlemidir.)\n",
    "x.dot(y) #2*1 + 4*3 + 6*5 = 2+12+30 = 44\n",
    "#mesela 3x1'lik matris ile 1x3'lük matris çarpıldığında 3x3'lük bir matris oluşur."
   ]
  },
  {
   "cell_type": "markdown",
   "metadata": {},
   "source": [
    "### Matrisin Tersini Almak (inverse)\n",
    "* matrisin kendisi ile inversünü çarparsak birim matris elde ederiz.\n",
    "* Bir takım bilinmeyenlerin olduğu denkleri çözeren bu matris tersini kullanırız."
   ]
  },
  {
   "cell_type": "code",
   "execution_count": 61,
   "metadata": {},
   "outputs": [
    {
     "data": {
      "text/plain": [
       "array([[1, 2],\n",
       "       [3, 4]])"
      ]
     },
     "execution_count": 61,
     "metadata": {},
     "output_type": "execute_result"
    }
   ],
   "source": [
    "m_dizi = np.arange(1,5).reshape(2,2) #1-5 arasındaki sayıları 2x2'lik bir diziye çevirir.\n",
    "m_dizi"
   ]
  },
  {
   "cell_type": "code",
   "execution_count": 63,
   "metadata": {},
   "outputs": [
    {
     "data": {
      "text/plain": [
       "array([[-2. ,  1. ],\n",
       "       [ 1.5, -0.5]])"
      ]
     },
     "execution_count": 63,
     "metadata": {},
     "output_type": "execute_result"
    }
   ],
   "source": [
    "m_dizi_inverse = np.linalg.inv(m_dizi) #matrisin tersini alır.\n",
    "m_dizi_inverse"
   ]
  },
  {
   "cell_type": "markdown",
   "metadata": {},
   "source": [
    "#### Doğrudan matrix tanımlayıp matris cebiri ile çalışmak mümkün"
   ]
  },
  {
   "cell_type": "code",
   "execution_count": 66,
   "metadata": {},
   "outputs": [
    {
     "data": {
      "text/plain": [
       "matrix([[1, 2],\n",
       "        [3, 4]])"
      ]
     },
     "execution_count": 66,
     "metadata": {},
     "output_type": "execute_result"
    }
   ],
   "source": [
    "mtrs = np.matrix([(1,2),(3,4)]) #matrix tipine çevirir.\n",
    "mtrs"
   ]
  },
  {
   "cell_type": "code",
   "execution_count": 67,
   "metadata": {},
   "outputs": [
    {
     "data": {
      "text/plain": [
       "matrix([[-2. ,  1. ],\n",
       "        [ 1.5, -0.5]])"
      ]
     },
     "execution_count": 67,
     "metadata": {},
     "output_type": "execute_result"
    }
   ],
   "source": [
    "mtrs ** -1 #matrisin tersini alır."
   ]
  },
  {
   "cell_type": "markdown",
   "metadata": {},
   "source": [
    "### Denklemlerdeki Bilinmeyenleri Bulalım\n",
    "![alt text](NumpyMatrixDenklem.png)"
   ]
  },
  {
   "cell_type": "markdown",
   "metadata": {},
   "source": [
    "### Bazı Array Fonksiyonları"
   ]
  },
  {
   "cell_type": "code",
   "execution_count": 70,
   "metadata": {},
   "outputs": [
    {
     "data": {
      "text/plain": [
       "array([[ 1,  2,  3,  4,  5,  6,  7,  8],\n",
       "       [ 9, 10, 11, 12, 13, 14, 15, 16],\n",
       "       [17, 18, 19, 20, 21, 22, 23, 24]])"
      ]
     },
     "execution_count": 70,
     "metadata": {},
     "output_type": "execute_result"
    }
   ],
   "source": [
    "dizi = np.arange(1,25).reshape(3,8)\n",
    "dizi"
   ]
  },
  {
   "cell_type": "code",
   "execution_count": 73,
   "metadata": {},
   "outputs": [
    {
     "data": {
      "text/plain": [
       "array([ 36, 100, 164])"
      ]
     },
     "execution_count": 73,
     "metadata": {},
     "output_type": "execute_result"
    }
   ],
   "source": [
    "#axis verilebilir. Yani hangi boyutta işlem yapılacağını belirtebiliriz.\n",
    "#axis=0 satırlar üzerinde işlem yapar.\n",
    "#axis=1 sütunlar üzerinde işlem yapar.\n",
    "dizi.sum() #tüm elemanların toplamını verir.\n",
    "\n",
    "#\n",
    "dizi.sum(axis=0) #satırlar üzerinde işlem yapar. satırları topla\n",
    "dizi.sum(axis=1) #sütunlar üzerinde işlem yapar. sütunları topla\n",
    "\n",
    "#min, max, mean, std, cumsum gibi fonksiyonlar da kullanılabilir."
   ]
  },
  {
   "cell_type": "code",
   "execution_count": 74,
   "metadata": {},
   "outputs": [
    {
     "data": {
      "text/plain": [
       "array([[ 1,  9, 17],\n",
       "       [ 2, 10, 18],\n",
       "       [ 3, 11, 19],\n",
       "       [ 4, 12, 20],\n",
       "       [ 5, 13, 21],\n",
       "       [ 6, 14, 22],\n",
       "       [ 7, 15, 23],\n",
       "       [ 8, 16, 24]])"
      ]
     },
     "execution_count": 74,
     "metadata": {},
     "output_type": "execute_result"
    }
   ],
   "source": [
    "#transpose\n",
    "dizi.T #transpozunu alır. satırları sütun, sütunları satır yapar.\n",
    "dizi.transpose()"
   ]
  },
  {
   "cell_type": "code",
   "execution_count": 76,
   "metadata": {},
   "outputs": [
    {
     "data": {
      "text/plain": [
       "array([ 1,  2,  3,  4,  5,  6,  7,  8,  9, 10, 11, 12, 13, 14, 15, 16, 17,\n",
       "       18, 19, 20, 21, 22, 23, 24])"
      ]
     },
     "execution_count": 76,
     "metadata": {},
     "output_type": "execute_result"
    }
   ],
   "source": [
    "#diziyi tek boyuta indirgeyelim\n",
    "dizi.reshape(1,24) #1 satır 24 sütun olacak şekilde yeniden şekillendirir.\n",
    "dizi.ravel() #diziyi tek boyuta indirger."
   ]
  },
  {
   "cell_type": "code",
   "execution_count": 78,
   "metadata": {},
   "outputs": [
    {
     "data": {
      "text/plain": [
       "array([ 1,  6,  7,  8,  9, 10, 11, 12, 13, 14, 15, 16, 17, 18, 19, 20, 21,\n",
       "       22, 23, 24])"
      ]
     },
     "execution_count": 78,
     "metadata": {},
     "output_type": "execute_result"
    }
   ],
   "source": [
    "np.insert(dizi, 0, -99) #dizinin başına -99 ekler.\n",
    "np.delete(dizi,(1,2,3,4)) #dizinin 1,2,3,4. elemanlarını siler."
   ]
  },
  {
   "cell_type": "code",
   "execution_count": 95,
   "metadata": {},
   "outputs": [
    {
     "name": "stdout",
     "output_type": "stream",
     "text": [
      "[[1 2 3]\n",
      " [4 5 6]]\n",
      "[array([[1, 2, 3]]), array([[4, 5, 6]])]\n",
      "[array([[1],\n",
      "       [4]]), array([[2],\n",
      "       [5]]), array([[3],\n",
      "       [6]])]\n",
      "ilk yatay parça : [[1]\n",
      " [4]]\n"
     ]
    }
   ],
   "source": [
    "a = np.array([1,2,3])\n",
    "b = np.array([4,5,6])\n",
    "\n",
    "#\n",
    "np.concatenate([a,b]) #dizileri birleştirir.\n",
    "\n",
    "#\n",
    "np.vstack([a,b]) #dizileri üst üste birleştirir. union\n",
    "np.hstack([a,b]) #dizileri yan yana birleştirir. join gibi\n",
    "\n",
    "\n",
    "#birleştirilem ve paraçalayalım\n",
    "birlesmis = np.vstack([a,b])\n",
    "print(birlesmis)\n",
    "\n",
    "#\n",
    "dikeyParcalaListesi = np.vsplit(birlesmis, 2) #2'ye böler.\n",
    "print(dikeyParcalaListesi) #her parcayı liste elemanı olarak verdi. unpacking yöntemi ile alabilirsin.\n",
    "\n",
    "yatayParcalaListesi = np.hsplit(birlesmis, 3) #3'e böler.\n",
    "print(yatayParcalaListesi) #her parcayı liste elemanı olarak verdi. unpacking yöntemi ile alabilirsin.\n",
    "print(\"ilk yatay parça :\",yatayParcalaListesi[0]) "
   ]
  },
  {
   "cell_type": "markdown",
   "metadata": {},
   "source": [
    "#### Numpy Elemanlarına Erişmek\n",
    "* Subsetting\n",
    "* Slicing\n",
    "* Fancy Indexing\n",
    "* Boolean Indexing"
   ]
  },
  {
   "cell_type": "code",
   "execution_count": 96,
   "metadata": {},
   "outputs": [
    {
     "data": {
      "text/plain": [
       "array([[ 0,  1,  2,  3,  4],\n",
       "       [ 5,  6,  7,  8,  9],\n",
       "       [10, 11, 12, 13, 14],\n",
       "       [15, 16, 17, 18, 19],\n",
       "       [20, 21, 22, 23, 24],\n",
       "       [25, 26, 27, 28, 29]])"
      ]
     },
     "execution_count": 96,
     "metadata": {},
     "output_type": "execute_result"
    }
   ],
   "source": [
    "a = np.arange(0,30).reshape(6,5)\n",
    "a"
   ]
  },
  {
   "cell_type": "markdown",
   "metadata": {},
   "source": [
    "#### Subsetting"
   ]
  },
  {
   "cell_type": "code",
   "execution_count": 102,
   "metadata": {},
   "outputs": [
    {
     "data": {
      "text/plain": [
       "19"
      ]
     },
     "execution_count": 102,
     "metadata": {},
     "output_type": "execute_result"
    }
   ],
   "source": [
    "#tek boyutta filtreleme\n",
    "a[3] #ilk boyuttan 3. indextekini getir. 3. indexteki satırı getirir.\n",
    "a[-2] #sondan 2. indexteki satırı getirir.\n",
    "\n",
    "#iki boyutta filtreleme\n",
    "a[3][4] #3. satırın 4. sütunundaki elemanı getirir.\n",
    "a[3,4] #3. satırın 4. sütunundaki elemanı getirir."
   ]
  },
  {
   "cell_type": "markdown",
   "metadata": {},
   "source": [
    "#### Slicing\n",
    "* `array[start:stop:step , start:stop:step, start:stop:step]` şeklinde kullanılır.\t"
   ]
  },
  {
   "cell_type": "code",
   "execution_count": 103,
   "metadata": {},
   "outputs": [
    {
     "data": {
      "text/plain": [
       "array([[ 7,  8],\n",
       "       [12, 13]])"
      ]
     },
     "execution_count": 103,
     "metadata": {},
     "output_type": "execute_result"
    }
   ],
   "source": [
    "a[1:3 , 2:4] #1. ve 2. satırların 2. ve 3. sütunları arasındaki elemanları getirir."
   ]
  },
  {
   "cell_type": "code",
   "execution_count": 104,
   "metadata": {},
   "outputs": [
    {
     "data": {
      "text/plain": [
       "array([[11, 13]])"
      ]
     },
     "execution_count": 104,
     "metadata": {},
     "output_type": "execute_result"
    }
   ],
   "source": [
    "#soru:\n",
    "'''\n",
    "    1. Boyut:\n",
    "        2-5 arsını 3'er atla getir.\n",
    "    2. Boyut:\n",
    "        1-4 arasını 2'şer atla getir.\n",
    "'''\n",
    "a[2:5:3, 1:4:2]"
   ]
  },
  {
   "cell_type": "code",
   "execution_count": 108,
   "metadata": {},
   "outputs": [
    {
     "data": {
      "text/plain": [
       "array([[29, 28, 27, 26, 25],\n",
       "       [24, 23, 22, 21, 20],\n",
       "       [19, 18, 17, 16, 15],\n",
       "       [14, 13, 12, 11, 10],\n",
       "       [ 9,  8,  7,  6,  5],\n",
       "       [ 4,  3,  2,  1,  0]])"
      ]
     },
     "execution_count": 108,
     "metadata": {},
     "output_type": "execute_result"
    }
   ],
   "source": [
    "#başkangıç belirtilmezse en baştan, bitiş belirtilmese en sona gider.\n",
    "#-1 tersten anlamına gelir.\n",
    "a[:2, :-1] #ilk iki satırın son sütun hariç tüm sütunlarını getirir.\n",
    "\n",
    "#\n",
    "a[:,::-1] #tüm satırların sütunlarını tersten getirir. resmin aynadaki yansıması gibi.\n",
    "a[::-1,::-1] #hem satırları hem sütunları tersten getirir. resmi 180 derece döndürmüş oluruz. saat yönünün tersine döndürmüş oluruz."
   ]
  },
  {
   "cell_type": "markdown",
   "metadata": {},
   "source": [
    "#### Indexing\n",
    "![IndexingYontemi.png](IndexingYontemi.png)"
   ]
  },
  {
   "cell_type": "code",
   "execution_count": 109,
   "metadata": {},
   "outputs": [
    {
     "data": {
      "text/plain": [
       "array([ 7, 19])"
      ]
     },
     "execution_count": 109,
     "metadata": {},
     "output_type": "execute_result"
    }
   ],
   "source": [
    "a[ (1,3) , (2,4)]\n",
    "\n",
    "#iki eleman gelecek:\n",
    "#birinci boyutta 1. index ile ikinci boyutta 2. indexi getirir.\n",
    "#birinci boyutta 3. index ile ikinci boyutta 4. indexi getirir."
   ]
  },
  {
   "cell_type": "markdown",
   "metadata": {},
   "source": [
    "#### Boolean Indexing\n",
    "* True/False dizisi filtre olarak kullanılır. True ile eşleşen elemanlar alınır."
   ]
  },
  {
   "cell_type": "code",
   "execution_count": 110,
   "metadata": {},
   "outputs": [
    {
     "data": {
      "text/plain": [
       "array([[ True,  True,  True,  True,  True],\n",
       "       [False, False, False, False, False],\n",
       "       [False, False, False, False, False],\n",
       "       [False, False, False, False, False],\n",
       "       [False, False, False, False, False],\n",
       "       [False, False, False, False, False]])"
      ]
     },
     "execution_count": 110,
     "metadata": {},
     "output_type": "execute_result"
    }
   ],
   "source": [
    "#broadcast\n",
    "a < 5 #her bir elemanı 5 ile karşılaştırır. True veya False döner."
   ]
  },
  {
   "cell_type": "code",
   "execution_count": 112,
   "metadata": {},
   "outputs": [
    {
     "data": {
      "text/plain": [
       "array([ 0,  3,  6,  9, 12, 15, 18, 21, 24, 27])"
      ]
     },
     "execution_count": 112,
     "metadata": {},
     "output_type": "execute_result"
    }
   ],
   "source": [
    "#örn:\n",
    "#3'e tam bölünenleri bulalım.\n",
    "filtre_uce_bolunenler = a % 3 == 0 #True/False matrisi döner.\n",
    "\n",
    "#\n",
    "a[filtre_uce_bolunenler] #3'e tam bölünenleri getirir."
   ]
  },
  {
   "cell_type": "markdown",
   "metadata": {},
   "source": [
    "#### Mantıksal Operatorler\n",
    "* `np.logical_not(TFDizisi)` veya `~TFDizisi` ile **not** yapılablir. yani tüm mantıksal sonuçların tersini verir.\n",
    "* `np.logical_and` veya `&` ile **and**\n",
    "* `np.logical_or` veya `|` ile **or**"
   ]
  },
  {
   "cell_type": "code",
   "execution_count": 116,
   "metadata": {},
   "outputs": [
    {
     "data": {
      "text/plain": [
       "array([ 0,  6, 12, 18, 24])"
      ]
     },
     "execution_count": 116,
     "metadata": {},
     "output_type": "execute_result"
    }
   ],
   "source": [
    "#örn:\n",
    "#hem 2'ye hem 3'e tam bölünenleri bulalım.\n",
    "\n",
    "#\n",
    "filtre_3 = a%3==0\n",
    "filtre_2 = a%2==0\n",
    "\n",
    "#\n",
    "filtre = np.logical_and(filtre_2, filtre_3) #iki filtrede True olanları getirir.\n",
    "#filtre = filtre_2 & filtre_3 #aynı işlemi yapar.\n",
    "\n",
    "#\n",
    "a[filtre]"
   ]
  },
  {
   "cell_type": "markdown",
   "metadata": {},
   "source": [
    "#### Where  şarta uyanlar ve uymayanlar için işlem yapma imkanı sağlar.\n",
    "* şarta uyanlar için bir değer, uymayanlar için başka bir değer döndürür.\n",
    "* `np.where(condition, şartaUyanlar, şartaUymayanlar)` şeklinde kullanılır."
   ]
  },
  {
   "cell_type": "code",
   "execution_count": 117,
   "metadata": {},
   "outputs": [
    {
     "data": {
      "text/plain": [
       "array([['çift', 'tek', 'çift', 'tek', 'çift'],\n",
       "       ['tek', 'çift', 'tek', 'çift', 'tek'],\n",
       "       ['çift', 'tek', 'çift', 'tek', 'çift'],\n",
       "       ['tek', 'çift', 'tek', 'çift', 'tek'],\n",
       "       ['çift', 'tek', 'çift', 'tek', 'çift'],\n",
       "       ['tek', 'çift', 'tek', 'çift', 'tek']], dtype='<U4')"
      ]
     },
     "execution_count": 117,
     "metadata": {},
     "output_type": "execute_result"
    }
   ],
   "source": [
    "np.where(a%2==0, \"çift\", \"tek\") #çift ise çift, değilse tek yazdırır."
   ]
  },
  {
   "cell_type": "markdown",
   "metadata": {},
   "source": [
    "### Numpy ile Okuma Yazma"
   ]
  },
  {
   "cell_type": "markdown",
   "metadata": {},
   "source": [
    "##### Binary"
   ]
  },
  {
   "cell_type": "code",
   "execution_count": 118,
   "metadata": {},
   "outputs": [],
   "source": [
    "np.save(\"./databases/dizi_binary\",a) #diziyi binary olarak kaydeder."
   ]
  },
  {
   "cell_type": "code",
   "execution_count": 119,
   "metadata": {},
   "outputs": [
    {
     "data": {
      "text/plain": [
       "array([[ 0,  1,  2,  3,  4],\n",
       "       [ 5,  6,  7,  8,  9],\n",
       "       [10, 11, 12, 13, 14],\n",
       "       [15, 16, 17, 18, 19],\n",
       "       [20, 21, 22, 23, 24],\n",
       "       [25, 26, 27, 28, 29]])"
      ]
     },
     "execution_count": 119,
     "metadata": {},
     "output_type": "execute_result"
    }
   ],
   "source": [
    "np.load(\"./databases/dizi_binary.npy\") #diziyi yükler."
   ]
  },
  {
   "cell_type": "markdown",
   "metadata": {},
   "source": [
    "##### Text"
   ]
  },
  {
   "cell_type": "code",
   "execution_count": 121,
   "metadata": {},
   "outputs": [],
   "source": [
    "np.savetxt(\"./databases/dizi_text.txt\",a,delimiter=\",\") #diziyi text olarak kaydeder."
   ]
  },
  {
   "cell_type": "code",
   "execution_count": 124,
   "metadata": {},
   "outputs": [
    {
     "data": {
      "text/plain": [
       "array([[ 0.,  1.,  2.,  3.,  4.],\n",
       "       [ 5.,  6.,  7.,  8.,  9.],\n",
       "       [10., 11., 12., 13., 14.],\n",
       "       [15., 16., 17., 18., 19.],\n",
       "       [20., 21., 22., 23., 24.],\n",
       "       [25., 26., 27., 28., 29.]])"
      ]
     },
     "execution_count": 124,
     "metadata": {},
     "output_type": "execute_result"
    }
   ],
   "source": [
    "np.loadtxt(\"./databases/dizi_text.txt\",delimiter=\",\") #diziyi yükler."
   ]
  },
  {
   "cell_type": "code",
   "execution_count": 130,
   "metadata": {},
   "outputs": [
    {
     "data": {
      "text/plain": [
       "array([[1, 1, 1, 1, 1, 1, 1, 1, 1, 1],\n",
       "       [1, 1, 1, 1, 1, 1, 1, 1, 1, 1],\n",
       "       [1, 1, 8, 8, 8, 8, 8, 8, 1, 1],\n",
       "       [1, 1, 8, 1, 1, 1, 1, 8, 1, 1],\n",
       "       [1, 1, 8, 1, 1, 1, 1, 8, 1, 1],\n",
       "       [1, 1, 8, 1, 1, 1, 1, 8, 1, 1],\n",
       "       [1, 1, 8, 1, 1, 1, 1, 8, 1, 1],\n",
       "       [1, 1, 8, 8, 8, 8, 8, 8, 1, 1],\n",
       "       [1, 1, 1, 1, 1, 1, 1, 1, 1, 1],\n",
       "       [1, 1, 1, 1, 1, 1, 1, 1, 1, 1]])"
      ]
     },
     "execution_count": 130,
     "metadata": {},
     "output_type": "execute_result"
    }
   ],
   "source": [
    "#Soru:\n",
    "'''\n",
    "    1'lerden oluşan 10x10'luk bir dizi tanımlayalım.\n",
    "    içine 8'lerden oluşan bir 6x6 lık kare çizelim\n",
    "    karenin içinde yine 1'ler olsun.\n",
    "'''\n",
    "img=np.ones((10,10),dtype=int)\n",
    "\n",
    "#\n",
    "img[2:-2 , 2:-2] = 8\n",
    "img[3:-3 , 3:-3] = 1\n",
    "\n",
    "#\n",
    "img"
   ]
  },
  {
   "cell_type": "code",
   "execution_count": 132,
   "metadata": {},
   "outputs": [
    {
     "data": {
      "image/png": "[encoded data removed]",
      "text/plain": [
       "<Figure size 640x480 with 1 Axes>"
      ]
     },
     "metadata": {},
     "output_type": "display_data"
    }
   ],
   "source": [
    "import matplotlib.pyplot as plt\n",
    "\n",
    "plt.imshow(img, cmap=\"gray\")\n",
    "plt.show()"
   ]
  },
  {
   "cell_type": "markdown",
   "metadata": {},
   "source": [
    "Soru:\n",
    "1. Aşağıdaki 2 boyutlu bir dizi tanımlayalım.\n",
    "2. Truncu\n",
    "3. Mavi Çizgili\n",
    "4. Kırmızı\n",
    "5. Mavi alanları getirelim.\n",
    "\n",
    "![arrayElemanBulma.png](arrayElemanBulma.png)"
   ]
  }
 ],
 "metadata": {
  "kernelspec": {
   "display_name": "Python 3",
   "language": "python",
   "name": "python3"
  },
  "language_info": {
   "codemirror_mode": {
    "name": "ipython",
    "version": 3
   },
   "file_extension": ".py",
   "mimetype": "text/x-python",
   "name": "python",
   "nbconvert_exporter": "python",
   "pygments_lexer": "ipython3",
   "version": "3.11.3"
  }
 },
 "nbformat": 4,
 "nbformat_minor": 2
}
