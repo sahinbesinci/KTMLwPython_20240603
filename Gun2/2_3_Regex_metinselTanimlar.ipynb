{
 "cells": [
  {
   "cell_type": "markdown",
   "metadata": {},
   "source": [
    "## Regex ile Metinsel Çalışmalar\n",
    "* `ìmport re` kütüphanesi ile bir patern (regular expression) vererek metinsel veriler üzerinde işlemler yapabiliriz.\n",
    "* 12 karekter ile regular expressionlar tanımlanabilir.\n",
    "  * mesela mail adresi formatını regex ile ifade edebiliriz: `r'\\b[A-Za-z0-9._%+-]+@[A-Za-z0-9.-]+\\.[A-Z|a-z]{2,}\\b'`\n",
    "* Faydalı linkler:\n",
    "  * https://www.regular-expressions.info/ \n",
    "  * https://regexr.com/"
   ]
  },
  {
   "cell_type": "code",
   "execution_count": 26,
   "metadata": {},
   "outputs": [],
   "source": [
    "import re"
   ]
  },
  {
   "cell_type": "code",
   "execution_count": 27,
   "metadata": {},
   "outputs": [],
   "source": [
    "metin = \"\"\"\n",
    "Merhaba\n",
    "\n",
    "Herhangi bir soru olursa abdullahkise@hotmail.com adresinden benimle iletişime geçebilirsiniz. \n",
    "Eğer ulaşamazsanız abdullahkise@gmail.com adresimi kullanabilirsiniz.\n",
    "\n",
    "Sağlıklı günler dilerim,\n",
    "\n",
    "Kise\n",
    "\"\"\"\n",
    "\n",
    "mail_pattern = r\"([\\w\\.-]+)@[\\w\\.-]+\" #raw string"
   ]
  },
  {
   "cell_type": "markdown",
   "metadata": {},
   "source": [
    "#### re fonksiyonları:\n",
    "* `re.search()`: geriye bir Match nesnesi dönrür. `re.Match` ile üretilebilirdi. Burada eşleşme bilgileri var.\n",
    "* `re.findall()`: bulduğu metinleri liste olarak döndürür.\n",
    "* `re.split()`:belirtilen expressiona uyan metni ayraç olarak kullanır."
   ]
  },
  {
   "cell_type": "markdown",
   "metadata": {},
   "source": [
    "##### search"
   ]
  },
  {
   "cell_type": "code",
   "execution_count": 28,
   "metadata": {},
   "outputs": [
    {
     "data": {
      "text/plain": [
       "'abdullahkise'"
      ]
     },
     "execution_count": 28,
     "metadata": {},
     "output_type": "execute_result"
    }
   ],
   "source": [
    "sonuc_match = re.search(mail_pattern, metin)\n",
    "\n",
    "#\n",
    "sonuc_match\n",
    "\n",
    "#bulunanın pozisyonu\n",
    "sonuc_match.start()\n",
    "sonuc_match.end()\n",
    "\n",
    "#\n",
    "sonuc_match.string #tüm metin\n",
    "sonuc_match.groups() #() ile belirtilen grupları getirir \n",
    "#\n",
    "sonuc_match.group(0) #abdullahkise@hotmail.com\n",
    "sonuc_match.group(1) #abdullahkise"
   ]
  },
  {
   "cell_type": "markdown",
   "metadata": {},
   "source": [
    "##### match"
   ]
  },
  {
   "cell_type": "code",
   "execution_count": 29,
   "metadata": {},
   "outputs": [
    {
     "data": {
      "text/plain": [
       "'162'"
      ]
     },
     "execution_count": 29,
     "metadata": {},
     "output_type": "execute_result"
    }
   ],
   "source": [
    "m = re.match(r\"(\\d+).(\\d+)\",\"24.162\")\n",
    "\n",
    "#\n",
    "m.groups()\n",
    "\n",
    "#\n",
    "m.group(0) #\"24.162\"\n",
    "\n",
    "m.group(1) #24\n",
    "m.group(2) #162"
   ]
  },
  {
   "cell_type": "code",
   "execution_count": 30,
   "metadata": {},
   "outputs": [
    {
     "data": {
      "text/plain": [
       "'python'"
      ]
     },
     "execution_count": 30,
     "metadata": {},
     "output_type": "execute_result"
    }
   ],
   "source": [
    "#örn:\n",
    "m = re.match(r\"www\\.(.*)\\..{3}\",\"www.python.org\")\n",
    "\n",
    "m.groups()\n",
    "\n",
    "m.group(0) #\"www.python.org\"\n",
    "m.group(1) #\"python\""
   ]
  },
  {
   "cell_type": "markdown",
   "metadata": {},
   "source": [
    "##### findall"
   ]
  },
  {
   "cell_type": "code",
   "execution_count": 31,
   "metadata": {},
   "outputs": [
    {
     "data": {
      "text/plain": [
       "['abdullahkise@hotmail.com', 'abdullahkise@gmail.com']"
      ]
     },
     "execution_count": 31,
     "metadata": {},
     "output_type": "execute_result"
    }
   ],
   "source": [
    "re.findall(r\"[\\w\\.-]+@[\\w\\.-]+\", metin)"
   ]
  },
  {
   "cell_type": "markdown",
   "metadata": {},
   "source": [
    "##### split"
   ]
  },
  {
   "cell_type": "code",
   "execution_count": 32,
   "metadata": {},
   "outputs": [
    {
     "data": {
      "text/plain": [
       "['Ali', '22', 'Güvenlik', 'İstanbul']"
      ]
     },
     "execution_count": 32,
     "metadata": {},
     "output_type": "execute_result"
    }
   ],
   "source": [
    "degisenBoslukluMetin = \"Ali 22    Güvenlik            İstanbul\"\n",
    "\n",
    "re.split(\"\\s+\",degisenBoslukluMetin) #\\s+ boşluk karakterinden bir veya daha fazla olabilir. bunu ayraç olarak alarak metni parçaladık"
   ]
  },
  {
   "cell_type": "code",
   "execution_count": 33,
   "metadata": {},
   "outputs": [
    {
     "data": {
      "text/plain": [
       "['Ali', 'Veli', 'Dursun', 'Ayşe!']"
      ]
     },
     "execution_count": 33,
     "metadata": {},
     "output_type": "execute_result"
    }
   ],
   "source": [
    "#soru:\n",
    "metin = \"Ali,,,, Veli,,,...... Dursun ...,,,...Ayşe!\"\n",
    "\n",
    "#1.sadece isimleri alalım\n",
    "re.findall(r\"\\w+\",metin)\n",
    "#re.findall(r\"[a-zA-Z]+\",metin)\n",
    "\n",
    "#2. tüm noktalama işaretleri alalım\n",
    "re.findall(r\"\\W+\",metin)\n",
    "re.findall(r'[\\.,\"!]+',metin)\n",
    "\n",
    "#3.belirttiğimiz işarelere göre parçalayalım.\n",
    "re.split(r\"[,\\.\\s]+\",metin)"
   ]
  },
  {
   "cell_type": "markdown",
   "metadata": {},
   "source": [
    "### Compile ile paterni hazır edip gerekli yerde kullanabiliriz.\n",
    "* `compile` ile önce patern oluşturabiliriz daha sora bu parneti bir çok yerde kullanabiliriz."
   ]
  },
  {
   "cell_type": "code",
   "execution_count": 34,
   "metadata": {},
   "outputs": [
    {
     "data": {
      "text/plain": [
       "'İzin verilenlerin dışında karekter kullanıldı'"
      ]
     },
     "execution_count": 34,
     "metadata": {},
     "output_type": "execute_result"
    }
   ],
   "source": [
    "#örn:\n",
    "#sadece izin verilen karekterler mi kullanıldı bakalım.\n",
    "metin = \"merhaba!\" #! izin verilen karekter değil.\n",
    "\n",
    "ptrn = re.compile(r\"[^a-zA-Z0-9]\") #harfler ve sayılar dışındakiler\n",
    "\n",
    "bulunan_match = ptrn.search(metin) #match nesnesi döner.\n",
    "\n",
    "#paterne uyan yani izinlerinelerin dışında olan karekte varsa match nenesi döner yoksa None döner.\n",
    "\"İzin verilenlerin dışında karekter kullanıldı\" if bulunan_match else \"Sadece izin verilenler kullanıldı\" "
   ]
  },
  {
   "cell_type": "code",
   "execution_count": null,
   "metadata": {},
   "outputs": [],
   "source": [
    "#örn:\n",
    "#meslekleri çekelim.\n",
    "from urllib.request import  urlopen\n",
    "\n",
    "cevap = urlopen(\"https://www.python.org/jobs/\")\n",
    "#cevap.info().get_content_charset()\n",
    "html_metin = cevap.read().decode(\"UTF-8\") #varsayılan olarak utf-8\n",
    "\n",
    "\n",
    "#<a href=\"/jobs/6234/\">Senior Application Developer</a>\n",
    "ptrn_meslek = re.compile('<a href=\"(/jobs/\\d+/)\">(.*?)</a>')\n",
    "\n",
    "#\n",
    "meslekler = ptrn_meslek.findall(html_metin)\n",
    "\n",
    "#\n",
    "for meslek in meslekler:\n",
    "    print(meslek[1])"
   ]
  }
 ],
 "metadata": {
  "kernelspec": {
   "display_name": "Python 3",
   "language": "python",
   "name": "python3"
  },
  "language_info": {
   "codemirror_mode": {
    "name": "ipython",
    "version": 3
   },
   "file_extension": ".py",
   "mimetype": "text/x-python",
   "name": "python",
   "nbconvert_exporter": "python",
   "pygments_lexer": "ipython3",
   "version": "3.11.3"
  }
 },
 "nbformat": 4,
 "nbformat_minor": 2
}
