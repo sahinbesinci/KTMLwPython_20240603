{
 "cells": [
  {
   "cell_type": "markdown",
   "metadata": {},
   "source": [
    "## Webden İçerik Okuma\n",
    "* `urllib.request`\n",
    "    * `urlretrieve` ile dosya indiririz.\n",
    "    * `urlopen` ile içeriği direkt okuyabiliriz. Content-Type neyse o şekilde okunur. HTML, json, binary vs. gelebilir.\n",
    "* `request` ile `get` ve `post` talepleri oluşturabiliriz. Bu şekilde webden içerik talebinde bulunuyor webdeki bir kaynağa bilgi gönderebiliriz. Mesela web serviceler ile çalışabiliriz.\n",
    "* `BeautifulSoup` webdeki (HTML, XML vs.) nesneleri python nesnesine çevirir."
   ]
  },
  {
   "cell_type": "code",
   "execution_count": 13,
   "metadata": {},
   "outputs": [],
   "source": [
    "from urllib.request import urlretrieve, urlopen"
   ]
  },
  {
   "cell_type": "markdown",
   "metadata": {},
   "source": [
    "### urlretrieve"
   ]
  },
  {
   "cell_type": "code",
   "execution_count": 14,
   "metadata": {},
   "outputs": [
    {
     "data": {
      "text/plain": [
       "('./databases/python_logo.png', <http.client.HTTPMessage at 0x1e8cd0f3d10>)"
      ]
     },
     "execution_count": 14,
     "metadata": {},
     "output_type": "execute_result"
    }
   ],
   "source": [
    "#webden içerik indirmek için kullanılır\n",
    "urlretrieve(url=\"https://www.python.org/static/img/python-logo@2x.png\", filename=\"./databases/python_logo.png\")"
   ]
  },
  {
   "cell_type": "markdown",
   "metadata": {},
   "source": [
    "### urlopen"
   ]
  },
  {
   "cell_type": "code",
   "execution_count": 15,
   "metadata": {},
   "outputs": [
    {
     "name": "stdout",
     "output_type": "stream",
     "text": [
      "Connection: close\n",
      "Content-Length: 73073\n",
      "Content-Type: text/html; charset=utf-8\n",
      "X-Frame-Options: SAMEORIGIN\n",
      "Via: 1.1 varnish, 1.1 varnish\n",
      "Accept-Ranges: bytes\n",
      "Date: Tue, 04 Jun 2024 08:04:08 GMT\n",
      "Age: 1286\n",
      "X-Served-By: cache-iad-kcgs7200129-IAD, cache-fra-eddf8230126-FRA\n",
      "X-Cache: HIT, HIT\n",
      "X-Cache-Hits: 6, 1\n",
      "X-Timer: S1717488248.019684,VS0,VE1\n",
      "Vary: Cookie\n",
      "Strict-Transport-Security: max-age=63072000; includeSubDomains; preload\n",
      "\n",
      "\n"
     ]
    }
   ],
   "source": [
    "#Content-Type göre web içeriğini okumak için kullanılır\n",
    "cevap = urlopen(\"https://www.python.org/jobs/\") \n",
    "type(cevap) #http.client.HTTPResponse\n",
    "\n",
    "#web sayfasının içeriğini okumak için kullanılır\n",
    "print(cevap.info())"
   ]
  },
  {
   "cell_type": "code",
   "execution_count": 16,
   "metadata": {},
   "outputs": [
    {
     "name": "stdout",
     "output_type": "stream",
     "text": [
      "\n",
      "\n",
      "<!doctype html>\n",
      "<!--[if lt IE 7]>   <html class=\"no-js ie6 lt-ie7 lt-ie8 lt-ie9\">   <![endif]-->\n",
      "<!--[if IE 7]>      <html class=\"no-js ie7 lt-ie8 lt-ie9\">          <![endif]-->\n",
      "<!--[if IE 8]>      <html class=\"no-js ie8 lt-ie9\">                 <![endif]-->\n",
      "<!--[if gt IE 8]><!--><html class=\"no-js\" lang=\"en\" dir=\"ltr\">  <!--<![endif]-->\n",
      "\n",
      "<head>\n",
      "    <!-- Google tag (gtag.js) -->\n",
      "    <script async src=\"https://www.googletagmanager.com/gtag/js?id=G-TF35YF9CVH\"></script>\n",
      "    <script>\n",
      "      window.dataLayer = window.dataLayer || [];\n",
      "      function gtag(){dataLayer.push(arguments);}\n",
      "      gtag('js', new Date());\n",
      "      gtag('config', 'G-TF35YF9CVH');\n",
      "    </script>\n",
      "    <!-- Plausible.io analytics -->\n",
      "    <script defer data-domain=\"python.org\" src=\"https://plausible.io/js/script.js\"></script>\n",
      "\n",
      "    <meta charset=\"utf-8\">\n",
      "    <meta http-equiv=\"X-UA-Compatible\" content=\"IE=edge\">\n",
      "\n",
      "    <link rel=\"prefetch\" href=\"//ajax.googleapis.com/ajax/libs/jquery/1.8.2/jquery.min.js\">\n",
      "    <link rel=\"prefetch\n"
     ]
    }
   ],
   "source": [
    "#cevap.read() #bütün içeriği okur\n",
    "#cevap.read(1000) #1000 karakter okur #byte string olarak döner\n",
    "print(cevap.read(1000).decode(\"utf-8\")) #1000 karakter okur #string olarak döner\n"
   ]
  },
  {
   "cell_type": "code",
   "execution_count": 18,
   "metadata": {},
   "outputs": [
    {
     "name": "stdout",
     "output_type": "stream",
     "text": [
      "Connection: close\n",
      "Content-Length: 15770\n",
      "Content-Type: image/png\n",
      "Last-Modified: Thu, 09 May 2024 20:51:48 GMT\n",
      "ETag: \"663d3764-3d9a\"\n",
      "Cache-Control: max-age=604800, public\n",
      "Via: 1.1 varnish, 1.1 varnish\n",
      "Accept-Ranges: bytes\n",
      "Date: Tue, 04 Jun 2024 08:05:37 GMT\n",
      "Age: 405496\n",
      "X-Served-By: cache-iad-kiad7000056-IAD, cache-fra-eddf8230045-FRA\n",
      "X-Cache: HIT, HIT\n",
      "X-Cache-Hits: 1609, 18\n",
      "X-Timer: S1717488337.393468,VS0,VE0\n",
      "Strict-Transport-Security: max-age=63072000; includeSubDomains; preload\n",
      "\n",
      "\n"
     ]
    }
   ],
   "source": [
    "## resim ieriğini okuyalım.\n",
    "cevap_resim = urlopen(\"https://www.python.org/static/img/python-logo@2x.png\")\n",
    "\n",
    "print(cevap_resim.info()) #Content-Type: image/png\n",
    "\n",
    "#resim içeriğini değişkene alalım\n",
    "resimBinary = cevap_resim.read()"
   ]
  },
  {
   "cell_type": "code",
   "execution_count": 19,
   "metadata": {},
   "outputs": [],
   "source": [
    "#binarı içerği dosyaya kaydedlim\n",
    "with open(\"./databases/python_logo2.png\", \"wb\") as fh:\n",
    "    fh.write(resimBinary)\n",
    "\n",
    "#webden her istekte binary bilgi gelebilir. Bunları yukarıdaki yöntem ile okuyup dosyay yazdırabiliriz. ab+ ile dosyayı binary olarak açarız."
   ]
  },
  {
   "cell_type": "markdown",
   "metadata": {},
   "source": [
    "### `request` kütüphanesi ile get ve post işlemleri yapılabilir.\n",
    "![alt text](get_post.png)"
   ]
  },
  {
   "cell_type": "code",
   "execution_count": 20,
   "metadata": {},
   "outputs": [],
   "source": [
    "import requests"
   ]
  },
  {
   "cell_type": "markdown",
   "metadata": {},
   "source": [
    "#### Get Yöntemi"
   ]
  },
  {
   "cell_type": "code",
   "execution_count": 25,
   "metadata": {},
   "outputs": [],
   "source": [
    "cevap = requests.get(\"https://www.python.org/static/img/python-logo@2x.png\")"
   ]
  },
  {
   "cell_type": "code",
   "execution_count": 26,
   "metadata": {},
   "outputs": [
    {
     "data": {
      "text/plain": [
       "200"
      ]
     },
     "execution_count": 26,
     "metadata": {},
     "output_type": "execute_result"
    }
   ],
   "source": [
    "cevap.status_code #200 #başarılıdır. 404 sayfa yok\n",
    "#https://tr.wikipedia.org/wiki/HTTP_durum_kodlar%C4%B1"
   ]
  },
  {
   "cell_type": "code",
   "execution_count": 27,
   "metadata": {},
   "outputs": [
    {
     "data": {
      "text/plain": [
       "0.249787"
      ]
     },
     "execution_count": 27,
     "metadata": {},
     "output_type": "execute_result"
    }
   ],
   "source": [
    "cevap.elapsed.total_seconds() #0.256 #saniye cinsinden geçen süre"
   ]
  },
  {
   "cell_type": "code",
   "execution_count": 31,
   "metadata": {},
   "outputs": [],
   "source": [
    "#cevap.content #binary içerik"
   ]
  },
  {
   "cell_type": "markdown",
   "metadata": {},
   "source": [
    "#### Post Yöntemi"
   ]
  },
  {
   "cell_type": "code",
   "execution_count": 32,
   "metadata": {},
   "outputs": [],
   "source": [
    "service_url = f\"https://northeurope.api.cognitive.microsoft.com/text/analytics/v3.0/languages\"\n",
    "\n",
    "header = {\n",
    "            \"Content-Type\":\"application/json\",\n",
    "            \"Ocp-Apim-Subscription-Key\":\"146bdc8d871747aa832ea87ab5d1ee86\"\n",
    "          }"
   ]
  },
  {
   "cell_type": "code",
   "execution_count": 42,
   "metadata": {},
   "outputs": [
    {
     "data": {
      "text/plain": [
       "'Turkish'"
      ]
     },
     "execution_count": 42,
     "metadata": {},
     "output_type": "execute_result"
    }
   ],
   "source": [
    "metin = \"Merhabalar günaydınlar\"\n",
    "\n",
    "#{'documents': [{'id': 0, 'text': 'How are u?'}]} şeklinde json oluşturacağız.\n",
    "body_dict={\"documents\":[{\"id\":0, \"text\":metin}]}\n",
    "\n",
    "\n",
    "#-------------------POST İŞLEMİ-------------------\n",
    "#data kısmında object olarak gönderilebilir. veya json kısmında json.dumps ile gönderilebilir.\n",
    "istek_post = requests.post(service_url, headers=header,data=str(body_dict).encode(\"utf-8\")) #json=json.dumps(body_dict)\n",
    "\n",
    "#\n",
    "istek_post.status_code #200 başarılı\n",
    "#istek_post.raise_for_status() #hata varsa hata fırlatır\n",
    "\n",
    "\n",
    "#\n",
    "cevap_dict = istek_post.json() #dict döndrürür #parse etmeye gerek yok.\n",
    "#type(cevap_dict)\n",
    "\n",
    "#\n",
    "cevap_dict[\"documents\"][0][\"detectedLanguage\"][\"name\"]#.__len__()"
   ]
  },
  {
   "cell_type": "markdown",
   "metadata": {},
   "source": [
    "### BeatifulSoup ile HTML Parse Etmek\n",
    "* HTML sayfalarıdaki html etiketileri python nesnelerine çevirip işlem yapmamızı sağlar.\n",
    "* `pip install beautifulsoup4`\n",
    "* `from bs4 import BeautifulSoup`\n",
    "  * http://crummy.com/software/BeautifulSoup\n",
    "  * https://www.crummy.com/software/BeautifulSoup/bs4/doc/"
   ]
  },
  {
   "cell_type": "code",
   "execution_count": 43,
   "metadata": {},
   "outputs": [],
   "source": [
    "from bs4 import BeautifulSoup"
   ]
  },
  {
   "cell_type": "code",
   "execution_count": 44,
   "metadata": {},
   "outputs": [],
   "source": [
    "html_metin = urlopen(\"https://www.python.org/jobs/\").read().decode(\"utf-8\")"
   ]
  },
  {
   "cell_type": "code",
   "execution_count": 47,
   "metadata": {},
   "outputs": [
    {
     "data": {
      "text/plain": [
       "bs4.BeautifulSoup"
      ]
     },
     "execution_count": 47,
     "metadata": {},
     "output_type": "execute_result"
    }
   ],
   "source": [
    "soup = BeautifulSoup(html_metin, \"html.parser\") #çeşitli parserlar var. html.parser, lxml, html5lib\n",
    "\n",
    "type(soup) #bs4.BeautifulSoup\n",
    "#dir(soup)"
   ]
  },
  {
   "cell_type": "markdown",
   "metadata": {},
   "source": [
    "### İlk Etikete Erişmek\n",
    "* `nesne.altnesne.enaltnesne` bu yöntemle ilk bulduğunu getirir.\n",
    "* `nesne.altnesne(\"enaltnesne\")` ile bütün alt etiketleri getirir."
   ]
  },
  {
   "cell_type": "code",
   "execution_count": 49,
   "metadata": {},
   "outputs": [
    {
     "data": {
      "text/plain": [
       "<title>Python Job Board | Python.org</title>"
      ]
     },
     "execution_count": 49,
     "metadata": {},
     "output_type": "execute_result"
    }
   ],
   "source": [
    "soup.title #<title>Python Job Board | Python.org</title>"
   ]
  },
  {
   "cell_type": "code",
   "execution_count": 51,
   "metadata": {},
   "outputs": [
    {
     "data": {
      "text/plain": [
       "'Get exploring!'"
      ]
     },
     "execution_count": 51,
     "metadata": {},
     "output_type": "execute_result"
    }
   ],
   "source": [
    "soup.h2 #ilk bulduğu h2 etiket\n",
    "soup.h2.string #h2 etiketi içerisindeki metin"
   ]
  },
  {
   "cell_type": "code",
   "execution_count": 53,
   "metadata": {},
   "outputs": [
    {
     "data": {
      "text/plain": [
       "'Python'"
      ]
     },
     "execution_count": 53,
     "metadata": {},
     "output_type": "execute_result"
    }
   ],
   "source": [
    "#ilk li etiketindeki ilk a etiketini bulalım\n",
    "soup.li.a.string #sadece a'nın kendi metnini döndürür\n",
    "soup.li.a.text   #a'nın ve onun altındaki tüm etiketlerin metnini döndürür"
   ]
  },
  {
   "cell_type": "code",
   "execution_count": 63,
   "metadata": {},
   "outputs": [
    {
     "data": {
      "text/plain": [
       "[<h2 class=\"listing-company\">\n",
       " <span class=\"listing-company-name\">\n",
       " <span class=\"listing-new\">New</span>\n",
       " <a href=\"/jobs/7601/\">Full Stack Developer - Django &amp; Vue.js</a><br/>\n",
       " \t\t    Strix Technologies\n",
       "                 </span>\n",
       " <span class=\"listing-location\"><a href=\"/jobs/location/remote-remote/\" title=\"More jobs in Remote, Remote\">Remote, Remote</a></span>\n",
       " </h2>]"
      ]
     },
     "execution_count": 63,
     "metadata": {},
     "output_type": "execute_result"
    }
   ],
   "source": [
    "soup.body.section.h2     #ilk h2 etiketini getirdi.\n",
    "soup.body.section(\"h2\")  #tüm h2 etiketlerini getirdi. liste döner\n",
    "soup.body.section(\"h2\")[:1] #gelen nesnelerden ilk 1 tanesini aldık."
   ]
  },
  {
   "cell_type": "code",
   "execution_count": 69,
   "metadata": {},
   "outputs": [
    {
     "name": "stdout",
     "output_type": "stream",
     "text": [
      "Full Stack Developer - Django & Vue.js --> /jobs/7601/\n",
      "Senior Python Backend Engineer --> /jobs/7598/\n",
      "Python developer --> /jobs/7597/\n",
      "Senior Python Engineer (ML) --> /jobs/7596/\n",
      "Senior Python Software Developer --> /jobs/7595/\n",
      "Senior Python Architect and Tech Lead --> /jobs/7594/\n",
      "Mid-Level Python Engineer (Django Specialist) --> /jobs/7591/\n",
      "Senior software engineer --> /jobs/7590/\n",
      "Senior Back-End Engineer --> /jobs/7588/\n",
      "Machine Learning Data Scientist --> /jobs/7587/\n",
      "Software Engineer for AI Training Data (Python) --> /jobs/7586/\n",
      "Python dev with Rust experience --> /jobs/7585/\n",
      "Senior Software Engineer --> /jobs/7584/\n",
      "Senior Software Engineer (d/f/m) --> /jobs/7582/\n",
      "Senior Python Engineer (d/m/f) --> /jobs/7580/\n",
      "Principal Software Engineer (d/m/f) --> /jobs/7578/\n",
      "Senior Software Engineer, Search Team (Full- Stack) --> /jobs/7569/\n",
      "Senior Python Engineer --> /jobs/7568/\n",
      "Engineering Manager (Python) --> /jobs/7567/\n",
      "Senior Python Engineer  - Agent-Based & Generative AI, Social Media x Web3 (Full-time) --> /jobs/7566/\n",
      "Python Software Engineer - Sales --> /jobs/7565/\n",
      "Accountant --> /jobs/7562/\n",
      "Principal Backend Engineer Threat --> /jobs/7556/\n",
      "Senior Python Backend Engineer --> /jobs/7554/\n",
      "Data Scientist P3, Rome, Italy --> /jobs/7553/\n"
     ]
    }
   ],
   "source": [
    "#Soru:\n",
    "#iş ilanlarını getirelim.\n",
    "#https://www.python.org/jobs/\n",
    "#<a href=\"/jobs/7601/\">Full Stack Developer - Django &amp; Vue.js</a>\n",
    "for o in soup.body.section(\"h2\"): #sayfalama kısmı da li içerisinde olduğu için h2 içerisindeki a etiketlerini alalım.\n",
    "    #print(o.a.string)\n",
    "    #print(o.a[\"href\"])\n",
    "    print(\"{} --> {}\".format(o.a.string, o.a[\"href\"]))"
   ]
  },
  {
   "cell_type": "markdown",
   "metadata": {},
   "source": [
    "##### Birden Fazla Etikete Ulaşma (find ve find_all)\n",
    "![alt text](Bs4BirdenFazlaEtiket.png)"
   ]
  },
  {
   "cell_type": "markdown",
   "metadata": {},
   "source": [
    "##### find\n",
    "* sayfanın tamamında bir şey arar ve varsa ilk bulduğunu getirir.\n",
    "* `.find(name=None, attrs={}, recursive=True, text=None, **kwargs)`"
   ]
  },
  {
   "cell_type": "code",
   "execution_count": 74,
   "metadata": {},
   "outputs": [
    {
     "data": {
      "text/plain": [
       "['welcome-message']"
      ]
     },
     "execution_count": 74,
     "metadata": {},
     "output_type": "execute_result"
    }
   ],
   "source": [
    "h2_ilk = soup.find(name=\"h2\") #bütün sayfada ara ilkini getirir.\n",
    "\n",
    "#\n",
    "h2_ilk\n",
    "\n",
    "#\n",
    "h2_ilk.text #altındaki tüm etiketlerin metnini getirir.\n",
    "\n",
    "#\n",
    "#attributelerine bakalım\n",
    "h2_ilk.attrs\n",
    "h2_ilk[\"class\"]\n",
    "h2_ilk.get(\"class\")"
   ]
  },
  {
   "cell_type": "markdown",
   "metadata": {},
   "source": [
    "##### find_all\n",
    "* sayfanın tamamında bir şey arar ve tümünü getirir.\n",
    "* `find_all(name, attrs, recursive, string, limit, **kwargs)`"
   ]
  },
  {
   "cell_type": "code",
   "execution_count": 76,
   "metadata": {},
   "outputs": [
    {
     "name": "stdout",
     "output_type": "stream",
     "text": [
      "#content\n",
      "#python-network\n",
      "/\n",
      "https://www.python.org/psf/\n",
      "https://docs.python.org\n"
     ]
    }
   ],
   "source": [
    "#örn:\n",
    "#a etiketlerinin linklerini getirelim\n",
    "for a in soup.find_all(name=\"a\", limit=5): #limit = 5 ile 5 tane getir dedik.\n",
    "    print(a.get(\"href\"))"
   ]
  },
  {
   "cell_type": "code",
   "execution_count": 80,
   "metadata": {},
   "outputs": [
    {
     "name": "stdout",
     "output_type": "stream",
     "text": [
      "Make Text Smaller\n",
      "Make Text Larger\n",
      "Reset any font size changes I have made\n",
      "None\n",
      "None\n"
     ]
    }
   ],
   "source": [
    "#attribute değerine göre arama\n",
    "arananlar = soup.find_all(name=\"li\", class_=\"tier-2\",limit=5) #class reserve bir kelime olduğu için parametre adı class_ olarak tanımlanmış.\n",
    "arananlar = soup.find_all(name=\"li\", attrs={\"class\":\"tier-2\"}, limit=5)\n",
    "\n",
    "for l in arananlar:\n",
    "    print(l.a.get(\"title\")) #title attributelerini çektik."
   ]
  },
  {
   "cell_type": "code",
   "execution_count": null,
   "metadata": {},
   "outputs": [],
   "source": [
    "#https://www.w3schools.com/html/html_tables.asp\n",
    "#http://www.koeri.boun.edu.tr/scripts/lst7.asp"
   ]
  }
 ],
 "metadata": {
  "kernelspec": {
   "display_name": "Python 3",
   "language": "python",
   "name": "python3"
  },
  "language_info": {
   "codemirror_mode": {
    "name": "ipython",
    "version": 3
   },
   "file_extension": ".py",
   "mimetype": "text/x-python",
   "name": "python",
   "nbconvert_exporter": "python",
   "pygments_lexer": "ipython3",
   "version": "3.11.3"
  }
 },
 "nbformat": 4,
 "nbformat_minor": 2
}
