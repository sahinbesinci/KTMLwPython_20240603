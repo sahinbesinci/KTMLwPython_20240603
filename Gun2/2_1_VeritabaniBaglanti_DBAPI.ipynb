{
 "cells": [
  {
   "cell_type": "markdown",
   "metadata": {},
   "source": [
    "## Veritabanı Bağlantısı\n",
    "### DBAPI\n",
    "* Python'da RDBMS'lere bağlanmak için kullanılan bir çok kütüphane mevcuttur.\n",
    "  * Hatta mesela MSSQL için birden fazla kütüphane bulabilirsiniz.\n",
    "* Veritabanlarına bağlanan kütüphanler DBAPI kütüphaneleridir. Temelde bu kütüphaneler aynı API'yi kullanır.\n",
    "  * Bu sayade farklı DB'lerde hemen hemen aynı şekilde çalışan kodlar yazabiliriz.\n",
    "* Not:\n",
    "  * ilişkisel veritabanları ile çalışırken:\n",
    "    * SQL dilini kullanırız. Bu dil ANSI/ISO standartlarıyla korunmaktadır.\n",
    "    * Vendorler bu dilde olmayan özellikleri dili biraz değiştirerek ekleyebilirler.\n",
    "      * MSSQL (T-SQL), Oracle (PL/SQL), PostgreSQL (PL/pgSQL) gibi.\n",
    "  * Bağlanırken bağlantı cümlesine ihtiyaç var. Servera ve kullanılan providera göre bağlantı cümlesi değişebilir\n",
    "    * Tüm bağlantı cümlelerine https://www.connectionstrings.com/ adresinden erişebilirsiniz.\n",
    "\n",
    "#### SQLite\n",
    "* sqlite ayrıca bir service kurmadan kullanılabilecek light RDBMS ürünüdür. MSSQL, Oracle, MySQL gibi bir service kurmanıza gerek yoktur.\n",
    "  * sqlite https://www.sqlite.org/download.html adresinden indirilebilir.\n",
    "  * IDE https://sqlitestudio.pl/ adresinden indirilebilir."
   ]
  },
  {
   "cell_type": "code",
   "execution_count": 1,
   "metadata": {},
   "outputs": [],
   "source": [
    "import sqlite3\n",
    "#sqlitee bağlanmak için kullanılabilecek bir modul/pakettir. DBPI'den türetilmiştir."
   ]
  },
  {
   "cell_type": "code",
   "execution_count": 2,
   "metadata": {},
   "outputs": [],
   "source": [
    "import os\n",
    "os.makedirs(\"./databases\", exist_ok=True)"
   ]
  },
  {
   "cell_type": "code",
   "execution_count": 5,
   "metadata": {},
   "outputs": [],
   "source": [
    "#Data Source=c:\\mydb.db;Version=3;\n",
    "#Data Source=:memory:;Version=3;New=True;\n",
    "con = sqlite3.connect(\"./databases/mesajDB.db\") #bağlantı cümleisni belirtip bağlanıyoruz.\n",
    "\n",
    "#dir(con)"
   ]
  },
  {
   "cell_type": "code",
   "execution_count": 6,
   "metadata": {},
   "outputs": [
    {
     "data": {
      "text/plain": [
       "<sqlite3.Cursor at 0x2c338976ec0>"
      ]
     },
     "execution_count": 6,
     "metadata": {},
     "output_type": "execute_result"
    }
   ],
   "source": [
    "#sql sorgusu çalıştırmamızı sağlar. Bir cursor nesnesi döner.\n",
    "con.execute(\"\"\"\n",
    "CREATE TABLE IF NOT EXISTS mesaj (\n",
    "    id int,\n",
    "    mesaj nvarchar(100)\n",
    ")\n",
    "\"\"\")"
   ]
  },
  {
   "cell_type": "code",
   "execution_count": null,
   "metadata": {},
   "outputs": [],
   "source": [
    "#tabloyu silmek için\n",
    "#con.execute(\"DROP TABLE IF EXISTS mesaj\")"
   ]
  },
  {
   "cell_type": "code",
   "execution_count": 7,
   "metadata": {},
   "outputs": [],
   "source": [
    "#satır insert edelim\n",
    "con.execute(\"INSERT INTO mesaj (id, mesaj) VALUES (1, '1. Kayıt')\")\n",
    "con.execute(\"INSERT INTO mesaj (id, mesaj) VALUES (2, '2. Kayıt')\")\n",
    "con.execute(\"INSERT INTO mesaj (id, mesaj) VALUES (3, '3. Kayıt')\")\n",
    "con.execute(\"INSERT INTO mesaj (id, mesaj) VALUES (4, '4. Kayıt')\")\n",
    "con.execute(\"INSERT INTO mesaj (id, mesaj) VALUES (5, '5. Kayıt')\")\n",
    "\n",
    "#veritabanlarında auto commit özelilği olmayabilir. Açık olmayaabilir.\n",
    "con.commit() #değişiklikleri kalıcı hale getirir. commit edilmezse oturum kapatıldığında rollback yapılır.\n",
    "#con.rollback() #yapılan işlemleri geri alır."
   ]
  },
  {
   "cell_type": "code",
   "execution_count": 8,
   "metadata": {},
   "outputs": [],
   "source": [
    "#kayıtları okuyalım\n",
    "'''\n",
    "imlec = con.cursor() #önce imlec nesnesi oluşsun \n",
    "imlec.execute(\"SELECT * FROM mesaj\") #aynı imlec ile farklı sorgular çalıştırılabilir.\n",
    "'''\n",
    "\n",
    "imlec = con.execute(\"SELECT * FROM mesaj LIMIT 2\") #üstten 2 satır alsın."
   ]
  },
  {
   "cell_type": "code",
   "execution_count": 9,
   "metadata": {},
   "outputs": [
    {
     "data": {
      "text/plain": [
       "(('id', None, None, None, None, None, None),\n",
       " ('mesaj', None, None, None, None, None, None))"
      ]
     },
     "execution_count": 9,
     "metadata": {},
     "output_type": "execute_result"
    }
   ],
   "source": [
    "#imlec hakknda bilgi alalım\n",
    "imlec.description #alanlar hakkında bilgi verir."
   ]
  },
  {
   "cell_type": "code",
   "execution_count": 10,
   "metadata": {},
   "outputs": [
    {
     "name": "stdout",
     "output_type": "stream",
     "text": [
      "['id', 'mesaj']\n"
     ]
    }
   ],
   "source": [
    "#kolon isimlerii alalım.\n",
    "kolonAd = [kolon[0] for kolon in imlec.description]\n",
    "print(kolonAd)"
   ]
  },
  {
   "cell_type": "code",
   "execution_count": 11,
   "metadata": {},
   "outputs": [
    {
     "data": {
      "text/plain": [
       "[(1, '1. Kayıt'), (2, '2. Kayıt')]"
      ]
     },
     "execution_count": 11,
     "metadata": {},
     "output_type": "execute_result"
    }
   ],
   "source": [
    "#satıları çekelim.\n",
    "satirlar = imlec.fetchall() #tüm satırları alır.\n",
    "satirlar"
   ]
  },
  {
   "cell_type": "code",
   "execution_count": 19,
   "metadata": {},
   "outputs": [
    {
     "name": "stdout",
     "output_type": "stream",
     "text": [
      "| id  |       mesaj        |\n",
      "---------------------------\n",
      "|  1  |      1. Kayıt      |\n",
      "|  2  |      2. Kayıt      |\n"
     ]
    }
   ],
   "source": [
    "#ekrana yazdıralım\n",
    "fmt=\"|{:^5}|{:^20}|\"\n",
    "print(fmt.format(*kolonAd))\n",
    "print(\"-\"*27)\n",
    "\n",
    "for satir in satirlar:\n",
    "    print(fmt.format(*satir))"
   ]
  },
  {
   "cell_type": "markdown",
   "metadata": {},
   "source": [
    "### Pandas ile Bağlanmak"
   ]
  },
  {
   "cell_type": "code",
   "execution_count": 20,
   "metadata": {},
   "outputs": [],
   "source": [
    "import sqlite3\n",
    "\n",
    "con = sqlite3.connect(\"./databases/mesajDB.db\")"
   ]
  },
  {
   "cell_type": "code",
   "execution_count": 21,
   "metadata": {},
   "outputs": [
    {
     "data": {
      "text/plain": [
       "pandas.core.frame.DataFrame"
      ]
     },
     "execution_count": 21,
     "metadata": {},
     "output_type": "execute_result"
    }
   ],
   "source": [
    "import pandas as pd\n",
    "\n",
    "df = pd.read_sql(\"SELECT * FROM mesaj\", con)  #sqlite connectionı verdik.\n",
    "\n",
    "type(df)"
   ]
  },
  {
   "cell_type": "code",
   "execution_count": 26,
   "metadata": {},
   "outputs": [
    {
     "data": {
      "text/plain": [
       "(5, 2)"
      ]
     },
     "execution_count": 26,
     "metadata": {},
     "output_type": "execute_result"
    }
   ],
   "source": [
    "df #tüm satırlar\n",
    "df.head(2) #üstten istenilen satır\n",
    "df.tail(2) #alttan istenilen satır\n",
    "\n",
    "df.sample(2) #rastgele satır\n",
    "\n",
    "#\n",
    "df.shape #5 satır 2 sutun"
   ]
  },
  {
   "cell_type": "code",
   "execution_count": 36,
   "metadata": {},
   "outputs": [],
   "source": [
    "con.close() #bağlantıyı kapatır."
   ]
  },
  {
   "cell_type": "markdown",
   "metadata": {},
   "source": [
    "#### MSSQL (veya Oracle) ile Çalışmak\n",
    "* MSSQL'a bağlanmak için `pyodbc` ve `pymssql`  kütüphanalerini kullanabiliriz.\n",
    "  * `pyodbc` MSSQL ve Oracle'a bağlanmak için kullanılabilir.\n",
    "  * `pymssql` sadece MSSQL için kullanılabilir.\n",
    "* MSSQL'de \n",
    "  * `pip install pyodbc` veya `pip install pymssql` ile kütüphaneleri yükleyin.\n",
    "  * `import pyodbc` veya `import pymssql` ile kütüphaneleri projenize dahil edin.\n",
    "  * `pyodbc.connect(\"baglantiCumlesi\")` Driver bilsini verip bağlantı cümlesi oluşturacağız.\n",
    "* Oracle'da\n",
    "  * `pip install cx_Oracle` ile kütüphaneyi yükleyin.\n",
    "  * `import cx_Oracle` ile kütüphaneyi projenize dahil edin.\n",
    "  * `cx_Oracle.connect(\"baglantiCumlesi\")` ile bağlantı cümlesi oluşturacağız."
   ]
  },
  {
   "cell_type": "code",
   "execution_count": 38,
   "metadata": {},
   "outputs": [],
   "source": [
    "import pyodbc"
   ]
  },
  {
   "cell_type": "code",
   "execution_count": 39,
   "metadata": {},
   "outputs": [
    {
     "data": {
      "text/plain": [
       "['SQL Server',\n",
       " 'SQL Server Native Client 11.0',\n",
       " 'SQL Server Native Client RDA 11.0',\n",
       " 'Microsoft Access dBASE Driver (*.dbf, *.ndx, *.mdx)',\n",
       " 'Oracle in OraDB19Home1',\n",
       " 'ODBC Driver 17 for SQL Server',\n",
       " 'Microsoft Access Driver (*.mdb, *.accdb)',\n",
       " 'Microsoft Excel Driver (*.xls, *.xlsx, *.xlsm, *.xlsb)',\n",
       " 'Microsoft Access Text Driver (*.txt, *.csv)']"
      ]
     },
     "execution_count": 39,
     "metadata": {},
     "output_type": "execute_result"
    }
   ],
   "source": [
    "pyodbc.drivers() #kurulu driverları listeler."
   ]
  },
  {
   "cell_type": "code",
   "execution_count": 40,
   "metadata": {},
   "outputs": [
    {
     "name": "stdout",
     "output_type": "stream",
     "text": [
      "Driver={ODBC Driver 17 for SQL Server};Server=localhost;Database=master;UID=sa;PWD=123;\n"
     ]
    }
   ],
   "source": [
    "#Driver={ODBC Driver 17 for SQL Server};Server=myServerAddress;Database=myDataBase;UID=myUsername;PWD=myPassword;\n",
    "#Driver={ODBC Driver 17 for SQL Server};Server=myServerAddress;Database=myDataBase;Trusted_Connection=yes;\n",
    "\n",
    "cnf = {\n",
    "        \"driver\": \"ODBC Driver 17 for SQL Server\",\n",
    "        \"server\": \"localhost\",\n",
    "        \"database\": \"master\",\n",
    "        \"user\": \"sa\",\n",
    "        \"password\": \"123\"\n",
    "}\n",
    "\n",
    "con_str=\"Driver={{{driver}}};Server={server};Database={database};UID={user};PWD={password};\".format_map(cnf)\n",
    "\n",
    "print(con_str)\n",
    "\n",
    "#baglantı kuralım.\n",
    "con = pyodbc.connect(con_str)"
   ]
  },
  {
   "cell_type": "code",
   "execution_count": 41,
   "metadata": {},
   "outputs": [],
   "source": [
    "imlec = con.execute(\"SELECT @@version\")"
   ]
  },
  {
   "cell_type": "code",
   "execution_count": 42,
   "metadata": {},
   "outputs": [
    {
     "data": {
      "text/plain": [
       "('Microsoft SQL Server 2019 (RTM-CU25-GDR) (KB5036335) - 15.0.4360.2 (X64) \\n\\tMar 19 2024 00:23:01 \\n\\tCopyright (C) 2019 Microsoft Corporation\\n\\tEnterprise Edition (64-bit) on Windows 10 Pro 10.0 <X64> (Build 19045: ) (Hypervisor)\\n',)"
      ]
     },
     "execution_count": 42,
     "metadata": {},
     "output_type": "execute_result"
    }
   ],
   "source": [
    "versiyon = imlec.fetchone()\n",
    "versiyon"
   ]
  },
  {
   "cell_type": "code",
   "execution_count": 43,
   "metadata": {},
   "outputs": [
    {
     "name": "stdout",
     "output_type": "stream",
     "text": [
      "Microsoft SQL Server 2019 (RTM-CU25-GDR) (KB5036335) - 15.0.4360.2 (X64) \n",
      "\tMar 19 2024 00:23:01 \n",
      "\tCopyright (C) 2019 Microsoft Corporation\n",
      "\tEnterprise Edition (64-bit) on Windows 10 Pro 10.0 <X64> (Build 19045: ) (Hypervisor)\n",
      "\n"
     ]
    }
   ],
   "source": [
    "print(versiyon[0])"
   ]
  },
  {
   "cell_type": "code",
   "execution_count": 44,
   "metadata": {},
   "outputs": [],
   "source": [
    "con.close() #bağlantıyı kapatır."
   ]
  }
 ],
 "metadata": {
  "kernelspec": {
   "display_name": "Python 3",
   "language": "python",
   "name": "python3"
  },
  "language_info": {
   "codemirror_mode": {
    "name": "ipython",
    "version": 3
   },
   "file_extension": ".py",
   "mimetype": "text/x-python",
   "name": "python",
   "nbconvert_exporter": "python",
   "pygments_lexer": "ipython3",
   "version": "3.11.3"
  }
 },
 "nbformat": 4,
 "nbformat_minor": 2
}
