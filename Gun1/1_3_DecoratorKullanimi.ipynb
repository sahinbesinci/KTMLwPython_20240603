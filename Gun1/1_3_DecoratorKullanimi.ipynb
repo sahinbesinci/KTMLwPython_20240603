{
 "cells": [
  {
   "cell_type": "markdown",
   "metadata": {},
   "source": [
    "## Decorator Kullanımı\n",
    "* Veritaabanındaki triggerlara benzer\n",
    "* Mesela bir fonksiyon çalıştırmak isteyelim.\n",
    "  * Fonksiyonun başında ve sonunda bir şeyler yapmak isteyebiliriz\n",
    "    * mesela o fonksiyon için log tutulabilir. fonksiyonun çalışma süresi kaydedilebilir.\n",
    "  * Fonksiyonun yerine başka bir iş yapmak isteyebiliriz.\n",
    "    * slime talebi gönderen fonksiyon yerine pasife alma işlemi yapabiliriz."
   ]
  },
  {
   "cell_type": "code",
   "execution_count": 12,
   "metadata": {},
   "outputs": [],
   "source": [
    "#decorator fonksiyon tanımlayalım. İstediğimiz fonksiyonu sarmalayacağız.\n",
    "def loglayici_decorator(fnk):\n",
    "    #------\n",
    "    #fnk parametresi talep edilen fonksiyonu tutar.\n",
    "    #------\n",
    "    #1.\n",
    "    #asıl fonksiyon çalıştıralım\n",
    "    #return fnk\n",
    "\n",
    "    #2.\n",
    "    #istediğimiz başka fonksiyonu çalıştıralım\n",
    "    #return lambda :\"merhaba ben decoratorden dönen fonksiyonum.\".upper() #geriye fonksiyon dönmelidir.\n",
    "\n",
    "\n",
    "    #3.\n",
    "    #yeni fonksiyonu tanımlayalım. BU yeni fonksiyon orjinal istenen fonksiyonu da sarmalasın ve çalıştırsın.\n",
    "    def fnk_calisacakFonksiyon():\n",
    "        print(\"loglayıcı fonksiyon çalıştı.\")\n",
    "        \n",
    "        #------------\n",
    "        fnk() #istenen asıl fonksiyondur.\n",
    "        #------------\n",
    "\n",
    "        print(\"loglayıcı fonksiyon bitti.\")\n",
    "\n",
    "    #\n",
    "    return fnk_calisacakFonksiyon #istenen fonksiyonu sarmalayan fonksiyonu döndürdük\n"
   ]
  },
  {
   "cell_type": "code",
   "execution_count": 13,
   "metadata": {},
   "outputs": [],
   "source": [
    "@loglayici_decorator #decorator fonksiyon kullandık.\n",
    "def istenenFonksiyon():\n",
    "    print(\">>> İstenen fonksiyon çalıştı <<<\")"
   ]
  },
  {
   "cell_type": "code",
   "execution_count": 14,
   "metadata": {},
   "outputs": [
    {
     "name": "stdout",
     "output_type": "stream",
     "text": [
      "loglayıcı fonksiyon çalıştı.\n",
      ">>> İstenen fonksiyon çalıştı <<<\n",
      "loglayıcı fonksiyon bitti.\n"
     ]
    }
   ],
   "source": [
    "istenenFonksiyon()"
   ]
  }
 ],
 "metadata": {
  "kernelspec": {
   "display_name": "Python 3",
   "language": "python",
   "name": "python3"
  },
  "language_info": {
   "codemirror_mode": {
    "name": "ipython",
    "version": 3
   },
   "file_extension": ".py",
   "mimetype": "text/x-python",
   "name": "python",
   "nbconvert_exporter": "python",
   "pygments_lexer": "ipython3",
   "version": "3.11.3"
  }
 },
 "nbformat": 4,
 "nbformat_minor": 2
}
