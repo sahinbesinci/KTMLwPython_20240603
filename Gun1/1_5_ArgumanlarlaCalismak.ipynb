{
 "cells": [
  {
   "cell_type": "markdown",
   "metadata": {},
   "source": [
    "## Argumanlarla Çalışmak\n",
    "* Argümanlar, bir programın çalıştırılırken alabileceği değerlerdir.\n",
    "* Argümanlar, programın çalıştırıldığı terminal penceresine yazılan değerlerdir.\n",
    "### `sys.argv` kullanarak argümanlarla çalışmak\n",
    "* Dışarından gelen değeri yakalayabiliriz. Değerlerin girilmesi opsiyoneldir.\n",
    "* Terminalden program aşağıdaki şekilde çalıştırılabilir. Gönderilen argumanlar program içerisinden `sys.argv` ile liste şeklinde yakalanabilir.\n",
    "    ```terminal\n",
    "    python scriptDoaysi.py arguman1, arguman2\n",
    "    ```\n",
    "* `sys.argv` listesinin ilk elemanı programın adı sonrakiler girilen argumanlar olur\n",
    "\n",
    "    "
   ]
  },
  {
   "cell_type": "code",
   "execution_count": 2,
   "metadata": {},
   "outputs": [],
   "source": [
    "import os\n",
    "os.makedirs(\"argumanliProgramlarKlasoru\",exist_ok=\"True\")"
   ]
  },
  {
   "cell_type": "code",
   "execution_count": 6,
   "metadata": {},
   "outputs": [
    {
     "name": "stdout",
     "output_type": "stream",
     "text": [
      "Overwriting argumanliProgramlarKlasoru/sysIleArgumanYakala.py\n"
     ]
    }
   ],
   "source": [
    "%%writefile argumanliProgramlarKlasoru/sysIleArgumanYakala.py\n",
    "\n",
    "#%%writefile ile hücre içeriğini dosya basıyoruz.\n",
    "#python sysIleArgumanYakala.py elma, karpuz, kiraz\n",
    "import sys\n",
    "\n",
    "print(\"Arguman listesinin eleman sayısı\",len(sys.argv))\n",
    "print(\"Programın adı:\",sys.argv[0])\n",
    "print(\"Programın argumanları\", sys.argv[1:]) #slicer ile diğer elemanları alalım."
   ]
  },
  {
   "cell_type": "markdown",
   "metadata": {},
   "source": [
    "### `argparse` modulu ile arguman yakalayalım\n",
    "* Dışarında gelen değerleri daha düzenli bir şekilde yakalayabiliriz. Arguman girmek zorunludur."
   ]
  },
  {
   "cell_type": "code",
   "execution_count": 1,
   "metadata": {},
   "outputs": [
    {
     "name": "stdout",
     "output_type": "stream",
     "text": [
      "Overwriting argumanliProgramlarKlasoru/argparseIleArgumanYakala.py\n"
     ]
    }
   ],
   "source": [
    "%%writefile argumanliProgramlarKlasoru/argparseIleArgumanYakala.py\n",
    "\n",
    "#%%writefile ile hücre içeriğini dosya basıyoruz.\n",
    "#python argparseIleArgumanYakala.py 1.3, \"C:\\\\sonuc.txt\"\n",
    "#python argparseIleArgumanYakala.py a_lambda=1.3, a_yol\"C:\\\\sonuc.txt\" --> parametre adını kullandı. metavar olarak ifade edilr.\n",
    "import argparse\n",
    "\n",
    "my_parser = argparse.ArgumentParser(description=\"Argumanları yakalama programı ....\")\n",
    "\n",
    "#argumanları tanımlayalım.\n",
    "my_parser.add_argument('--a_yol',  #metaver. dışarıdan arguman girerken kullanılacak isim.\n",
    "                        type=str, \n",
    "                        help='Yol bilgisi',\n",
    "                        required=True)  #required=True zorunlu olmasını sağlar.\n",
    "my_parser.add_argument('--a_lambda', type=float, help='Lambda değeri')\n",
    "\n",
    "#\n",
    "#argumanları okuyalım.\n",
    "my_argumans = my_parser.parse_args()# argumanları python nesnelrine parse etmemizi dönüştürmemizi sağlıyor\n",
    "\n",
    "#\n",
    "print(my_argumans)\n",
    "print(f\"Giriş yapılan yol {my_argumans.a_yol} ve Lambda değeri {my_argumans.a_lambda}\") #arguman değerlerine ulaşabiliriz."
   ]
  }
 ],
 "metadata": {
  "kernelspec": {
   "display_name": "Python 3",
   "language": "python",
   "name": "python3"
  },
  "language_info": {
   "codemirror_mode": {
    "name": "ipython",
    "version": 3
   },
   "file_extension": ".py",
   "mimetype": "text/x-python",
   "name": "python",
   "nbconvert_exporter": "python",
   "pygments_lexer": "ipython3",
   "version": "3.11.3"
  }
 },
 "nbformat": 4,
 "nbformat_minor": 2
}
