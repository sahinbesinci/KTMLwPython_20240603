{
 "cells": [
  {
   "cell_type": "markdown",
   "metadata": {},
   "source": [
    "## Nesne Tabanlı Programlama\n",
    "![OOPTemelleri.png](OOPTemelleri.png)"
   ]
  },
  {
   "cell_type": "markdown",
   "metadata": {},
   "source": [
    "---\n",
    "### Seviye 1: Class ve public, static üyeler\n",
    "---"
   ]
  },
  {
   "cell_type": "code",
   "execution_count": 1,
   "metadata": {},
   "outputs": [],
   "source": [
    "# araba iskelet/form/şablon/tip tanımlayalım\n",
    "class araba:\n",
    "    #attribute\n",
    "    #public attribute: yani class dışından erişilebilir.\n",
    "    marka = \"Audi\" #varsayılan değer verelim.\n",
    "    model = None\n",
    "    yil = None"
   ]
  },
  {
   "cell_type": "code",
   "execution_count": 6,
   "metadata": {},
   "outputs": [
    {
     "name": "stdout",
     "output_type": "stream",
     "text": [
      "Marka: Audi\n",
      "Model: A1\n",
      "Yıl: 2024\n"
     ]
    }
   ],
   "source": [
    "#print(type(araba)) # <class 'type'>\n",
    "\n",
    "# tipten bir nesne örneği üretelim\n",
    "a1 = araba() #() yapıcı metodu(fonksiyon) çağırır.\n",
    "\n",
    "#public ueylere erişelim ve değer basalım\n",
    "a1.marka\n",
    "a1.model = \"A1\"\n",
    "a1.yil = 2024\n",
    "\n",
    "#tüm bilgileri ekrana yazdıralım\n",
    "print(f\"Marka: {a1.marka}\\nModel: {a1.model}\\nYıl: {a1.yil}\")"
   ]
  },
  {
   "cell_type": "markdown",
   "metadata": {},
   "source": [
    "---\n",
    "### Seviye 2: Methot ve self kelimesi\n",
    "---"
   ]
  },
  {
   "cell_type": "code",
   "execution_count": 7,
   "metadata": {},
   "outputs": [],
   "source": [
    "# araba iskelet/form/şablon/tip tanımlayalım\n",
    "class araba:\n",
    "    #attribute\n",
    "    #public attribute: yani class dışından erişilebilir.\n",
    "    marka = \"Audi\" #varsayılan değer verelim.\n",
    "    model = None\n",
    "    yil = None\n",
    "\n",
    "    #----------------\n",
    "    #fonksiyonlar class içerisinde tanımlandığında methot adını alır.\n",
    "    #ilk parametresi self olmak zorundadır. Self, o anki nesne örneğini temsil eder.\n",
    "    def sur(self, kilometre):\n",
    "        print(\"{} markalı {} modelli araba ile {} km yol gittiniz\".format(self.marka, self.model, kilometre))\n",
    "\n",
    "        #\n",
    "        #yavaşlatalım\n",
    "        import time\n",
    "        for i in range(kilometre):\n",
    "            time.sleep(0.5) #0.5 saniye bekle\n",
    "            print(f\"---> Vı{'n'*i}\")"
   ]
  },
  {
   "cell_type": "code",
   "execution_count": 8,
   "metadata": {},
   "outputs": [
    {
     "name": "stdout",
     "output_type": "stream",
     "text": [
      "Audi markalı A2 modelli araba ile 5 km yol gittiniz\n",
      "---> Vı\n",
      "---> Vın\n",
      "---> Vınn\n",
      "---> Vınnn\n",
      "---> Vınnnn\n"
     ]
    }
   ],
   "source": [
    "a2 = araba()\n",
    "\n",
    "#\n",
    "a2.model = \"A2\"\n",
    "a2.yil = 2024\n",
    "\n",
    "#\n",
    "a2.sur(5)"
   ]
  },
  {
   "cell_type": "markdown",
   "metadata": {},
   "source": [
    "---\n",
    "### Seviye 3: Private üyeler, dynamic üyeler, constructor metot ve diğer magic metotlar\n",
    "---"
   ]
  },
  {
   "cell_type": "code",
   "execution_count": 36,
   "metadata": {},
   "outputs": [],
   "source": [
    "# araba iskelet/form/şablon/tip tanımlayalım\n",
    "class araba:\n",
    "    \"\"\"\n",
    "        Üyelere className.uyeName veya objectName.uyeName şeklinde erişebiliriz.\n",
    "            * static üyeler: \n",
    "                - class tanımına ait üyelerdir. Static üyeler diğer programlama dillerinde class adı üzreinden erişilir. \n",
    "                - Fakat pythonda her iki şekilde de erişilebiliyor.\n",
    "                - static üyeler tanımlanırken self ifadesi kullanılmaz.\n",
    "            * instance üyeler (dynamic):\n",
    "                - Nesne örneğine ait üyelerdir.\n",
    "                - objectName.uyeName şeklinde erişilir.\n",
    "                - tanımında self ifadesi geçer.\n",
    "    \"\"\"\n",
    "    #-------------------------------------------------------------------\n",
    "    \"\"\"\n",
    "        class seviyesinde tanımlanan üyeler static (class) üyelerdir.\n",
    "            - statictic\n",
    "            - __ kullanılmadığı için publictir.\n",
    "    \"\"\"\n",
    "\n",
    "    #attribute\n",
    "    #public attribute: yani class dışından erişilebilir.\n",
    "    marka = \"Audi\" #varsayılan değer verelim.\n",
    "    model = None\n",
    "    yil = None\n",
    "\n",
    "    #-------------------------------------------------------------------\n",
    "    \"\"\"\n",
    "        class seviyesinde tanımlanan üyeler static (class) üyelerdir.\n",
    "            - statictic\n",
    "            - __ kullanıldığı için private'tır.\n",
    "    \"\"\"\n",
    "    #private üyeleri tanımlamak için iki alt çizgi __ kullanırız. dışarıdan erişilemez. sadece class içerisinde kullanılabilir.\n",
    "    __uretilenAracMiktari = 0\n",
    "\n",
    "    #-------------------------------------------------------------------\n",
    "    #fonksiyonlar class içerisinde tanımlandığında methot adını alır.\n",
    "    #ilk parametresi self olmak zorundadır. Self, o anki nesne örneğini temsil eder.\n",
    "    def sur(self, kilometre):\n",
    "        print(\"{} markalı {} modelli araba ile {} km yol gittiniz\".format(self.marka, self.model, kilometre))\n",
    "\n",
    "        #\n",
    "        #yavaşlatalım\n",
    "        import time\n",
    "        for i in range(kilometre):\n",
    "            time.sleep(0.5) #0.5 saniye bekle\n",
    "            print(f\"---> Vı{'n'*i}\")\n",
    "\n",
    "\n",
    "    #-------------------------------------------------------------------\n",
    "    #constructor (yapıcı metot)\n",
    "    def __init__(self, Marka, Model = None, Yil=2024, Renk=None ):\n",
    "\n",
    "        #marka, model, yil attribuleri class seviyesinde tanımlıdır. self nesne örneğini temsil eder.\n",
    "        self.marka = Marka\n",
    "        self.model = Model\n",
    "        self.yil = Yil\n",
    "\n",
    "        #\n",
    "        self.renk = Renk # bu değişken burada tanımlandı. Bu nedenle instance üyesidir. self ifadesi ile tanımlandı.\n",
    "\n",
    "        #\n",
    "        #private üyenin değerini burada değiştirelim. Her araç üretildiğüinde 1 arttıralım.\n",
    "        araba.__uretilenAracMiktari += 1 #static (class) üyedir. tipe aittir.\n",
    "    #-------------------------------------------------------------------\n",
    "    @staticmethod #decorator, sayesinde static metot oluşturulur.\n",
    "    def kacAdetUretildi():\n",
    "        return araba.__uretilenAracMiktari\n",
    "    \n",
    "    #-------------------------------------------------------------------\n",
    "    def __del__(self):\n",
    "        #print(\"Araba nesnesi silindi\")\n",
    "        araba.__uretilenAracMiktari -= 1 #nesne örneği silindiğinde üretilen araç sayısını azaltalım.\n",
    "    \n",
    "    #-------------------------------------------------------------------\n",
    "    def __str__(self) -> str:\n",
    "        return \"{} markalı {} model araç {} yılında üretildi.\" .format(self.marka, self.model,self.yil)\n",
    "    "
   ]
  },
  {
   "cell_type": "code",
   "execution_count": 39,
   "metadata": {},
   "outputs": [
    {
     "data": {
      "text/plain": [
       "0"
      ]
     },
     "execution_count": 39,
     "metadata": {},
     "output_type": "execute_result"
    }
   ],
   "source": [
    "a3 = araba(Marka=\"Audi\", Model=\"A3\", Yil=2024, Renk=\"Kırmızı\")\n",
    "\n",
    "#a3.sur(5)\n",
    "\n",
    "\n",
    "#\n",
    "#araba.__uretilenAracMiktari ##HATA private olduğu için erişilemez\n",
    "araba.kacAdetUretildi()\n",
    "a3.kacAdetUretildi() \n",
    "#Pythonda static üyeler nesne ve nesne örneği üzerinden erişilebilir."
   ]
  },
  {
   "cell_type": "code",
   "execution_count": 40,
   "metadata": {},
   "outputs": [
    {
     "data": {
      "text/plain": [
       "0"
      ]
     },
     "execution_count": 40,
     "metadata": {},
     "output_type": "execute_result"
    }
   ],
   "source": [
    "a4 = araba(Marka=\"Audi\", Model=\"A4\", Yil=2024, Renk=\"Mavi\")\n",
    "\n",
    "#\n",
    "araba.kacAdetUretildi()\n",
    "\n",
    "#__init__ metodu çağrıldığında __uretilenAracMiktari 1 arttırıldı.\n",
    "#silindiğinde __del__ metotu devreye girdi ve __uretilenAracMiktari 1 azaltıldı."
   ]
  },
  {
   "cell_type": "code",
   "execution_count": 41,
   "metadata": {},
   "outputs": [
    {
     "name": "stdout",
     "output_type": "stream",
     "text": [
      "Audi markalı A4 model araç 2024 yılında üretildi.\n"
     ]
    }
   ],
   "source": [
    "print(a4)# __str__ metodu çağrıldı."
   ]
  },
  {
   "cell_type": "markdown",
   "metadata": {},
   "source": [
    "---\n",
    "### Seviye 4. Private ve Instance nesneler\n",
    "---"
   ]
  },
  {
   "cell_type": "code",
   "execution_count": 45,
   "metadata": {},
   "outputs": [],
   "source": [
    "# araba iskelet/form/şablon/tip tanımlayalım\n",
    "class araba:\n",
    "    \"\"\"\n",
    "        Üyelere className.uyeName veya objectName.uyeName şeklinde erişebiliriz.\n",
    "            * static üyeler: \n",
    "                - class tanımına ait üyelerdir. Static üyeler diğer programlama dillerinde class adı üzreinden erişilir. \n",
    "                - Fakat pythonda her iki şekilde de erişilebiliyor.\n",
    "                - static üyeler tanımlanırken self ifadesi kullanılmaz.\n",
    "            * instance üyeler (dynamic):\n",
    "                - Nesne örneğine ait üyelerdir.\n",
    "                - objectName.uyeName şeklinde erişilir.\n",
    "                - tanımında self ifadesi geçer.\n",
    "    \"\"\"\n",
    "    #-------------------------------------------------------------------\n",
    "    \"\"\"\n",
    "        class seviyesinde tanımlanan üyeler static (class) üyelerdir.\n",
    "            - statictic\n",
    "            - __ kullanılmadığı için publictir.\n",
    "    \"\"\"\n",
    "\n",
    "    #attribute\n",
    "    #public attribute: yani class dışından erişilebilir.\n",
    "    marka = \"Audi\" #varsayılan değer verelim.\n",
    "    model = None\n",
    "    yil = None\n",
    "\n",
    "    #-------------------------------------------------------------------\n",
    "    \"\"\"\n",
    "        class seviyesinde tanımlanan üyeler static (class) üyelerdir.\n",
    "            - statictic\n",
    "            - __ kullanıldığı için private'tır.\n",
    "    \"\"\"\n",
    "    #private üyeleri tanımlamak için iki alt çizgi __ kullanırız. dışarıdan erişilemez. sadece class içerisinde kullanılabilir.\n",
    "    __uretilenAracMiktari = 0\n",
    "\n",
    "    #---------------\n",
    "    #__enerjiSeviyesi = 0 #burada tanımlarsak bütün araçların deposu ortak gibi olur.\n",
    "    __enerjiTipi = \"\"\n",
    "    __enerjiKapasitesi = 0\n",
    "    #-------------------------------------------------------------------\n",
    "    #fonksiyonlar class içerisinde tanımlandığında methot adını alır.\n",
    "    #ilk parametresi self olmak zorundadır. Self, o anki nesne örneğini temsil eder.\n",
    "    def sur(self, kilometre):\n",
    "        print(\"{} markalı {} modelli araba ile {} km yol gittiniz\".format(self.marka, self.model, kilometre))\n",
    "\n",
    "        #\n",
    "        #yavaşlatalım\n",
    "        import time\n",
    "        for i in range(kilometre):\n",
    "            time.sleep(0.5) #0.5 saniye bekle\n",
    "            print(f\"---> Vı{'n'*i}\")\n",
    "\n",
    "\n",
    "    #-------------------------------------------------------------------\n",
    "    #constructor (yapıcı metot)\n",
    "    def __init__(self, Marka, Model = None, Yil=2024, Renk=None ):\n",
    "\n",
    "        #marka, model, yil attribuleri class seviyesinde tanımlıdır. self nesne örneğini temsil eder.\n",
    "        self.marka = Marka\n",
    "        self.model = Model\n",
    "        self.yil = Yil\n",
    "\n",
    "        #\n",
    "        self.renk = Renk # bu değişken burada tanımlandı. Bu nedenle instance üyesidir. self ifadesi ile tanımlandı.\n",
    "\n",
    "        #\n",
    "        #private üyenin değerini burada değiştirelim. Her araç üretildiğüinde 1 arttıralım.\n",
    "        araba.__uretilenAracMiktari += 1 #static (class) üyedir. tipe aittir.\n",
    "\n",
    "        #\n",
    "        self.__enerjiSeviyesi = 0 #her araç için enerji seviyesi ayrı ayrı olmalıdır. #private ve instance üye\n",
    "    #-------------------------------------------------------------------\n",
    "    @staticmethod #decorator, sayesinde static metot oluşturulur.\n",
    "    def kacAdetUretildi():\n",
    "        return araba.__uretilenAracMiktari\n",
    "    \n",
    "    #-------------------------------------------------------------------\n",
    "    def __del__(self):\n",
    "        #print(\"Araba nesnesi silindi\")\n",
    "        araba.__uretilenAracMiktari -= 1 #nesne örneği silindiğinde üretilen araç sayısını azaltalım.\n",
    "    \n",
    "    #-------------------------------------------------------------------\n",
    "    def __str__(self) -> str:\n",
    "        return \"{} markalı {} model araç {} yılında üretildi.\" .format(self.marka, self.model,self.yil)\n",
    "    \n",
    "    #-------------------------------------------------------------------\n",
    "    def enerji(self, **enrj):\n",
    "        #** ile tanımlı parametreler sınırsız sayıda key:value çifti alabilir.\n",
    "        self.__enerjiTipi = \"~\" + enrj.get(\"tip\", \"Benzin\") #get foksiyonu key varsa döndürür yoksa None veya varsayılan değeri döndürür.\n",
    "        self.__enerjiKapasitesi = enrj.get(\"kapasite\", 50) #varsayılan değer 50\n",
    "\n",
    "    #-------------------------------------------------------------------\n",
    "    def enerjiDoldur(self, miktar):\n",
    "        print(f\"{self.__enerjiTipi} doluyor....\")\n",
    "\n",
    "        #\n",
    "        import time\n",
    "\n",
    "        time.sleep(3) #1 saniye bekle\n",
    "\n",
    "        #\n",
    "        self.__enerjiSeviyesi += miktar \n",
    "\n",
    "        #\n",
    "        if self.__enerjiSeviyesi > self.__enerjiKapasitesi:\n",
    "            self.__enerjiSeviyesi = self.__enerjiKapasitesi\n",
    "            print(f\"{self.__enerjiTipi} FULL ....\")\n",
    "        \n",
    "        #\n",
    "        print(f\"Dolum tamamlandı. {self.__enerjiSeviyesi}/{self.__enerjiKapasitesi}\")   "
   ]
  },
  {
   "cell_type": "code",
   "execution_count": 46,
   "metadata": {},
   "outputs": [],
   "source": [
    "a5 = araba(Marka=\"Audi\", Model=\"A5\", Yil=2024, Renk=\"Siyah\")\n",
    "a5.enerji(tip=\"Benzin\",kapasite=60)"
   ]
  },
  {
   "cell_type": "code",
   "execution_count": 50,
   "metadata": {},
   "outputs": [
    {
     "name": "stdout",
     "output_type": "stream",
     "text": [
      "~Benzin doluyor....\n"
     ]
    },
    {
     "name": "stdout",
     "output_type": "stream",
     "text": [
      "~Benzin FULL ....\n",
      "Dolum tamamlandı. 60/60\n"
     ]
    }
   ],
   "source": [
    "a5.enerjiDoldur(20)"
   ]
  },
  {
   "cell_type": "markdown",
   "metadata": {},
   "source": [
    "---\n",
    "### Seviye 5 : Propery Tanımlama\n",
    "---"
   ]
  },
  {
   "cell_type": "code",
   "execution_count": 51,
   "metadata": {},
   "outputs": [],
   "source": [
    "# araba iskelet/form/şablon/tip tanımlayalım\n",
    "class araba:\n",
    "    \"\"\"\n",
    "        Üyelere className.uyeName veya objectName.uyeName şeklinde erişebiliriz.\n",
    "            * static üyeler: \n",
    "                - class tanımına ait üyelerdir. Static üyeler diğer programlama dillerinde class adı üzreinden erişilir. \n",
    "                - Fakat pythonda her iki şekilde de erişilebiliyor.\n",
    "                - static üyeler tanımlanırken self ifadesi kullanılmaz.\n",
    "            * instance üyeler (dynamic):\n",
    "                - Nesne örneğine ait üyelerdir.\n",
    "                - objectName.uyeName şeklinde erişilir.\n",
    "                - tanımında self ifadesi geçer.\n",
    "    \"\"\"\n",
    "    #-------------------------------------------------------------------\n",
    "    \"\"\"\n",
    "        class seviyesinde tanımlanan üyeler static (class) üyelerdir.\n",
    "            - statictic\n",
    "            - __ kullanılmadığı için publictir.\n",
    "    \"\"\"\n",
    "\n",
    "    #attribute\n",
    "    #public attribute: yani class dışından erişilebilir.\n",
    "    marka = \"Audi\" #varsayılan değer verelim.\n",
    "    model = None\n",
    "    yil = None\n",
    "\n",
    "    #-------------------------------------------------------------------\n",
    "    \"\"\"\n",
    "        class seviyesinde tanımlanan üyeler static (class) üyelerdir.\n",
    "            - statictic\n",
    "            - __ kullanıldığı için private'tır.\n",
    "    \"\"\"\n",
    "    #private üyeleri tanımlamak için iki alt çizgi __ kullanırız. dışarıdan erişilemez. sadece class içerisinde kullanılabilir.\n",
    "    __uretilenAracMiktari = 0\n",
    "\n",
    "    #---------------\n",
    "    #__enerjiSeviyesi = 0 #burada tanımlarsak bütün araçların deposu ortak gibi olur.\n",
    "    __enerjiTipi = \"\"\n",
    "    __enerjiKapasitesi = 0\n",
    "    #-------------------------------------------------------------------\n",
    "\n",
    "    \"\"\"\n",
    "        Property:\n",
    "        property sayesinde bir attirebute değer atama veya değer okuma talebi kontrol altında tutulabilir.\n",
    "        Fonksiyonlar yardımıyla yazma okumaya müdehale edilebili.r\n",
    "        Bunun için fget, fset, fdel ve fdoc metotları tanımlanır.\n",
    "    \"\"\"\n",
    "    #fset fonksiyonu olacak\n",
    "    def fset_ekOzelikler(self, ozellikler):\n",
    "        #__ekOzelliklerLisesi instance(dynamic) ve priate attribute olarak tanımlandı.\n",
    "        #dynamic attribteulerin __init__ metotu içreisinde tanımlanması gerekir.\n",
    "        self.__ekOzelliklerLisesi = [o.upper() for o in ozellikler] #gelenleri büyük harflerle tutalım.\n",
    "    def fget_ekOzelikler(self):\n",
    "        return \"--> \\n\"+str.join(\"\\n\",self.__ekOzelliklerLisesi) \n",
    "\n",
    "    #fget ve fset fonksiyonlarınu kullanarak çalışan propery tanımlayalım\n",
    "    ekOzellikler = property(fget=fget_ekOzelikler, fset=fset_ekOzelikler) #property tanımladık.\n",
    "\n",
    "\n",
    "    #-------------------------------------------------------------------\n",
    "    #fonksiyonlar class içerisinde tanımlandığında methot adını alır.\n",
    "    #ilk parametresi self olmak zorundadır. Self, o anki nesne örneğini temsil eder.\n",
    "    def sur(self, kilometre):\n",
    "        print(\"{} markalı {} modelli araba ile {} km yol gittiniz\".format(self.marka, self.model, kilometre))\n",
    "\n",
    "        #\n",
    "        #yavaşlatalım\n",
    "        import time\n",
    "        for i in range(kilometre):\n",
    "            time.sleep(0.5) #0.5 saniye bekle\n",
    "            print(f\"---> Vı{'n'*i}\")\n",
    "\n",
    "\n",
    "    #-------------------------------------------------------------------\n",
    "    #constructor (yapıcı metot)\n",
    "    def __init__(self, Marka, Model = None, Yil=2024, Renk=None ):\n",
    "\n",
    "        #marka, model, yil attribuleri class seviyesinde tanımlıdır. self nesne örneğini temsil eder.\n",
    "        self.marka = Marka\n",
    "        self.model = Model\n",
    "        self.yil = Yil\n",
    "\n",
    "        #\n",
    "        self.renk = Renk # bu değişken burada tanımlandı. Bu nedenle instance üyesidir. self ifadesi ile tanımlandı.\n",
    "\n",
    "        #\n",
    "        #private üyenin değerini burada değiştirelim. Her araç üretildiğüinde 1 arttıralım.\n",
    "        araba.__uretilenAracMiktari += 1 #static (class) üyedir. tipe aittir.\n",
    "\n",
    "        #\n",
    "        self.__enerjiSeviyesi = 0 #her araç için enerji seviyesi ayrı ayrı olmalıdır. #private ve instance üye\n",
    "\n",
    "        #\n",
    "        \"\"\"\n",
    "            dynamic(instance) üyeleri tanımlamak için self kullanırız ve __init__ metotu içerisinde tanımlanır.\n",
    "        \"\"\"\n",
    "        self.__ekOzelliklerLisesi=[]\n",
    "    #-------------------------------------------------------------------\n",
    "    @staticmethod #decorator, sayesinde static metot oluşturulur.\n",
    "    def kacAdetUretildi():\n",
    "        return araba.__uretilenAracMiktari\n",
    "    \n",
    "    #-------------------------------------------------------------------\n",
    "    def __del__(self):\n",
    "        #print(\"Araba nesnesi silindi\")\n",
    "        araba.__uretilenAracMiktari -= 1 #nesne örneği silindiğinde üretilen araç sayısını azaltalım.\n",
    "    \n",
    "    #-------------------------------------------------------------------\n",
    "    def __str__(self) -> str:\n",
    "        return \"{} markalı {} model araç {} yılında üretildi.\" .format(self.marka, self.model,self.yil)\n",
    "    \n",
    "    #-------------------------------------------------------------------\n",
    "    def enerji(self, **enrj):\n",
    "        #** ile tanımlı parametreler sınırsız sayıda key:value çifti alabilir.\n",
    "        self.__enerjiTipi = \"~\" + enrj.get(\"tip\", \"Benzin\") #get foksiyonu key varsa döndürür yoksa None veya varsayılan değeri döndürür.\n",
    "        self.__enerjiKapasitesi = enrj.get(\"kapasite\", 50) #varsayılan değer 50\n",
    "\n",
    "    #-------------------------------------------------------------------\n",
    "    def enerjiDoldur(self, miktar):\n",
    "        print(f\"{self.__enerjiTipi} doluyor....\")\n",
    "\n",
    "        #\n",
    "        import time\n",
    "\n",
    "        time.sleep(3) #1 saniye bekle\n",
    "\n",
    "        #\n",
    "        self.__enerjiSeviyesi += miktar \n",
    "\n",
    "        #\n",
    "        if self.__enerjiSeviyesi > self.__enerjiKapasitesi:\n",
    "            self.__enerjiSeviyesi = self.__enerjiKapasitesi\n",
    "            print(f\"{self.__enerjiTipi} FULL ....\")\n",
    "        \n",
    "        #\n",
    "        print(f\"Dolum tamamlandı. {self.__enerjiSeviyesi}/{self.__enerjiKapasitesi}\")   "
   ]
  },
  {
   "cell_type": "code",
   "execution_count": 52,
   "metadata": {},
   "outputs": [],
   "source": [
    "a6 = araba(Marka=\"Audi\", Model=\"A6\", Yil=2024, Renk=\"Beyaz\")\n",
    "a6.enerji(tip=\"Dizel\", kapasite=60)\n",
    "\n",
    "#\n",
    "a6.ekOzellikler = [\"Koltuk ısıtmat\",\"sunroof\",\"Navigasyon\"] #fset fonksiyonu devreye girer."
   ]
  },
  {
   "cell_type": "code",
   "execution_count": 53,
   "metadata": {},
   "outputs": [
    {
     "name": "stdout",
     "output_type": "stream",
     "text": [
      "--> \n",
      "KOLTUK ISITMAT\n",
      "SUNROOF\n",
      "NAVIGASYON\n"
     ]
    }
   ],
   "source": [
    "print(a6.ekOzellikler) #fget fonksiyonu devreye girdi."
   ]
  },
  {
   "cell_type": "markdown",
   "metadata": {},
   "source": [
    "---\n",
    "### Seviye 6 : Katltım\n",
    "---"
   ]
  },
  {
   "cell_type": "code",
   "execution_count": 54,
   "metadata": {},
   "outputs": [],
   "source": [
    "class yerliMilliArac(araba): #(araba) ile araba sınıfından kalıttık. Yani araba sınıfnın özelliklerini sağlayan yeni bir sınıf yaptık.\n",
    "    #araba sınıfı super sınıf\n",
    "    #yerliMilliArac base sınıf\n",
    "\n",
    "    uretici = \"Türkiye\"\n",
    "    ekip = \"Genç Mühendisler\"\n",
    "\n",
    "    #\n",
    "    def enerji(self, **enrj):\n",
    "        #return super().enerji(**enrj) #gelen bilgieri super (araba) sınıfındaki metota iletir.\n",
    "        return super().enerji(tip=\"Elektirikli\", kapasite=100)"
   ]
  },
  {
   "cell_type": "code",
   "execution_count": 56,
   "metadata": {},
   "outputs": [
    {
     "name": "stdout",
     "output_type": "stream",
     "text": [
      "Togg markalı T1 model araç 2024 yılında üretildi.\n"
     ]
    }
   ],
   "source": [
    "t1 = yerliMilliArac(Marka=\"Togg\", Model=\"T1\",Renk=\"Kırmızı\")\n",
    "t1.ekOzellikler = [\"Geniş ekran\",\"Otomatik sürüş\"]\n",
    "\n",
    "#\n",
    "t1.enerji() #tanımlarken varsayılan değerler super sınıfa gönderilmişti.\n",
    "\n",
    "\n",
    "#\n",
    "print(t1)"
   ]
  },
  {
   "cell_type": "code",
   "execution_count": 60,
   "metadata": {},
   "outputs": [
    {
     "name": "stdout",
     "output_type": "stream",
     "text": [
      "~Elektirikli doluyor....\n",
      "Dolum tamamlandı. 30/100\n"
     ]
    }
   ],
   "source": [
    "t1.enerjiDoldur(15)"
   ]
  },
  {
   "cell_type": "markdown",
   "metadata": {},
   "source": [
    "---\n",
    "## Genel Kontroller Nesneler hakkında bilgi almak veya sonradan müdehale etmek\n",
    "---"
   ]
  },
  {
   "cell_type": "code",
   "execution_count": 62,
   "metadata": {},
   "outputs": [
    {
     "data": {
      "text/plain": [
       "True"
      ]
     },
     "execution_count": 62,
     "metadata": {},
     "output_type": "execute_result"
    }
   ],
   "source": [
    "issubclass(yerliMilliArac, araba) #alt sınıf mı? super olan araba, base(sub) yerliMilliArac"
   ]
  },
  {
   "cell_type": "code",
   "execution_count": 64,
   "metadata": {},
   "outputs": [
    {
     "data": {
      "text/plain": [
       "True"
      ]
     },
     "execution_count": 64,
     "metadata": {},
     "output_type": "execute_result"
    }
   ],
   "source": [
    "isinstance(t1, yerliMilliArac) #True\n",
    "isinstance(t1, araba) #True"
   ]
  },
  {
   "cell_type": "code",
   "execution_count": 65,
   "metadata": {},
   "outputs": [
    {
     "data": {
      "text/plain": [
       "True"
      ]
     },
     "execution_count": 65,
     "metadata": {},
     "output_type": "execute_result"
    }
   ],
   "source": [
    "hasattr(t1,\"ekOzellikler\") #True"
   ]
  },
  {
   "cell_type": "code",
   "execution_count": 66,
   "metadata": {},
   "outputs": [
    {
     "data": {
      "text/plain": [
       "'--> \\nGENIŞ EKRAN\\nOTOMATIK SÜRÜŞ'"
      ]
     },
     "execution_count": 66,
     "metadata": {},
     "output_type": "execute_result"
    }
   ],
   "source": [
    "getattr(t1,\"ekOzellikler\")"
   ]
  },
  {
   "cell_type": "code",
   "execution_count": 68,
   "metadata": {},
   "outputs": [
    {
     "data": {
      "text/plain": [
       "False"
      ]
     },
     "execution_count": 68,
     "metadata": {},
     "output_type": "execute_result"
    }
   ],
   "source": [
    "callable(araba) #girilen parametredeki şey bir fonksiyona sahjip mi? çalıştırıabilir mi? #araba'nın constructer mothotu var.\n",
    "\n",
    "callable(t1.uretici) #False. () ile çağırılamaz."
   ]
  },
  {
   "cell_type": "code",
   "execution_count": 70,
   "metadata": {},
   "outputs": [
    {
     "data": {
      "text/plain": [
       "'Yeni özellik değeri'"
      ]
     },
     "execution_count": 70,
     "metadata": {},
     "output_type": "execute_result"
    }
   ],
   "source": [
    "setattr(t1,\"yeniOzellik\", \"Yeni özellik değeri\") #nesneye sonradan attribute ve değer ekledik.\n",
    "\n",
    "\n",
    "t1.yeniOzellik #sonra bu üye kullanılabilir."
   ]
  },
  {
   "cell_type": "code",
   "execution_count": 71,
   "metadata": {},
   "outputs": [
    {
     "data": {
      "text/plain": [
       "False"
      ]
     },
     "execution_count": 71,
     "metadata": {},
     "output_type": "execute_result"
    }
   ],
   "source": [
    "delattr(t1, \"yeniOzellik\") #atribute kaldırdık.\n",
    "\n",
    "hasattr(t1,\"yeniOzellik\") #böyle bir üye artık yok."
   ]
  }
 ],
 "metadata": {
  "kernelspec": {
   "display_name": "Python 3",
   "language": "python",
   "name": "python3"
  },
  "language_info": {
   "codemirror_mode": {
    "name": "ipython",
    "version": 3
   },
   "file_extension": ".py",
   "mimetype": "text/x-python",
   "name": "python",
   "nbconvert_exporter": "python",
   "pygments_lexer": "ipython3",
   "version": "3.11.3"
  }
 },
 "nbformat": 4,
 "nbformat_minor": 2
}
