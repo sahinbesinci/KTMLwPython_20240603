{
 "cells": [
  {
   "cell_type": "markdown",
   "metadata": {},
   "source": [
    "## Dosyalarla Çalışmak\n",
    "* Dosyalarla çalışmak için `open()` fonksiyonunu kullanırız.\n",
    "* `open()` fonksiyonu dosyayı açar ve dosya nesnesini döndürür.filehandle\n",
    "* Dosya ile çalışmamız tamamlandıktan sonra `fileHandleNesnesi.close()` ile dosyayı kapatırız.\n",
    "* Dosya veya veritabanında imlec (cursor) nesnesi oluşur. Okumalar bununla yapılır."
   ]
  },
  {
   "cell_type": "markdown",
   "metadata": {},
   "source": [
    "### Dosya ve Klasor İşlemleri"
   ]
  },
  {
   "cell_type": "markdown",
   "metadata": {},
   "source": [
    "#### Oluşturma ve Varlığını Kontrol Etme"
   ]
  },
  {
   "cell_type": "code",
   "execution_count": 2,
   "metadata": {},
   "outputs": [
    {
     "name": "stdout",
     "output_type": "stream",
     "text": [
      "c:\\Users\\Abdullah\\Documents\\GitHub\\KTMLwPython_20240603\\Gun1\n"
     ]
    }
   ],
   "source": [
    "import os\n",
    "\n",
    "#\n",
    "os.getcwd()\n",
    "#!cd"
   ]
  },
  {
   "cell_type": "code",
   "execution_count": 5,
   "metadata": {},
   "outputs": [],
   "source": [
    "os.makedirs(\"./databases\",exist_ok=\"True\")\n",
    "#!mkdir yol\n",
    "\"\"\"\n",
    "    dosya yolları:\n",
    "    > linux /\n",
    "    > windows \\\\ veya /\n",
    "        > raw string kullanarak \\\\ kullanmaya gerek yok (metnin başında r veya repr(\"metin\")) şeklinde\n",
    "    \n",
    "     hedef belirtme yöntemleri\n",
    "     > absolute path: \n",
    "        > linux'ta /home/user/Desktop/file.txyt\n",
    "        > windows C:\\\\Users\\\\user\\\\Desktop\\\\file.txt\n",
    "    > relative path:\n",
    "        > . ile bulunduğumuz dizini işaret ederiz. \n",
    "            > alt klasor için ./ veya .\\\\\n",
    "        > .. bir üst dizini işaret eder\n",
    "            > ../ veya ..\\\\\n",
    "\n",
    "\"\"\"\n",
    "pass"
   ]
  },
  {
   "cell_type": "code",
   "execution_count": 8,
   "metadata": {},
   "outputs": [
    {
     "data": {
      "text/plain": [
       "True"
      ]
     },
     "execution_count": 8,
     "metadata": {},
     "output_type": "execute_result"
    }
   ],
   "source": [
    "#yol mevcut mu?\n",
    "os.path.exists(\"./databases\") #True\n",
    "\n",
    "#\n",
    "os.listdir() #çalışma yolundaki bütün directory bilgisi\n",
    "#!dir\n",
    "\n",
    "\"databases\" in os.listdir() #içerisinde var mı?"
   ]
  },
  {
   "cell_type": "code",
   "execution_count": 10,
   "metadata": {},
   "outputs": [
    {
     "data": {
      "text/plain": [
       "False"
      ]
     },
     "execution_count": 10,
     "metadata": {},
     "output_type": "execute_result"
    }
   ],
   "source": [
    "#dosya mı klasor mu?\n",
    "os.path.isdir(\"./databases\") #True KLASOR\n",
    "os.path.isfile(\"./databases\") #False, dosya değil."
   ]
  },
  {
   "cell_type": "markdown",
   "metadata": {},
   "source": [
    "#### Klasor ve Dosya Tarama ve Hakkında Bilgi Alma\n",
    "##### `os.scandir` "
   ]
  },
  {
   "cell_type": "code",
   "execution_count": 13,
   "metadata": {},
   "outputs": [
    {
     "name": "stdout",
     "output_type": "stream",
     "text": [
      "1_1_pip_pipdeptree_whl_virtualEnvironment.html\n",
      "1_1_pip_pipdeptree_whl_virtualEnvironment.md\n",
      "1_2_NesneTabanliProgramlama_OOP.html\n",
      "1_2_NesneTabanliProgramlama_OOP.ipynb\n",
      "1_3_DecoratorKullanimi.html\n",
      "1_3_DecoratorKullanimi.ipynb\n",
      "1_4_ConfigParserKullanimi.html\n",
      "1_4_ConfigParserKullanimi.ipynb\n",
      "1_5_ArgumanlarlaCalismak.html\n",
      "1_5_ArgumanlarlaCalismak.ipynb\n",
      "1_6_PackageModuleKavrami.html\n",
      "1_6_PackageModuleKavrami.ipynb\n",
      "1_7_DosyalarlaCalismak_open_csv_json.ipynb\n",
      "FileArgumanModes.png\n",
      "OOPTemelleri.png\n"
     ]
    }
   ],
   "source": [
    "list(os.scandir(\".\")) #DirEntry objeleri döner. içinde klasor ve dosya hakkında bilgiler yer alır.\n",
    "\n",
    "#\n",
    "for e in os.scandir(\".\"):\n",
    "    if e.is_file(): #bu bir dosya mı?\n",
    "        print(e.name) #dosyanın adını ver"
   ]
  },
  {
   "cell_type": "markdown",
   "metadata": {},
   "source": [
    "##### `os.walk`\n",
    "* walk ile alt klasorlere geçiş yapılır.\n",
    "* her bir seviye için `(bakılanDizin, folders, files)` şeklinde tuple barındıran nesne döner."
   ]
  },
  {
   "cell_type": "code",
   "execution_count": 16,
   "metadata": {},
   "outputs": [
    {
     "data": {
      "text/plain": [
       "[('.',\n",
       "  ['argumanliProgramlarKlasoru', 'databases', 'py_custom_package'],\n",
       "  ['1_1_pip_pipdeptree_whl_virtualEnvironment.html',\n",
       "   '1_1_pip_pipdeptree_whl_virtualEnvironment.md',\n",
       "   '1_2_NesneTabanliProgramlama_OOP.html',\n",
       "   '1_2_NesneTabanliProgramlama_OOP.ipynb',\n",
       "   '1_3_DecoratorKullanimi.html',\n",
       "   '1_3_DecoratorKullanimi.ipynb',\n",
       "   '1_4_ConfigParserKullanimi.html',\n",
       "   '1_4_ConfigParserKullanimi.ipynb',\n",
       "   '1_5_ArgumanlarlaCalismak.html',\n",
       "   '1_5_ArgumanlarlaCalismak.ipynb',\n",
       "   '1_6_PackageModuleKavrami.html',\n",
       "   '1_6_PackageModuleKavrami.ipynb',\n",
       "   '1_7_DosyalarlaCalismak_open_csv_json.ipynb',\n",
       "   'FileArgumanModes.png',\n",
       "   'OOPTemelleri.png']),\n",
       " ('.\\\\argumanliProgramlarKlasoru',\n",
       "  [],\n",
       "  ['argparseIleArgumanYakala.py', 'sysIleArgumanYakala.py']),\n",
       " ('.\\\\databases', [], ['ayarlar.ini', 'file.txt']),\n",
       " ('.\\\\py_custom_package',\n",
       "  ['__pycache__'],\n",
       "  ['renkler.py', 'sekiller.py', 'yazarlar.py', '__init__.py']),\n",
       " ('.\\\\py_custom_package\\\\__pycache__',\n",
       "  [],\n",
       "  ['renkler.cpython-311.pyc',\n",
       "   'sekiller.cpython-311.pyc',\n",
       "   'yazarlar.cpython-311.pyc',\n",
       "   '__init__.cpython-311.pyc'])]"
      ]
     },
     "execution_count": 16,
     "metadata": {},
     "output_type": "execute_result"
    }
   ],
   "source": [
    "list(os.walk(\".\"))  #her seviye için [ (root, folders, files) , (root, folders, files) ]"
   ]
  },
  {
   "cell_type": "code",
   "execution_count": 17,
   "metadata": {},
   "outputs": [
    {
     "name": "stdout",
     "output_type": "stream",
     "text": [
      "1_1_pip_pipdeptree_whl_virtualEnvironment.html\n",
      "1_1_pip_pipdeptree_whl_virtualEnvironment.md\n",
      "1_2_NesneTabanliProgramlama_OOP.html\n",
      "1_2_NesneTabanliProgramlama_OOP.ipynb\n",
      "1_3_DecoratorKullanimi.html\n",
      "1_3_DecoratorKullanimi.ipynb\n",
      "1_4_ConfigParserKullanimi.html\n",
      "1_4_ConfigParserKullanimi.ipynb\n",
      "1_5_ArgumanlarlaCalismak.html\n",
      "1_5_ArgumanlarlaCalismak.ipynb\n",
      "1_6_PackageModuleKavrami.html\n",
      "1_6_PackageModuleKavrami.ipynb\n",
      "1_7_DosyalarlaCalismak_open_csv_json.ipynb\n",
      "FileArgumanModes.png\n",
      "OOPTemelleri.png\n",
      "argparseIleArgumanYakala.py\n",
      "sysIleArgumanYakala.py\n",
      "ayarlar.ini\n",
      "file.txt\n",
      "renkler.py\n",
      "sekiller.py\n",
      "yazarlar.py\n",
      "__init__.py\n",
      "renkler.cpython-311.pyc\n",
      "sekiller.cpython-311.pyc\n",
      "yazarlar.cpython-311.pyc\n",
      "__init__.cpython-311.pyc\n"
     ]
    }
   ],
   "source": [
    "for kok, klasorler, dosyalar in os.walk(\".\"):\n",
    "    for dosya in dosyalar:\n",
    "        print(dosya)"
   ]
  },
  {
   "cell_type": "markdown",
   "metadata": {},
   "source": [
    "### Ham Dosyalarla Çalışma\n",
    "* `open()` ile dosya açılır. Açılırken `mode` parametresinde açma niyeti belirtilir.\n",
    "  * w, r, a, w+ vs. notlarda mevcut.\n",
    "* Okurken imlec nesnesi oluşur ve bunu hareket ettirerek okuma yaparız.\n",
    "  * imlec sona geldiğinde geriye değer dönmez.\n",
    "* yazılanlar önce buffera alınır. `flush()` ile buffer temizlenir.\n",
    "* `close()` ile dosya kapatılır. Kapanırken flush olur."
   ]
  },
  {
   "cell_type": "markdown",
   "metadata": {},
   "source": [
    "##### Dosyalara Yazmak"
   ]
  },
  {
   "cell_type": "code",
   "execution_count": 18,
   "metadata": {},
   "outputs": [],
   "source": [
    "#filehandle\n",
    "fw = open(file=\"./databases/notlatim.txt\", mode=\"w\", encoding=\"UTF-8\") #w ile yazmak için açtığımızı belirtiyoruz."
   ]
  },
  {
   "cell_type": "code",
   "execution_count": 19,
   "metadata": {},
   "outputs": [
    {
     "data": {
      "text/plain": [
       "7"
      ]
     },
     "execution_count": 19,
     "metadata": {},
     "output_type": "execute_result"
    }
   ],
   "source": [
    "fw.write(\"merhaba\") #write komutu veri yaza ve kaç karekter yazdığını döndürür"
   ]
  },
  {
   "cell_type": "code",
   "execution_count": 20,
   "metadata": {},
   "outputs": [],
   "source": [
    "fw.writelines(\"\\nMerhaba dünyalı\") #sadece yazar"
   ]
  },
  {
   "cell_type": "code",
   "execution_count": 21,
   "metadata": {},
   "outputs": [],
   "source": [
    "fw.close()  #bufferdakileri flush ettik ve dosyayı kapattık."
   ]
  },
  {
   "cell_type": "markdown",
   "metadata": {},
   "source": [
    "#### Dosyaları Okuma"
   ]
  },
  {
   "cell_type": "code",
   "execution_count": 34,
   "metadata": {},
   "outputs": [],
   "source": [
    "fr = open(file=\"./databases/notlatim.txt\", mode=\"r\", encoding=\"UTF-8\") #r ile okumak için açtığımızı belirtiyoruz.\n",
    "#not: imlec oluşur. imlec ileri geri hareket ettirlebilir. okudukça sona gelir. sona geldiğinde boş döner."
   ]
  },
  {
   "cell_type": "code",
   "execution_count": 35,
   "metadata": {},
   "outputs": [
    {
     "name": "stdout",
     "output_type": "stream",
     "text": [
      "merhaba\n",
      "\n",
      "Merhaba dünyalı\n"
     ]
    }
   ],
   "source": [
    "#list(fr) #ikinci okumada bol gelir. imlec sona dayanıyor.\n",
    "\n",
    "for s in fr.readlines(): #tüm satırları liste olarak verir. #fr:\n",
    "    print(s)"
   ]
  },
  {
   "cell_type": "markdown",
   "metadata": {},
   "source": [
    "##### imlec hareket ettirmek\n",
    "* `seek` ile imleci istediğimiz yere taşıyabiliriz.\n",
    "* `tell` ile imlecin bulunduğu yeri öğrenebiliriz.\n",
    "* `read` ile kaç karekter okyacğaımızı belirtebiliriz. Belirtmezsek sona kadar okur. düz metin döner.\n",
    "* `readlines` sona kadar okur. geriye her satır bir liste elemanı olaracak şekilde liste döner.\n",
    "  "
   ]
  },
  {
   "cell_type": "code",
   "execution_count": 36,
   "metadata": {},
   "outputs": [
    {
     "data": {
      "text/plain": [
       "26"
      ]
     },
     "execution_count": 36,
     "metadata": {},
     "output_type": "execute_result"
    }
   ],
   "source": [
    "fr.tell() #26. karakterde."
   ]
  },
  {
   "cell_type": "code",
   "execution_count": 37,
   "metadata": {},
   "outputs": [
    {
     "data": {
      "text/plain": [
       "0"
      ]
     },
     "execution_count": 37,
     "metadata": {},
     "output_type": "execute_result"
    }
   ],
   "source": [
    "fr.seek(0) #imleci 0. karektere taşıdık."
   ]
  },
  {
   "cell_type": "code",
   "execution_count": 38,
   "metadata": {},
   "outputs": [
    {
     "data": {
      "text/plain": [
       "'merh'"
      ]
     },
     "execution_count": 38,
     "metadata": {},
     "output_type": "execute_result"
    }
   ],
   "source": [
    "fr.read(4) #4 karakter oku"
   ]
  },
  {
   "cell_type": "code",
   "execution_count": 40,
   "metadata": {},
   "outputs": [
    {
     "data": {
      "text/plain": [
       "'aba'"
      ]
     },
     "execution_count": 40,
     "metadata": {},
     "output_type": "execute_result"
    }
   ],
   "source": [
    "fr.read(3) #3 karekter daha oku"
   ]
  },
  {
   "cell_type": "code",
   "execution_count": 41,
   "metadata": {},
   "outputs": [
    {
     "data": {
      "text/plain": [
       "7"
      ]
     },
     "execution_count": 41,
     "metadata": {},
     "output_type": "execute_result"
    }
   ],
   "source": [
    "fr.tell()"
   ]
  },
  {
   "cell_type": "code",
   "execution_count": 42,
   "metadata": {},
   "outputs": [
    {
     "data": {
      "text/plain": [
       "'\\nMerhaba dünyalı'"
      ]
     },
     "execution_count": 42,
     "metadata": {},
     "output_type": "execute_result"
    }
   ],
   "source": [
    "fr.read() #sona kadar oku"
   ]
  },
  {
   "cell_type": "code",
   "execution_count": 43,
   "metadata": {},
   "outputs": [
    {
     "data": {
      "text/plain": [
       "3"
      ]
     },
     "execution_count": 43,
     "metadata": {},
     "output_type": "execute_result"
    }
   ],
   "source": [
    "fr.seek(3) #3. karektere sar"
   ]
  },
  {
   "cell_type": "code",
   "execution_count": 44,
   "metadata": {},
   "outputs": [
    {
     "data": {
      "text/plain": [
       "['haba\\n', 'Merhaba dünyalı']"
      ]
     },
     "execution_count": 44,
     "metadata": {},
     "output_type": "execute_result"
    }
   ],
   "source": [
    "fr.readlines() #kaldığı yerden her saıtrı bir liste elemanı olarak verir."
   ]
  },
  {
   "cell_type": "markdown",
   "metadata": {},
   "source": [
    "#### with kullanımı"
   ]
  },
  {
   "cell_type": "code",
   "execution_count": 45,
   "metadata": {},
   "outputs": [],
   "source": [
    "#1. yöntem\n",
    "fw = open(\"./databases/hareketler.txt\",\"w\")\n",
    "\n",
    "try:\n",
    "    fw.write(\"test metin\")\n",
    "finally:\n",
    "    fw.close()"
   ]
  },
  {
   "cell_type": "code",
   "execution_count": 46,
   "metadata": {},
   "outputs": [],
   "source": [
    "#2.yöntem\n",
    "with open(\"./databases/hareketler.txt\",\"w\",encoding=\"UTF-8\") as fw:\n",
    "    fw.write(\"test metin\")"
   ]
  },
  {
   "cell_type": "code",
   "execution_count": 68,
   "metadata": {},
   "outputs": [],
   "source": [
    "#soru:\n",
    "#her çalıştırıldığnda bilgisayar adı, kullanıcı adı, ve tarihi dosyay yazsın. Aşağıdaki formatta yazsın.\n",
    "#COMUTERNAME - USERNAME - Tarih\n",
    "import os, datetime\n",
    "\n",
    "\n",
    "\n",
    "\n",
    "#\n",
    "metin = \"{};{};{}\".format(os.getenv(\"COMPUTERNAME\"),\n",
    "                          os.getenv(\"USERNAME\"),\n",
    "                          datetime.datetime.now().strftime(\"%Y-%m-%d %H:%M:%S\")\n",
    "                          )\n",
    "\n",
    "#metin\n",
    "with open(\"./databases/hareketler.txt\",\"a+\",encoding=\"UTF-8\") as fh:\n",
    "    fh.write(metin+\"\\n\")"
   ]
  },
  {
   "cell_type": "code",
   "execution_count": 71,
   "metadata": {},
   "outputs": [],
   "source": [
    "#örn. Bir dosyadaki bilgiyi başka bir dosyaya özetleyelm.\n",
    "#\\ ile alt satırdan devam edebildikten.\n",
    "with open(\"./databases/hareketler.txt\",\"r\",encoding=\"UTF-8\") as fs,\\\n",
    "     open(\"./databases/hareketlerSummary.txt\",\"w\",encoding=\"UTF-8\") as fd:\n",
    "     \n",
    "     #2'şer satır atlasın\n",
    "     for satir in fs.readlines()[::2]:\n",
    "        yeniSatir = \";\".join(satir.split(\";\")[1:])\n",
    "        fd.write(yeniSatir)"
   ]
  },
  {
   "cell_type": "markdown",
   "metadata": {},
   "source": [
    "### CSV ile Çalışmak\n",
    "* csv kütüpahanesi her satırı delimiter ile ayrılmış elemanlardan oluşan bir liste olarak yazma okuma imkanı verir.\n",
    "* dosyalarla ham şekilde çalışırken open ile açıyorduk fakat delimiter veremiyorduk. Düze metnlerle çalışıyorduk.\n",
    "    * split veya join fonksiyonları kullanarak buradaki problemleri kısmen çözebiliriz."
   ]
  },
  {
   "cell_type": "code",
   "execution_count": 79,
   "metadata": {},
   "outputs": [],
   "source": [
    "import csv"
   ]
  },
  {
   "cell_type": "markdown",
   "metadata": {},
   "source": [
    "#### csv olarak yazalım"
   ]
  },
  {
   "cell_type": "code",
   "execution_count": 74,
   "metadata": {},
   "outputs": [],
   "source": [
    "import random "
   ]
  },
  {
   "cell_type": "code",
   "execution_count": 87,
   "metadata": {},
   "outputs": [],
   "source": [
    "oyuncular = [\"Ali\",\"Veli\",\"Ayşe\",\"Fatma\"]\n",
    "skor = [random.randint(0,100), \n",
    "        datetime.datetime.now().strftime(\"%H:%M:%S\"),\n",
    "        random.choice(oyuncular)]\n",
    "\n",
    "\n",
    "#\n",
    "with open(\"./databases/skor.csv\",\"a\", encoding=\"UTF-8\") as fw:\n",
    "    csv.writer(fw,delimiter=\",\") \\\n",
    "       .writerow(skor) #skor listesindeki elemanları belirtilen ayraç ile yazdırır."
   ]
  },
  {
   "cell_type": "markdown",
   "metadata": {},
   "source": [
    "#### csv olarak okuyalım"
   ]
  },
  {
   "cell_type": "code",
   "execution_count": 92,
   "metadata": {},
   "outputs": [
    {
     "name": "stdout",
     "output_type": "stream",
     "text": [
      "A** -> 10\n",
      "A** -> 92\n",
      "V** -> 0\n"
     ]
    }
   ],
   "source": [
    "with open(\"./databases/skor.csv\",\"r\", encoding=\"UTF-8\") as fr:\n",
    "    for satir in csv.reader(fr,delimiter=\",\"):\n",
    "        #print(satir)\n",
    "        if satir: #boş ise False döner\n",
    "            #print(satir)\n",
    "            print(f\"{satir[2]:.1s}** -> {satir[0]}\")"
   ]
  },
  {
   "cell_type": "markdown",
   "metadata": {},
   "source": [
    "### json veriler çalışmak\n",
    "* Json veri tipi bir çok platformda kullanılan veri tipidir. Özelikle web servislerinde sıkça kullanılır.\n",
    "* json verileri python'da dict gibi kullanılabilir. Python nesnelerine çevirilebilir. (parse)\n",
    "* Python nesneleri de json verisine çevrilebilir. (stringify) (dump)"
   ]
  },
  {
   "cell_type": "code",
   "execution_count": 1,
   "metadata": {},
   "outputs": [],
   "source": [
    "import json"
   ]
  },
  {
   "cell_type": "markdown",
   "metadata": {},
   "source": [
    "#### json metnini python nesnesine çevirelim (parse)"
   ]
  },
  {
   "cell_type": "code",
   "execution_count": 6,
   "metadata": {},
   "outputs": [
    {
     "data": {
      "text/plain": [
       "str"
      ]
     },
     "execution_count": 6,
     "metadata": {},
     "output_type": "execute_result"
    }
   ],
   "source": [
    "#json metinleri python dictlerine benzer fakat fatlıdır. mesela python True json da true olarak yazılır.\n",
    "str_json = \"\"\"\n",
    "{\n",
    "    \"name\":\"Ali\",\n",
    "    \"surname\":\"Veli\",\n",
    "    \"age\": 25,\n",
    "    \"isStudent\": true,\n",
    "    \"grades\": [100,90,80]\n",
    "}\n",
    "\"\"\"\n",
    "\n",
    "type(str_json) #str"
   ]
  },
  {
   "cell_type": "code",
   "execution_count": 7,
   "metadata": {},
   "outputs": [
    {
     "data": {
      "text/plain": [
       "dict"
      ]
     },
     "execution_count": 7,
     "metadata": {},
     "output_type": "execute_result"
    }
   ],
   "source": [
    "#parse edelim\n",
    "py_json = json.loads(str_json) #dict\n",
    "\n",
    "type(py_json) #dict"
   ]
  },
  {
   "cell_type": "code",
   "execution_count": 9,
   "metadata": {},
   "outputs": [
    {
     "data": {
      "text/plain": [
       "100"
      ]
     },
     "execution_count": 9,
     "metadata": {},
     "output_type": "execute_result"
    }
   ],
   "source": [
    "py_json[\"name\"]\n",
    "py_json[\"grades\"][0]"
   ]
  },
  {
   "cell_type": "markdown",
   "metadata": {},
   "source": [
    "#### python nesnesini json metinlerine çevirelim (dump)"
   ]
  },
  {
   "cell_type": "code",
   "execution_count": 10,
   "metadata": {},
   "outputs": [
    {
     "data": {
      "text/plain": [
       "dict"
      ]
     },
     "execution_count": 10,
     "metadata": {},
     "output_type": "execute_result"
    }
   ],
   "source": [
    "dict_personel = {\n",
    "                    \"Ad\":\"Ali\",\n",
    "                    \"Yas\":123,\n",
    "                    \"Maas\": 12345.67,\n",
    "                    \"Ehliyetler\":[\"B\",\"D\"],\n",
    "                    \"EvlilikDurumu\":True\n",
    "}\n",
    "\n",
    "type(dict_personel) #dict"
   ]
  },
  {
   "cell_type": "code",
   "execution_count": 11,
   "metadata": {},
   "outputs": [
    {
     "data": {
      "text/plain": [
       "str"
      ]
     },
     "execution_count": 11,
     "metadata": {},
     "output_type": "execute_result"
    }
   ],
   "source": [
    "json_personel  =json.dumps(dict_personel) #str\n",
    "\n",
    "type(json_personel) #str"
   ]
  },
  {
   "cell_type": "code",
   "execution_count": 12,
   "metadata": {},
   "outputs": [
    {
     "data": {
      "text/plain": [
       "'{\"Ad\": \"Ali\", \"Yas\": 123, \"Maas\": 12345.67, \"Ehliyetler\": [\"B\", \"D\"], \"EvlilikDurumu\": true}'"
      ]
     },
     "execution_count": 12,
     "metadata": {},
     "output_type": "execute_result"
    }
   ],
   "source": [
    "json_personel"
   ]
  }
 ],
 "metadata": {
  "kernelspec": {
   "display_name": "Python 3",
   "language": "python",
   "name": "python3"
  },
  "language_info": {
   "codemirror_mode": {
    "name": "ipython",
    "version": 3
   },
   "file_extension": ".py",
   "mimetype": "text/x-python",
   "name": "python",
   "nbconvert_exporter": "python",
   "pygments_lexer": "ipython3",
   "version": "3.11.3"
  }
 },
 "nbformat": 4,
 "nbformat_minor": 2
}
