{
 "cells": [
  {
   "cell_type": "markdown",
   "metadata": {},
   "source": [
    "## ConfigParser Kullanımı\n",
    "* Dışarıdaki bir dosyaya bazı bilgiler yazmak ve program içerisnde bu bilgilere erişmek isteyebiliriz.\n",
    "* farklı yöntemler mevcut bunlardan biri de ConfigParser kullanımıdır."
   ]
  },
  {
   "cell_type": "markdown",
   "metadata": {},
   "source": [
    "### Dosyalara Ham Veri Yazma / Okuma"
   ]
  },
  {
   "cell_type": "code",
   "execution_count": 2,
   "metadata": {},
   "outputs": [],
   "source": [
    "import os\n",
    "\n",
    "#klasor oluşturalm\n",
    "os.makedirs(\"databases\",exist_ok=True)"
   ]
  },
  {
   "cell_type": "code",
   "execution_count": 4,
   "metadata": {},
   "outputs": [],
   "source": [
    "\"\"\"\n",
    "    dosya yolları:\n",
    "    > linux /\n",
    "    > windows \\\\ veya /\n",
    "        > raw string kullanarak \\\\ kullanmaya gerek yok (metnin başında r veya repr(\"metin\")) şeklinde\n",
    "    \n",
    "     hedef belirtme yöntemleri\n",
    "     > absolute path: \n",
    "        > linux'ta /home/user/Desktop/file.txyt\n",
    "        > windows C:\\\\Users\\\\user\\\\Desktop\\\\file.txt\n",
    "    > relative path:\n",
    "        > . ile bulunduğumuz dizini işaret ederiz. \n",
    "            > alt klasor için ./ veya .\\\\\n",
    "        > .. bir üst dizini işaret eder\n",
    "            > ../ veya ..\\\\\n",
    "\n",
    "\"\"\"\n",
    "#file_handle\n",
    "fh = open(file=\"./databases/file.txt\", mode=\"w\", encoding=\"UTF-8\") #w ile yazmak için açtık.\n",
    "\n",
    "#\n",
    "fh.writelines(\"merhaba dünyalı\")\n",
    "\n",
    "##flush olması için dosyayı kapatılım. başka yöntemleri de var.\n",
    "fh.close()\n"
   ]
  },
  {
   "cell_type": "code",
   "execution_count": 6,
   "metadata": {},
   "outputs": [],
   "source": [
    "#file_handle\n",
    "fh = open(file=\"./databases/file.txt\", mode=\"r\", encoding=\"UTF-8\") #r ile okumak için açtık.\n",
    "\n",
    "fh.read()\n",
    "\n",
    "#\n",
    "fh.close()"
   ]
  },
  {
   "cell_type": "markdown",
   "metadata": {},
   "source": [
    "### ConfigParser Kullanımı\n",
    "* `ayarlar.ini` isimli bir dosya oluşturalım. içeriği şöyle olsun.\n",
    "```\n",
    "[section]\n",
    "config1 = value1\n",
    "config2 = value2\n",
    "\n",
    "[onemliSayilar]\n",
    "piSayisi = 3.14\n",
    "eSayisi = 2.71\n",
    "```"
   ]
  },
  {
   "cell_type": "code",
   "execution_count": 7,
   "metadata": {},
   "outputs": [],
   "source": [
    "from configparser import ConfigParser"
   ]
  },
  {
   "cell_type": "code",
   "execution_count": 8,
   "metadata": {},
   "outputs": [],
   "source": [
    "cp = ConfigParser()"
   ]
  },
  {
   "cell_type": "markdown",
   "metadata": {},
   "source": [
    "### Config Okuma İşlemi"
   ]
  },
  {
   "cell_type": "code",
   "execution_count": 10,
   "metadata": {},
   "outputs": [
    {
     "data": {
      "text/plain": [
       "['./databases/ayarlar.ini']"
      ]
     },
     "execution_count": 10,
     "metadata": {},
     "output_type": "execute_result"
    }
   ],
   "source": [
    "cp.read(\"./databases/ayarlar.ini\",encoding=\"UTF-8\")"
   ]
  },
  {
   "cell_type": "code",
   "execution_count": 12,
   "metadata": {},
   "outputs": [
    {
     "data": {
      "text/plain": [
       "'3.14'"
      ]
     },
     "execution_count": 12,
     "metadata": {},
     "output_type": "execute_result"
    }
   ],
   "source": [
    "#bölüm > config bigisini str olarak okuyoruz.\n",
    "cp[\"section\"].get(\"config1\")\n",
    "cp[\"onemliSayilar\"].get(\"piSayisi\") #str"
   ]
  },
  {
   "cell_type": "code",
   "execution_count": 13,
   "metadata": {},
   "outputs": [
    {
     "data": {
      "text/plain": [
       "3.14"
      ]
     },
     "execution_count": 13,
     "metadata": {},
     "output_type": "execute_result"
    }
   ],
   "source": [
    "#float olarak alabiliiz.\n",
    "cp[\"onemliSayilar\"].getfloat(\"piSayisi\") "
   ]
  },
  {
   "cell_type": "markdown",
   "metadata": {},
   "source": [
    "### Config Yazma İşlemi"
   ]
  },
  {
   "cell_type": "code",
   "execution_count": 15,
   "metadata": {},
   "outputs": [],
   "source": [
    "#eklemek istediğimiz configler\n",
    "cp[\"sonradanEklenenler\"] = {\n",
    "                            \"arkaPlanRengi\":\"red\",\n",
    "                            \"fontBuyuklugu\":12\n",
    "                            }"
   ]
  },
  {
   "cell_type": "code",
   "execution_count": 18,
   "metadata": {},
   "outputs": [],
   "source": [
    "#memorydeki configleri yazdıralıml\n",
    "list(cp) #['DEFAULT', 'section', 'onemliSayilar', 'sonradanEklenenler']\n",
    "\n",
    "\n",
    "#\n",
    "fh = open(\"./databases/ayarlar.ini\",\"w\", encoding=\"UTF-8\")\n",
    "\n",
    "cp.write(fh) #file handle verildi.\n",
    "\n",
    "#\n",
    "fh.close()"
   ]
  }
 ],
 "metadata": {
  "kernelspec": {
   "display_name": "Python 3",
   "language": "python",
   "name": "python3"
  },
  "language_info": {
   "codemirror_mode": {
    "name": "ipython",
    "version": 3
   },
   "file_extension": ".py",
   "mimetype": "text/x-python",
   "name": "python",
   "nbconvert_exporter": "python",
   "pygments_lexer": "ipython3",
   "version": "3.11.3"
  }
 },
 "nbformat": 4,
 "nbformat_minor": 2
}
