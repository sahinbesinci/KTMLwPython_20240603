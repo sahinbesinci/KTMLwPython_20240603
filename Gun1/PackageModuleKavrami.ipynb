{
 "cells": [
  {
   "cell_type": "markdown",
   "metadata": {},
   "source": [
    "## Package ve Module Oluşturmak, Çalışma Ortamına Almak\n",
    "* paketler `sys.path` ile belirtilen yollarda olursa `import` ile çalışma ortamına alınabilir.\n",
    "* `sys.path.append(\"yol\")` ile yeni yollar ekleyebiliyoruz.\n",
    "* import edilen paketlerde değişiklik olursa `importlib.reload(module)` ile güncel tanımları ortama alabiliriz.\n",
    "* Paket yüklemek ve kaldırmak için gerekli komutlar:\n",
    "```shell\n",
    "pip install pakeAdi,paketAdi2\n",
    "pip uninstall paketAdi\n",
    "\n",
    "pip list\n",
    "pip show paketAdi\n",
    "```\n",
    "* paketi çalışma ortamına almak için:\n",
    "```python\n",
    "import paketAdi\n",
    "import paketAdi as takmaAd\n",
    "\n",
    "from paket import module.module\n",
    "\n",
    "#__all__ nesnesi ile belirtilen paket nesneleri yüklenir.\n",
    "#Bu tanım __init__.py dosyalarında yer alır.\n",
    "from paket import *\n",
    "\n",
    "```"
   ]
  },
  {
   "cell_type": "markdown",
   "metadata": {},
   "source": [
    "### Python'ın Dikkate Aldığı Yollar ve Yeni Yol Ekleme"
   ]
  },
  {
   "cell_type": "code",
   "execution_count": 3,
   "metadata": {},
   "outputs": [
    {
     "data": {
      "text/plain": [
       "'c:\\\\Users\\\\Abdullah\\\\Documents\\\\GitHub\\\\PythonEsaslari_20240506\\\\Gun4'"
      ]
     },
     "execution_count": 3,
     "metadata": {},
     "output_type": "execute_result"
    }
   ],
   "source": [
    "import sys\n",
    "\n",
    "sys.path\n",
    "sys.path[0] #çalışma yolu\n",
    "#\n",
    "#sys.path.append(\"yol\") #yeni yol eklenebilir."
   ]
  },
  {
   "cell_type": "code",
   "execution_count": 4,
   "metadata": {},
   "outputs": [],
   "source": [
    "custom_paket_yolu = \"py_custom_package\""
   ]
  },
  {
   "cell_type": "code",
   "execution_count": 5,
   "metadata": {},
   "outputs": [
    {
     "data": {
      "text/plain": [
       "'c:\\\\Users\\\\Abdullah\\\\Documents\\\\GitHub\\\\PythonEsaslari_20240506\\\\Gun4\\\\py_custom_package'"
      ]
     },
     "execution_count": 5,
     "metadata": {},
     "output_type": "execute_result"
    }
   ],
   "source": [
    "import os\n",
    "\n",
    "#\n",
    "os.makedirs(custom_paket_yolu, exist_ok=True)\n",
    "\n",
    "#\n",
    "sys.path.append(f\"{os.getcwd()}\\\\{custom_paket_yolu}\") #sys.path[0]\n",
    "\n",
    "#\n",
    "sys.path[-1]"
   ]
  },
  {
   "cell_type": "markdown",
   "metadata": {},
   "source": [
    "### Module Oluştralım ve Import Edelim\n",
    "* package = folder\n",
    "* module ~ .py\n",
    "* Oluşturacağımız paket yapısı:\n",
    "  * py_custom_package\n",
    "    * `__init__.py` direkt import edildiğinde ortama yüklenecek nesneler burada olur.\n",
    "    * `renkler.py`\n",
    "    * `sekiller.py` \n",
    "    * `yazarlar.py`"
   ]
  },
  {
   "cell_type": "markdown",
   "metadata": {},
   "source": [
    "#### `__init__.py` dosyasının içeriğini"
   ]
  },
  {
   "cell_type": "code",
   "execution_count": 6,
   "metadata": {},
   "outputs": [
    {
     "name": "stdout",
     "output_type": "stream",
     "text": [
      "Writing py_custom_package/__init__.py\n"
     ]
    }
   ],
   "source": [
    "%%writefile $custom_paket_yolu/__init__.py\n",
    "def BoyamaHakkinda():\n",
    "    print(\"renkler ve şekiller kullanarak boyama yapabilirsiniz.\")\n",
    "    print(\"Boyamayı eglenceli hale getirdik.\")"
   ]
  },
  {
   "cell_type": "code",
   "execution_count": 8,
   "metadata": {},
   "outputs": [
    {
     "name": "stdout",
     "output_type": "stream",
     "text": [
      "renkler ve şekiller kullanarak boyama yapabilirsiniz.\n",
      "Boyamayı eglenceli hale getirdik.\n"
     ]
    }
   ],
   "source": [
    "import py_custom_package as cp\n",
    "\n",
    "dir(cp)\n",
    "\n",
    "#\n",
    "cp.BoyamaHakkinda()"
   ]
  },
  {
   "cell_type": "code",
   "execution_count": 9,
   "metadata": {},
   "outputs": [
    {
     "name": "stdout",
     "output_type": "stream",
     "text": [
      "Overwriting py_custom_package/__init__.py\n"
     ]
    }
   ],
   "source": [
    "%%writefile $custom_paket_yolu/__init__.py\n",
    "def BoyamaHakkinda():\n",
    "    print(\"renkler ve şekiller kullanarak boyama yapabilirsiniz.\")\n",
    "    print(\"Boyamayı eglenceli hale getirdik.\")\n",
    "\n",
    "#--------\n",
    "def selamVer():\n",
    "    print(\"merhaba dünyalı\")"
   ]
  },
  {
   "cell_type": "markdown",
   "metadata": {},
   "source": [
    "#### `importlib.reload` ile değişiklileri yansıtalım"
   ]
  },
  {
   "cell_type": "code",
   "execution_count": 10,
   "metadata": {},
   "outputs": [
    {
     "name": "stdout",
     "output_type": "stream",
     "text": [
      "merhaba dünyalı\n"
     ]
    }
   ],
   "source": [
    "import importlib\n",
    "importlib.reload(cp)\n",
    "\n",
    "#\n",
    "dir(cp)\n",
    "cp.selamVer()"
   ]
  },
  {
   "cell_type": "markdown",
   "metadata": {},
   "source": [
    "#### `from.... import ...` kullanımı"
   ]
  },
  {
   "cell_type": "code",
   "execution_count": 11,
   "metadata": {},
   "outputs": [
    {
     "name": "stdout",
     "output_type": "stream",
     "text": [
      "Writing py_custom_package\\\\renkler.py\n"
     ]
    }
   ],
   "source": [
    "%%writefile $custom_paket_yolu\\\\renkler.py\n",
    "renk_paleti = {\n",
    "                \"sulu\":[\"yeşil\",\"mor\",\"mavi\"],\n",
    "                \"pastel\":\"kırmızı\"\n",
    "}"
   ]
  },
  {
   "cell_type": "code",
   "execution_count": 12,
   "metadata": {},
   "outputs": [
    {
     "name": "stdout",
     "output_type": "stream",
     "text": [
      "Writing py_custom_package\\\\sekiller.py\n"
     ]
    }
   ],
   "source": [
    "%%writefile $custom_paket_yolu\\\\sekiller.py\n",
    "sekiller_paleti = [\"kare\",\"daire\",\"üçgen\"]"
   ]
  },
  {
   "cell_type": "code",
   "execution_count": 13,
   "metadata": {},
   "outputs": [
    {
     "name": "stdout",
     "output_type": "stream",
     "text": [
      "Writing py_custom_package\\\\yazarlar.py\n"
     ]
    }
   ],
   "source": [
    "%%writefile $custom_paket_yolu\\\\yazarlar.py\n",
    "isimler=[\"Ali\",\"Veli\",\"Ayşe\"]"
   ]
  },
  {
   "cell_type": "code",
   "execution_count": 14,
   "metadata": {},
   "outputs": [],
   "source": [
    "from py_custom_package import renkler, sekiller #istediğimiz modulleri yükleyebiliriz."
   ]
  },
  {
   "cell_type": "code",
   "execution_count": 15,
   "metadata": {},
   "outputs": [
    {
     "data": {
      "text/plain": [
       "['__builtins__',\n",
       " '__cached__',\n",
       " '__doc__',\n",
       " '__file__',\n",
       " '__loader__',\n",
       " '__name__',\n",
       " '__package__',\n",
       " '__spec__',\n",
       " 'sekiller_paleti']"
      ]
     },
     "execution_count": 15,
     "metadata": {},
     "output_type": "execute_result"
    }
   ],
   "source": [
    "dir(renkler)\n",
    "dir(sekiller)"
   ]
  },
  {
   "cell_type": "code",
   "execution_count": 18,
   "metadata": {},
   "outputs": [
    {
     "data": {
      "text/plain": [
       "['kare', 'daire', 'üçgen']"
      ]
     },
     "execution_count": 18,
     "metadata": {},
     "output_type": "execute_result"
    }
   ],
   "source": [
    "dir(cp)\n",
    "\n",
    "#reload yapılmalı.\n",
    "#importlib.reload(cp)\n",
    "\n",
    "cp.renkler.renk_paleti\n",
    "cp.sekiller.sekiller_paleti"
   ]
  },
  {
   "cell_type": "markdown",
   "metadata": {},
   "source": [
    "#### `from ... import *` kullanımı"
   ]
  },
  {
   "cell_type": "code",
   "execution_count": 19,
   "metadata": {},
   "outputs": [
    {
     "name": "stdout",
     "output_type": "stream",
     "text": [
      "Overwriting py_custom_package/__init__.py\n"
     ]
    }
   ],
   "source": [
    "%%writefile $custom_paket_yolu/__init__.py\n",
    "def BoyamaHakkinda():\n",
    "    print(\"renkler ve şekiller kullanarak boyama yapabilirsiniz.\")\n",
    "    print(\"Boyamayı eglenceli hale getirdik.\")\n",
    "\n",
    "#--------\n",
    "def selamVer():\n",
    "    print(\"merhaba dünyalı\")\n",
    "\n",
    "#---------\n",
    "#from ... import * kullandığımız __all__ ile belirtilen moduller ortama alınır\n",
    "__all__ = [\"renkler\", \"sekiller\", \"yazarlar\"]"
   ]
  },
  {
   "cell_type": "code",
   "execution_count": 20,
   "metadata": {},
   "outputs": [
    {
     "data": {
      "text/plain": [
       "<module 'py_custom_package' from 'c:\\\\Users\\\\Abdullah\\\\Documents\\\\GitHub\\\\PythonEsaslari_20240506\\\\Gun4\\\\py_custom_package\\\\__init__.py'>"
      ]
     },
     "execution_count": 20,
     "metadata": {},
     "output_type": "execute_result"
    }
   ],
   "source": [
    "importlib.reload(cp)"
   ]
  },
  {
   "cell_type": "code",
   "execution_count": 21,
   "metadata": {},
   "outputs": [
    {
     "data": {
      "text/plain": [
       "['Ali', 'Veli', 'Ayşe']"
      ]
     },
     "execution_count": 21,
     "metadata": {},
     "output_type": "execute_result"
    }
   ],
   "source": [
    "from py_custom_package import * #__all__ ile belirtilen moduller\n",
    "\n",
    "dir(cp)\n",
    "cp.yazarlar.isimler"
   ]
  },
  {
   "cell_type": "markdown",
   "metadata": {},
   "source": [
    "### Paket içerisindeki kodlar diretk çalıştırılırsa ne olsun?"
   ]
  },
  {
   "cell_type": "code",
   "execution_count": 22,
   "metadata": {},
   "outputs": [
    {
     "data": {
      "text/plain": [
       "'py_custom_package'"
      ]
     },
     "execution_count": 22,
     "metadata": {},
     "output_type": "execute_result"
    }
   ],
   "source": [
    "cp.__name__ #hangi paket ait olduğunu belirtir."
   ]
  },
  {
   "cell_type": "code",
   "execution_count": 23,
   "metadata": {},
   "outputs": [
    {
     "data": {
      "text/plain": [
       "'__main__'"
      ]
     },
     "execution_count": 23,
     "metadata": {},
     "output_type": "execute_result"
    }
   ],
   "source": [
    "__name__ #aktif olarak çalışılan yerde bu değişken __main__ metninş döndürür"
   ]
  },
  {
   "cell_type": "code",
   "execution_count": 24,
   "metadata": {},
   "outputs": [
    {
     "name": "stdout",
     "output_type": "stream",
     "text": [
      "Overwriting py_custom_package/__init__.py\n"
     ]
    }
   ],
   "source": [
    "%%writefile $custom_paket_yolu/__init__.py\n",
    "def BoyamaHakkinda():\n",
    "    print(\"renkler ve şekiller kullanarak boyama yapabilirsiniz.\")\n",
    "    print(\"Boyamayı eglenceli hale getirdik.\")\n",
    "\n",
    "#--------\n",
    "def selamVer():\n",
    "    print(\"merhaba dünyalı\")\n",
    "\n",
    "#---------\n",
    "#from ... import * kullandığımız __all__ ile belirtilen moduller ortama alınır\n",
    "__all__ = [\"renkler\", \"sekiller\", \"yazarlar\"]\n",
    "\n",
    "#--------\n",
    "if __name__ == \"__main__\": #biri doğrudan __init__.py dosyasını çalışıyorsak\n",
    "    selamVer()\n",
    "    print(\"Kodları direkt çalıştırdınız. Aslında bu başka bir yerden çağırılacak bir pakettir.\")"
   ]
  },
  {
   "cell_type": "markdown",
   "metadata": {},
   "source": [
    "### Help"
   ]
  },
  {
   "cell_type": "code",
   "execution_count": 39,
   "metadata": {},
   "outputs": [
    {
     "name": "stdout",
     "output_type": "stream",
     "text": [
      "Help on package py_custom_package:\n",
      "\n",
      "NAME\n",
      "    py_custom_package - Sonradan helpe eklenebilir.\n",
      "\n",
      "PACKAGE CONTENTS\n",
      "    renkler\n",
      "    sekiller\n",
      "    yazarlar\n",
      "\n",
      "DATA\n",
      "    __all__ = ['renkler', 'sekiller', 'yazarlar']\n",
      "\n",
      "FILE\n",
      "    c:\\users\\abdullah\\documents\\github\\pythonesaslari_20240304\\gun4\\py_custom_package\\__init__.py\n",
      "\n",
      "\n"
     ]
    }
   ],
   "source": [
    "#help(cp)\n",
    "\n",
    "#\n",
    "\n",
    "cp.__doc__ = \"Sonradan helpe eklenebilir.\"\n",
    "#cp.__doc__\n",
    "\n",
    "#\n",
    "help(cp)"
   ]
  },
  {
   "cell_type": "code",
   "execution_count": 43,
   "metadata": {},
   "outputs": [
    {
     "data": {
      "text/plain": [
       "['renkler', 'sekiller', 'yazarlar']"
      ]
     },
     "execution_count": 43,
     "metadata": {},
     "output_type": "execute_result"
    }
   ],
   "source": [
    "cp.renkler.__package__ #hangi pakette py_custom_package\n",
    "cp.renkler.__name__ #modulun adını, yolunu py_custom_package.renkler\n",
    "\n",
    "#\n",
    "cp.__file__ #dosya yolu\n",
    "cp.__all__ #* ile import edileckeleri verir"
   ]
  }
 ],
 "metadata": {
  "kernelspec": {
   "display_name": "Python 3",
   "language": "python",
   "name": "python3"
  },
  "language_info": {
   "codemirror_mode": {
    "name": "ipython",
    "version": 3
   },
   "file_extension": ".py",
   "mimetype": "text/x-python",
   "name": "python",
   "nbconvert_exporter": "python",
   "pygments_lexer": "ipython3",
   "version": "3.11.3"
  }
 },
 "nbformat": 4,
 "nbformat_minor": 2
}
